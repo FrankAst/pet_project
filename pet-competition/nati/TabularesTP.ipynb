{
 "cells": [
  {
   "cell_type": "markdown",
   "metadata": {},
   "source": [
    "## Modelo datos estructurados\n",
    "Este notebook desarrolla un primer modelo para resolver el problema de Petfinder. Empezamos haciendo un modelo inicial muy simple para ver la viabilidad de resolver el problema. Luego analizamos como se comporta la métrica kappa propuesta y vemos la matriz de confusión. Finalmente hacemos una optimizacin de hiperparametros evaluando con train/test y otra validando con 5 fold CV y testeando en el 20% de los datos"
   ]
  },
  {
   "cell_type": "code",
   "execution_count": 154,
   "metadata": {},
   "outputs": [],
   "source": [
    "#Import de librerias basicas tablas y matrices\n",
    "import numpy as np \n",
    "import pandas as pd \n",
    "\n",
    "#Gradient Boosting\n",
    "import lightgbm as lgb\n",
    "\n",
    "#Funciones auxiliares sklearn\n",
    "from sklearn.model_selection import train_test_split, StratifiedKFold #Split y cross Validation\n",
    "from sklearn.metrics import cohen_kappa_score, accuracy_score, balanced_accuracy_score #Metricas\n",
    "from sklearn.utils import shuffle\n",
    "from sklearn.pipeline import Pipeline\n",
    "from sklearn.preprocessing import OrdinalEncoder\n",
    "from sklearn.compose import ColumnTransformer\n",
    "from sklearn import set_config\n",
    "\n",
    "\n",
    "#Visualizacióon\n",
    "from plotly import express as px\n",
    "\n",
    "#Plot de matriz de confusion normalizada en actuals\n",
    "from utils import plot_confusion_matrix\n",
    "\n",
    "import os\n",
    "\n",
    "#Optimizacion de hiperparametros\n",
    "import optuna\n",
    "from optuna.artifacts import FileSystemArtifactStore, upload_artifact\n",
    "\n",
    "#Guardado de objetos en archivos joblib\n",
    "from joblib import load, dump\n"
   ]
  },
  {
   "cell_type": "code",
   "execution_count": 155,
   "metadata": {},
   "outputs": [],
   "source": [
    "# Paths para acceso archivos\n",
    "#Este notebook asume la siguiente estructura de carpetas a partir de la ubicacion de base_dir \n",
    "#(dos niveles arriba de la carpeta donde se ejecuta el notebook). \n",
    "# /UA_MDM_LDI_II/\n",
    "# /UA_MDM_LDI_II/input\n",
    "# /UA_MDM_LDI_II/input/petfinder-adoption-prediction/            <- Aca deben ir todos los archivos de datos de la competencia \n",
    "# /UA_MDM_LDI_II/tutoriales/                       <- Aca deben poner los notebooks y scripts que les compartimos\n",
    "# /UA_MDM_LDI_II/work/                             <- Resultados de notebooks iran dentro de esta carpeta en subcarpetas\n",
    "# /UA_MDM_LDI_II/work/models/                     <- Modelos entrenados en archivos joblibs\n",
    "# /UA_MDM_LDI_II/work/optuna_temp_artifacts/      <- Archivos que queremos dejar como artefacto de un trial de optuna (optuna los copiara a la carpeta de abajo)\n",
    "# /UA_MDM_LDI_II/work/optuna_artifacts/           <- Archivos con artefactos que sibimos a optuna\n",
    "\n",
    "#Subimos dos niveles para quedar en la carpeta que contiene input y UA_MDM_LDI_II\n",
    "BASE_DIR = 'C:/Users/natal/Documents/GitHub/pet_project/pet_project/pet-competition'\n",
    "\n",
    "#Datos de entrenamiento \n",
    "PATH_TO_TRAIN = os.path.join(BASE_DIR, 'data/01_raw/train/train_FE.csv')\n",
    "\n",
    "#Salida de modelos entrenados\n",
    "PATH_TO_MODELS = os.path.join(BASE_DIR, \"src/models\")\n",
    "\n",
    "#Artefactos a subir a optuna\n",
    "PATH_TO_TEMP_FILES = os.path.join(BASE_DIR, \"src/optuna_temp_artifacts\")\n",
    "\n",
    "#Artefactos que optuna gestiona\n",
    "PATH_TO_OPTUNA_ARTIFACTS = os.path.join(BASE_DIR, \"src/optuna_artifacts\")\n",
    "\n",
    "\n",
    "SEED = 42 #Semilla de procesos aleatorios (para poder replicar exactamente al volver a correr un modelo)\n",
    "TEST_SIZE = 0.2 #Facción para train/test= split"
   ]
  },
  {
   "cell_type": "code",
   "execution_count": 156,
   "metadata": {},
   "outputs": [],
   "source": [
    "# Datos Tabulares\n",
    "dataset = pd.read_csv(PATH_TO_TRAIN)"
   ]
  },
  {
   "cell_type": "code",
   "execution_count": 157,
   "metadata": {},
   "outputs": [
    {
     "data": {
      "text/plain": [
       "Index(['Type', 'Name', 'Age', 'Breed1', 'Breed2', 'Gender', 'Color1', 'Color2',\n",
       "       'Color3', 'MaturitySize',\n",
       "       ...\n",
       "       'nvar_115', 'nvar_116', 'nvar_117', 'nvar_118', 'nvar_119', 'nvar_120',\n",
       "       'nvar_121', 'nvar_122', 'nvar_123', 'nvar_124'],\n",
       "      dtype='object', length=147)"
      ]
     },
     "execution_count": 157,
     "metadata": {},
     "output_type": "execute_result"
    }
   ],
   "source": [
    "#Columnas del dataset\n",
    "dataset.columns"
   ]
  },
  {
   "cell_type": "code",
   "execution_count": 158,
   "metadata": {},
   "outputs": [],
   "source": [
    "#Separo un 20% para test estratificado opr target\n",
    "train, test = train_test_split(dataset,\n",
    "                               test_size = TEST_SIZE,\n",
    "                               random_state = SEED,\n",
    "                               stratify = dataset.AdoptionSpeed)"
   ]
  },
  {
   "cell_type": "code",
   "execution_count": 159,
   "metadata": {},
   "outputs": [],
   "source": [
    "#Armo listas con features de texto y numericas\n",
    "char_feats = [f for f in dataset.columns if dataset[f].dtype=='O']\n",
    "numeric_feats = [f for f in dataset.columns if dataset[f].dtype!='O']"
   ]
  },
  {
   "cell_type": "code",
   "execution_count": 160,
   "metadata": {},
   "outputs": [
    {
     "data": {
      "text/plain": [
       "['Type',\n",
       " 'Age',\n",
       " 'Breed1',\n",
       " 'Breed2',\n",
       " 'Gender',\n",
       " 'Color1',\n",
       " 'Color2',\n",
       " 'Color3',\n",
       " 'MaturitySize',\n",
       " 'FurLength',\n",
       " 'Vaccinated',\n",
       " 'Dewormed',\n",
       " 'Sterilized',\n",
       " 'Health',\n",
       " 'Quantity',\n",
       " 'Fee',\n",
       " 'State',\n",
       " 'VideoAmt',\n",
       " 'PhotoAmt',\n",
       " 'AdoptionSpeed',\n",
       " 'nvar_1',\n",
       " 'nvar_2',\n",
       " 'nvar_3',\n",
       " 'nvar_4',\n",
       " 'nvar_5',\n",
       " 'nvar_6',\n",
       " 'nvar_7',\n",
       " 'nvar_8',\n",
       " 'nvar_9',\n",
       " 'nvar_10',\n",
       " 'nvar_11',\n",
       " 'nvar_12',\n",
       " 'nvar_13',\n",
       " 'nvar_14',\n",
       " 'nvar_15',\n",
       " 'nvar_16',\n",
       " 'nvar_17',\n",
       " 'nvar_18',\n",
       " 'nvar_19',\n",
       " 'nvar_20',\n",
       " 'nvar_21',\n",
       " 'nvar_22',\n",
       " 'nvar_23',\n",
       " 'nvar_24',\n",
       " 'nvar_25',\n",
       " 'nvar_26',\n",
       " 'nvar_27',\n",
       " 'nvar_28',\n",
       " 'nvar_29',\n",
       " 'nvar_30',\n",
       " 'nvar_31',\n",
       " 'nvar_32',\n",
       " 'nvar_33',\n",
       " 'nvar_34',\n",
       " 'nvar_35',\n",
       " 'nvar_36',\n",
       " 'nvar_37',\n",
       " 'nvar_38',\n",
       " 'nvar_39',\n",
       " 'nvar_40',\n",
       " 'nvar_41',\n",
       " 'nvar_42',\n",
       " 'nvar_43',\n",
       " 'nvar_44',\n",
       " 'nvar_45',\n",
       " 'nvar_46',\n",
       " 'nvar_47',\n",
       " 'nvar_48',\n",
       " 'nvar_49',\n",
       " 'nvar_50',\n",
       " 'nvar_51',\n",
       " 'nvar_53',\n",
       " 'nvar_54',\n",
       " 'nvar_55',\n",
       " 'nvar_56',\n",
       " 'nvar_57',\n",
       " 'nvar_58',\n",
       " 'nvar_59',\n",
       " 'nvar_60',\n",
       " 'nvar_61',\n",
       " 'nvar_62',\n",
       " 'nvar_63',\n",
       " 'nvar_64',\n",
       " 'nvar_65',\n",
       " 'nvar_66',\n",
       " 'nvar_67',\n",
       " 'nvar_68',\n",
       " 'nvar_69',\n",
       " 'nvar_70',\n",
       " 'nvar_71',\n",
       " 'nvar_72',\n",
       " 'nvar_73',\n",
       " 'nvar_74',\n",
       " 'nvar_75',\n",
       " 'nvar_76',\n",
       " 'nvar_77',\n",
       " 'nvar_78',\n",
       " 'nvar_79',\n",
       " 'nvar_80',\n",
       " 'nvar_81',\n",
       " 'nvar_82',\n",
       " 'nvar_83',\n",
       " 'nvar_84',\n",
       " 'nvar_85',\n",
       " 'nvar_86',\n",
       " 'nvar_87',\n",
       " 'nvar_88',\n",
       " 'nvar_89',\n",
       " 'nvar_90',\n",
       " 'nvar_91',\n",
       " 'nvar_92',\n",
       " 'nvar_93',\n",
       " 'nvar_94',\n",
       " 'nvar_95',\n",
       " 'nvar_96',\n",
       " 'nvar_97',\n",
       " 'nvar_98',\n",
       " 'nvar_99',\n",
       " 'nvar_100',\n",
       " 'nvar_101',\n",
       " 'nvar_102',\n",
       " 'nvar_103',\n",
       " 'nvar_104',\n",
       " 'nvar_105',\n",
       " 'nvar_106',\n",
       " 'nvar_107',\n",
       " 'nvar_108',\n",
       " 'nvar_109',\n",
       " 'nvar_110',\n",
       " 'nvar_111',\n",
       " 'nvar_112',\n",
       " 'nvar_113',\n",
       " 'nvar_114',\n",
       " 'nvar_115',\n",
       " 'nvar_116',\n",
       " 'nvar_117',\n",
       " 'nvar_118',\n",
       " 'nvar_119',\n",
       " 'nvar_120',\n",
       " 'nvar_121',\n",
       " 'nvar_122',\n",
       " 'nvar_123',\n",
       " 'nvar_124']"
      ]
     },
     "execution_count": 160,
     "metadata": {},
     "output_type": "execute_result"
    }
   ],
   "source": [
    "#Lista de features numericas\n",
    "numeric_feats"
   ]
  },
  {
   "cell_type": "code",
   "execution_count": 161,
   "metadata": {},
   "outputs": [],
   "source": [
    "\n",
    "#Defino features a usar en un primer modelo de prueba\n",
    "features = ['Type',\n",
    " 'Age',\n",
    " 'Breed1',\n",
    " 'Breed2',\n",
    " 'Gender',\n",
    " 'Color1',\n",
    " 'Color2',\n",
    " 'Color3',\n",
    " 'MaturitySize',\n",
    " 'FurLength',\n",
    " 'Vaccinated',\n",
    " 'Dewormed',\n",
    " 'Sterilized',\n",
    " 'Health',\n",
    " 'Quantity',\n",
    " 'Fee',\n",
    " 'State',\n",
    " 'VideoAmt',\n",
    " 'PhotoAmt']\n",
    "\n",
    "label = 'AdoptionSpeed'"
   ]
  },
  {
   "cell_type": "code",
   "execution_count": 162,
   "metadata": {},
   "outputs": [],
   "source": [
    "#Genero dataframes de train y test con sus respectivos targets\n",
    "X_train = train[features]\n",
    "y_train = train[label]\n",
    "\n",
    "X_test = test[features]\n",
    "y_test = test[label]\n"
   ]
  },
  {
   "cell_type": "code",
   "execution_count": 163,
   "metadata": {},
   "outputs": [],
   "source": [
    "#Entreno un modelo inicial sin modificar hiperparametros. Solamente especifico el numero de clases y el tipo de modelo como clasificacoión\n",
    "lgb_params = params = {\n",
    "                        'objective': 'multiclass',\n",
    "                        'num_class': len(y_train.unique())\n",
    "                        }\n",
    "\n",
    "\n",
    "#genero el objeto Dataset que debo pasarle a lightgbm para que entrene\n",
    "lgb_train_dataset = lgb.Dataset(data=X_train,\n",
    "                                label=y_train)\n",
    "\n",
    "#entreno el modelo con los parametros por defecto\n",
    "lgb_model = lgb.train(lgb_params,\n",
    "                      lgb_train_dataset)"
   ]
  },
  {
   "cell_type": "code",
   "execution_count": 164,
   "metadata": {},
   "outputs": [
    {
     "data": {
      "text/plain": [
       "0.31327315052086113"
      ]
     },
     "execution_count": 164,
     "metadata": {},
     "output_type": "execute_result"
    }
   ],
   "source": [
    "#Obtengo las predicciones sobre el set de test. El modelo me da una lista de probabilidades para cada clase y tomo la clase con mayor probabilidad con la funcion argmax\n",
    "\n",
    "y_pred = lgb_model.predict(X_test).argmax(axis=1)\n",
    "\n",
    "#Calculo el Kappa\n",
    "cohen_kappa_score(y_test,y_pred, weights = 'quadratic')"
   ]
  },
  {
   "cell_type": "code",
   "execution_count": 165,
   "metadata": {},
   "outputs": [
    {
     "data": {
      "application/vnd.plotly.v1+json": {
       "config": {
        "plotlyServerURL": "https://plot.ly"
       },
       "data": [
        {
         "type": "heatmap",
         "x": [
          0,
          1,
          2,
          3,
          4
         ],
         "y": [
          0,
          1,
          2,
          3,
          4
         ],
         "z": [
          [
           6.097560975609756,
           39.02439024390244,
           26.82926829268293,
           10.975609756097562,
           17.073170731707318
          ],
          [
           0.3236245954692557,
           35.11326860841424,
           36.084142394822,
           7.605177993527508,
           20.87378640776699
          ],
          [
           0,
           24.411400247831473,
           36.926889714993806,
           11.400247831474598,
           27.261462205700127
          ],
          [
           0,
           17.94478527607362,
           34.20245398773007,
           18.55828220858896,
           29.29447852760736
          ],
          [
           0.4761904761904762,
           11.666666666666666,
           21.071428571428573,
           7.261904761904763,
           59.523809523809526
          ]
         ]
        }
       ],
       "layout": {
        "annotations": [
         {
          "font": {
           "color": "white"
          },
          "showarrow": false,
          "text": "6.1 - 5",
          "x": 0,
          "xref": "x",
          "y": 0,
          "yref": "y"
         },
         {
          "font": {
           "color": "white"
          },
          "showarrow": false,
          "text": "39.0 - 32",
          "x": 1,
          "xref": "x",
          "y": 0,
          "yref": "y"
         },
         {
          "font": {
           "color": "white"
          },
          "showarrow": false,
          "text": "26.8 - 22",
          "x": 2,
          "xref": "x",
          "y": 0,
          "yref": "y"
         },
         {
          "font": {
           "color": "white"
          },
          "showarrow": false,
          "text": "11.0 - 9",
          "x": 3,
          "xref": "x",
          "y": 0,
          "yref": "y"
         },
         {
          "font": {
           "color": "white"
          },
          "showarrow": false,
          "text": "17.1 - 14",
          "x": 4,
          "xref": "x",
          "y": 0,
          "yref": "y"
         },
         {
          "font": {
           "color": "white"
          },
          "showarrow": false,
          "text": "0.3 - 2",
          "x": 0,
          "xref": "x",
          "y": 1,
          "yref": "y"
         },
         {
          "font": {
           "color": "white"
          },
          "showarrow": false,
          "text": "35.1 - 217",
          "x": 1,
          "xref": "x",
          "y": 1,
          "yref": "y"
         },
         {
          "font": {
           "color": "white"
          },
          "showarrow": false,
          "text": "36.1 - 223",
          "x": 2,
          "xref": "x",
          "y": 1,
          "yref": "y"
         },
         {
          "font": {
           "color": "white"
          },
          "showarrow": false,
          "text": "7.6 - 47",
          "x": 3,
          "xref": "x",
          "y": 1,
          "yref": "y"
         },
         {
          "font": {
           "color": "white"
          },
          "showarrow": false,
          "text": "20.9 - 129",
          "x": 4,
          "xref": "x",
          "y": 1,
          "yref": "y"
         },
         {
          "font": {
           "color": "white"
          },
          "showarrow": false,
          "text": "0.0 - 0",
          "x": 0,
          "xref": "x",
          "y": 2,
          "yref": "y"
         },
         {
          "font": {
           "color": "white"
          },
          "showarrow": false,
          "text": "24.4 - 197",
          "x": 1,
          "xref": "x",
          "y": 2,
          "yref": "y"
         },
         {
          "font": {
           "color": "white"
          },
          "showarrow": false,
          "text": "36.9 - 298",
          "x": 2,
          "xref": "x",
          "y": 2,
          "yref": "y"
         },
         {
          "font": {
           "color": "white"
          },
          "showarrow": false,
          "text": "11.4 - 92",
          "x": 3,
          "xref": "x",
          "y": 2,
          "yref": "y"
         },
         {
          "font": {
           "color": "white"
          },
          "showarrow": false,
          "text": "27.3 - 220",
          "x": 4,
          "xref": "x",
          "y": 2,
          "yref": "y"
         },
         {
          "font": {
           "color": "white"
          },
          "showarrow": false,
          "text": "0.0 - 0",
          "x": 0,
          "xref": "x",
          "y": 3,
          "yref": "y"
         },
         {
          "font": {
           "color": "white"
          },
          "showarrow": false,
          "text": "17.9 - 117",
          "x": 1,
          "xref": "x",
          "y": 3,
          "yref": "y"
         },
         {
          "font": {
           "color": "white"
          },
          "showarrow": false,
          "text": "34.2 - 223",
          "x": 2,
          "xref": "x",
          "y": 3,
          "yref": "y"
         },
         {
          "font": {
           "color": "white"
          },
          "showarrow": false,
          "text": "18.6 - 121",
          "x": 3,
          "xref": "x",
          "y": 3,
          "yref": "y"
         },
         {
          "font": {
           "color": "white"
          },
          "showarrow": false,
          "text": "29.3 - 191",
          "x": 4,
          "xref": "x",
          "y": 3,
          "yref": "y"
         },
         {
          "font": {
           "color": "white"
          },
          "showarrow": false,
          "text": "0.5 - 4",
          "x": 0,
          "xref": "x",
          "y": 4,
          "yref": "y"
         },
         {
          "font": {
           "color": "white"
          },
          "showarrow": false,
          "text": "11.7 - 98",
          "x": 1,
          "xref": "x",
          "y": 4,
          "yref": "y"
         },
         {
          "font": {
           "color": "white"
          },
          "showarrow": false,
          "text": "21.1 - 177",
          "x": 2,
          "xref": "x",
          "y": 4,
          "yref": "y"
         },
         {
          "font": {
           "color": "white"
          },
          "showarrow": false,
          "text": "7.3 - 61",
          "x": 3,
          "xref": "x",
          "y": 4,
          "yref": "y"
         },
         {
          "font": {
           "color": "white"
          },
          "showarrow": false,
          "text": "59.5 - 500",
          "x": 4,
          "xref": "x",
          "y": 4,
          "yref": "y"
         }
        ],
        "height": 800,
        "template": {
         "data": {
          "bar": [
           {
            "error_x": {
             "color": "#2a3f5f"
            },
            "error_y": {
             "color": "#2a3f5f"
            },
            "marker": {
             "line": {
              "color": "#E5ECF6",
              "width": 0.5
             },
             "pattern": {
              "fillmode": "overlay",
              "size": 10,
              "solidity": 0.2
             }
            },
            "type": "bar"
           }
          ],
          "barpolar": [
           {
            "marker": {
             "line": {
              "color": "#E5ECF6",
              "width": 0.5
             },
             "pattern": {
              "fillmode": "overlay",
              "size": 10,
              "solidity": 0.2
             }
            },
            "type": "barpolar"
           }
          ],
          "carpet": [
           {
            "aaxis": {
             "endlinecolor": "#2a3f5f",
             "gridcolor": "white",
             "linecolor": "white",
             "minorgridcolor": "white",
             "startlinecolor": "#2a3f5f"
            },
            "baxis": {
             "endlinecolor": "#2a3f5f",
             "gridcolor": "white",
             "linecolor": "white",
             "minorgridcolor": "white",
             "startlinecolor": "#2a3f5f"
            },
            "type": "carpet"
           }
          ],
          "choropleth": [
           {
            "colorbar": {
             "outlinewidth": 0,
             "ticks": ""
            },
            "type": "choropleth"
           }
          ],
          "contour": [
           {
            "colorbar": {
             "outlinewidth": 0,
             "ticks": ""
            },
            "colorscale": [
             [
              0,
              "#0d0887"
             ],
             [
              0.1111111111111111,
              "#46039f"
             ],
             [
              0.2222222222222222,
              "#7201a8"
             ],
             [
              0.3333333333333333,
              "#9c179e"
             ],
             [
              0.4444444444444444,
              "#bd3786"
             ],
             [
              0.5555555555555556,
              "#d8576b"
             ],
             [
              0.6666666666666666,
              "#ed7953"
             ],
             [
              0.7777777777777778,
              "#fb9f3a"
             ],
             [
              0.8888888888888888,
              "#fdca26"
             ],
             [
              1,
              "#f0f921"
             ]
            ],
            "type": "contour"
           }
          ],
          "contourcarpet": [
           {
            "colorbar": {
             "outlinewidth": 0,
             "ticks": ""
            },
            "type": "contourcarpet"
           }
          ],
          "heatmap": [
           {
            "colorbar": {
             "outlinewidth": 0,
             "ticks": ""
            },
            "colorscale": [
             [
              0,
              "#0d0887"
             ],
             [
              0.1111111111111111,
              "#46039f"
             ],
             [
              0.2222222222222222,
              "#7201a8"
             ],
             [
              0.3333333333333333,
              "#9c179e"
             ],
             [
              0.4444444444444444,
              "#bd3786"
             ],
             [
              0.5555555555555556,
              "#d8576b"
             ],
             [
              0.6666666666666666,
              "#ed7953"
             ],
             [
              0.7777777777777778,
              "#fb9f3a"
             ],
             [
              0.8888888888888888,
              "#fdca26"
             ],
             [
              1,
              "#f0f921"
             ]
            ],
            "type": "heatmap"
           }
          ],
          "heatmapgl": [
           {
            "colorbar": {
             "outlinewidth": 0,
             "ticks": ""
            },
            "colorscale": [
             [
              0,
              "#0d0887"
             ],
             [
              0.1111111111111111,
              "#46039f"
             ],
             [
              0.2222222222222222,
              "#7201a8"
             ],
             [
              0.3333333333333333,
              "#9c179e"
             ],
             [
              0.4444444444444444,
              "#bd3786"
             ],
             [
              0.5555555555555556,
              "#d8576b"
             ],
             [
              0.6666666666666666,
              "#ed7953"
             ],
             [
              0.7777777777777778,
              "#fb9f3a"
             ],
             [
              0.8888888888888888,
              "#fdca26"
             ],
             [
              1,
              "#f0f921"
             ]
            ],
            "type": "heatmapgl"
           }
          ],
          "histogram": [
           {
            "marker": {
             "pattern": {
              "fillmode": "overlay",
              "size": 10,
              "solidity": 0.2
             }
            },
            "type": "histogram"
           }
          ],
          "histogram2d": [
           {
            "colorbar": {
             "outlinewidth": 0,
             "ticks": ""
            },
            "colorscale": [
             [
              0,
              "#0d0887"
             ],
             [
              0.1111111111111111,
              "#46039f"
             ],
             [
              0.2222222222222222,
              "#7201a8"
             ],
             [
              0.3333333333333333,
              "#9c179e"
             ],
             [
              0.4444444444444444,
              "#bd3786"
             ],
             [
              0.5555555555555556,
              "#d8576b"
             ],
             [
              0.6666666666666666,
              "#ed7953"
             ],
             [
              0.7777777777777778,
              "#fb9f3a"
             ],
             [
              0.8888888888888888,
              "#fdca26"
             ],
             [
              1,
              "#f0f921"
             ]
            ],
            "type": "histogram2d"
           }
          ],
          "histogram2dcontour": [
           {
            "colorbar": {
             "outlinewidth": 0,
             "ticks": ""
            },
            "colorscale": [
             [
              0,
              "#0d0887"
             ],
             [
              0.1111111111111111,
              "#46039f"
             ],
             [
              0.2222222222222222,
              "#7201a8"
             ],
             [
              0.3333333333333333,
              "#9c179e"
             ],
             [
              0.4444444444444444,
              "#bd3786"
             ],
             [
              0.5555555555555556,
              "#d8576b"
             ],
             [
              0.6666666666666666,
              "#ed7953"
             ],
             [
              0.7777777777777778,
              "#fb9f3a"
             ],
             [
              0.8888888888888888,
              "#fdca26"
             ],
             [
              1,
              "#f0f921"
             ]
            ],
            "type": "histogram2dcontour"
           }
          ],
          "mesh3d": [
           {
            "colorbar": {
             "outlinewidth": 0,
             "ticks": ""
            },
            "type": "mesh3d"
           }
          ],
          "parcoords": [
           {
            "line": {
             "colorbar": {
              "outlinewidth": 0,
              "ticks": ""
             }
            },
            "type": "parcoords"
           }
          ],
          "pie": [
           {
            "automargin": true,
            "type": "pie"
           }
          ],
          "scatter": [
           {
            "fillpattern": {
             "fillmode": "overlay",
             "size": 10,
             "solidity": 0.2
            },
            "type": "scatter"
           }
          ],
          "scatter3d": [
           {
            "line": {
             "colorbar": {
              "outlinewidth": 0,
              "ticks": ""
             }
            },
            "marker": {
             "colorbar": {
              "outlinewidth": 0,
              "ticks": ""
             }
            },
            "type": "scatter3d"
           }
          ],
          "scattercarpet": [
           {
            "marker": {
             "colorbar": {
              "outlinewidth": 0,
              "ticks": ""
             }
            },
            "type": "scattercarpet"
           }
          ],
          "scattergeo": [
           {
            "marker": {
             "colorbar": {
              "outlinewidth": 0,
              "ticks": ""
             }
            },
            "type": "scattergeo"
           }
          ],
          "scattergl": [
           {
            "marker": {
             "colorbar": {
              "outlinewidth": 0,
              "ticks": ""
             }
            },
            "type": "scattergl"
           }
          ],
          "scattermapbox": [
           {
            "marker": {
             "colorbar": {
              "outlinewidth": 0,
              "ticks": ""
             }
            },
            "type": "scattermapbox"
           }
          ],
          "scatterpolar": [
           {
            "marker": {
             "colorbar": {
              "outlinewidth": 0,
              "ticks": ""
             }
            },
            "type": "scatterpolar"
           }
          ],
          "scatterpolargl": [
           {
            "marker": {
             "colorbar": {
              "outlinewidth": 0,
              "ticks": ""
             }
            },
            "type": "scatterpolargl"
           }
          ],
          "scatterternary": [
           {
            "marker": {
             "colorbar": {
              "outlinewidth": 0,
              "ticks": ""
             }
            },
            "type": "scatterternary"
           }
          ],
          "surface": [
           {
            "colorbar": {
             "outlinewidth": 0,
             "ticks": ""
            },
            "colorscale": [
             [
              0,
              "#0d0887"
             ],
             [
              0.1111111111111111,
              "#46039f"
             ],
             [
              0.2222222222222222,
              "#7201a8"
             ],
             [
              0.3333333333333333,
              "#9c179e"
             ],
             [
              0.4444444444444444,
              "#bd3786"
             ],
             [
              0.5555555555555556,
              "#d8576b"
             ],
             [
              0.6666666666666666,
              "#ed7953"
             ],
             [
              0.7777777777777778,
              "#fb9f3a"
             ],
             [
              0.8888888888888888,
              "#fdca26"
             ],
             [
              1,
              "#f0f921"
             ]
            ],
            "type": "surface"
           }
          ],
          "table": [
           {
            "cells": {
             "fill": {
              "color": "#EBF0F8"
             },
             "line": {
              "color": "white"
             }
            },
            "header": {
             "fill": {
              "color": "#C8D4E3"
             },
             "line": {
              "color": "white"
             }
            },
            "type": "table"
           }
          ]
         },
         "layout": {
          "annotationdefaults": {
           "arrowcolor": "#2a3f5f",
           "arrowhead": 0,
           "arrowwidth": 1
          },
          "autotypenumbers": "strict",
          "coloraxis": {
           "colorbar": {
            "outlinewidth": 0,
            "ticks": ""
           }
          },
          "colorscale": {
           "diverging": [
            [
             0,
             "#8e0152"
            ],
            [
             0.1,
             "#c51b7d"
            ],
            [
             0.2,
             "#de77ae"
            ],
            [
             0.3,
             "#f1b6da"
            ],
            [
             0.4,
             "#fde0ef"
            ],
            [
             0.5,
             "#f7f7f7"
            ],
            [
             0.6,
             "#e6f5d0"
            ],
            [
             0.7,
             "#b8e186"
            ],
            [
             0.8,
             "#7fbc41"
            ],
            [
             0.9,
             "#4d9221"
            ],
            [
             1,
             "#276419"
            ]
           ],
           "sequential": [
            [
             0,
             "#0d0887"
            ],
            [
             0.1111111111111111,
             "#46039f"
            ],
            [
             0.2222222222222222,
             "#7201a8"
            ],
            [
             0.3333333333333333,
             "#9c179e"
            ],
            [
             0.4444444444444444,
             "#bd3786"
            ],
            [
             0.5555555555555556,
             "#d8576b"
            ],
            [
             0.6666666666666666,
             "#ed7953"
            ],
            [
             0.7777777777777778,
             "#fb9f3a"
            ],
            [
             0.8888888888888888,
             "#fdca26"
            ],
            [
             1,
             "#f0f921"
            ]
           ],
           "sequentialminus": [
            [
             0,
             "#0d0887"
            ],
            [
             0.1111111111111111,
             "#46039f"
            ],
            [
             0.2222222222222222,
             "#7201a8"
            ],
            [
             0.3333333333333333,
             "#9c179e"
            ],
            [
             0.4444444444444444,
             "#bd3786"
            ],
            [
             0.5555555555555556,
             "#d8576b"
            ],
            [
             0.6666666666666666,
             "#ed7953"
            ],
            [
             0.7777777777777778,
             "#fb9f3a"
            ],
            [
             0.8888888888888888,
             "#fdca26"
            ],
            [
             1,
             "#f0f921"
            ]
           ]
          },
          "colorway": [
           "#636efa",
           "#EF553B",
           "#00cc96",
           "#ab63fa",
           "#FFA15A",
           "#19d3f3",
           "#FF6692",
           "#B6E880",
           "#FF97FF",
           "#FECB52"
          ],
          "font": {
           "color": "#2a3f5f"
          },
          "geo": {
           "bgcolor": "white",
           "lakecolor": "white",
           "landcolor": "#E5ECF6",
           "showlakes": true,
           "showland": true,
           "subunitcolor": "white"
          },
          "hoverlabel": {
           "align": "left"
          },
          "hovermode": "closest",
          "mapbox": {
           "style": "light"
          },
          "paper_bgcolor": "white",
          "plot_bgcolor": "#E5ECF6",
          "polar": {
           "angularaxis": {
            "gridcolor": "white",
            "linecolor": "white",
            "ticks": ""
           },
           "bgcolor": "#E5ECF6",
           "radialaxis": {
            "gridcolor": "white",
            "linecolor": "white",
            "ticks": ""
           }
          },
          "scene": {
           "xaxis": {
            "backgroundcolor": "#E5ECF6",
            "gridcolor": "white",
            "gridwidth": 2,
            "linecolor": "white",
            "showbackground": true,
            "ticks": "",
            "zerolinecolor": "white"
           },
           "yaxis": {
            "backgroundcolor": "#E5ECF6",
            "gridcolor": "white",
            "gridwidth": 2,
            "linecolor": "white",
            "showbackground": true,
            "ticks": "",
            "zerolinecolor": "white"
           },
           "zaxis": {
            "backgroundcolor": "#E5ECF6",
            "gridcolor": "white",
            "gridwidth": 2,
            "linecolor": "white",
            "showbackground": true,
            "ticks": "",
            "zerolinecolor": "white"
           }
          },
          "shapedefaults": {
           "line": {
            "color": "#2a3f5f"
           }
          },
          "ternary": {
           "aaxis": {
            "gridcolor": "white",
            "linecolor": "white",
            "ticks": ""
           },
           "baxis": {
            "gridcolor": "white",
            "linecolor": "white",
            "ticks": ""
           },
           "bgcolor": "#E5ECF6",
           "caxis": {
            "gridcolor": "white",
            "linecolor": "white",
            "ticks": ""
           }
          },
          "title": {
           "x": 0.05
          },
          "xaxis": {
           "automargin": true,
           "gridcolor": "white",
           "linecolor": "white",
           "ticks": "",
           "title": {
            "standoff": 15
           },
           "zerolinecolor": "white",
           "zerolinewidth": 2
          },
          "yaxis": {
           "automargin": true,
           "gridcolor": "white",
           "linecolor": "white",
           "ticks": "",
           "title": {
            "standoff": 15
           },
           "zerolinecolor": "white",
           "zerolinewidth": 2
          }
         }
        },
        "title": {
         "text": "Conf Matrix"
        },
        "width": 800,
        "xaxis": {
         "title": {
          "text": "Predicted value"
         }
        },
        "yaxis": {
         "title": {
          "text": "Real value"
         }
        }
       }
      }
     },
     "metadata": {},
     "output_type": "display_data"
    }
   ],
   "source": [
    "#Muestro la matriz de confusión\n",
    "display(plot_confusion_matrix(y_test,y_pred))"
   ]
  },
  {
   "cell_type": "code",
   "execution_count": 166,
   "metadata": {},
   "outputs": [
    {
     "data": {
      "text/plain": [
       "1.0"
      ]
     },
     "execution_count": 166,
     "metadata": {},
     "output_type": "execute_result"
    }
   ],
   "source": [
    "#Vamos a poner en perspectiva el score de Kappa\n",
    "\n",
    "\n",
    "#Cual es el score perfecto? Evaluo la clase real contra si misma. Es decir, el caso en que el modelo establece todas las clases en su valor real\n",
    "cohen_kappa_score(y_test,y_test, weights = 'quadratic')"
   ]
  },
  {
   "cell_type": "code",
   "execution_count": 167,
   "metadata": {},
   "outputs": [
    {
     "data": {
      "application/vnd.plotly.v1+json": {
       "config": {
        "plotlyServerURL": "https://plot.ly"
       },
       "data": [
        {
         "type": "heatmap",
         "x": [
          0,
          1,
          2,
          3,
          4
         ],
         "y": [
          0,
          1,
          2,
          3,
          4
         ],
         "z": [
          [
           100,
           0,
           0,
           0,
           0
          ],
          [
           0,
           100,
           0,
           0,
           0
          ],
          [
           0,
           0,
           100,
           0,
           0
          ],
          [
           0,
           0,
           0,
           100,
           0
          ],
          [
           0,
           0,
           0,
           0,
           100
          ]
         ]
        }
       ],
       "layout": {
        "annotations": [
         {
          "font": {
           "color": "white"
          },
          "showarrow": false,
          "text": "100.0 - 82",
          "x": 0,
          "xref": "x",
          "y": 0,
          "yref": "y"
         },
         {
          "font": {
           "color": "white"
          },
          "showarrow": false,
          "text": "0.0 - 0",
          "x": 1,
          "xref": "x",
          "y": 0,
          "yref": "y"
         },
         {
          "font": {
           "color": "white"
          },
          "showarrow": false,
          "text": "0.0 - 0",
          "x": 2,
          "xref": "x",
          "y": 0,
          "yref": "y"
         },
         {
          "font": {
           "color": "white"
          },
          "showarrow": false,
          "text": "0.0 - 0",
          "x": 3,
          "xref": "x",
          "y": 0,
          "yref": "y"
         },
         {
          "font": {
           "color": "white"
          },
          "showarrow": false,
          "text": "0.0 - 0",
          "x": 4,
          "xref": "x",
          "y": 0,
          "yref": "y"
         },
         {
          "font": {
           "color": "white"
          },
          "showarrow": false,
          "text": "0.0 - 0",
          "x": 0,
          "xref": "x",
          "y": 1,
          "yref": "y"
         },
         {
          "font": {
           "color": "white"
          },
          "showarrow": false,
          "text": "100.0 - 618",
          "x": 1,
          "xref": "x",
          "y": 1,
          "yref": "y"
         },
         {
          "font": {
           "color": "white"
          },
          "showarrow": false,
          "text": "0.0 - 0",
          "x": 2,
          "xref": "x",
          "y": 1,
          "yref": "y"
         },
         {
          "font": {
           "color": "white"
          },
          "showarrow": false,
          "text": "0.0 - 0",
          "x": 3,
          "xref": "x",
          "y": 1,
          "yref": "y"
         },
         {
          "font": {
           "color": "white"
          },
          "showarrow": false,
          "text": "0.0 - 0",
          "x": 4,
          "xref": "x",
          "y": 1,
          "yref": "y"
         },
         {
          "font": {
           "color": "white"
          },
          "showarrow": false,
          "text": "0.0 - 0",
          "x": 0,
          "xref": "x",
          "y": 2,
          "yref": "y"
         },
         {
          "font": {
           "color": "white"
          },
          "showarrow": false,
          "text": "0.0 - 0",
          "x": 1,
          "xref": "x",
          "y": 2,
          "yref": "y"
         },
         {
          "font": {
           "color": "white"
          },
          "showarrow": false,
          "text": "100.0 - 807",
          "x": 2,
          "xref": "x",
          "y": 2,
          "yref": "y"
         },
         {
          "font": {
           "color": "white"
          },
          "showarrow": false,
          "text": "0.0 - 0",
          "x": 3,
          "xref": "x",
          "y": 2,
          "yref": "y"
         },
         {
          "font": {
           "color": "white"
          },
          "showarrow": false,
          "text": "0.0 - 0",
          "x": 4,
          "xref": "x",
          "y": 2,
          "yref": "y"
         },
         {
          "font": {
           "color": "white"
          },
          "showarrow": false,
          "text": "0.0 - 0",
          "x": 0,
          "xref": "x",
          "y": 3,
          "yref": "y"
         },
         {
          "font": {
           "color": "white"
          },
          "showarrow": false,
          "text": "0.0 - 0",
          "x": 1,
          "xref": "x",
          "y": 3,
          "yref": "y"
         },
         {
          "font": {
           "color": "white"
          },
          "showarrow": false,
          "text": "0.0 - 0",
          "x": 2,
          "xref": "x",
          "y": 3,
          "yref": "y"
         },
         {
          "font": {
           "color": "white"
          },
          "showarrow": false,
          "text": "100.0 - 652",
          "x": 3,
          "xref": "x",
          "y": 3,
          "yref": "y"
         },
         {
          "font": {
           "color": "white"
          },
          "showarrow": false,
          "text": "0.0 - 0",
          "x": 4,
          "xref": "x",
          "y": 3,
          "yref": "y"
         },
         {
          "font": {
           "color": "white"
          },
          "showarrow": false,
          "text": "0.0 - 0",
          "x": 0,
          "xref": "x",
          "y": 4,
          "yref": "y"
         },
         {
          "font": {
           "color": "white"
          },
          "showarrow": false,
          "text": "0.0 - 0",
          "x": 1,
          "xref": "x",
          "y": 4,
          "yref": "y"
         },
         {
          "font": {
           "color": "white"
          },
          "showarrow": false,
          "text": "0.0 - 0",
          "x": 2,
          "xref": "x",
          "y": 4,
          "yref": "y"
         },
         {
          "font": {
           "color": "white"
          },
          "showarrow": false,
          "text": "0.0 - 0",
          "x": 3,
          "xref": "x",
          "y": 4,
          "yref": "y"
         },
         {
          "font": {
           "color": "white"
          },
          "showarrow": false,
          "text": "100.0 - 840",
          "x": 4,
          "xref": "x",
          "y": 4,
          "yref": "y"
         }
        ],
        "height": 800,
        "template": {
         "data": {
          "bar": [
           {
            "error_x": {
             "color": "#2a3f5f"
            },
            "error_y": {
             "color": "#2a3f5f"
            },
            "marker": {
             "line": {
              "color": "#E5ECF6",
              "width": 0.5
             },
             "pattern": {
              "fillmode": "overlay",
              "size": 10,
              "solidity": 0.2
             }
            },
            "type": "bar"
           }
          ],
          "barpolar": [
           {
            "marker": {
             "line": {
              "color": "#E5ECF6",
              "width": 0.5
             },
             "pattern": {
              "fillmode": "overlay",
              "size": 10,
              "solidity": 0.2
             }
            },
            "type": "barpolar"
           }
          ],
          "carpet": [
           {
            "aaxis": {
             "endlinecolor": "#2a3f5f",
             "gridcolor": "white",
             "linecolor": "white",
             "minorgridcolor": "white",
             "startlinecolor": "#2a3f5f"
            },
            "baxis": {
             "endlinecolor": "#2a3f5f",
             "gridcolor": "white",
             "linecolor": "white",
             "minorgridcolor": "white",
             "startlinecolor": "#2a3f5f"
            },
            "type": "carpet"
           }
          ],
          "choropleth": [
           {
            "colorbar": {
             "outlinewidth": 0,
             "ticks": ""
            },
            "type": "choropleth"
           }
          ],
          "contour": [
           {
            "colorbar": {
             "outlinewidth": 0,
             "ticks": ""
            },
            "colorscale": [
             [
              0,
              "#0d0887"
             ],
             [
              0.1111111111111111,
              "#46039f"
             ],
             [
              0.2222222222222222,
              "#7201a8"
             ],
             [
              0.3333333333333333,
              "#9c179e"
             ],
             [
              0.4444444444444444,
              "#bd3786"
             ],
             [
              0.5555555555555556,
              "#d8576b"
             ],
             [
              0.6666666666666666,
              "#ed7953"
             ],
             [
              0.7777777777777778,
              "#fb9f3a"
             ],
             [
              0.8888888888888888,
              "#fdca26"
             ],
             [
              1,
              "#f0f921"
             ]
            ],
            "type": "contour"
           }
          ],
          "contourcarpet": [
           {
            "colorbar": {
             "outlinewidth": 0,
             "ticks": ""
            },
            "type": "contourcarpet"
           }
          ],
          "heatmap": [
           {
            "colorbar": {
             "outlinewidth": 0,
             "ticks": ""
            },
            "colorscale": [
             [
              0,
              "#0d0887"
             ],
             [
              0.1111111111111111,
              "#46039f"
             ],
             [
              0.2222222222222222,
              "#7201a8"
             ],
             [
              0.3333333333333333,
              "#9c179e"
             ],
             [
              0.4444444444444444,
              "#bd3786"
             ],
             [
              0.5555555555555556,
              "#d8576b"
             ],
             [
              0.6666666666666666,
              "#ed7953"
             ],
             [
              0.7777777777777778,
              "#fb9f3a"
             ],
             [
              0.8888888888888888,
              "#fdca26"
             ],
             [
              1,
              "#f0f921"
             ]
            ],
            "type": "heatmap"
           }
          ],
          "heatmapgl": [
           {
            "colorbar": {
             "outlinewidth": 0,
             "ticks": ""
            },
            "colorscale": [
             [
              0,
              "#0d0887"
             ],
             [
              0.1111111111111111,
              "#46039f"
             ],
             [
              0.2222222222222222,
              "#7201a8"
             ],
             [
              0.3333333333333333,
              "#9c179e"
             ],
             [
              0.4444444444444444,
              "#bd3786"
             ],
             [
              0.5555555555555556,
              "#d8576b"
             ],
             [
              0.6666666666666666,
              "#ed7953"
             ],
             [
              0.7777777777777778,
              "#fb9f3a"
             ],
             [
              0.8888888888888888,
              "#fdca26"
             ],
             [
              1,
              "#f0f921"
             ]
            ],
            "type": "heatmapgl"
           }
          ],
          "histogram": [
           {
            "marker": {
             "pattern": {
              "fillmode": "overlay",
              "size": 10,
              "solidity": 0.2
             }
            },
            "type": "histogram"
           }
          ],
          "histogram2d": [
           {
            "colorbar": {
             "outlinewidth": 0,
             "ticks": ""
            },
            "colorscale": [
             [
              0,
              "#0d0887"
             ],
             [
              0.1111111111111111,
              "#46039f"
             ],
             [
              0.2222222222222222,
              "#7201a8"
             ],
             [
              0.3333333333333333,
              "#9c179e"
             ],
             [
              0.4444444444444444,
              "#bd3786"
             ],
             [
              0.5555555555555556,
              "#d8576b"
             ],
             [
              0.6666666666666666,
              "#ed7953"
             ],
             [
              0.7777777777777778,
              "#fb9f3a"
             ],
             [
              0.8888888888888888,
              "#fdca26"
             ],
             [
              1,
              "#f0f921"
             ]
            ],
            "type": "histogram2d"
           }
          ],
          "histogram2dcontour": [
           {
            "colorbar": {
             "outlinewidth": 0,
             "ticks": ""
            },
            "colorscale": [
             [
              0,
              "#0d0887"
             ],
             [
              0.1111111111111111,
              "#46039f"
             ],
             [
              0.2222222222222222,
              "#7201a8"
             ],
             [
              0.3333333333333333,
              "#9c179e"
             ],
             [
              0.4444444444444444,
              "#bd3786"
             ],
             [
              0.5555555555555556,
              "#d8576b"
             ],
             [
              0.6666666666666666,
              "#ed7953"
             ],
             [
              0.7777777777777778,
              "#fb9f3a"
             ],
             [
              0.8888888888888888,
              "#fdca26"
             ],
             [
              1,
              "#f0f921"
             ]
            ],
            "type": "histogram2dcontour"
           }
          ],
          "mesh3d": [
           {
            "colorbar": {
             "outlinewidth": 0,
             "ticks": ""
            },
            "type": "mesh3d"
           }
          ],
          "parcoords": [
           {
            "line": {
             "colorbar": {
              "outlinewidth": 0,
              "ticks": ""
             }
            },
            "type": "parcoords"
           }
          ],
          "pie": [
           {
            "automargin": true,
            "type": "pie"
           }
          ],
          "scatter": [
           {
            "fillpattern": {
             "fillmode": "overlay",
             "size": 10,
             "solidity": 0.2
            },
            "type": "scatter"
           }
          ],
          "scatter3d": [
           {
            "line": {
             "colorbar": {
              "outlinewidth": 0,
              "ticks": ""
             }
            },
            "marker": {
             "colorbar": {
              "outlinewidth": 0,
              "ticks": ""
             }
            },
            "type": "scatter3d"
           }
          ],
          "scattercarpet": [
           {
            "marker": {
             "colorbar": {
              "outlinewidth": 0,
              "ticks": ""
             }
            },
            "type": "scattercarpet"
           }
          ],
          "scattergeo": [
           {
            "marker": {
             "colorbar": {
              "outlinewidth": 0,
              "ticks": ""
             }
            },
            "type": "scattergeo"
           }
          ],
          "scattergl": [
           {
            "marker": {
             "colorbar": {
              "outlinewidth": 0,
              "ticks": ""
             }
            },
            "type": "scattergl"
           }
          ],
          "scattermapbox": [
           {
            "marker": {
             "colorbar": {
              "outlinewidth": 0,
              "ticks": ""
             }
            },
            "type": "scattermapbox"
           }
          ],
          "scatterpolar": [
           {
            "marker": {
             "colorbar": {
              "outlinewidth": 0,
              "ticks": ""
             }
            },
            "type": "scatterpolar"
           }
          ],
          "scatterpolargl": [
           {
            "marker": {
             "colorbar": {
              "outlinewidth": 0,
              "ticks": ""
             }
            },
            "type": "scatterpolargl"
           }
          ],
          "scatterternary": [
           {
            "marker": {
             "colorbar": {
              "outlinewidth": 0,
              "ticks": ""
             }
            },
            "type": "scatterternary"
           }
          ],
          "surface": [
           {
            "colorbar": {
             "outlinewidth": 0,
             "ticks": ""
            },
            "colorscale": [
             [
              0,
              "#0d0887"
             ],
             [
              0.1111111111111111,
              "#46039f"
             ],
             [
              0.2222222222222222,
              "#7201a8"
             ],
             [
              0.3333333333333333,
              "#9c179e"
             ],
             [
              0.4444444444444444,
              "#bd3786"
             ],
             [
              0.5555555555555556,
              "#d8576b"
             ],
             [
              0.6666666666666666,
              "#ed7953"
             ],
             [
              0.7777777777777778,
              "#fb9f3a"
             ],
             [
              0.8888888888888888,
              "#fdca26"
             ],
             [
              1,
              "#f0f921"
             ]
            ],
            "type": "surface"
           }
          ],
          "table": [
           {
            "cells": {
             "fill": {
              "color": "#EBF0F8"
             },
             "line": {
              "color": "white"
             }
            },
            "header": {
             "fill": {
              "color": "#C8D4E3"
             },
             "line": {
              "color": "white"
             }
            },
            "type": "table"
           }
          ]
         },
         "layout": {
          "annotationdefaults": {
           "arrowcolor": "#2a3f5f",
           "arrowhead": 0,
           "arrowwidth": 1
          },
          "autotypenumbers": "strict",
          "coloraxis": {
           "colorbar": {
            "outlinewidth": 0,
            "ticks": ""
           }
          },
          "colorscale": {
           "diverging": [
            [
             0,
             "#8e0152"
            ],
            [
             0.1,
             "#c51b7d"
            ],
            [
             0.2,
             "#de77ae"
            ],
            [
             0.3,
             "#f1b6da"
            ],
            [
             0.4,
             "#fde0ef"
            ],
            [
             0.5,
             "#f7f7f7"
            ],
            [
             0.6,
             "#e6f5d0"
            ],
            [
             0.7,
             "#b8e186"
            ],
            [
             0.8,
             "#7fbc41"
            ],
            [
             0.9,
             "#4d9221"
            ],
            [
             1,
             "#276419"
            ]
           ],
           "sequential": [
            [
             0,
             "#0d0887"
            ],
            [
             0.1111111111111111,
             "#46039f"
            ],
            [
             0.2222222222222222,
             "#7201a8"
            ],
            [
             0.3333333333333333,
             "#9c179e"
            ],
            [
             0.4444444444444444,
             "#bd3786"
            ],
            [
             0.5555555555555556,
             "#d8576b"
            ],
            [
             0.6666666666666666,
             "#ed7953"
            ],
            [
             0.7777777777777778,
             "#fb9f3a"
            ],
            [
             0.8888888888888888,
             "#fdca26"
            ],
            [
             1,
             "#f0f921"
            ]
           ],
           "sequentialminus": [
            [
             0,
             "#0d0887"
            ],
            [
             0.1111111111111111,
             "#46039f"
            ],
            [
             0.2222222222222222,
             "#7201a8"
            ],
            [
             0.3333333333333333,
             "#9c179e"
            ],
            [
             0.4444444444444444,
             "#bd3786"
            ],
            [
             0.5555555555555556,
             "#d8576b"
            ],
            [
             0.6666666666666666,
             "#ed7953"
            ],
            [
             0.7777777777777778,
             "#fb9f3a"
            ],
            [
             0.8888888888888888,
             "#fdca26"
            ],
            [
             1,
             "#f0f921"
            ]
           ]
          },
          "colorway": [
           "#636efa",
           "#EF553B",
           "#00cc96",
           "#ab63fa",
           "#FFA15A",
           "#19d3f3",
           "#FF6692",
           "#B6E880",
           "#FF97FF",
           "#FECB52"
          ],
          "font": {
           "color": "#2a3f5f"
          },
          "geo": {
           "bgcolor": "white",
           "lakecolor": "white",
           "landcolor": "#E5ECF6",
           "showlakes": true,
           "showland": true,
           "subunitcolor": "white"
          },
          "hoverlabel": {
           "align": "left"
          },
          "hovermode": "closest",
          "mapbox": {
           "style": "light"
          },
          "paper_bgcolor": "white",
          "plot_bgcolor": "#E5ECF6",
          "polar": {
           "angularaxis": {
            "gridcolor": "white",
            "linecolor": "white",
            "ticks": ""
           },
           "bgcolor": "#E5ECF6",
           "radialaxis": {
            "gridcolor": "white",
            "linecolor": "white",
            "ticks": ""
           }
          },
          "scene": {
           "xaxis": {
            "backgroundcolor": "#E5ECF6",
            "gridcolor": "white",
            "gridwidth": 2,
            "linecolor": "white",
            "showbackground": true,
            "ticks": "",
            "zerolinecolor": "white"
           },
           "yaxis": {
            "backgroundcolor": "#E5ECF6",
            "gridcolor": "white",
            "gridwidth": 2,
            "linecolor": "white",
            "showbackground": true,
            "ticks": "",
            "zerolinecolor": "white"
           },
           "zaxis": {
            "backgroundcolor": "#E5ECF6",
            "gridcolor": "white",
            "gridwidth": 2,
            "linecolor": "white",
            "showbackground": true,
            "ticks": "",
            "zerolinecolor": "white"
           }
          },
          "shapedefaults": {
           "line": {
            "color": "#2a3f5f"
           }
          },
          "ternary": {
           "aaxis": {
            "gridcolor": "white",
            "linecolor": "white",
            "ticks": ""
           },
           "baxis": {
            "gridcolor": "white",
            "linecolor": "white",
            "ticks": ""
           },
           "bgcolor": "#E5ECF6",
           "caxis": {
            "gridcolor": "white",
            "linecolor": "white",
            "ticks": ""
           }
          },
          "title": {
           "x": 0.05
          },
          "xaxis": {
           "automargin": true,
           "gridcolor": "white",
           "linecolor": "white",
           "ticks": "",
           "title": {
            "standoff": 15
           },
           "zerolinecolor": "white",
           "zerolinewidth": 2
          },
          "yaxis": {
           "automargin": true,
           "gridcolor": "white",
           "linecolor": "white",
           "ticks": "",
           "title": {
            "standoff": 15
           },
           "zerolinecolor": "white",
           "zerolinewidth": 2
          }
         }
        },
        "title": {
         "text": "Conf Matrix"
        },
        "width": 800,
        "xaxis": {
         "title": {
          "text": "Predicted value"
         }
        },
        "yaxis": {
         "title": {
          "text": "Real value"
         }
        }
       }
      }
     },
     "metadata": {},
     "output_type": "display_data"
    }
   ],
   "source": [
    "#Como se veria la matriz de confusión\n",
    "display(plot_confusion_matrix(y_test,y_test))"
   ]
  },
  {
   "cell_type": "code",
   "execution_count": 168,
   "metadata": {},
   "outputs": [],
   "source": [
    "#Vamos a ver como se comporta kappa si hafgo una predicción al azar (respetando las proporciones de cada clase)\n",
    "y_shuffled = shuffle(y_test,\n",
    "                     random_state = 42)\n",
    "\n",
    "\n",
    "#Genero diccionarios para cambiar algunas predicicones reales por una prediccion cercana y_cerca y una lejana y_lejos a la real \n",
    "# ejemplo: la real se 0 voy a estimar 1 para la cercana y 4 para la lejana\n",
    "dict_map_cerca = {0:1,\n",
    "                  1:2,\n",
    "                  2:3,\n",
    "                  3:4,\n",
    "                  4:3}\n",
    "\n",
    "dict_map_lejos = {0:4,\n",
    "                  1:4,\n",
    "                  2:0,\n",
    "                  3:0,\n",
    "                  4:0}\n",
    "\n",
    "y_cerca = [dict_map_cerca[i] for i in y_test]\n",
    "\n",
    "y_lejos = [dict_map_lejos[i] for i in y_test]\n"
   ]
  },
  {
   "cell_type": "code",
   "execution_count": 169,
   "metadata": {},
   "outputs": [],
   "source": [
    "\n",
    "#Vamos a simular que la probabilidad de tener la prediccion real en casa muestra varia de 0 a 100. \n",
    "#Genero una numero aleatorio para cada muestra\n",
    "random_list =  np.random.rand(len(y_test))\n",
    "\n",
    "#inicializo un dataframe de resultados vacio\n",
    "kappa_progression = pd.DataFrame()\n",
    "\n",
    "#La variable i tiene un umbral para ir variando la cantidad de aciertos desde 0% a 100%\n",
    "for i in range(101):\n",
    "\n",
    "    #Genero la prediccion para i% de aciertos donde cuando no acierto me quedo con una prediccion al azar (podria ser la \"correcta\" pero solo por azar)\n",
    "    y_simulado = [y_test.iloc[sample] if random_list[sample]<i/100 else y_shuffled.iloc[sample] for sample in range(len(y_test))]\n",
    "\n",
    "    #Genero la prediccion para i% de aciertos donde cuando no acierto me quedo con una prediccion cercana o lejana a la correcta\n",
    "    y_simulado_cerca = [y_test.iloc[sample] if random_list[sample]<i/100 else y_cerca[sample] for sample in range(len(y_test))]\n",
    "    y_simulado_lejos = [y_test.iloc[sample] if random_list[sample]<i/100 else y_lejos[sample] for sample in range(len(y_test))]\n",
    "\n",
    "\n",
    "    #Grabo los resultados en un dataframe para cada i% de aciertos\n",
    "    kappa_progression = pd.concat([kappa_progression,\n",
    "                                   pd.DataFrame({'Conocidos':[i],\n",
    "                                                'kappa':cohen_kappa_score(y_test,\n",
    "                                                                        y_simulado,\n",
    "                                                                        weights = 'quadratic'),\n",
    "                                                'kappa_cerca':cohen_kappa_score(y_test,\n",
    "                                                                        y_simulado_cerca,\n",
    "                                                                        weights = 'quadratic'),\n",
    "                                                'kappa_lejos':cohen_kappa_score(y_test,\n",
    "                                                                        y_simulado_lejos,\n",
    "                                                                        weights = 'quadratic'),                                                                        \n",
    "                                                'accuracy':accuracy_score(y_test,\n",
    "                                                                        y_simulado),\n",
    "                                                'balanced_accuracy':balanced_accuracy_score(y_test,\n",
    "                                                                        y_simulado),\n",
    "                                                                        })],\n",
    "                ignore_index=True)"
   ]
  },
  {
   "cell_type": "code",
   "execution_count": 170,
   "metadata": {},
   "outputs": [
    {
     "data": {
      "application/vnd.plotly.v1+json": {
       "config": {
        "plotlyServerURL": "https://plot.ly"
       },
       "data": [
        {
         "hovertemplate": "variable=kappa<br>Conocidos=%{x}<br>value=%{y}<extra></extra>",
         "legendgroup": "kappa",
         "line": {
          "color": "#636efa",
          "dash": "solid"
         },
         "marker": {
          "symbol": "circle"
         },
         "mode": "lines",
         "name": "kappa",
         "orientation": "v",
         "showlegend": true,
         "type": "scatter",
         "x": [
          0,
          1,
          2,
          3,
          4,
          5,
          6,
          7,
          8,
          9,
          10,
          11,
          12,
          13,
          14,
          15,
          16,
          17,
          18,
          19,
          20,
          21,
          22,
          23,
          24,
          25,
          26,
          27,
          28,
          29,
          30,
          31,
          32,
          33,
          34,
          35,
          36,
          37,
          38,
          39,
          40,
          41,
          42,
          43,
          44,
          45,
          46,
          47,
          48,
          49,
          50,
          51,
          52,
          53,
          54,
          55,
          56,
          57,
          58,
          59,
          60,
          61,
          62,
          63,
          64,
          65,
          66,
          67,
          68,
          69,
          70,
          71,
          72,
          73,
          74,
          75,
          76,
          77,
          78,
          79,
          80,
          81,
          82,
          83,
          84,
          85,
          86,
          87,
          88,
          89,
          90,
          91,
          92,
          93,
          94,
          95,
          96,
          97,
          98,
          99,
          100
         ],
         "xaxis": "x",
         "y": [
          -0.0084438812302563,
          0.0020256657898626296,
          0.012841476040904909,
          0.02127101499904105,
          0.034642058286765365,
          0.04061382976989758,
          0.0501175248499528,
          0.05594932776539252,
          0.06719563011022611,
          0.07558988418316404,
          0.08425468702564687,
          0.09445144101386593,
          0.10134805839010053,
          0.11373522088744092,
          0.12307574002952504,
          0.13237809399016798,
          0.1431112378855366,
          0.15612489725132506,
          0.16911985047056266,
          0.18326027970790248,
          0.1927425097097195,
          0.2053260225837693,
          0.21810921243731585,
          0.22684419867410321,
          0.2358989782457417,
          0.2486204577210901,
          0.2568644872060074,
          0.2722582005361791,
          0.2826631539449719,
          0.28795942173793876,
          0.2964313816096671,
          0.308914697220972,
          0.3187659066495909,
          0.33295178273036574,
          0.34169034742695414,
          0.35543281833913853,
          0.3699469000144634,
          0.3805849159035293,
          0.3965290516580424,
          0.40361696370451705,
          0.4095684936393077,
          0.4212053095636493,
          0.43349846648310153,
          0.44136430248777303,
          0.44880428629602875,
          0.46141325368407826,
          0.4678989536454703,
          0.4808100059270304,
          0.4877594112973218,
          0.4954898075427562,
          0.503610054259559,
          0.5168088537335811,
          0.5263486697104736,
          0.5369216246162856,
          0.5513584918039605,
          0.5631592235703378,
          0.5718103936269429,
          0.5843983261069124,
          0.5929399730503291,
          0.6067662214457759,
          0.6180030817304271,
          0.6269202576682222,
          0.6387137784550432,
          0.6431498244720586,
          0.6478726413458026,
          0.6536825061712264,
          0.665677493839554,
          0.6797203591562119,
          0.6897995443315708,
          0.7036427980612197,
          0.7141111127915309,
          0.7271772860105219,
          0.735156449871205,
          0.7424060171489679,
          0.7481423422841327,
          0.7569398849340676,
          0.7666176694515547,
          0.7784675671598229,
          0.7896066719575852,
          0.8003640044058523,
          0.8109507024250027,
          0.8195073070516277,
          0.8276731537151396,
          0.8390099732498559,
          0.8483836811273195,
          0.8591300576181531,
          0.8706927574879084,
          0.8797201543387427,
          0.8856519975326024,
          0.8974797912077908,
          0.9051517747682687,
          0.914803879420549,
          0.9258085193381522,
          0.9381105093364648,
          0.9526066073177337,
          0.9616283476642623,
          0.9708777562199532,
          0.9782122719136915,
          0.9853217140968159,
          0.9937377046415468,
          1
         ],
         "yaxis": "y"
        },
        {
         "hovertemplate": "variable=kappa_cerca<br>Conocidos=%{x}<br>value=%{y}<extra></extra>",
         "legendgroup": "kappa_cerca",
         "line": {
          "color": "#EF553B",
          "dash": "solid"
         },
         "marker": {
          "symbol": "circle"
         },
         "mode": "lines",
         "name": "kappa_cerca",
         "orientation": "v",
         "showlegend": true,
         "type": "scatter",
         "x": [
          0,
          1,
          2,
          3,
          4,
          5,
          6,
          7,
          8,
          9,
          10,
          11,
          12,
          13,
          14,
          15,
          16,
          17,
          18,
          19,
          20,
          21,
          22,
          23,
          24,
          25,
          26,
          27,
          28,
          29,
          30,
          31,
          32,
          33,
          34,
          35,
          36,
          37,
          38,
          39,
          40,
          41,
          42,
          43,
          44,
          45,
          46,
          47,
          48,
          49,
          50,
          51,
          52,
          53,
          54,
          55,
          56,
          57,
          58,
          59,
          60,
          61,
          62,
          63,
          64,
          65,
          66,
          67,
          68,
          69,
          70,
          71,
          72,
          73,
          74,
          75,
          76,
          77,
          78,
          79,
          80,
          81,
          82,
          83,
          84,
          85,
          86,
          87,
          88,
          89,
          90,
          91,
          92,
          93,
          94,
          95,
          96,
          97,
          98,
          99,
          100
         ],
         "xaxis": "x",
         "y": [
          0.5261777791943391,
          0.5336653534434024,
          0.5408838618489681,
          0.5456917061272957,
          0.5519151143293992,
          0.5570155593804857,
          0.5613245568989933,
          0.5666786927152017,
          0.5728267349092373,
          0.577881213987944,
          0.583099818923809,
          0.5893146132099333,
          0.5926367442982627,
          0.5992660097172513,
          0.6059388220858172,
          0.6111935424627157,
          0.6171710614290289,
          0.6218668154150235,
          0.629877150671946,
          0.6369974938768579,
          0.6423891576025733,
          0.6487182495690079,
          0.6545390260608501,
          0.6595062521944303,
          0.664239850811978,
          0.6710677280730263,
          0.675194111526342,
          0.6823082494651629,
          0.688981565757372,
          0.6931339060879149,
          0.698750521730573,
          0.7050372647469918,
          0.7104586308684974,
          0.716127199591547,
          0.7213117341438473,
          0.7265785919961132,
          0.7332361530557586,
          0.7382057974542056,
          0.7451225065293231,
          0.7492370023363885,
          0.7526325686480817,
          0.7582539997180795,
          0.7648079554129612,
          0.7695646039435373,
          0.7735128329195446,
          0.780539223284338,
          0.784476764824634,
          0.7895594812566649,
          0.7932363248153947,
          0.797139878772559,
          0.8018176562944058,
          0.8066576033756965,
          0.8108146077344982,
          0.8157961224321246,
          0.8214255407889984,
          0.8257730056318006,
          0.8298859057354112,
          0.8362443346720013,
          0.840547262941288,
          0.8445973372722806,
          0.8492642135504982,
          0.8529821842437448,
          0.857753142376216,
          0.8602601065126494,
          0.8630109835304306,
          0.8667294052111307,
          0.871142257652257,
          0.8761270360020621,
          0.8803639296475686,
          0.885556370023686,
          0.8892485214961615,
          0.8944948179768097,
          0.8982418066765352,
          0.9015337723096739,
          0.9043229319632904,
          0.9080753760800487,
          0.9117752872387541,
          0.9151576329738615,
          0.9185211194257985,
          0.922386931156966,
          0.9267373996009816,
          0.9307397570884203,
          0.9343676956570299,
          0.9388001208682475,
          0.9423176085208821,
          0.9463466484888966,
          0.9506377257258021,
          0.9548219893610866,
          0.9571817930240822,
          0.961471402475253,
          0.9656633139756468,
          0.9689531606608247,
          0.973003170402787,
          0.9773870109660657,
          0.9813764578136164,
          0.9849404552771095,
          0.9882514686421443,
          0.9909338751497568,
          0.9939708611861855,
          0.9969898962087306,
          1
         ],
         "yaxis": "y"
        },
        {
         "hovertemplate": "variable=kappa_lejos<br>Conocidos=%{x}<br>value=%{y}<extra></extra>",
         "legendgroup": "kappa_lejos",
         "line": {
          "color": "#00cc96",
          "dash": "solid"
         },
         "marker": {
          "symbol": "circle"
         },
         "mode": "lines",
         "name": "kappa_lejos",
         "orientation": "v",
         "showlegend": true,
         "type": "scatter",
         "x": [
          0,
          1,
          2,
          3,
          4,
          5,
          6,
          7,
          8,
          9,
          10,
          11,
          12,
          13,
          14,
          15,
          16,
          17,
          18,
          19,
          20,
          21,
          22,
          23,
          24,
          25,
          26,
          27,
          28,
          29,
          30,
          31,
          32,
          33,
          34,
          35,
          36,
          37,
          38,
          39,
          40,
          41,
          42,
          43,
          44,
          45,
          46,
          47,
          48,
          49,
          50,
          51,
          52,
          53,
          54,
          55,
          56,
          57,
          58,
          59,
          60,
          61,
          62,
          63,
          64,
          65,
          66,
          67,
          68,
          69,
          70,
          71,
          72,
          73,
          74,
          75,
          76,
          77,
          78,
          79,
          80,
          81,
          82,
          83,
          84,
          85,
          86,
          87,
          88,
          89,
          90,
          91,
          92,
          93,
          94,
          95,
          96,
          97,
          98,
          99,
          100
         ],
         "xaxis": "x",
         "y": [
          -0.45165018440277804,
          -0.4478494745454573,
          -0.4407612934893481,
          -0.43562622796839023,
          -0.426322450012655,
          -0.4207648867025071,
          -0.41646417606612474,
          -0.41486838663615866,
          -0.4070785609562708,
          -0.40122566796631554,
          -0.3946549096445413,
          -0.3883490147516886,
          -0.3846257488485214,
          -0.3751654038040937,
          -0.36961797740524105,
          -0.36300140280964865,
          -0.3553918502947968,
          -0.349061476389281,
          -0.3408161632880775,
          -0.3319181380684906,
          -0.32521718140563816,
          -0.3150637529628262,
          -0.3055143370112938,
          -0.3032839098595892,
          -0.2964339000929965,
          -0.2846884339721183,
          -0.2767816596940109,
          -0.26214520180689127,
          -0.2501471842773413,
          -0.244512208411243,
          -0.2325474394407645,
          -0.21809483230273563,
          -0.20680181503105954,
          -0.19396762429018466,
          -0.1855678320379761,
          -0.17385668605382665,
          -0.1615531211369976,
          -0.1516839833742274,
          -0.1371745867078995,
          -0.13121733426327342,
          -0.1258005634062176,
          -0.11264987624874268,
          -0.09705946985593394,
          -0.08335196489476915,
          -0.07494976644768125,
          -0.06027318377306323,
          -0.05229055000623961,
          -0.04309797121698655,
          -0.03458729347333667,
          -0.02237087958010875,
          -0.010685502067979025,
          0.0009878684135172788,
          0.016771455821600778,
          0.02800292781414182,
          0.04575135581091727,
          0.05639743071017034,
          0.06803634909756284,
          0.09102035567255973,
          0.1054338289744674,
          0.11940770294750547,
          0.13517189610214597,
          0.14626219587798506,
          0.16393367636476264,
          0.1716709065128844,
          0.18054704039726466,
          0.19366572412773686,
          0.20866201024696396,
          0.22751272025827474,
          0.24594711122728086,
          0.2657229905788465,
          0.2852838135250253,
          0.304729467699566,
          0.3231165235673057,
          0.3361049181061416,
          0.3476239814095745,
          0.3630650578854745,
          0.3837173310690746,
          0.4006013850950495,
          0.41542815584592585,
          0.43578251028257553,
          0.4595969961288412,
          0.4831529180491789,
          0.5031102692120586,
          0.5266126851698869,
          0.5483270071591602,
          0.5760070838704542,
          0.6077904812888839,
          0.6354030279503502,
          0.6505464807508585,
          0.6747608516914387,
          0.707694877330455,
          0.7288822240159498,
          0.7609346808230174,
          0.8023704291215303,
          0.8387742984781792,
          0.8665720802759125,
          0.8948549893338386,
          0.9184612936180778,
          0.9427827579805963,
          0.9724572886243132,
          1
         ],
         "yaxis": "y"
        },
        {
         "hovertemplate": "variable=accuracy<br>Conocidos=%{x}<br>value=%{y}<extra></extra>",
         "legendgroup": "accuracy",
         "line": {
          "color": "#ab63fa",
          "dash": "solid"
         },
         "marker": {
          "symbol": "circle"
         },
         "mode": "lines",
         "name": "accuracy",
         "orientation": "v",
         "showlegend": true,
         "type": "scatter",
         "x": [
          0,
          1,
          2,
          3,
          4,
          5,
          6,
          7,
          8,
          9,
          10,
          11,
          12,
          13,
          14,
          15,
          16,
          17,
          18,
          19,
          20,
          21,
          22,
          23,
          24,
          25,
          26,
          27,
          28,
          29,
          30,
          31,
          32,
          33,
          34,
          35,
          36,
          37,
          38,
          39,
          40,
          41,
          42,
          43,
          44,
          45,
          46,
          47,
          48,
          49,
          50,
          51,
          52,
          53,
          54,
          55,
          56,
          57,
          58,
          59,
          60,
          61,
          62,
          63,
          64,
          65,
          66,
          67,
          68,
          69,
          70,
          71,
          72,
          73,
          74,
          75,
          76,
          77,
          78,
          79,
          80,
          81,
          82,
          83,
          84,
          85,
          86,
          87,
          88,
          89,
          90,
          91,
          92,
          93,
          94,
          95,
          96,
          97,
          98,
          99,
          100
         ],
         "xaxis": "x",
         "y": [
          0.24141380460153383,
          0.24908302767589197,
          0.25808602867622543,
          0.26475491830610204,
          0.27142380793597864,
          0.2760920306768923,
          0.2830943647882628,
          0.2894298099366455,
          0.296432144048016,
          0.3037679226408803,
          0.3104368122707569,
          0.3211070356785595,
          0.32677559186395466,
          0.3357785928642881,
          0.34278092697565854,
          0.3504501500500167,
          0.35778592864288095,
          0.3647882627542514,
          0.3761253751250417,
          0.3861287095698566,
          0.39379793264421475,
          0.40246748916305436,
          0.41113704568189396,
          0.41813937979326443,
          0.4264754918306102,
          0.43514504834944984,
          0.4411470490163388,
          0.45048349449816605,
          0.460486828942981,
          0.4671557185728576,
          0.4748249416472157,
          0.4838279426475492,
          0.4904968322774258,
          0.4991663887962654,
          0.5081693897965989,
          0.515838612870957,
          0.5271757252417473,
          0.5338446148716238,
          0.5438479493164388,
          0.5505168389463154,
          0.5561853951317106,
          0.5648549516505502,
          0.5758586195398466,
          0.5821940646882294,
          0.5885295098366122,
          0.6012004001333778,
          0.6068689563187729,
          0.6162054018006002,
          0.6222074024674892,
          0.6272090696898966,
          0.6335445148382794,
          0.6435478492830944,
          0.6488829609869957,
          0.6575525175058353,
          0.6665555185061687,
          0.6755585195065021,
          0.6825608536178727,
          0.6918972990996999,
          0.6998999666555519,
          0.70756918972991,
          0.7142380793597866,
          0.7205735245081694,
          0.7282427475825275,
          0.7325775258419474,
          0.7379126375458486,
          0.7439146382127376,
          0.7525841947315772,
          0.7622540846948983,
          0.7702567522507503,
          0.7799266422140714,
          0.7852617539179727,
          0.7945981993997999,
          0.8006002000666889,
          0.8046015338446149,
          0.8089363121040347,
          0.816272090696899,
          0.8236078692897633,
          0.8299433144381461,
          0.8376125375125042,
          0.8446148716238746,
          0.8526175391797266,
          0.8602867622540847,
          0.867622540846949,
          0.8762920973657886,
          0.8829609869956653,
          0.8909636545515172,
          0.8982994331443814,
          0.9066355451817273,
          0.9119706568856285,
          0.9223074358119373,
          0.9293097699233077,
          0.9359786595531844,
          0.9429809936645549,
          0.9523174391463821,
          0.9613204401467156,
          0.9676558852950984,
          0.9753251083694565,
          0.9809936645548516,
          0.9873291097032344,
          0.9933311103701233,
          1
         ],
         "yaxis": "y"
        },
        {
         "hovertemplate": "variable=balanced_accuracy<br>Conocidos=%{x}<br>value=%{y}<extra></extra>",
         "legendgroup": "balanced_accuracy",
         "line": {
          "color": "#FFA15A",
          "dash": "solid"
         },
         "marker": {
          "symbol": "circle"
         },
         "mode": "lines",
         "name": "balanced_accuracy",
         "orientation": "v",
         "showlegend": true,
         "type": "scatter",
         "x": [
          0,
          1,
          2,
          3,
          4,
          5,
          6,
          7,
          8,
          9,
          10,
          11,
          12,
          13,
          14,
          15,
          16,
          17,
          18,
          19,
          20,
          21,
          22,
          23,
          24,
          25,
          26,
          27,
          28,
          29,
          30,
          31,
          32,
          33,
          34,
          35,
          36,
          37,
          38,
          39,
          40,
          41,
          42,
          43,
          44,
          45,
          46,
          47,
          48,
          49,
          50,
          51,
          52,
          53,
          54,
          55,
          56,
          57,
          58,
          59,
          60,
          61,
          62,
          63,
          64,
          65,
          66,
          67,
          68,
          69,
          70,
          71,
          72,
          73,
          74,
          75,
          76,
          77,
          78,
          79,
          80,
          81,
          82,
          83,
          84,
          85,
          86,
          87,
          88,
          89,
          90,
          91,
          92,
          93,
          94,
          95,
          96,
          97,
          98,
          99,
          100
         ],
         "xaxis": "x",
         "y": [
          0.19781671101270798,
          0.20590929441364242,
          0.21768948482031888,
          0.22543816058614158,
          0.23758609831246907,
          0.24135227112025745,
          0.24959563019629744,
          0.2545840842478606,
          0.2647297435414784,
          0.2727415102062947,
          0.28042867263666454,
          0.2914504546048735,
          0.29840645519174597,
          0.3101963818349245,
          0.31605232454733256,
          0.3246443038797402,
          0.3304622812851174,
          0.34257889402447533,
          0.3541664398025177,
          0.36272305300826835,
          0.3712489754563061,
          0.38045283501641375,
          0.3899481836183828,
          0.3978575132174645,
          0.40496301818434793,
          0.41211039494134144,
          0.4170420482787076,
          0.42700839466928214,
          0.43955609552167163,
          0.44743234150731714,
          0.45381220781859766,
          0.4659979761953476,
          0.47795942671019187,
          0.487212467025458,
          0.4947982064448008,
          0.5051454433019593,
          0.514493114981845,
          0.5243391657019145,
          0.5349482177345106,
          0.5403878666013657,
          0.5450840210444292,
          0.5568380670788912,
          0.5681977534279887,
          0.5733675020034501,
          0.5807336361821431,
          0.5910025328997789,
          0.5977551701459566,
          0.6077138770711734,
          0.6129384670828772,
          0.6189208284672107,
          0.6242390673679754,
          0.6343753358348119,
          0.6410291315043437,
          0.650093737403002,
          0.6683757574120153,
          0.6758857037104862,
          0.6839665915969642,
          0.6938248402407199,
          0.7002408860818773,
          0.7066041751851064,
          0.7120314914716672,
          0.7173145304815323,
          0.7277750577730946,
          0.7334380076105665,
          0.7381331824146526,
          0.7430688797282877,
          0.7525053113385963,
          0.7648400816861278,
          0.7714594908679799,
          0.7819594655147799,
          0.7884267739728286,
          0.7960641214187834,
          0.8056107326376438,
          0.8109474615358538,
          0.8167522613785678,
          0.8229149525572336,
          0.8335778635505132,
          0.8388177129866135,
          0.8450500370324189,
          0.8510924669563102,
          0.8619944528266625,
          0.8704393894662432,
          0.8764827990291117,
          0.8855001713777362,
          0.8907927775517648,
          0.8997406861055882,
          0.9077472600828196,
          0.9146494017090083,
          0.919005055427391,
          0.9272666156813404,
          0.9351749972205938,
          0.9426782687832729,
          0.9505686254819986,
          0.9581306793797297,
          0.9657112261114875,
          0.9710028526465386,
          0.9794698581029161,
          0.9838842597406202,
          0.9892614156330453,
          0.9943498478997403,
          1
         ],
         "yaxis": "y"
        }
       ],
       "layout": {
        "legend": {
         "title": {
          "text": "variable"
         },
         "tracegroupgap": 0
        },
        "margin": {
         "t": 60
        },
        "template": {
         "data": {
          "bar": [
           {
            "error_x": {
             "color": "#2a3f5f"
            },
            "error_y": {
             "color": "#2a3f5f"
            },
            "marker": {
             "line": {
              "color": "#E5ECF6",
              "width": 0.5
             },
             "pattern": {
              "fillmode": "overlay",
              "size": 10,
              "solidity": 0.2
             }
            },
            "type": "bar"
           }
          ],
          "barpolar": [
           {
            "marker": {
             "line": {
              "color": "#E5ECF6",
              "width": 0.5
             },
             "pattern": {
              "fillmode": "overlay",
              "size": 10,
              "solidity": 0.2
             }
            },
            "type": "barpolar"
           }
          ],
          "carpet": [
           {
            "aaxis": {
             "endlinecolor": "#2a3f5f",
             "gridcolor": "white",
             "linecolor": "white",
             "minorgridcolor": "white",
             "startlinecolor": "#2a3f5f"
            },
            "baxis": {
             "endlinecolor": "#2a3f5f",
             "gridcolor": "white",
             "linecolor": "white",
             "minorgridcolor": "white",
             "startlinecolor": "#2a3f5f"
            },
            "type": "carpet"
           }
          ],
          "choropleth": [
           {
            "colorbar": {
             "outlinewidth": 0,
             "ticks": ""
            },
            "type": "choropleth"
           }
          ],
          "contour": [
           {
            "colorbar": {
             "outlinewidth": 0,
             "ticks": ""
            },
            "colorscale": [
             [
              0,
              "#0d0887"
             ],
             [
              0.1111111111111111,
              "#46039f"
             ],
             [
              0.2222222222222222,
              "#7201a8"
             ],
             [
              0.3333333333333333,
              "#9c179e"
             ],
             [
              0.4444444444444444,
              "#bd3786"
             ],
             [
              0.5555555555555556,
              "#d8576b"
             ],
             [
              0.6666666666666666,
              "#ed7953"
             ],
             [
              0.7777777777777778,
              "#fb9f3a"
             ],
             [
              0.8888888888888888,
              "#fdca26"
             ],
             [
              1,
              "#f0f921"
             ]
            ],
            "type": "contour"
           }
          ],
          "contourcarpet": [
           {
            "colorbar": {
             "outlinewidth": 0,
             "ticks": ""
            },
            "type": "contourcarpet"
           }
          ],
          "heatmap": [
           {
            "colorbar": {
             "outlinewidth": 0,
             "ticks": ""
            },
            "colorscale": [
             [
              0,
              "#0d0887"
             ],
             [
              0.1111111111111111,
              "#46039f"
             ],
             [
              0.2222222222222222,
              "#7201a8"
             ],
             [
              0.3333333333333333,
              "#9c179e"
             ],
             [
              0.4444444444444444,
              "#bd3786"
             ],
             [
              0.5555555555555556,
              "#d8576b"
             ],
             [
              0.6666666666666666,
              "#ed7953"
             ],
             [
              0.7777777777777778,
              "#fb9f3a"
             ],
             [
              0.8888888888888888,
              "#fdca26"
             ],
             [
              1,
              "#f0f921"
             ]
            ],
            "type": "heatmap"
           }
          ],
          "heatmapgl": [
           {
            "colorbar": {
             "outlinewidth": 0,
             "ticks": ""
            },
            "colorscale": [
             [
              0,
              "#0d0887"
             ],
             [
              0.1111111111111111,
              "#46039f"
             ],
             [
              0.2222222222222222,
              "#7201a8"
             ],
             [
              0.3333333333333333,
              "#9c179e"
             ],
             [
              0.4444444444444444,
              "#bd3786"
             ],
             [
              0.5555555555555556,
              "#d8576b"
             ],
             [
              0.6666666666666666,
              "#ed7953"
             ],
             [
              0.7777777777777778,
              "#fb9f3a"
             ],
             [
              0.8888888888888888,
              "#fdca26"
             ],
             [
              1,
              "#f0f921"
             ]
            ],
            "type": "heatmapgl"
           }
          ],
          "histogram": [
           {
            "marker": {
             "pattern": {
              "fillmode": "overlay",
              "size": 10,
              "solidity": 0.2
             }
            },
            "type": "histogram"
           }
          ],
          "histogram2d": [
           {
            "colorbar": {
             "outlinewidth": 0,
             "ticks": ""
            },
            "colorscale": [
             [
              0,
              "#0d0887"
             ],
             [
              0.1111111111111111,
              "#46039f"
             ],
             [
              0.2222222222222222,
              "#7201a8"
             ],
             [
              0.3333333333333333,
              "#9c179e"
             ],
             [
              0.4444444444444444,
              "#bd3786"
             ],
             [
              0.5555555555555556,
              "#d8576b"
             ],
             [
              0.6666666666666666,
              "#ed7953"
             ],
             [
              0.7777777777777778,
              "#fb9f3a"
             ],
             [
              0.8888888888888888,
              "#fdca26"
             ],
             [
              1,
              "#f0f921"
             ]
            ],
            "type": "histogram2d"
           }
          ],
          "histogram2dcontour": [
           {
            "colorbar": {
             "outlinewidth": 0,
             "ticks": ""
            },
            "colorscale": [
             [
              0,
              "#0d0887"
             ],
             [
              0.1111111111111111,
              "#46039f"
             ],
             [
              0.2222222222222222,
              "#7201a8"
             ],
             [
              0.3333333333333333,
              "#9c179e"
             ],
             [
              0.4444444444444444,
              "#bd3786"
             ],
             [
              0.5555555555555556,
              "#d8576b"
             ],
             [
              0.6666666666666666,
              "#ed7953"
             ],
             [
              0.7777777777777778,
              "#fb9f3a"
             ],
             [
              0.8888888888888888,
              "#fdca26"
             ],
             [
              1,
              "#f0f921"
             ]
            ],
            "type": "histogram2dcontour"
           }
          ],
          "mesh3d": [
           {
            "colorbar": {
             "outlinewidth": 0,
             "ticks": ""
            },
            "type": "mesh3d"
           }
          ],
          "parcoords": [
           {
            "line": {
             "colorbar": {
              "outlinewidth": 0,
              "ticks": ""
             }
            },
            "type": "parcoords"
           }
          ],
          "pie": [
           {
            "automargin": true,
            "type": "pie"
           }
          ],
          "scatter": [
           {
            "fillpattern": {
             "fillmode": "overlay",
             "size": 10,
             "solidity": 0.2
            },
            "type": "scatter"
           }
          ],
          "scatter3d": [
           {
            "line": {
             "colorbar": {
              "outlinewidth": 0,
              "ticks": ""
             }
            },
            "marker": {
             "colorbar": {
              "outlinewidth": 0,
              "ticks": ""
             }
            },
            "type": "scatter3d"
           }
          ],
          "scattercarpet": [
           {
            "marker": {
             "colorbar": {
              "outlinewidth": 0,
              "ticks": ""
             }
            },
            "type": "scattercarpet"
           }
          ],
          "scattergeo": [
           {
            "marker": {
             "colorbar": {
              "outlinewidth": 0,
              "ticks": ""
             }
            },
            "type": "scattergeo"
           }
          ],
          "scattergl": [
           {
            "marker": {
             "colorbar": {
              "outlinewidth": 0,
              "ticks": ""
             }
            },
            "type": "scattergl"
           }
          ],
          "scattermapbox": [
           {
            "marker": {
             "colorbar": {
              "outlinewidth": 0,
              "ticks": ""
             }
            },
            "type": "scattermapbox"
           }
          ],
          "scatterpolar": [
           {
            "marker": {
             "colorbar": {
              "outlinewidth": 0,
              "ticks": ""
             }
            },
            "type": "scatterpolar"
           }
          ],
          "scatterpolargl": [
           {
            "marker": {
             "colorbar": {
              "outlinewidth": 0,
              "ticks": ""
             }
            },
            "type": "scatterpolargl"
           }
          ],
          "scatterternary": [
           {
            "marker": {
             "colorbar": {
              "outlinewidth": 0,
              "ticks": ""
             }
            },
            "type": "scatterternary"
           }
          ],
          "surface": [
           {
            "colorbar": {
             "outlinewidth": 0,
             "ticks": ""
            },
            "colorscale": [
             [
              0,
              "#0d0887"
             ],
             [
              0.1111111111111111,
              "#46039f"
             ],
             [
              0.2222222222222222,
              "#7201a8"
             ],
             [
              0.3333333333333333,
              "#9c179e"
             ],
             [
              0.4444444444444444,
              "#bd3786"
             ],
             [
              0.5555555555555556,
              "#d8576b"
             ],
             [
              0.6666666666666666,
              "#ed7953"
             ],
             [
              0.7777777777777778,
              "#fb9f3a"
             ],
             [
              0.8888888888888888,
              "#fdca26"
             ],
             [
              1,
              "#f0f921"
             ]
            ],
            "type": "surface"
           }
          ],
          "table": [
           {
            "cells": {
             "fill": {
              "color": "#EBF0F8"
             },
             "line": {
              "color": "white"
             }
            },
            "header": {
             "fill": {
              "color": "#C8D4E3"
             },
             "line": {
              "color": "white"
             }
            },
            "type": "table"
           }
          ]
         },
         "layout": {
          "annotationdefaults": {
           "arrowcolor": "#2a3f5f",
           "arrowhead": 0,
           "arrowwidth": 1
          },
          "autotypenumbers": "strict",
          "coloraxis": {
           "colorbar": {
            "outlinewidth": 0,
            "ticks": ""
           }
          },
          "colorscale": {
           "diverging": [
            [
             0,
             "#8e0152"
            ],
            [
             0.1,
             "#c51b7d"
            ],
            [
             0.2,
             "#de77ae"
            ],
            [
             0.3,
             "#f1b6da"
            ],
            [
             0.4,
             "#fde0ef"
            ],
            [
             0.5,
             "#f7f7f7"
            ],
            [
             0.6,
             "#e6f5d0"
            ],
            [
             0.7,
             "#b8e186"
            ],
            [
             0.8,
             "#7fbc41"
            ],
            [
             0.9,
             "#4d9221"
            ],
            [
             1,
             "#276419"
            ]
           ],
           "sequential": [
            [
             0,
             "#0d0887"
            ],
            [
             0.1111111111111111,
             "#46039f"
            ],
            [
             0.2222222222222222,
             "#7201a8"
            ],
            [
             0.3333333333333333,
             "#9c179e"
            ],
            [
             0.4444444444444444,
             "#bd3786"
            ],
            [
             0.5555555555555556,
             "#d8576b"
            ],
            [
             0.6666666666666666,
             "#ed7953"
            ],
            [
             0.7777777777777778,
             "#fb9f3a"
            ],
            [
             0.8888888888888888,
             "#fdca26"
            ],
            [
             1,
             "#f0f921"
            ]
           ],
           "sequentialminus": [
            [
             0,
             "#0d0887"
            ],
            [
             0.1111111111111111,
             "#46039f"
            ],
            [
             0.2222222222222222,
             "#7201a8"
            ],
            [
             0.3333333333333333,
             "#9c179e"
            ],
            [
             0.4444444444444444,
             "#bd3786"
            ],
            [
             0.5555555555555556,
             "#d8576b"
            ],
            [
             0.6666666666666666,
             "#ed7953"
            ],
            [
             0.7777777777777778,
             "#fb9f3a"
            ],
            [
             0.8888888888888888,
             "#fdca26"
            ],
            [
             1,
             "#f0f921"
            ]
           ]
          },
          "colorway": [
           "#636efa",
           "#EF553B",
           "#00cc96",
           "#ab63fa",
           "#FFA15A",
           "#19d3f3",
           "#FF6692",
           "#B6E880",
           "#FF97FF",
           "#FECB52"
          ],
          "font": {
           "color": "#2a3f5f"
          },
          "geo": {
           "bgcolor": "white",
           "lakecolor": "white",
           "landcolor": "#E5ECF6",
           "showlakes": true,
           "showland": true,
           "subunitcolor": "white"
          },
          "hoverlabel": {
           "align": "left"
          },
          "hovermode": "closest",
          "mapbox": {
           "style": "light"
          },
          "paper_bgcolor": "white",
          "plot_bgcolor": "#E5ECF6",
          "polar": {
           "angularaxis": {
            "gridcolor": "white",
            "linecolor": "white",
            "ticks": ""
           },
           "bgcolor": "#E5ECF6",
           "radialaxis": {
            "gridcolor": "white",
            "linecolor": "white",
            "ticks": ""
           }
          },
          "scene": {
           "xaxis": {
            "backgroundcolor": "#E5ECF6",
            "gridcolor": "white",
            "gridwidth": 2,
            "linecolor": "white",
            "showbackground": true,
            "ticks": "",
            "zerolinecolor": "white"
           },
           "yaxis": {
            "backgroundcolor": "#E5ECF6",
            "gridcolor": "white",
            "gridwidth": 2,
            "linecolor": "white",
            "showbackground": true,
            "ticks": "",
            "zerolinecolor": "white"
           },
           "zaxis": {
            "backgroundcolor": "#E5ECF6",
            "gridcolor": "white",
            "gridwidth": 2,
            "linecolor": "white",
            "showbackground": true,
            "ticks": "",
            "zerolinecolor": "white"
           }
          },
          "shapedefaults": {
           "line": {
            "color": "#2a3f5f"
           }
          },
          "ternary": {
           "aaxis": {
            "gridcolor": "white",
            "linecolor": "white",
            "ticks": ""
           },
           "baxis": {
            "gridcolor": "white",
            "linecolor": "white",
            "ticks": ""
           },
           "bgcolor": "#E5ECF6",
           "caxis": {
            "gridcolor": "white",
            "linecolor": "white",
            "ticks": ""
           }
          },
          "title": {
           "x": 0.05
          },
          "xaxis": {
           "automargin": true,
           "gridcolor": "white",
           "linecolor": "white",
           "ticks": "",
           "title": {
            "standoff": 15
           },
           "zerolinecolor": "white",
           "zerolinewidth": 2
          },
          "yaxis": {
           "automargin": true,
           "gridcolor": "white",
           "linecolor": "white",
           "ticks": "",
           "title": {
            "standoff": 15
           },
           "zerolinecolor": "white",
           "zerolinewidth": 2
          }
         }
        },
        "xaxis": {
         "anchor": "y",
         "domain": [
          0,
          1
         ],
         "title": {
          "text": "Conocidos"
         }
        },
        "yaxis": {
         "anchor": "x",
         "domain": [
          0,
          1
         ],
         "title": {
          "text": "value"
         }
        }
       }
      }
     },
     "metadata": {},
     "output_type": "display_data"
    }
   ],
   "source": [
    "#Grafico el comportamiento de la métrica a medida que incremento los aciertos. Tambien muestro lor resultados de otras metricas como Accuracy y Balanced Accuracy\n",
    "px.line(kappa_progression,x='Conocidos',y=['kappa',\n",
    "                                           'kappa_cerca',\n",
    "                                           'kappa_lejos',\n",
    "                                           'accuracy',\n",
    "                                           'balanced_accuracy'])"
   ]
  },
  {
   "cell_type": "code",
   "execution_count": 171,
   "metadata": {},
   "outputs": [
    {
     "data": {
      "application/vnd.plotly.v1+json": {
       "config": {
        "plotlyServerURL": "https://plot.ly"
       },
       "data": [
        {
         "type": "heatmap",
         "x": [
          0,
          1,
          2,
          3,
          4
         ],
         "y": [
          0,
          1,
          2,
          3,
          4
         ],
         "z": [
          [
           58.536585365853654,
           41.46341463414634,
           0,
           0,
           0
          ],
          [
           0,
           50.970873786407765,
           49.029126213592235,
           0,
           0
          ],
          [
           0,
           0,
           51.053283767038415,
           48.946716232961585,
           0
          ],
          [
           0,
           0,
           0,
           54.75460122699386,
           45.24539877300614
          ],
          [
           0,
           0,
           0,
           50,
           50
          ]
         ]
        }
       ],
       "layout": {
        "annotations": [
         {
          "font": {
           "color": "white"
          },
          "showarrow": false,
          "text": "58.5 - 48",
          "x": 0,
          "xref": "x",
          "y": 0,
          "yref": "y"
         },
         {
          "font": {
           "color": "white"
          },
          "showarrow": false,
          "text": "41.5 - 34",
          "x": 1,
          "xref": "x",
          "y": 0,
          "yref": "y"
         },
         {
          "font": {
           "color": "white"
          },
          "showarrow": false,
          "text": "0.0 - 0",
          "x": 2,
          "xref": "x",
          "y": 0,
          "yref": "y"
         },
         {
          "font": {
           "color": "white"
          },
          "showarrow": false,
          "text": "0.0 - 0",
          "x": 3,
          "xref": "x",
          "y": 0,
          "yref": "y"
         },
         {
          "font": {
           "color": "white"
          },
          "showarrow": false,
          "text": "0.0 - 0",
          "x": 4,
          "xref": "x",
          "y": 0,
          "yref": "y"
         },
         {
          "font": {
           "color": "white"
          },
          "showarrow": false,
          "text": "0.0 - 0",
          "x": 0,
          "xref": "x",
          "y": 1,
          "yref": "y"
         },
         {
          "font": {
           "color": "white"
          },
          "showarrow": false,
          "text": "51.0 - 315",
          "x": 1,
          "xref": "x",
          "y": 1,
          "yref": "y"
         },
         {
          "font": {
           "color": "white"
          },
          "showarrow": false,
          "text": "49.0 - 303",
          "x": 2,
          "xref": "x",
          "y": 1,
          "yref": "y"
         },
         {
          "font": {
           "color": "white"
          },
          "showarrow": false,
          "text": "0.0 - 0",
          "x": 3,
          "xref": "x",
          "y": 1,
          "yref": "y"
         },
         {
          "font": {
           "color": "white"
          },
          "showarrow": false,
          "text": "0.0 - 0",
          "x": 4,
          "xref": "x",
          "y": 1,
          "yref": "y"
         },
         {
          "font": {
           "color": "white"
          },
          "showarrow": false,
          "text": "0.0 - 0",
          "x": 0,
          "xref": "x",
          "y": 2,
          "yref": "y"
         },
         {
          "font": {
           "color": "white"
          },
          "showarrow": false,
          "text": "0.0 - 0",
          "x": 1,
          "xref": "x",
          "y": 2,
          "yref": "y"
         },
         {
          "font": {
           "color": "white"
          },
          "showarrow": false,
          "text": "51.1 - 412",
          "x": 2,
          "xref": "x",
          "y": 2,
          "yref": "y"
         },
         {
          "font": {
           "color": "white"
          },
          "showarrow": false,
          "text": "48.9 - 395",
          "x": 3,
          "xref": "x",
          "y": 2,
          "yref": "y"
         },
         {
          "font": {
           "color": "white"
          },
          "showarrow": false,
          "text": "0.0 - 0",
          "x": 4,
          "xref": "x",
          "y": 2,
          "yref": "y"
         },
         {
          "font": {
           "color": "white"
          },
          "showarrow": false,
          "text": "0.0 - 0",
          "x": 0,
          "xref": "x",
          "y": 3,
          "yref": "y"
         },
         {
          "font": {
           "color": "white"
          },
          "showarrow": false,
          "text": "0.0 - 0",
          "x": 1,
          "xref": "x",
          "y": 3,
          "yref": "y"
         },
         {
          "font": {
           "color": "white"
          },
          "showarrow": false,
          "text": "0.0 - 0",
          "x": 2,
          "xref": "x",
          "y": 3,
          "yref": "y"
         },
         {
          "font": {
           "color": "white"
          },
          "showarrow": false,
          "text": "54.8 - 357",
          "x": 3,
          "xref": "x",
          "y": 3,
          "yref": "y"
         },
         {
          "font": {
           "color": "white"
          },
          "showarrow": false,
          "text": "45.2 - 295",
          "x": 4,
          "xref": "x",
          "y": 3,
          "yref": "y"
         },
         {
          "font": {
           "color": "white"
          },
          "showarrow": false,
          "text": "0.0 - 0",
          "x": 0,
          "xref": "x",
          "y": 4,
          "yref": "y"
         },
         {
          "font": {
           "color": "white"
          },
          "showarrow": false,
          "text": "0.0 - 0",
          "x": 1,
          "xref": "x",
          "y": 4,
          "yref": "y"
         },
         {
          "font": {
           "color": "white"
          },
          "showarrow": false,
          "text": "0.0 - 0",
          "x": 2,
          "xref": "x",
          "y": 4,
          "yref": "y"
         },
         {
          "font": {
           "color": "white"
          },
          "showarrow": false,
          "text": "50.0 - 420",
          "x": 3,
          "xref": "x",
          "y": 4,
          "yref": "y"
         },
         {
          "font": {
           "color": "white"
          },
          "showarrow": false,
          "text": "50.0 - 420",
          "x": 4,
          "xref": "x",
          "y": 4,
          "yref": "y"
         }
        ],
        "height": 800,
        "template": {
         "data": {
          "bar": [
           {
            "error_x": {
             "color": "#2a3f5f"
            },
            "error_y": {
             "color": "#2a3f5f"
            },
            "marker": {
             "line": {
              "color": "#E5ECF6",
              "width": 0.5
             },
             "pattern": {
              "fillmode": "overlay",
              "size": 10,
              "solidity": 0.2
             }
            },
            "type": "bar"
           }
          ],
          "barpolar": [
           {
            "marker": {
             "line": {
              "color": "#E5ECF6",
              "width": 0.5
             },
             "pattern": {
              "fillmode": "overlay",
              "size": 10,
              "solidity": 0.2
             }
            },
            "type": "barpolar"
           }
          ],
          "carpet": [
           {
            "aaxis": {
             "endlinecolor": "#2a3f5f",
             "gridcolor": "white",
             "linecolor": "white",
             "minorgridcolor": "white",
             "startlinecolor": "#2a3f5f"
            },
            "baxis": {
             "endlinecolor": "#2a3f5f",
             "gridcolor": "white",
             "linecolor": "white",
             "minorgridcolor": "white",
             "startlinecolor": "#2a3f5f"
            },
            "type": "carpet"
           }
          ],
          "choropleth": [
           {
            "colorbar": {
             "outlinewidth": 0,
             "ticks": ""
            },
            "type": "choropleth"
           }
          ],
          "contour": [
           {
            "colorbar": {
             "outlinewidth": 0,
             "ticks": ""
            },
            "colorscale": [
             [
              0,
              "#0d0887"
             ],
             [
              0.1111111111111111,
              "#46039f"
             ],
             [
              0.2222222222222222,
              "#7201a8"
             ],
             [
              0.3333333333333333,
              "#9c179e"
             ],
             [
              0.4444444444444444,
              "#bd3786"
             ],
             [
              0.5555555555555556,
              "#d8576b"
             ],
             [
              0.6666666666666666,
              "#ed7953"
             ],
             [
              0.7777777777777778,
              "#fb9f3a"
             ],
             [
              0.8888888888888888,
              "#fdca26"
             ],
             [
              1,
              "#f0f921"
             ]
            ],
            "type": "contour"
           }
          ],
          "contourcarpet": [
           {
            "colorbar": {
             "outlinewidth": 0,
             "ticks": ""
            },
            "type": "contourcarpet"
           }
          ],
          "heatmap": [
           {
            "colorbar": {
             "outlinewidth": 0,
             "ticks": ""
            },
            "colorscale": [
             [
              0,
              "#0d0887"
             ],
             [
              0.1111111111111111,
              "#46039f"
             ],
             [
              0.2222222222222222,
              "#7201a8"
             ],
             [
              0.3333333333333333,
              "#9c179e"
             ],
             [
              0.4444444444444444,
              "#bd3786"
             ],
             [
              0.5555555555555556,
              "#d8576b"
             ],
             [
              0.6666666666666666,
              "#ed7953"
             ],
             [
              0.7777777777777778,
              "#fb9f3a"
             ],
             [
              0.8888888888888888,
              "#fdca26"
             ],
             [
              1,
              "#f0f921"
             ]
            ],
            "type": "heatmap"
           }
          ],
          "heatmapgl": [
           {
            "colorbar": {
             "outlinewidth": 0,
             "ticks": ""
            },
            "colorscale": [
             [
              0,
              "#0d0887"
             ],
             [
              0.1111111111111111,
              "#46039f"
             ],
             [
              0.2222222222222222,
              "#7201a8"
             ],
             [
              0.3333333333333333,
              "#9c179e"
             ],
             [
              0.4444444444444444,
              "#bd3786"
             ],
             [
              0.5555555555555556,
              "#d8576b"
             ],
             [
              0.6666666666666666,
              "#ed7953"
             ],
             [
              0.7777777777777778,
              "#fb9f3a"
             ],
             [
              0.8888888888888888,
              "#fdca26"
             ],
             [
              1,
              "#f0f921"
             ]
            ],
            "type": "heatmapgl"
           }
          ],
          "histogram": [
           {
            "marker": {
             "pattern": {
              "fillmode": "overlay",
              "size": 10,
              "solidity": 0.2
             }
            },
            "type": "histogram"
           }
          ],
          "histogram2d": [
           {
            "colorbar": {
             "outlinewidth": 0,
             "ticks": ""
            },
            "colorscale": [
             [
              0,
              "#0d0887"
             ],
             [
              0.1111111111111111,
              "#46039f"
             ],
             [
              0.2222222222222222,
              "#7201a8"
             ],
             [
              0.3333333333333333,
              "#9c179e"
             ],
             [
              0.4444444444444444,
              "#bd3786"
             ],
             [
              0.5555555555555556,
              "#d8576b"
             ],
             [
              0.6666666666666666,
              "#ed7953"
             ],
             [
              0.7777777777777778,
              "#fb9f3a"
             ],
             [
              0.8888888888888888,
              "#fdca26"
             ],
             [
              1,
              "#f0f921"
             ]
            ],
            "type": "histogram2d"
           }
          ],
          "histogram2dcontour": [
           {
            "colorbar": {
             "outlinewidth": 0,
             "ticks": ""
            },
            "colorscale": [
             [
              0,
              "#0d0887"
             ],
             [
              0.1111111111111111,
              "#46039f"
             ],
             [
              0.2222222222222222,
              "#7201a8"
             ],
             [
              0.3333333333333333,
              "#9c179e"
             ],
             [
              0.4444444444444444,
              "#bd3786"
             ],
             [
              0.5555555555555556,
              "#d8576b"
             ],
             [
              0.6666666666666666,
              "#ed7953"
             ],
             [
              0.7777777777777778,
              "#fb9f3a"
             ],
             [
              0.8888888888888888,
              "#fdca26"
             ],
             [
              1,
              "#f0f921"
             ]
            ],
            "type": "histogram2dcontour"
           }
          ],
          "mesh3d": [
           {
            "colorbar": {
             "outlinewidth": 0,
             "ticks": ""
            },
            "type": "mesh3d"
           }
          ],
          "parcoords": [
           {
            "line": {
             "colorbar": {
              "outlinewidth": 0,
              "ticks": ""
             }
            },
            "type": "parcoords"
           }
          ],
          "pie": [
           {
            "automargin": true,
            "type": "pie"
           }
          ],
          "scatter": [
           {
            "fillpattern": {
             "fillmode": "overlay",
             "size": 10,
             "solidity": 0.2
            },
            "type": "scatter"
           }
          ],
          "scatter3d": [
           {
            "line": {
             "colorbar": {
              "outlinewidth": 0,
              "ticks": ""
             }
            },
            "marker": {
             "colorbar": {
              "outlinewidth": 0,
              "ticks": ""
             }
            },
            "type": "scatter3d"
           }
          ],
          "scattercarpet": [
           {
            "marker": {
             "colorbar": {
              "outlinewidth": 0,
              "ticks": ""
             }
            },
            "type": "scattercarpet"
           }
          ],
          "scattergeo": [
           {
            "marker": {
             "colorbar": {
              "outlinewidth": 0,
              "ticks": ""
             }
            },
            "type": "scattergeo"
           }
          ],
          "scattergl": [
           {
            "marker": {
             "colorbar": {
              "outlinewidth": 0,
              "ticks": ""
             }
            },
            "type": "scattergl"
           }
          ],
          "scattermapbox": [
           {
            "marker": {
             "colorbar": {
              "outlinewidth": 0,
              "ticks": ""
             }
            },
            "type": "scattermapbox"
           }
          ],
          "scatterpolar": [
           {
            "marker": {
             "colorbar": {
              "outlinewidth": 0,
              "ticks": ""
             }
            },
            "type": "scatterpolar"
           }
          ],
          "scatterpolargl": [
           {
            "marker": {
             "colorbar": {
              "outlinewidth": 0,
              "ticks": ""
             }
            },
            "type": "scatterpolargl"
           }
          ],
          "scatterternary": [
           {
            "marker": {
             "colorbar": {
              "outlinewidth": 0,
              "ticks": ""
             }
            },
            "type": "scatterternary"
           }
          ],
          "surface": [
           {
            "colorbar": {
             "outlinewidth": 0,
             "ticks": ""
            },
            "colorscale": [
             [
              0,
              "#0d0887"
             ],
             [
              0.1111111111111111,
              "#46039f"
             ],
             [
              0.2222222222222222,
              "#7201a8"
             ],
             [
              0.3333333333333333,
              "#9c179e"
             ],
             [
              0.4444444444444444,
              "#bd3786"
             ],
             [
              0.5555555555555556,
              "#d8576b"
             ],
             [
              0.6666666666666666,
              "#ed7953"
             ],
             [
              0.7777777777777778,
              "#fb9f3a"
             ],
             [
              0.8888888888888888,
              "#fdca26"
             ],
             [
              1,
              "#f0f921"
             ]
            ],
            "type": "surface"
           }
          ],
          "table": [
           {
            "cells": {
             "fill": {
              "color": "#EBF0F8"
             },
             "line": {
              "color": "white"
             }
            },
            "header": {
             "fill": {
              "color": "#C8D4E3"
             },
             "line": {
              "color": "white"
             }
            },
            "type": "table"
           }
          ]
         },
         "layout": {
          "annotationdefaults": {
           "arrowcolor": "#2a3f5f",
           "arrowhead": 0,
           "arrowwidth": 1
          },
          "autotypenumbers": "strict",
          "coloraxis": {
           "colorbar": {
            "outlinewidth": 0,
            "ticks": ""
           }
          },
          "colorscale": {
           "diverging": [
            [
             0,
             "#8e0152"
            ],
            [
             0.1,
             "#c51b7d"
            ],
            [
             0.2,
             "#de77ae"
            ],
            [
             0.3,
             "#f1b6da"
            ],
            [
             0.4,
             "#fde0ef"
            ],
            [
             0.5,
             "#f7f7f7"
            ],
            [
             0.6,
             "#e6f5d0"
            ],
            [
             0.7,
             "#b8e186"
            ],
            [
             0.8,
             "#7fbc41"
            ],
            [
             0.9,
             "#4d9221"
            ],
            [
             1,
             "#276419"
            ]
           ],
           "sequential": [
            [
             0,
             "#0d0887"
            ],
            [
             0.1111111111111111,
             "#46039f"
            ],
            [
             0.2222222222222222,
             "#7201a8"
            ],
            [
             0.3333333333333333,
             "#9c179e"
            ],
            [
             0.4444444444444444,
             "#bd3786"
            ],
            [
             0.5555555555555556,
             "#d8576b"
            ],
            [
             0.6666666666666666,
             "#ed7953"
            ],
            [
             0.7777777777777778,
             "#fb9f3a"
            ],
            [
             0.8888888888888888,
             "#fdca26"
            ],
            [
             1,
             "#f0f921"
            ]
           ],
           "sequentialminus": [
            [
             0,
             "#0d0887"
            ],
            [
             0.1111111111111111,
             "#46039f"
            ],
            [
             0.2222222222222222,
             "#7201a8"
            ],
            [
             0.3333333333333333,
             "#9c179e"
            ],
            [
             0.4444444444444444,
             "#bd3786"
            ],
            [
             0.5555555555555556,
             "#d8576b"
            ],
            [
             0.6666666666666666,
             "#ed7953"
            ],
            [
             0.7777777777777778,
             "#fb9f3a"
            ],
            [
             0.8888888888888888,
             "#fdca26"
            ],
            [
             1,
             "#f0f921"
            ]
           ]
          },
          "colorway": [
           "#636efa",
           "#EF553B",
           "#00cc96",
           "#ab63fa",
           "#FFA15A",
           "#19d3f3",
           "#FF6692",
           "#B6E880",
           "#FF97FF",
           "#FECB52"
          ],
          "font": {
           "color": "#2a3f5f"
          },
          "geo": {
           "bgcolor": "white",
           "lakecolor": "white",
           "landcolor": "#E5ECF6",
           "showlakes": true,
           "showland": true,
           "subunitcolor": "white"
          },
          "hoverlabel": {
           "align": "left"
          },
          "hovermode": "closest",
          "mapbox": {
           "style": "light"
          },
          "paper_bgcolor": "white",
          "plot_bgcolor": "#E5ECF6",
          "polar": {
           "angularaxis": {
            "gridcolor": "white",
            "linecolor": "white",
            "ticks": ""
           },
           "bgcolor": "#E5ECF6",
           "radialaxis": {
            "gridcolor": "white",
            "linecolor": "white",
            "ticks": ""
           }
          },
          "scene": {
           "xaxis": {
            "backgroundcolor": "#E5ECF6",
            "gridcolor": "white",
            "gridwidth": 2,
            "linecolor": "white",
            "showbackground": true,
            "ticks": "",
            "zerolinecolor": "white"
           },
           "yaxis": {
            "backgroundcolor": "#E5ECF6",
            "gridcolor": "white",
            "gridwidth": 2,
            "linecolor": "white",
            "showbackground": true,
            "ticks": "",
            "zerolinecolor": "white"
           },
           "zaxis": {
            "backgroundcolor": "#E5ECF6",
            "gridcolor": "white",
            "gridwidth": 2,
            "linecolor": "white",
            "showbackground": true,
            "ticks": "",
            "zerolinecolor": "white"
           }
          },
          "shapedefaults": {
           "line": {
            "color": "#2a3f5f"
           }
          },
          "ternary": {
           "aaxis": {
            "gridcolor": "white",
            "linecolor": "white",
            "ticks": ""
           },
           "baxis": {
            "gridcolor": "white",
            "linecolor": "white",
            "ticks": ""
           },
           "bgcolor": "#E5ECF6",
           "caxis": {
            "gridcolor": "white",
            "linecolor": "white",
            "ticks": ""
           }
          },
          "title": {
           "x": 0.05
          },
          "xaxis": {
           "automargin": true,
           "gridcolor": "white",
           "linecolor": "white",
           "ticks": "",
           "title": {
            "standoff": 15
           },
           "zerolinecolor": "white",
           "zerolinewidth": 2
          },
          "yaxis": {
           "automargin": true,
           "gridcolor": "white",
           "linecolor": "white",
           "ticks": "",
           "title": {
            "standoff": 15
           },
           "zerolinecolor": "white",
           "zerolinewidth": 2
          }
         }
        },
        "title": {
         "text": "Kappa 0.8018176562944058"
        },
        "width": 800,
        "xaxis": {
         "title": {
          "text": "Predicted value"
         }
        },
        "yaxis": {
         "title": {
          "text": "Real value"
         }
        }
       }
      }
     },
     "metadata": {},
     "output_type": "display_data"
    }
   ],
   "source": [
    "\n",
    "#A modo de ejemplo muestro kappa y matriz de confusion para 50% de aciertos donde los errores quedan cerca de la clase correcta\n",
    "y_simulado_cerca = [y_test.iloc[sample] if random_list[sample]<50/100 else y_cerca[sample] for sample in range(len(y_test))]\n",
    "\n",
    "display(plot_confusion_matrix(y_test,y_simulado_cerca, \n",
    "                              title = \"Kappa \" + str(cohen_kappa_score(y_test,y_simulado_cerca, weights = 'quadratic'))))\n",
    "\n"
   ]
  },
  {
   "cell_type": "code",
   "execution_count": 172,
   "metadata": {},
   "outputs": [
    {
     "data": {
      "application/vnd.plotly.v1+json": {
       "config": {
        "plotlyServerURL": "https://plot.ly"
       },
       "data": [
        {
         "type": "heatmap",
         "x": [
          0,
          1,
          2,
          3,
          4
         ],
         "y": [
          0,
          1,
          2,
          3,
          4
         ],
         "z": [
          [
           58.536585365853654,
           0,
           0,
           0,
           41.46341463414634
          ],
          [
           0,
           50.970873786407765,
           0,
           0,
           49.029126213592235
          ],
          [
           48.946716232961585,
           0,
           51.053283767038415,
           0,
           0
          ],
          [
           45.24539877300614,
           0,
           0,
           54.75460122699386,
           0
          ],
          [
           50,
           0,
           0,
           0,
           50
          ]
         ]
        }
       ],
       "layout": {
        "annotations": [
         {
          "font": {
           "color": "white"
          },
          "showarrow": false,
          "text": "58.5 - 48",
          "x": 0,
          "xref": "x",
          "y": 0,
          "yref": "y"
         },
         {
          "font": {
           "color": "white"
          },
          "showarrow": false,
          "text": "0.0 - 0",
          "x": 1,
          "xref": "x",
          "y": 0,
          "yref": "y"
         },
         {
          "font": {
           "color": "white"
          },
          "showarrow": false,
          "text": "0.0 - 0",
          "x": 2,
          "xref": "x",
          "y": 0,
          "yref": "y"
         },
         {
          "font": {
           "color": "white"
          },
          "showarrow": false,
          "text": "0.0 - 0",
          "x": 3,
          "xref": "x",
          "y": 0,
          "yref": "y"
         },
         {
          "font": {
           "color": "white"
          },
          "showarrow": false,
          "text": "41.5 - 34",
          "x": 4,
          "xref": "x",
          "y": 0,
          "yref": "y"
         },
         {
          "font": {
           "color": "white"
          },
          "showarrow": false,
          "text": "0.0 - 0",
          "x": 0,
          "xref": "x",
          "y": 1,
          "yref": "y"
         },
         {
          "font": {
           "color": "white"
          },
          "showarrow": false,
          "text": "51.0 - 315",
          "x": 1,
          "xref": "x",
          "y": 1,
          "yref": "y"
         },
         {
          "font": {
           "color": "white"
          },
          "showarrow": false,
          "text": "0.0 - 0",
          "x": 2,
          "xref": "x",
          "y": 1,
          "yref": "y"
         },
         {
          "font": {
           "color": "white"
          },
          "showarrow": false,
          "text": "0.0 - 0",
          "x": 3,
          "xref": "x",
          "y": 1,
          "yref": "y"
         },
         {
          "font": {
           "color": "white"
          },
          "showarrow": false,
          "text": "49.0 - 303",
          "x": 4,
          "xref": "x",
          "y": 1,
          "yref": "y"
         },
         {
          "font": {
           "color": "white"
          },
          "showarrow": false,
          "text": "48.9 - 395",
          "x": 0,
          "xref": "x",
          "y": 2,
          "yref": "y"
         },
         {
          "font": {
           "color": "white"
          },
          "showarrow": false,
          "text": "0.0 - 0",
          "x": 1,
          "xref": "x",
          "y": 2,
          "yref": "y"
         },
         {
          "font": {
           "color": "white"
          },
          "showarrow": false,
          "text": "51.1 - 412",
          "x": 2,
          "xref": "x",
          "y": 2,
          "yref": "y"
         },
         {
          "font": {
           "color": "white"
          },
          "showarrow": false,
          "text": "0.0 - 0",
          "x": 3,
          "xref": "x",
          "y": 2,
          "yref": "y"
         },
         {
          "font": {
           "color": "white"
          },
          "showarrow": false,
          "text": "0.0 - 0",
          "x": 4,
          "xref": "x",
          "y": 2,
          "yref": "y"
         },
         {
          "font": {
           "color": "white"
          },
          "showarrow": false,
          "text": "45.2 - 295",
          "x": 0,
          "xref": "x",
          "y": 3,
          "yref": "y"
         },
         {
          "font": {
           "color": "white"
          },
          "showarrow": false,
          "text": "0.0 - 0",
          "x": 1,
          "xref": "x",
          "y": 3,
          "yref": "y"
         },
         {
          "font": {
           "color": "white"
          },
          "showarrow": false,
          "text": "0.0 - 0",
          "x": 2,
          "xref": "x",
          "y": 3,
          "yref": "y"
         },
         {
          "font": {
           "color": "white"
          },
          "showarrow": false,
          "text": "54.8 - 357",
          "x": 3,
          "xref": "x",
          "y": 3,
          "yref": "y"
         },
         {
          "font": {
           "color": "white"
          },
          "showarrow": false,
          "text": "0.0 - 0",
          "x": 4,
          "xref": "x",
          "y": 3,
          "yref": "y"
         },
         {
          "font": {
           "color": "white"
          },
          "showarrow": false,
          "text": "50.0 - 420",
          "x": 0,
          "xref": "x",
          "y": 4,
          "yref": "y"
         },
         {
          "font": {
           "color": "white"
          },
          "showarrow": false,
          "text": "0.0 - 0",
          "x": 1,
          "xref": "x",
          "y": 4,
          "yref": "y"
         },
         {
          "font": {
           "color": "white"
          },
          "showarrow": false,
          "text": "0.0 - 0",
          "x": 2,
          "xref": "x",
          "y": 4,
          "yref": "y"
         },
         {
          "font": {
           "color": "white"
          },
          "showarrow": false,
          "text": "0.0 - 0",
          "x": 3,
          "xref": "x",
          "y": 4,
          "yref": "y"
         },
         {
          "font": {
           "color": "white"
          },
          "showarrow": false,
          "text": "50.0 - 420",
          "x": 4,
          "xref": "x",
          "y": 4,
          "yref": "y"
         }
        ],
        "height": 800,
        "template": {
         "data": {
          "bar": [
           {
            "error_x": {
             "color": "#2a3f5f"
            },
            "error_y": {
             "color": "#2a3f5f"
            },
            "marker": {
             "line": {
              "color": "#E5ECF6",
              "width": 0.5
             },
             "pattern": {
              "fillmode": "overlay",
              "size": 10,
              "solidity": 0.2
             }
            },
            "type": "bar"
           }
          ],
          "barpolar": [
           {
            "marker": {
             "line": {
              "color": "#E5ECF6",
              "width": 0.5
             },
             "pattern": {
              "fillmode": "overlay",
              "size": 10,
              "solidity": 0.2
             }
            },
            "type": "barpolar"
           }
          ],
          "carpet": [
           {
            "aaxis": {
             "endlinecolor": "#2a3f5f",
             "gridcolor": "white",
             "linecolor": "white",
             "minorgridcolor": "white",
             "startlinecolor": "#2a3f5f"
            },
            "baxis": {
             "endlinecolor": "#2a3f5f",
             "gridcolor": "white",
             "linecolor": "white",
             "minorgridcolor": "white",
             "startlinecolor": "#2a3f5f"
            },
            "type": "carpet"
           }
          ],
          "choropleth": [
           {
            "colorbar": {
             "outlinewidth": 0,
             "ticks": ""
            },
            "type": "choropleth"
           }
          ],
          "contour": [
           {
            "colorbar": {
             "outlinewidth": 0,
             "ticks": ""
            },
            "colorscale": [
             [
              0,
              "#0d0887"
             ],
             [
              0.1111111111111111,
              "#46039f"
             ],
             [
              0.2222222222222222,
              "#7201a8"
             ],
             [
              0.3333333333333333,
              "#9c179e"
             ],
             [
              0.4444444444444444,
              "#bd3786"
             ],
             [
              0.5555555555555556,
              "#d8576b"
             ],
             [
              0.6666666666666666,
              "#ed7953"
             ],
             [
              0.7777777777777778,
              "#fb9f3a"
             ],
             [
              0.8888888888888888,
              "#fdca26"
             ],
             [
              1,
              "#f0f921"
             ]
            ],
            "type": "contour"
           }
          ],
          "contourcarpet": [
           {
            "colorbar": {
             "outlinewidth": 0,
             "ticks": ""
            },
            "type": "contourcarpet"
           }
          ],
          "heatmap": [
           {
            "colorbar": {
             "outlinewidth": 0,
             "ticks": ""
            },
            "colorscale": [
             [
              0,
              "#0d0887"
             ],
             [
              0.1111111111111111,
              "#46039f"
             ],
             [
              0.2222222222222222,
              "#7201a8"
             ],
             [
              0.3333333333333333,
              "#9c179e"
             ],
             [
              0.4444444444444444,
              "#bd3786"
             ],
             [
              0.5555555555555556,
              "#d8576b"
             ],
             [
              0.6666666666666666,
              "#ed7953"
             ],
             [
              0.7777777777777778,
              "#fb9f3a"
             ],
             [
              0.8888888888888888,
              "#fdca26"
             ],
             [
              1,
              "#f0f921"
             ]
            ],
            "type": "heatmap"
           }
          ],
          "heatmapgl": [
           {
            "colorbar": {
             "outlinewidth": 0,
             "ticks": ""
            },
            "colorscale": [
             [
              0,
              "#0d0887"
             ],
             [
              0.1111111111111111,
              "#46039f"
             ],
             [
              0.2222222222222222,
              "#7201a8"
             ],
             [
              0.3333333333333333,
              "#9c179e"
             ],
             [
              0.4444444444444444,
              "#bd3786"
             ],
             [
              0.5555555555555556,
              "#d8576b"
             ],
             [
              0.6666666666666666,
              "#ed7953"
             ],
             [
              0.7777777777777778,
              "#fb9f3a"
             ],
             [
              0.8888888888888888,
              "#fdca26"
             ],
             [
              1,
              "#f0f921"
             ]
            ],
            "type": "heatmapgl"
           }
          ],
          "histogram": [
           {
            "marker": {
             "pattern": {
              "fillmode": "overlay",
              "size": 10,
              "solidity": 0.2
             }
            },
            "type": "histogram"
           }
          ],
          "histogram2d": [
           {
            "colorbar": {
             "outlinewidth": 0,
             "ticks": ""
            },
            "colorscale": [
             [
              0,
              "#0d0887"
             ],
             [
              0.1111111111111111,
              "#46039f"
             ],
             [
              0.2222222222222222,
              "#7201a8"
             ],
             [
              0.3333333333333333,
              "#9c179e"
             ],
             [
              0.4444444444444444,
              "#bd3786"
             ],
             [
              0.5555555555555556,
              "#d8576b"
             ],
             [
              0.6666666666666666,
              "#ed7953"
             ],
             [
              0.7777777777777778,
              "#fb9f3a"
             ],
             [
              0.8888888888888888,
              "#fdca26"
             ],
             [
              1,
              "#f0f921"
             ]
            ],
            "type": "histogram2d"
           }
          ],
          "histogram2dcontour": [
           {
            "colorbar": {
             "outlinewidth": 0,
             "ticks": ""
            },
            "colorscale": [
             [
              0,
              "#0d0887"
             ],
             [
              0.1111111111111111,
              "#46039f"
             ],
             [
              0.2222222222222222,
              "#7201a8"
             ],
             [
              0.3333333333333333,
              "#9c179e"
             ],
             [
              0.4444444444444444,
              "#bd3786"
             ],
             [
              0.5555555555555556,
              "#d8576b"
             ],
             [
              0.6666666666666666,
              "#ed7953"
             ],
             [
              0.7777777777777778,
              "#fb9f3a"
             ],
             [
              0.8888888888888888,
              "#fdca26"
             ],
             [
              1,
              "#f0f921"
             ]
            ],
            "type": "histogram2dcontour"
           }
          ],
          "mesh3d": [
           {
            "colorbar": {
             "outlinewidth": 0,
             "ticks": ""
            },
            "type": "mesh3d"
           }
          ],
          "parcoords": [
           {
            "line": {
             "colorbar": {
              "outlinewidth": 0,
              "ticks": ""
             }
            },
            "type": "parcoords"
           }
          ],
          "pie": [
           {
            "automargin": true,
            "type": "pie"
           }
          ],
          "scatter": [
           {
            "fillpattern": {
             "fillmode": "overlay",
             "size": 10,
             "solidity": 0.2
            },
            "type": "scatter"
           }
          ],
          "scatter3d": [
           {
            "line": {
             "colorbar": {
              "outlinewidth": 0,
              "ticks": ""
             }
            },
            "marker": {
             "colorbar": {
              "outlinewidth": 0,
              "ticks": ""
             }
            },
            "type": "scatter3d"
           }
          ],
          "scattercarpet": [
           {
            "marker": {
             "colorbar": {
              "outlinewidth": 0,
              "ticks": ""
             }
            },
            "type": "scattercarpet"
           }
          ],
          "scattergeo": [
           {
            "marker": {
             "colorbar": {
              "outlinewidth": 0,
              "ticks": ""
             }
            },
            "type": "scattergeo"
           }
          ],
          "scattergl": [
           {
            "marker": {
             "colorbar": {
              "outlinewidth": 0,
              "ticks": ""
             }
            },
            "type": "scattergl"
           }
          ],
          "scattermapbox": [
           {
            "marker": {
             "colorbar": {
              "outlinewidth": 0,
              "ticks": ""
             }
            },
            "type": "scattermapbox"
           }
          ],
          "scatterpolar": [
           {
            "marker": {
             "colorbar": {
              "outlinewidth": 0,
              "ticks": ""
             }
            },
            "type": "scatterpolar"
           }
          ],
          "scatterpolargl": [
           {
            "marker": {
             "colorbar": {
              "outlinewidth": 0,
              "ticks": ""
             }
            },
            "type": "scatterpolargl"
           }
          ],
          "scatterternary": [
           {
            "marker": {
             "colorbar": {
              "outlinewidth": 0,
              "ticks": ""
             }
            },
            "type": "scatterternary"
           }
          ],
          "surface": [
           {
            "colorbar": {
             "outlinewidth": 0,
             "ticks": ""
            },
            "colorscale": [
             [
              0,
              "#0d0887"
             ],
             [
              0.1111111111111111,
              "#46039f"
             ],
             [
              0.2222222222222222,
              "#7201a8"
             ],
             [
              0.3333333333333333,
              "#9c179e"
             ],
             [
              0.4444444444444444,
              "#bd3786"
             ],
             [
              0.5555555555555556,
              "#d8576b"
             ],
             [
              0.6666666666666666,
              "#ed7953"
             ],
             [
              0.7777777777777778,
              "#fb9f3a"
             ],
             [
              0.8888888888888888,
              "#fdca26"
             ],
             [
              1,
              "#f0f921"
             ]
            ],
            "type": "surface"
           }
          ],
          "table": [
           {
            "cells": {
             "fill": {
              "color": "#EBF0F8"
             },
             "line": {
              "color": "white"
             }
            },
            "header": {
             "fill": {
              "color": "#C8D4E3"
             },
             "line": {
              "color": "white"
             }
            },
            "type": "table"
           }
          ]
         },
         "layout": {
          "annotationdefaults": {
           "arrowcolor": "#2a3f5f",
           "arrowhead": 0,
           "arrowwidth": 1
          },
          "autotypenumbers": "strict",
          "coloraxis": {
           "colorbar": {
            "outlinewidth": 0,
            "ticks": ""
           }
          },
          "colorscale": {
           "diverging": [
            [
             0,
             "#8e0152"
            ],
            [
             0.1,
             "#c51b7d"
            ],
            [
             0.2,
             "#de77ae"
            ],
            [
             0.3,
             "#f1b6da"
            ],
            [
             0.4,
             "#fde0ef"
            ],
            [
             0.5,
             "#f7f7f7"
            ],
            [
             0.6,
             "#e6f5d0"
            ],
            [
             0.7,
             "#b8e186"
            ],
            [
             0.8,
             "#7fbc41"
            ],
            [
             0.9,
             "#4d9221"
            ],
            [
             1,
             "#276419"
            ]
           ],
           "sequential": [
            [
             0,
             "#0d0887"
            ],
            [
             0.1111111111111111,
             "#46039f"
            ],
            [
             0.2222222222222222,
             "#7201a8"
            ],
            [
             0.3333333333333333,
             "#9c179e"
            ],
            [
             0.4444444444444444,
             "#bd3786"
            ],
            [
             0.5555555555555556,
             "#d8576b"
            ],
            [
             0.6666666666666666,
             "#ed7953"
            ],
            [
             0.7777777777777778,
             "#fb9f3a"
            ],
            [
             0.8888888888888888,
             "#fdca26"
            ],
            [
             1,
             "#f0f921"
            ]
           ],
           "sequentialminus": [
            [
             0,
             "#0d0887"
            ],
            [
             0.1111111111111111,
             "#46039f"
            ],
            [
             0.2222222222222222,
             "#7201a8"
            ],
            [
             0.3333333333333333,
             "#9c179e"
            ],
            [
             0.4444444444444444,
             "#bd3786"
            ],
            [
             0.5555555555555556,
             "#d8576b"
            ],
            [
             0.6666666666666666,
             "#ed7953"
            ],
            [
             0.7777777777777778,
             "#fb9f3a"
            ],
            [
             0.8888888888888888,
             "#fdca26"
            ],
            [
             1,
             "#f0f921"
            ]
           ]
          },
          "colorway": [
           "#636efa",
           "#EF553B",
           "#00cc96",
           "#ab63fa",
           "#FFA15A",
           "#19d3f3",
           "#FF6692",
           "#B6E880",
           "#FF97FF",
           "#FECB52"
          ],
          "font": {
           "color": "#2a3f5f"
          },
          "geo": {
           "bgcolor": "white",
           "lakecolor": "white",
           "landcolor": "#E5ECF6",
           "showlakes": true,
           "showland": true,
           "subunitcolor": "white"
          },
          "hoverlabel": {
           "align": "left"
          },
          "hovermode": "closest",
          "mapbox": {
           "style": "light"
          },
          "paper_bgcolor": "white",
          "plot_bgcolor": "#E5ECF6",
          "polar": {
           "angularaxis": {
            "gridcolor": "white",
            "linecolor": "white",
            "ticks": ""
           },
           "bgcolor": "#E5ECF6",
           "radialaxis": {
            "gridcolor": "white",
            "linecolor": "white",
            "ticks": ""
           }
          },
          "scene": {
           "xaxis": {
            "backgroundcolor": "#E5ECF6",
            "gridcolor": "white",
            "gridwidth": 2,
            "linecolor": "white",
            "showbackground": true,
            "ticks": "",
            "zerolinecolor": "white"
           },
           "yaxis": {
            "backgroundcolor": "#E5ECF6",
            "gridcolor": "white",
            "gridwidth": 2,
            "linecolor": "white",
            "showbackground": true,
            "ticks": "",
            "zerolinecolor": "white"
           },
           "zaxis": {
            "backgroundcolor": "#E5ECF6",
            "gridcolor": "white",
            "gridwidth": 2,
            "linecolor": "white",
            "showbackground": true,
            "ticks": "",
            "zerolinecolor": "white"
           }
          },
          "shapedefaults": {
           "line": {
            "color": "#2a3f5f"
           }
          },
          "ternary": {
           "aaxis": {
            "gridcolor": "white",
            "linecolor": "white",
            "ticks": ""
           },
           "baxis": {
            "gridcolor": "white",
            "linecolor": "white",
            "ticks": ""
           },
           "bgcolor": "#E5ECF6",
           "caxis": {
            "gridcolor": "white",
            "linecolor": "white",
            "ticks": ""
           }
          },
          "title": {
           "x": 0.05
          },
          "xaxis": {
           "automargin": true,
           "gridcolor": "white",
           "linecolor": "white",
           "ticks": "",
           "title": {
            "standoff": 15
           },
           "zerolinecolor": "white",
           "zerolinewidth": 2
          },
          "yaxis": {
           "automargin": true,
           "gridcolor": "white",
           "linecolor": "white",
           "ticks": "",
           "title": {
            "standoff": 15
           },
           "zerolinecolor": "white",
           "zerolinewidth": 2
          }
         }
        },
        "title": {
         "text": "Kappa -0.010685502067979025"
        },
        "width": 800,
        "xaxis": {
         "title": {
          "text": "Predicted value"
         }
        },
        "yaxis": {
         "title": {
          "text": "Real value"
         }
        }
       }
      }
     },
     "metadata": {},
     "output_type": "display_data"
    }
   ],
   "source": [
    "\n",
    "#A modo de ejemplo muestro kappa y matriz de confusion para 50% de aciertos donde los errores quedan lejos de la clase correcta\n",
    "y_simulado_lejos = [y_test.iloc[sample] if random_list[sample]<50/100 else y_lejos[sample] for sample in range(len(y_test))]\n",
    "\n",
    "display(plot_confusion_matrix(y_test,y_simulado_lejos, \n",
    "                              title = \"Kappa \" + str(cohen_kappa_score(y_test,y_simulado_lejos, weights = 'quadratic'))))\n"
   ]
  },
  {
   "cell_type": "code",
   "execution_count": 173,
   "metadata": {},
   "outputs": [],
   "source": [
    "#Pruebo un modelo alternativo donde en vez de usar la version multiclass real de lightGBM utilizo One vs All\n",
    "\n",
    "lgb_params = params = {\n",
    "                        'objective': 'multiclassova',\n",
    "                        'num_class': len(y_train.unique())\n",
    "                        }\n",
    "\n",
    "\n",
    "lgb_train_dataset = lgb.Dataset(data=X_train,\n",
    "                                label=y_train)\n",
    "\n",
    "\n",
    "lgb_model = lgb.train(lgb_params,\n",
    "                      lgb_train_dataset)"
   ]
  },
  {
   "cell_type": "code",
   "execution_count": 174,
   "metadata": {},
   "outputs": [
    {
     "data": {
      "application/vnd.plotly.v1+json": {
       "config": {
        "plotlyServerURL": "https://plot.ly"
       },
       "data": [
        {
         "type": "heatmap",
         "x": [
          0,
          1,
          2,
          3,
          4
         ],
         "y": [
          0,
          1,
          2,
          3,
          4
         ],
         "z": [
          [
           7.317073170731707,
           39.02439024390244,
           28.04878048780488,
           7.317073170731707,
           18.29268292682927
          ],
          [
           0.48543689320388345,
           32.847896440129446,
           37.37864077669903,
           7.766990291262135,
           21.521035598705502
          ],
          [
           0.12391573729863693,
           21.437422552664188,
           38.53779429987608,
           11.152416356877323,
           28.74845105328377
          ],
          [
           0.4601226993865031,
           16.87116564417178,
           33.58895705521473,
           19.32515337423313,
           29.754601226993866
          ],
          [
           0.11904761904761905,
           9.047619047619047,
           21.785714285714285,
           6.190476190476191,
           62.857142857142854
          ]
         ]
        }
       ],
       "layout": {
        "annotations": [
         {
          "font": {
           "color": "white"
          },
          "showarrow": false,
          "text": "7.3 - 6",
          "x": 0,
          "xref": "x",
          "y": 0,
          "yref": "y"
         },
         {
          "font": {
           "color": "white"
          },
          "showarrow": false,
          "text": "39.0 - 32",
          "x": 1,
          "xref": "x",
          "y": 0,
          "yref": "y"
         },
         {
          "font": {
           "color": "white"
          },
          "showarrow": false,
          "text": "28.0 - 23",
          "x": 2,
          "xref": "x",
          "y": 0,
          "yref": "y"
         },
         {
          "font": {
           "color": "white"
          },
          "showarrow": false,
          "text": "7.3 - 6",
          "x": 3,
          "xref": "x",
          "y": 0,
          "yref": "y"
         },
         {
          "font": {
           "color": "white"
          },
          "showarrow": false,
          "text": "18.3 - 15",
          "x": 4,
          "xref": "x",
          "y": 0,
          "yref": "y"
         },
         {
          "font": {
           "color": "white"
          },
          "showarrow": false,
          "text": "0.5 - 3",
          "x": 0,
          "xref": "x",
          "y": 1,
          "yref": "y"
         },
         {
          "font": {
           "color": "white"
          },
          "showarrow": false,
          "text": "32.8 - 203",
          "x": 1,
          "xref": "x",
          "y": 1,
          "yref": "y"
         },
         {
          "font": {
           "color": "white"
          },
          "showarrow": false,
          "text": "37.4 - 231",
          "x": 2,
          "xref": "x",
          "y": 1,
          "yref": "y"
         },
         {
          "font": {
           "color": "white"
          },
          "showarrow": false,
          "text": "7.8 - 48",
          "x": 3,
          "xref": "x",
          "y": 1,
          "yref": "y"
         },
         {
          "font": {
           "color": "white"
          },
          "showarrow": false,
          "text": "21.5 - 133",
          "x": 4,
          "xref": "x",
          "y": 1,
          "yref": "y"
         },
         {
          "font": {
           "color": "white"
          },
          "showarrow": false,
          "text": "0.1 - 1",
          "x": 0,
          "xref": "x",
          "y": 2,
          "yref": "y"
         },
         {
          "font": {
           "color": "white"
          },
          "showarrow": false,
          "text": "21.4 - 173",
          "x": 1,
          "xref": "x",
          "y": 2,
          "yref": "y"
         },
         {
          "font": {
           "color": "white"
          },
          "showarrow": false,
          "text": "38.5 - 311",
          "x": 2,
          "xref": "x",
          "y": 2,
          "yref": "y"
         },
         {
          "font": {
           "color": "white"
          },
          "showarrow": false,
          "text": "11.2 - 90",
          "x": 3,
          "xref": "x",
          "y": 2,
          "yref": "y"
         },
         {
          "font": {
           "color": "white"
          },
          "showarrow": false,
          "text": "28.7 - 232",
          "x": 4,
          "xref": "x",
          "y": 2,
          "yref": "y"
         },
         {
          "font": {
           "color": "white"
          },
          "showarrow": false,
          "text": "0.5 - 3",
          "x": 0,
          "xref": "x",
          "y": 3,
          "yref": "y"
         },
         {
          "font": {
           "color": "white"
          },
          "showarrow": false,
          "text": "16.9 - 110",
          "x": 1,
          "xref": "x",
          "y": 3,
          "yref": "y"
         },
         {
          "font": {
           "color": "white"
          },
          "showarrow": false,
          "text": "33.6 - 219",
          "x": 2,
          "xref": "x",
          "y": 3,
          "yref": "y"
         },
         {
          "font": {
           "color": "white"
          },
          "showarrow": false,
          "text": "19.3 - 126",
          "x": 3,
          "xref": "x",
          "y": 3,
          "yref": "y"
         },
         {
          "font": {
           "color": "white"
          },
          "showarrow": false,
          "text": "29.8 - 194",
          "x": 4,
          "xref": "x",
          "y": 3,
          "yref": "y"
         },
         {
          "font": {
           "color": "white"
          },
          "showarrow": false,
          "text": "0.1 - 1",
          "x": 0,
          "xref": "x",
          "y": 4,
          "yref": "y"
         },
         {
          "font": {
           "color": "white"
          },
          "showarrow": false,
          "text": "9.0 - 76",
          "x": 1,
          "xref": "x",
          "y": 4,
          "yref": "y"
         },
         {
          "font": {
           "color": "white"
          },
          "showarrow": false,
          "text": "21.8 - 183",
          "x": 2,
          "xref": "x",
          "y": 4,
          "yref": "y"
         },
         {
          "font": {
           "color": "white"
          },
          "showarrow": false,
          "text": "6.2 - 52",
          "x": 3,
          "xref": "x",
          "y": 4,
          "yref": "y"
         },
         {
          "font": {
           "color": "white"
          },
          "showarrow": false,
          "text": "62.9 - 528",
          "x": 4,
          "xref": "x",
          "y": 4,
          "yref": "y"
         }
        ],
        "height": 800,
        "template": {
         "data": {
          "bar": [
           {
            "error_x": {
             "color": "#2a3f5f"
            },
            "error_y": {
             "color": "#2a3f5f"
            },
            "marker": {
             "line": {
              "color": "#E5ECF6",
              "width": 0.5
             },
             "pattern": {
              "fillmode": "overlay",
              "size": 10,
              "solidity": 0.2
             }
            },
            "type": "bar"
           }
          ],
          "barpolar": [
           {
            "marker": {
             "line": {
              "color": "#E5ECF6",
              "width": 0.5
             },
             "pattern": {
              "fillmode": "overlay",
              "size": 10,
              "solidity": 0.2
             }
            },
            "type": "barpolar"
           }
          ],
          "carpet": [
           {
            "aaxis": {
             "endlinecolor": "#2a3f5f",
             "gridcolor": "white",
             "linecolor": "white",
             "minorgridcolor": "white",
             "startlinecolor": "#2a3f5f"
            },
            "baxis": {
             "endlinecolor": "#2a3f5f",
             "gridcolor": "white",
             "linecolor": "white",
             "minorgridcolor": "white",
             "startlinecolor": "#2a3f5f"
            },
            "type": "carpet"
           }
          ],
          "choropleth": [
           {
            "colorbar": {
             "outlinewidth": 0,
             "ticks": ""
            },
            "type": "choropleth"
           }
          ],
          "contour": [
           {
            "colorbar": {
             "outlinewidth": 0,
             "ticks": ""
            },
            "colorscale": [
             [
              0,
              "#0d0887"
             ],
             [
              0.1111111111111111,
              "#46039f"
             ],
             [
              0.2222222222222222,
              "#7201a8"
             ],
             [
              0.3333333333333333,
              "#9c179e"
             ],
             [
              0.4444444444444444,
              "#bd3786"
             ],
             [
              0.5555555555555556,
              "#d8576b"
             ],
             [
              0.6666666666666666,
              "#ed7953"
             ],
             [
              0.7777777777777778,
              "#fb9f3a"
             ],
             [
              0.8888888888888888,
              "#fdca26"
             ],
             [
              1,
              "#f0f921"
             ]
            ],
            "type": "contour"
           }
          ],
          "contourcarpet": [
           {
            "colorbar": {
             "outlinewidth": 0,
             "ticks": ""
            },
            "type": "contourcarpet"
           }
          ],
          "heatmap": [
           {
            "colorbar": {
             "outlinewidth": 0,
             "ticks": ""
            },
            "colorscale": [
             [
              0,
              "#0d0887"
             ],
             [
              0.1111111111111111,
              "#46039f"
             ],
             [
              0.2222222222222222,
              "#7201a8"
             ],
             [
              0.3333333333333333,
              "#9c179e"
             ],
             [
              0.4444444444444444,
              "#bd3786"
             ],
             [
              0.5555555555555556,
              "#d8576b"
             ],
             [
              0.6666666666666666,
              "#ed7953"
             ],
             [
              0.7777777777777778,
              "#fb9f3a"
             ],
             [
              0.8888888888888888,
              "#fdca26"
             ],
             [
              1,
              "#f0f921"
             ]
            ],
            "type": "heatmap"
           }
          ],
          "heatmapgl": [
           {
            "colorbar": {
             "outlinewidth": 0,
             "ticks": ""
            },
            "colorscale": [
             [
              0,
              "#0d0887"
             ],
             [
              0.1111111111111111,
              "#46039f"
             ],
             [
              0.2222222222222222,
              "#7201a8"
             ],
             [
              0.3333333333333333,
              "#9c179e"
             ],
             [
              0.4444444444444444,
              "#bd3786"
             ],
             [
              0.5555555555555556,
              "#d8576b"
             ],
             [
              0.6666666666666666,
              "#ed7953"
             ],
             [
              0.7777777777777778,
              "#fb9f3a"
             ],
             [
              0.8888888888888888,
              "#fdca26"
             ],
             [
              1,
              "#f0f921"
             ]
            ],
            "type": "heatmapgl"
           }
          ],
          "histogram": [
           {
            "marker": {
             "pattern": {
              "fillmode": "overlay",
              "size": 10,
              "solidity": 0.2
             }
            },
            "type": "histogram"
           }
          ],
          "histogram2d": [
           {
            "colorbar": {
             "outlinewidth": 0,
             "ticks": ""
            },
            "colorscale": [
             [
              0,
              "#0d0887"
             ],
             [
              0.1111111111111111,
              "#46039f"
             ],
             [
              0.2222222222222222,
              "#7201a8"
             ],
             [
              0.3333333333333333,
              "#9c179e"
             ],
             [
              0.4444444444444444,
              "#bd3786"
             ],
             [
              0.5555555555555556,
              "#d8576b"
             ],
             [
              0.6666666666666666,
              "#ed7953"
             ],
             [
              0.7777777777777778,
              "#fb9f3a"
             ],
             [
              0.8888888888888888,
              "#fdca26"
             ],
             [
              1,
              "#f0f921"
             ]
            ],
            "type": "histogram2d"
           }
          ],
          "histogram2dcontour": [
           {
            "colorbar": {
             "outlinewidth": 0,
             "ticks": ""
            },
            "colorscale": [
             [
              0,
              "#0d0887"
             ],
             [
              0.1111111111111111,
              "#46039f"
             ],
             [
              0.2222222222222222,
              "#7201a8"
             ],
             [
              0.3333333333333333,
              "#9c179e"
             ],
             [
              0.4444444444444444,
              "#bd3786"
             ],
             [
              0.5555555555555556,
              "#d8576b"
             ],
             [
              0.6666666666666666,
              "#ed7953"
             ],
             [
              0.7777777777777778,
              "#fb9f3a"
             ],
             [
              0.8888888888888888,
              "#fdca26"
             ],
             [
              1,
              "#f0f921"
             ]
            ],
            "type": "histogram2dcontour"
           }
          ],
          "mesh3d": [
           {
            "colorbar": {
             "outlinewidth": 0,
             "ticks": ""
            },
            "type": "mesh3d"
           }
          ],
          "parcoords": [
           {
            "line": {
             "colorbar": {
              "outlinewidth": 0,
              "ticks": ""
             }
            },
            "type": "parcoords"
           }
          ],
          "pie": [
           {
            "automargin": true,
            "type": "pie"
           }
          ],
          "scatter": [
           {
            "fillpattern": {
             "fillmode": "overlay",
             "size": 10,
             "solidity": 0.2
            },
            "type": "scatter"
           }
          ],
          "scatter3d": [
           {
            "line": {
             "colorbar": {
              "outlinewidth": 0,
              "ticks": ""
             }
            },
            "marker": {
             "colorbar": {
              "outlinewidth": 0,
              "ticks": ""
             }
            },
            "type": "scatter3d"
           }
          ],
          "scattercarpet": [
           {
            "marker": {
             "colorbar": {
              "outlinewidth": 0,
              "ticks": ""
             }
            },
            "type": "scattercarpet"
           }
          ],
          "scattergeo": [
           {
            "marker": {
             "colorbar": {
              "outlinewidth": 0,
              "ticks": ""
             }
            },
            "type": "scattergeo"
           }
          ],
          "scattergl": [
           {
            "marker": {
             "colorbar": {
              "outlinewidth": 0,
              "ticks": ""
             }
            },
            "type": "scattergl"
           }
          ],
          "scattermapbox": [
           {
            "marker": {
             "colorbar": {
              "outlinewidth": 0,
              "ticks": ""
             }
            },
            "type": "scattermapbox"
           }
          ],
          "scatterpolar": [
           {
            "marker": {
             "colorbar": {
              "outlinewidth": 0,
              "ticks": ""
             }
            },
            "type": "scatterpolar"
           }
          ],
          "scatterpolargl": [
           {
            "marker": {
             "colorbar": {
              "outlinewidth": 0,
              "ticks": ""
             }
            },
            "type": "scatterpolargl"
           }
          ],
          "scatterternary": [
           {
            "marker": {
             "colorbar": {
              "outlinewidth": 0,
              "ticks": ""
             }
            },
            "type": "scatterternary"
           }
          ],
          "surface": [
           {
            "colorbar": {
             "outlinewidth": 0,
             "ticks": ""
            },
            "colorscale": [
             [
              0,
              "#0d0887"
             ],
             [
              0.1111111111111111,
              "#46039f"
             ],
             [
              0.2222222222222222,
              "#7201a8"
             ],
             [
              0.3333333333333333,
              "#9c179e"
             ],
             [
              0.4444444444444444,
              "#bd3786"
             ],
             [
              0.5555555555555556,
              "#d8576b"
             ],
             [
              0.6666666666666666,
              "#ed7953"
             ],
             [
              0.7777777777777778,
              "#fb9f3a"
             ],
             [
              0.8888888888888888,
              "#fdca26"
             ],
             [
              1,
              "#f0f921"
             ]
            ],
            "type": "surface"
           }
          ],
          "table": [
           {
            "cells": {
             "fill": {
              "color": "#EBF0F8"
             },
             "line": {
              "color": "white"
             }
            },
            "header": {
             "fill": {
              "color": "#C8D4E3"
             },
             "line": {
              "color": "white"
             }
            },
            "type": "table"
           }
          ]
         },
         "layout": {
          "annotationdefaults": {
           "arrowcolor": "#2a3f5f",
           "arrowhead": 0,
           "arrowwidth": 1
          },
          "autotypenumbers": "strict",
          "coloraxis": {
           "colorbar": {
            "outlinewidth": 0,
            "ticks": ""
           }
          },
          "colorscale": {
           "diverging": [
            [
             0,
             "#8e0152"
            ],
            [
             0.1,
             "#c51b7d"
            ],
            [
             0.2,
             "#de77ae"
            ],
            [
             0.3,
             "#f1b6da"
            ],
            [
             0.4,
             "#fde0ef"
            ],
            [
             0.5,
             "#f7f7f7"
            ],
            [
             0.6,
             "#e6f5d0"
            ],
            [
             0.7,
             "#b8e186"
            ],
            [
             0.8,
             "#7fbc41"
            ],
            [
             0.9,
             "#4d9221"
            ],
            [
             1,
             "#276419"
            ]
           ],
           "sequential": [
            [
             0,
             "#0d0887"
            ],
            [
             0.1111111111111111,
             "#46039f"
            ],
            [
             0.2222222222222222,
             "#7201a8"
            ],
            [
             0.3333333333333333,
             "#9c179e"
            ],
            [
             0.4444444444444444,
             "#bd3786"
            ],
            [
             0.5555555555555556,
             "#d8576b"
            ],
            [
             0.6666666666666666,
             "#ed7953"
            ],
            [
             0.7777777777777778,
             "#fb9f3a"
            ],
            [
             0.8888888888888888,
             "#fdca26"
            ],
            [
             1,
             "#f0f921"
            ]
           ],
           "sequentialminus": [
            [
             0,
             "#0d0887"
            ],
            [
             0.1111111111111111,
             "#46039f"
            ],
            [
             0.2222222222222222,
             "#7201a8"
            ],
            [
             0.3333333333333333,
             "#9c179e"
            ],
            [
             0.4444444444444444,
             "#bd3786"
            ],
            [
             0.5555555555555556,
             "#d8576b"
            ],
            [
             0.6666666666666666,
             "#ed7953"
            ],
            [
             0.7777777777777778,
             "#fb9f3a"
            ],
            [
             0.8888888888888888,
             "#fdca26"
            ],
            [
             1,
             "#f0f921"
            ]
           ]
          },
          "colorway": [
           "#636efa",
           "#EF553B",
           "#00cc96",
           "#ab63fa",
           "#FFA15A",
           "#19d3f3",
           "#FF6692",
           "#B6E880",
           "#FF97FF",
           "#FECB52"
          ],
          "font": {
           "color": "#2a3f5f"
          },
          "geo": {
           "bgcolor": "white",
           "lakecolor": "white",
           "landcolor": "#E5ECF6",
           "showlakes": true,
           "showland": true,
           "subunitcolor": "white"
          },
          "hoverlabel": {
           "align": "left"
          },
          "hovermode": "closest",
          "mapbox": {
           "style": "light"
          },
          "paper_bgcolor": "white",
          "plot_bgcolor": "#E5ECF6",
          "polar": {
           "angularaxis": {
            "gridcolor": "white",
            "linecolor": "white",
            "ticks": ""
           },
           "bgcolor": "#E5ECF6",
           "radialaxis": {
            "gridcolor": "white",
            "linecolor": "white",
            "ticks": ""
           }
          },
          "scene": {
           "xaxis": {
            "backgroundcolor": "#E5ECF6",
            "gridcolor": "white",
            "gridwidth": 2,
            "linecolor": "white",
            "showbackground": true,
            "ticks": "",
            "zerolinecolor": "white"
           },
           "yaxis": {
            "backgroundcolor": "#E5ECF6",
            "gridcolor": "white",
            "gridwidth": 2,
            "linecolor": "white",
            "showbackground": true,
            "ticks": "",
            "zerolinecolor": "white"
           },
           "zaxis": {
            "backgroundcolor": "#E5ECF6",
            "gridcolor": "white",
            "gridwidth": 2,
            "linecolor": "white",
            "showbackground": true,
            "ticks": "",
            "zerolinecolor": "white"
           }
          },
          "shapedefaults": {
           "line": {
            "color": "#2a3f5f"
           }
          },
          "ternary": {
           "aaxis": {
            "gridcolor": "white",
            "linecolor": "white",
            "ticks": ""
           },
           "baxis": {
            "gridcolor": "white",
            "linecolor": "white",
            "ticks": ""
           },
           "bgcolor": "#E5ECF6",
           "caxis": {
            "gridcolor": "white",
            "linecolor": "white",
            "ticks": ""
           }
          },
          "title": {
           "x": 0.05
          },
          "xaxis": {
           "automargin": true,
           "gridcolor": "white",
           "linecolor": "white",
           "ticks": "",
           "title": {
            "standoff": 15
           },
           "zerolinecolor": "white",
           "zerolinewidth": 2
          },
          "yaxis": {
           "automargin": true,
           "gridcolor": "white",
           "linecolor": "white",
           "ticks": "",
           "title": {
            "standoff": 15
           },
           "zerolinecolor": "white",
           "zerolinewidth": 2
          }
         }
        },
        "title": {
         "text": "Conf Matrix"
        },
        "width": 800,
        "xaxis": {
         "title": {
          "text": "Predicted value"
         }
        },
        "yaxis": {
         "title": {
          "text": "Real value"
         }
        }
       }
      }
     },
     "metadata": {},
     "output_type": "display_data"
    },
    {
     "data": {
      "text/plain": [
       "{'kappa': 0.33093403829656054,\n",
       " 'accuracy': 0.3914638212737579,\n",
       " 'balanced_accuracy': 0.32177012028422647}"
      ]
     },
     "execution_count": 174,
     "metadata": {},
     "output_type": "execute_result"
    }
   ],
   "source": [
    "#MAtriz de confusion y Kappa dfe OVA\n",
    "y_pred = lgb_model.predict(X_test).argmax(axis=1)\n",
    "\n",
    "display(plot_confusion_matrix(y_test,y_pred))\n",
    "\n",
    "{'kappa':cohen_kappa_score(y_test,\n",
    "                y_pred,\n",
    "                weights = 'quadratic'),\n",
    " 'accuracy':accuracy_score(y_test,y_pred),\n",
    " 'balanced_accuracy':balanced_accuracy_score(y_test,y_pred)}\n",
    "\n",
    "\n"
   ]
  },
  {
   "cell_type": "markdown",
   "metadata": {},
   "source": [
    "## Optimizacion de hiperparametros modelo train/test"
   ]
  },
  {
   "cell_type": "code",
   "execution_count": 175,
   "metadata": {},
   "outputs": [],
   "source": [
    "\n",
    "#Funcion que vamos a optimizar. Optuna requiere que usemos el objeto trial para generar los parametros a optimizar\n",
    "def lgb_objective(trial):\n",
    "    #PArametros para LightGBM\n",
    "    lgb_params = {      \n",
    "                        #PArametros fijos\n",
    "                        'objective': 'multiclass',\n",
    "                        'verbosity':-1,\n",
    "                        'num_class': len(y_train.unique()),\n",
    "                        #Hiperparametros a optimizar utilizando suggest_float o suggest_int segun el tipo de dato\n",
    "                        #Se indica el nombre del parametro, valor minimo, valor maximo \n",
    "                        #en elgunos casos el parametro log=True para parametros que requieren buscar en esa escala\n",
    "                        'lambda_l1': trial.suggest_float('lambda_l1', 1e-8, 10.0, log=True),\n",
    "                        'lambda_l2': trial.suggest_float('lambda_l2', 1e-8, 10.0, log=True),\n",
    "                        'num_leaves': trial.suggest_int('num_leaves', 2, 256),\n",
    "                        'feature_fraction': trial.suggest_float('feature_fraction', 0.4, 1.0),\n",
    "                        'bagging_fraction': trial.suggest_float('bagging_fraction', 0.4, 1.0),\n",
    "                        'bagging_freq': trial.suggest_int('bagging_freq', 1, 7),\n",
    "                        'min_child_samples': trial.suggest_int('min_child_samples', 5, 100),\n",
    "                        } \n",
    "\n",
    "    #Genero objeto dataset de entrenamiento\n",
    "    lgb_train_dataset = lgb.Dataset(data=X_train,\n",
    "                                    label=y_train)\n",
    "\n",
    "    #ajuste de modelo\n",
    "    lgb_model = lgb.train(lgb_params,\n",
    "                        lgb_train_dataset)\n",
    "    \n",
    "    #Devuelvo el score en test\n",
    "    return(cohen_kappa_score(y_test,lgb_model.predict(X_test).argmax(axis=1),\n",
    "                             weights = 'quadratic'))"
   ]
  },
  {
   "cell_type": "code",
   "execution_count": 176,
   "metadata": {},
   "outputs": [
    {
     "name": "stderr",
     "output_type": "stream",
     "text": [
      "[I 2024-10-13 00:19:42,320] A new study created in RDB with name: 04 - LGB Multiclass_FE\n",
      "[I 2024-10-13 00:19:43,947] Trial 0 finished with value: 0.30993024573780037 and parameters: {'lambda_l1': 0.015543623534889034, 'lambda_l2': 0.0001623294437773622, 'num_leaves': 197, 'feature_fraction': 0.4232198080764405, 'bagging_fraction': 0.8991098465751788, 'bagging_freq': 3, 'min_child_samples': 46}. Best is trial 0 with value: 0.30993024573780037.\n",
      "[I 2024-10-13 00:19:44,870] Trial 1 finished with value: 0.32535152223129193 and parameters: {'lambda_l1': 0.17663187226332444, 'lambda_l2': 1.4847405187647351, 'num_leaves': 191, 'feature_fraction': 0.6274226466706937, 'bagging_fraction': 0.7302765373859127, 'bagging_freq': 5, 'min_child_samples': 73}. Best is trial 1 with value: 0.32535152223129193.\n",
      "[I 2024-10-13 00:19:45,383] Trial 2 finished with value: 0.32619886831031175 and parameters: {'lambda_l1': 9.242464563875166e-07, 'lambda_l2': 1.1260211172024156e-06, 'num_leaves': 28, 'feature_fraction': 0.8229337127300338, 'bagging_fraction': 0.9293636189917186, 'bagging_freq': 6, 'min_child_samples': 8}. Best is trial 2 with value: 0.32619886831031175.\n",
      "[I 2024-10-13 00:19:46,051] Trial 3 finished with value: 0.31556672292385024 and parameters: {'lambda_l1': 0.0006389024945090925, 'lambda_l2': 7.478412824170723, 'num_leaves': 25, 'feature_fraction': 0.526421320481851, 'bagging_fraction': 0.8232329642609106, 'bagging_freq': 5, 'min_child_samples': 31}. Best is trial 2 with value: 0.32619886831031175.\n",
      "[I 2024-10-13 00:19:46,901] Trial 4 finished with value: 0.3035370270664758 and parameters: {'lambda_l1': 0.016787578944620945, 'lambda_l2': 1.0309867072064001e-08, 'num_leaves': 71, 'feature_fraction': 0.4995770168008298, 'bagging_fraction': 0.9225799941398478, 'bagging_freq': 5, 'min_child_samples': 63}. Best is trial 2 with value: 0.32619886831031175.\n",
      "[I 2024-10-13 00:19:47,553] Trial 5 finished with value: 0.3109164405974686 and parameters: {'lambda_l1': 6.086450428997787, 'lambda_l2': 6.043370902968419e-08, 'num_leaves': 135, 'feature_fraction': 0.97698451556234, 'bagging_fraction': 0.7310730471267763, 'bagging_freq': 7, 'min_child_samples': 73}. Best is trial 2 with value: 0.32619886831031175.\n",
      "[I 2024-10-13 00:19:48,855] Trial 6 finished with value: 0.30057954466134595 and parameters: {'lambda_l1': 0.0003465919331350819, 'lambda_l2': 4.782512886403304e-07, 'num_leaves': 190, 'feature_fraction': 0.8112398340068605, 'bagging_fraction': 0.6841326713591742, 'bagging_freq': 3, 'min_child_samples': 61}. Best is trial 2 with value: 0.32619886831031175.\n",
      "[I 2024-10-13 00:19:49,699] Trial 7 finished with value: 0.31806168404005664 and parameters: {'lambda_l1': 0.15660329412973592, 'lambda_l2': 0.1853023768371384, 'num_leaves': 45, 'feature_fraction': 0.9182310666401243, 'bagging_fraction': 0.6666543154253277, 'bagging_freq': 5, 'min_child_samples': 53}. Best is trial 2 with value: 0.32619886831031175.\n",
      "[I 2024-10-13 00:19:50,813] Trial 8 finished with value: 0.30279240624500736 and parameters: {'lambda_l1': 0.0034696577770272656, 'lambda_l2': 0.013907081468896893, 'num_leaves': 247, 'feature_fraction': 0.8790549549565037, 'bagging_fraction': 0.5319115154125602, 'bagging_freq': 4, 'min_child_samples': 56}. Best is trial 2 with value: 0.32619886831031175.\n",
      "[I 2024-10-13 00:19:52,053] Trial 9 finished with value: 0.30764319756037795 and parameters: {'lambda_l1': 0.00026141681810737014, 'lambda_l2': 8.374171991806015e-05, 'num_leaves': 142, 'feature_fraction': 0.7384172201650603, 'bagging_fraction': 0.5043576176251033, 'bagging_freq': 4, 'min_child_samples': 23}. Best is trial 2 with value: 0.32619886831031175.\n",
      "[I 2024-10-13 00:19:53,176] Trial 10 finished with value: 0.31921317474476096 and parameters: {'lambda_l1': 2.75127397280667e-07, 'lambda_l2': 4.051817481329109e-06, 'num_leaves': 87, 'feature_fraction': 0.694328540648148, 'bagging_fraction': 0.9999930814795664, 'bagging_freq': 7, 'min_child_samples': 94}. Best is trial 2 with value: 0.32619886831031175.\n",
      "[I 2024-10-13 00:19:53,627] Trial 11 finished with value: 0.31829508681147334 and parameters: {'lambda_l1': 5.840749033459416e-07, 'lambda_l2': 0.012812468976773945, 'num_leaves': 5, 'feature_fraction': 0.6403659253705876, 'bagging_fraction': 0.4033927015505169, 'bagging_freq': 6, 'min_child_samples': 5}. Best is trial 2 with value: 0.32619886831031175.\n",
      "[I 2024-10-13 00:19:54,565] Trial 12 finished with value: 0.30980227942233085 and parameters: {'lambda_l1': 1.685235315617149e-08, 'lambda_l2': 7.372623056313165e-06, 'num_leaves': 195, 'feature_fraction': 0.630468900291767, 'bagging_fraction': 0.7714697573703326, 'bagging_freq': 6, 'min_child_samples': 93}. Best is trial 2 with value: 0.32619886831031175.\n",
      "[I 2024-10-13 00:19:55,495] Trial 13 finished with value: 0.3114186104184733 and parameters: {'lambda_l1': 1.65291157109781e-05, 'lambda_l2': 4.625566553093221, 'num_leaves': 103, 'feature_fraction': 0.7901576079120296, 'bagging_fraction': 0.6054691535422992, 'bagging_freq': 2, 'min_child_samples': 78}. Best is trial 2 with value: 0.32619886831031175.\n",
      "[I 2024-10-13 00:19:56,628] Trial 14 finished with value: 0.3362105010791073 and parameters: {'lambda_l1': 4.133725289280242, 'lambda_l2': 0.003729454690905579, 'num_leaves': 252, 'feature_fraction': 0.574913563972525, 'bagging_fraction': 0.845767374866544, 'bagging_freq': 1, 'min_child_samples': 7}. Best is trial 14 with value: 0.3362105010791073.\n",
      "[I 2024-10-13 00:19:57,367] Trial 15 finished with value: 0.3103979477568034 and parameters: {'lambda_l1': 9.431284939501666, 'lambda_l2': 0.0026296818095952407, 'num_leaves': 255, 'feature_fraction': 0.5471691256789226, 'bagging_fraction': 0.8616153089794703, 'bagging_freq': 1, 'min_child_samples': 5}. Best is trial 14 with value: 0.3362105010791073.\n",
      "[I 2024-10-13 00:19:59,025] Trial 16 finished with value: 0.3080073083131293 and parameters: {'lambda_l1': 1.043813573671109e-05, 'lambda_l2': 0.0009854620864192642, 'num_leaves': 156, 'feature_fraction': 0.8618095071590022, 'bagging_fraction': 0.997500898204939, 'bagging_freq': 1, 'min_child_samples': 21}. Best is trial 14 with value: 0.3362105010791073.\n",
      "[I 2024-10-13 00:19:59,757] Trial 17 finished with value: 0.3333114949441329 and parameters: {'lambda_l1': 1.000055396608527e-05, 'lambda_l2': 7.424916556732546e-06, 'num_leaves': 52, 'feature_fraction': 0.7487191551274572, 'bagging_fraction': 0.7951636508595115, 'bagging_freq': 2, 'min_child_samples': 17}. Best is trial 14 with value: 0.3362105010791073.\n",
      "[I 2024-10-13 00:20:01,109] Trial 18 finished with value: 0.3142980752614235 and parameters: {'lambda_l1': 2.217333418724643e-05, 'lambda_l2': 4.714346893813804e-05, 'num_leaves': 107, 'feature_fraction': 0.7300309967133186, 'bagging_fraction': 0.7939072600264786, 'bagging_freq': 2, 'min_child_samples': 37}. Best is trial 14 with value: 0.3362105010791073.\n",
      "[I 2024-10-13 00:20:01,859] Trial 19 finished with value: 0.31735826952541835 and parameters: {'lambda_l1': 0.24491223691472655, 'lambda_l2': 0.2809001795379577, 'num_leaves': 54, 'feature_fraction': 0.43296643790675543, 'bagging_fraction': 0.8328098961474591, 'bagging_freq': 2, 'min_child_samples': 19}. Best is trial 14 with value: 0.3362105010791073.\n",
      "[I 2024-10-13 00:20:03,270] Trial 20 finished with value: 0.3013115520595482 and parameters: {'lambda_l1': 5.56806459457392e-05, 'lambda_l2': 1.4249410744247976e-05, 'num_leaves': 231, 'feature_fraction': 0.5696279753796248, 'bagging_fraction': 0.6096155362063749, 'bagging_freq': 1, 'min_child_samples': 39}. Best is trial 14 with value: 0.3362105010791073.\n",
      "[I 2024-10-13 00:20:03,737] Trial 21 finished with value: 0.3170972389603195 and parameters: {'lambda_l1': 1.1983009038361749e-06, 'lambda_l2': 6.779335474227313e-07, 'num_leaves': 7, 'feature_fraction': 0.833334143547499, 'bagging_fraction': 0.9198279095774422, 'bagging_freq': 3, 'min_child_samples': 13}. Best is trial 14 with value: 0.3362105010791073.\n",
      "[I 2024-10-13 00:20:04,361] Trial 22 finished with value: 0.32408086430664995 and parameters: {'lambda_l1': 3.8846073919453585e-08, 'lambda_l2': 8.447339937795496e-07, 'num_leaves': 36, 'feature_fraction': 0.7705032669426953, 'bagging_fraction': 0.8809151890615278, 'bagging_freq': 2, 'min_child_samples': 28}. Best is trial 14 with value: 0.3362105010791073.\n",
      "[I 2024-10-13 00:20:05,393] Trial 23 finished with value: 0.324954820348176 and parameters: {'lambda_l1': 1.9537679509189937e-06, 'lambda_l2': 0.0009974450984544432, 'num_leaves': 80, 'feature_fraction': 0.6922780777936028, 'bagging_fraction': 0.937444607680304, 'bagging_freq': 1, 'min_child_samples': 12}. Best is trial 14 with value: 0.3362105010791073.\n",
      "[I 2024-10-13 00:20:06,388] Trial 24 finished with value: 0.3234302233624241 and parameters: {'lambda_l1': 1.1547332443101693e-07, 'lambda_l2': 7.235117491639376e-08, 'num_leaves': 59, 'feature_fraction': 0.9368246307114484, 'bagging_fraction': 0.7804338587806477, 'bagging_freq': 3, 'min_child_samples': 15}. Best is trial 14 with value: 0.3362105010791073.\n",
      "[I 2024-10-13 00:20:08,115] Trial 25 finished with value: 0.31783727611222956 and parameters: {'lambda_l1': 6.649370908268136e-06, 'lambda_l2': 2.556629491004797e-05, 'num_leaves': 163, 'feature_fraction': 0.677233057768817, 'bagging_fraction': 0.9559818734010277, 'bagging_freq': 6, 'min_child_samples': 8}. Best is trial 14 with value: 0.3362105010791073.\n",
      "[I 2024-10-13 00:20:09,460] Trial 26 finished with value: 0.32019989039781616 and parameters: {'lambda_l1': 0.0001237312998410504, 'lambda_l2': 0.008698698060080959, 'num_leaves': 114, 'feature_fraction': 0.5835016314063238, 'bagging_fraction': 0.8563655231656514, 'bagging_freq': 2, 'min_child_samples': 28}. Best is trial 14 with value: 0.3362105010791073.\n",
      "[I 2024-10-13 00:20:09,968] Trial 27 finished with value: 0.3274530534904453 and parameters: {'lambda_l1': 2.390400238550782e-06, 'lambda_l2': 2.578924458527726e-06, 'num_leaves': 25, 'feature_fraction': 0.7551747820128138, 'bagging_fraction': 0.8152641296671872, 'bagging_freq': 1, 'min_child_samples': 17}. Best is trial 14 with value: 0.3362105010791073.\n",
      "[I 2024-10-13 00:20:11,760] Trial 28 finished with value: 0.306059977848413 and parameters: {'lambda_l1': 0.0024784643287474903, 'lambda_l2': 0.0007705164514043051, 'num_leaves': 220, 'feature_fraction': 0.7520020675429696, 'bagging_fraction': 0.8103880272117413, 'bagging_freq': 1, 'min_child_samples': 37}. Best is trial 14 with value: 0.3362105010791073.\n",
      "[I 2024-10-13 00:20:12,402] Trial 29 finished with value: 0.31622129085294215 and parameters: {'lambda_l1': 2.5272342454538175e-06, 'lambda_l2': 3.582722201450224e-06, 'num_leaves': 16, 'feature_fraction': 0.4661585587040218, 'bagging_fraction': 0.7383615894587573, 'bagging_freq': 3, 'min_child_samples': 47}. Best is trial 14 with value: 0.3362105010791073.\n",
      "[I 2024-10-13 00:20:13,560] Trial 30 finished with value: 0.3242748247763597 and parameters: {'lambda_l1': 1.4181171742218592, 'lambda_l2': 0.0001674249671816485, 'num_leaves': 167, 'feature_fraction': 0.604931267337679, 'bagging_fraction': 0.6481433777512086, 'bagging_freq': 1, 'min_child_samples': 18}. Best is trial 14 with value: 0.3362105010791073.\n",
      "[I 2024-10-13 00:20:14,303] Trial 31 finished with value: 0.3075123671666016 and parameters: {'lambda_l1': 1.1384317906486905e-07, 'lambda_l2': 1.777924018081748e-06, 'num_leaves': 32, 'feature_fraction': 0.8155823900079796, 'bagging_fraction': 0.8761384014797892, 'bagging_freq': 2, 'min_child_samples': 11}. Best is trial 14 with value: 0.3362105010791073.\n",
      "[I 2024-10-13 00:20:15,326] Trial 32 finished with value: 0.3286396334938114 and parameters: {'lambda_l1': 3.5394405589715954e-06, 'lambda_l2': 1.7695982979710311e-07, 'num_leaves': 69, 'feature_fraction': 0.858310670945671, 'bagging_fraction': 0.7656836449488473, 'bagging_freq': 1, 'min_child_samples': 26}. Best is trial 14 with value: 0.3362105010791073.\n",
      "[I 2024-10-13 00:20:16,309] Trial 33 finished with value: 0.31395754060155057 and parameters: {'lambda_l1': 4.681654880303841e-05, 'lambda_l2': 1.3388610354680584e-07, 'num_leaves': 67, 'feature_fraction': 0.6644563093394553, 'bagging_fraction': 0.7198378021462887, 'bagging_freq': 1, 'min_child_samples': 25}. Best is trial 14 with value: 0.3362105010791073.\n",
      "[I 2024-10-13 00:20:17,492] Trial 34 finished with value: 0.313140484399825 and parameters: {'lambda_l1': 5.771337497400516e-06, 'lambda_l2': 2.2129923151702192e-07, 'num_leaves': 94, 'feature_fraction': 0.8690097939116029, 'bagging_fraction': 0.7634357675775844, 'bagging_freq': 1, 'min_child_samples': 33}. Best is trial 14 with value: 0.3362105010791073.\n",
      "[I 2024-10-13 00:20:18,357] Trial 35 finished with value: 0.3250782861369904 and parameters: {'lambda_l1': 4.977515421596562e-07, 'lambda_l2': 0.06319501475102131, 'num_leaves': 43, 'feature_fraction': 0.7774234420584694, 'bagging_fraction': 0.8291446658251949, 'bagging_freq': 2, 'min_child_samples': 46}. Best is trial 14 with value: 0.3362105010791073.\n",
      "[I 2024-10-13 00:20:19,878] Trial 36 finished with value: 0.30470990581398194 and parameters: {'lambda_l1': 0.03882502877708421, 'lambda_l2': 1.044743399144326e-08, 'num_leaves': 124, 'feature_fraction': 0.7287806737491032, 'bagging_fraction': 0.7562493802970038, 'bagging_freq': 1, 'min_child_samples': 17}. Best is trial 14 with value: 0.3362105010791073.\n",
      "[I 2024-10-13 00:20:20,572] Trial 37 finished with value: 0.3248963212076288 and parameters: {'lambda_l1': 0.0013596832888725975, 'lambda_l2': 2.6720381870275782e-08, 'num_leaves': 19, 'feature_fraction': 0.9159216416166358, 'bagging_fraction': 0.8034981202605755, 'bagging_freq': 2, 'min_child_samples': 24}. Best is trial 14 with value: 0.3362105010791073.\n",
      "[I 2024-10-13 00:20:21,888] Trial 38 finished with value: 0.3121236570035908 and parameters: {'lambda_l1': 3.148070022251482e-06, 'lambda_l2': 0.0002586123868078429, 'num_leaves': 72, 'feature_fraction': 0.9865797724722546, 'bagging_fraction': 0.6972173787636702, 'bagging_freq': 3, 'min_child_samples': 32}. Best is trial 14 with value: 0.3362105010791073.\n",
      "[I 2024-10-13 00:20:22,898] Trial 39 finished with value: 0.3236794563038585 and parameters: {'lambda_l1': 4.2985626698373124e-05, 'lambda_l2': 3.08956431966907e-07, 'num_leaves': 54, 'feature_fraction': 0.4921833896202723, 'bagging_fraction': 0.9015197173494247, 'bagging_freq': 1, 'min_child_samples': 9}. Best is trial 14 with value: 0.3362105010791073.\n",
      "[I 2024-10-13 00:20:24,265] Trial 40 finished with value: 0.3133342614280109 and parameters: {'lambda_l1': 1.9900578953507753, 'lambda_l2': 1.747631780215641e-05, 'num_leaves': 209, 'feature_fraction': 0.8290263337047885, 'bagging_fraction': 0.8592167326500642, 'bagging_freq': 2, 'min_child_samples': 42}. Best is trial 14 with value: 0.3362105010791073.\n",
      "[I 2024-10-13 00:20:24,913] Trial 41 finished with value: 0.32525636081695464 and parameters: {'lambda_l1': 1.0694152168614946e-06, 'lambda_l2': 3.5925347904022594e-06, 'num_leaves': 25, 'feature_fraction': 0.8000892122411729, 'bagging_fraction': 0.8300564434067611, 'bagging_freq': 4, 'min_child_samples': 12}. Best is trial 14 with value: 0.3362105010791073.\n",
      "[I 2024-10-13 00:20:25,800] Trial 42 finished with value: 0.3296822899289795 and parameters: {'lambda_l1': 0.00020000068890551722, 'lambda_l2': 1.1566400059025134e-06, 'num_leaves': 44, 'feature_fraction': 0.8957244264606538, 'bagging_fraction': 0.9019815362077277, 'bagging_freq': 5, 'min_child_samples': 16}. Best is trial 14 with value: 0.3362105010791073.\n",
      "[I 2024-10-13 00:20:26,799] Trial 43 finished with value: 0.3197297844317726 and parameters: {'lambda_l1': 0.00016501209397293794, 'lambda_l2': 5.1504711866794525e-08, 'num_leaves': 44, 'feature_fraction': 0.9001808645064953, 'bagging_fraction': 0.9619906083372132, 'bagging_freq': 5, 'min_child_samples': 20}. Best is trial 14 with value: 0.3362105010791073.\n",
      "[I 2024-10-13 00:20:28,211] Trial 44 finished with value: 0.31293150366000677 and parameters: {'lambda_l1': 0.00799527838727696, 'lambda_l2': 1.7093078197121692e-06, 'num_leaves': 66, 'feature_fraction': 0.9568469420522213, 'bagging_fraction': 0.8998197095960845, 'bagging_freq': 5, 'min_child_samples': 26}. Best is trial 14 with value: 0.3362105010791073.\n",
      "[I 2024-10-13 00:20:30,010] Trial 45 finished with value: 0.3226683633566586 and parameters: {'lambda_l1': 0.0011232814422251361, 'lambda_l2': 6.730473342398983e-05, 'num_leaves': 78, 'feature_fraction': 0.8499947708479859, 'bagging_fraction': 0.7206672816653708, 'bagging_freq': 4, 'min_child_samples': 16}. Best is trial 14 with value: 0.3362105010791073.\n",
      "[I 2024-10-13 00:20:31,385] Trial 46 finished with value: 0.3281829937113644 and parameters: {'lambda_l1': 0.0004098532966928626, 'lambda_l2': 3.790870210262725e-07, 'num_leaves': 94, 'feature_fraction': 0.8913895581535705, 'bagging_fraction': 0.8405958564342869, 'bagging_freq': 1, 'min_child_samples': 9}. Best is trial 14 with value: 0.3362105010791073.\n",
      "[I 2024-10-13 00:20:33,114] Trial 47 finished with value: 0.3228435136808393 and parameters: {'lambda_l1': 0.0004353802779516182, 'lambda_l2': 1.3087604305679516e-07, 'num_leaves': 92, 'feature_fraction': 0.9546188751993177, 'bagging_fraction': 0.8483942705814477, 'bagging_freq': 4, 'min_child_samples': 5}. Best is trial 14 with value: 0.3362105010791073.\n",
      "[I 2024-10-13 00:20:34,613] Trial 48 finished with value: 0.3051936120409354 and parameters: {'lambda_l1': 0.057470245759220266, 'lambda_l2': 3.337307559265512e-07, 'num_leaves': 135, 'feature_fraction': 0.8944152167350243, 'bagging_fraction': 0.745399886881761, 'bagging_freq': 5, 'min_child_samples': 67}. Best is trial 14 with value: 0.3362105010791073.\n",
      "[I 2024-10-13 00:20:36,733] Trial 49 finished with value: 0.3138284013542868 and parameters: {'lambda_l1': 1.8000294188521814e-05, 'lambda_l2': 7.91273248983174e-06, 'num_leaves': 115, 'feature_fraction': 0.8857668402585205, 'bagging_fraction': 0.7834649952971074, 'bagging_freq': 1, 'min_child_samples': 8}. Best is trial 14 with value: 0.3362105010791073.\n",
      "[I 2024-10-13 00:20:37,991] Trial 50 finished with value: 0.3173175602059106 and parameters: {'lambda_l1': 0.007158824915928997, 'lambda_l2': 0.0033595725866357178, 'num_leaves': 84, 'feature_fraction': 0.9310392488445078, 'bagging_fraction': 0.887715012185038, 'bagging_freq': 6, 'min_child_samples': 21}. Best is trial 14 with value: 0.3362105010791073.\n",
      "[I 2024-10-13 00:20:38,988] Trial 51 finished with value: 0.3329732114215612 and parameters: {'lambda_l1': 2.613923571265929e-07, 'lambda_l2': 1.3177324315209629e-06, 'num_leaves': 47, 'feature_fraction': 0.721362276960646, 'bagging_fraction': 0.8030286034517625, 'bagging_freq': 1, 'min_child_samples': 15}. Best is trial 14 with value: 0.3362105010791073.\n",
      "[I 2024-10-13 00:20:40,023] Trial 52 finished with value: 0.31945584211759936 and parameters: {'lambda_l1': 1.3274434943856537e-07, 'lambda_l2': 6.848883543731345e-07, 'num_leaves': 55, 'feature_fraction': 0.712311345980447, 'bagging_fraction': 0.7947681696020282, 'bagging_freq': 1, 'min_child_samples': 14}. Best is trial 14 with value: 0.3362105010791073.\n",
      "[I 2024-10-13 00:20:41,423] Trial 53 finished with value: 0.3248512690693318 and parameters: {'lambda_l1': 3.6255544978604313e-07, 'lambda_l2': 2.4948023571715198e-08, 'num_leaves': 100, 'feature_fraction': 0.6490939377396729, 'bagging_fraction': 0.6577299276980213, 'bagging_freq': 2, 'min_child_samples': 9}. Best is trial 14 with value: 0.3362105010791073.\n",
      "[I 2024-10-13 00:20:42,271] Trial 54 finished with value: 0.3282632802624442 and parameters: {'lambda_l1': 1.8446825082508235e-08, 'lambda_l2': 1.1363707800433729e-06, 'num_leaves': 44, 'feature_fraction': 0.848585668593846, 'bagging_fraction': 0.8455142836239725, 'bagging_freq': 1, 'min_child_samples': 22}. Best is trial 14 with value: 0.3362105010791073.\n",
      "[I 2024-10-13 00:20:43,045] Trial 55 finished with value: 0.3263592959164413 and parameters: {'lambda_l1': 1.4375969671254654e-08, 'lambda_l2': 8.768525783654179e-06, 'num_leaves': 39, 'feature_fraction': 0.8482939150509569, 'bagging_fraction': 0.91678835053464, 'bagging_freq': 2, 'min_child_samples': 82}. Best is trial 14 with value: 0.3362105010791073.\n",
      "[I 2024-10-13 00:20:43,817] Trial 56 finished with value: 0.301900673460605 and parameters: {'lambda_l1': 3.1057645467742415e-08, 'lambda_l2': 1.279957927673396e-06, 'num_leaves': 50, 'feature_fraction': 0.7944680482090019, 'bagging_fraction': 0.40134573541067214, 'bagging_freq': 1, 'min_child_samples': 30}. Best is trial 14 with value: 0.3362105010791073.\n",
      "[I 2024-10-13 00:20:45,884] Trial 57 finished with value: 0.31178331789048075 and parameters: {'lambda_l1': 2.0760788293201853e-07, 'lambda_l2': 0.03174972843431326, 'num_leaves': 178, 'feature_fraction': 0.612921681351785, 'bagging_fraction': 0.8681778599770016, 'bagging_freq': 1, 'min_child_samples': 22}. Best is trial 14 with value: 0.3362105010791073.\n",
      "[I 2024-10-13 00:20:46,354] Trial 58 finished with value: 0.31009693425725016 and parameters: {'lambda_l1': 4.947302529082068e-08, 'lambda_l2': 3.46013465686377e-05, 'num_leaves': 9, 'feature_fraction': 0.5381473857509538, 'bagging_fraction': 0.4806240218112564, 'bagging_freq': 2, 'min_child_samples': 5}. Best is trial 14 with value: 0.3362105010791073.\n",
      "[I 2024-10-13 00:20:47,470] Trial 59 finished with value: 0.3180645735407387 and parameters: {'lambda_l1': 1.0572832998004643e-08, 'lambda_l2': 1.1072126040499657e-07, 'num_leaves': 71, 'feature_fraction': 0.7127780558576275, 'bagging_fraction': 0.7747875330888149, 'bagging_freq': 3, 'min_child_samples': 34}. Best is trial 14 with value: 0.3362105010791073.\n",
      "[I 2024-10-13 00:20:48,324] Trial 60 finished with value: 0.3188318303797554 and parameters: {'lambda_l1': 6.077908614051247e-06, 'lambda_l2': 0.0005090235620983612, 'num_leaves': 62, 'feature_fraction': 0.7695214496596763, 'bagging_fraction': 0.9633294262544714, 'bagging_freq': 1, 'min_child_samples': 15}. Best is trial 14 with value: 0.3362105010791073.\n",
      "[I 2024-10-13 00:20:49,054] Trial 61 finished with value: 0.32548628850311623 and parameters: {'lambda_l1': 0.00013427092400961698, 'lambda_l2': 4.894625227517732e-07, 'num_leaves': 33, 'feature_fraction': 0.9053286887324882, 'bagging_fraction': 0.8518958868201675, 'bagging_freq': 1, 'min_child_samples': 11}. Best is trial 14 with value: 0.3362105010791073.\n",
      "[I 2024-10-13 00:20:49,945] Trial 62 finished with value: 0.32576629567928617 and parameters: {'lambda_l1': 6.790052825174893e-08, 'lambda_l2': 9.086256397861418e-07, 'num_leaves': 48, 'feature_fraction': 0.8677476407623805, 'bagging_fraction': 0.8414453690983831, 'bagging_freq': 1, 'min_child_samples': 20}. Best is trial 14 with value: 0.3362105010791073.\n",
      "[I 2024-10-13 00:20:51,054] Trial 63 finished with value: 0.30905199371082137 and parameters: {'lambda_l1': 0.3278624251459863, 'lambda_l2': 2.3476165029281145e-07, 'num_leaves': 77, 'feature_fraction': 0.8443059878393486, 'bagging_fraction': 0.8093778947771393, 'bagging_freq': 7, 'min_child_samples': 28}. Best is trial 14 with value: 0.3362105010791073.\n",
      "[I 2024-10-13 00:20:51,942] Trial 64 finished with value: 0.3252839790723012 and parameters: {'lambda_l1': 2.9226907384993773e-05, 'lambda_l2': 4.491905796031419e-06, 'num_leaves': 59, 'feature_fraction': 0.949041475330421, 'bagging_fraction': 0.9412663326804026, 'bagging_freq': 1, 'min_child_samples': 24}. Best is trial 14 with value: 0.3362105010791073.\n",
      "[I 2024-10-13 00:20:54,381] Trial 65 finished with value: 0.29030565769193817 and parameters: {'lambda_l1': 7.328839484760458e-07, 'lambda_l2': 0.003586374421566562, 'num_leaves': 236, 'feature_fraction': 0.8205223580828035, 'bagging_fraction': 0.8271174193104909, 'bagging_freq': 2, 'min_child_samples': 14}. Best is trial 14 with value: 0.3362105010791073.\n",
      "[I 2024-10-13 00:20:56,015] Trial 66 finished with value: 0.301131365272889 and parameters: {'lambda_l1': 9.567706056116707e-06, 'lambda_l2': 3.698933988869008e-08, 'num_leaves': 147, 'feature_fraction': 0.6763815473160218, 'bagging_fraction': 0.8881968131430321, 'bagging_freq': 1, 'min_child_samples': 18}. Best is trial 14 with value: 0.3362105010791073.\n",
      "[I 2024-10-13 00:20:57,404] Trial 67 finished with value: 0.3091630806938186 and parameters: {'lambda_l1': 6.749347470229254e-05, 'lambda_l2': 1.8187358043158854e-06, 'num_leaves': 89, 'feature_fraction': 0.7437603854694929, 'bagging_fraction': 0.7857665211421005, 'bagging_freq': 1, 'min_child_samples': 53}. Best is trial 14 with value: 0.3362105010791073.\n",
      "[I 2024-10-13 00:20:58,148] Trial 68 finished with value: 0.3337426607912308 and parameters: {'lambda_l1': 1.5353015657154362e-06, 'lambda_l2': 4.2481502916860184e-07, 'num_leaves': 39, 'feature_fraction': 0.8661525059099179, 'bagging_fraction': 0.9115048618322514, 'bagging_freq': 2, 'min_child_samples': 8}. Best is trial 14 with value: 0.3362105010791073.\n",
      "[I 2024-10-13 00:20:58,692] Trial 69 finished with value: 0.31968463440548367 and parameters: {'lambda_l1': 1.7803664434010359e-06, 'lambda_l2': 1.466292042524712e-05, 'num_leaves': 18, 'feature_fraction': 0.8681269617340189, 'bagging_fraction': 0.913399447403266, 'bagging_freq': 3, 'min_child_samples': 7}. Best is trial 14 with value: 0.3362105010791073.\n",
      "[I 2024-10-13 00:20:59,471] Trial 70 finished with value: 0.31829815953709817 and parameters: {'lambda_l1': 2.2536987411879378e-07, 'lambda_l2': 5.1776748176281275e-06, 'num_leaves': 36, 'feature_fraction': 0.8096824447680029, 'bagging_fraction': 0.9835918231209679, 'bagging_freq': 2, 'min_child_samples': 12}. Best is trial 14 with value: 0.3362105010791073.\n",
      "[I 2024-10-13 00:21:00,263] Trial 71 finished with value: 0.326585100952122 and parameters: {'lambda_l1': 3.7932156100229457e-06, 'lambda_l2': 3.793320004472373e-07, 'num_leaves': 44, 'feature_fraction': 0.9241680947978733, 'bagging_fraction': 0.8724048769726059, 'bagging_freq': 1, 'min_child_samples': 8}. Best is trial 14 with value: 0.3362105010791073.\n",
      "[I 2024-10-13 00:21:00,575] Trial 72 finished with value: 0.2794559361293337 and parameters: {'lambda_l1': 1.0723132138340546e-06, 'lambda_l2': 7.890674506746351e-08, 'num_leaves': 2, 'feature_fraction': 0.9685535097496634, 'bagging_fraction': 0.754713001617412, 'bagging_freq': 2, 'min_child_samples': 10}. Best is trial 14 with value: 0.3362105010791073.\n",
      "[I 2024-10-13 00:21:01,063] Trial 73 finished with value: 0.32554835691687245 and parameters: {'lambda_l1': 2.404938579255144e-08, 'lambda_l2': 1.8845016783351115e-07, 'num_leaves': 24, 'feature_fraction': 0.8829204686243208, 'bagging_fraction': 0.8413326521480023, 'bagging_freq': 1, 'min_child_samples': 16}. Best is trial 14 with value: 0.3362105010791073.\n",
      "[I 2024-10-13 00:21:01,950] Trial 74 finished with value: 0.32842783349138993 and parameters: {'lambda_l1': 1.1776693863264319e-05, 'lambda_l2': 5.998989583284634e-07, 'num_leaves': 52, 'feature_fraction': 0.998916161690987, 'bagging_fraction': 0.8220127107137345, 'bagging_freq': 1, 'min_child_samples': 22}. Best is trial 14 with value: 0.3362105010791073.\n",
      "[I 2024-10-13 00:21:02,522] Trial 75 finished with value: 0.3184333618220385 and parameters: {'lambda_l1': 1.0440566791471032e-05, 'lambda_l2': 0.7872135343657224, 'num_leaves': 12, 'feature_fraction': 0.7654852841546066, 'bagging_fraction': 0.8166313976270041, 'bagging_freq': 2, 'min_child_samples': 27}. Best is trial 14 with value: 0.3362105010791073.\n",
      "[I 2024-10-13 00:21:03,274] Trial 76 finished with value: 0.311471811224342 and parameters: {'lambda_l1': 3.939493073626256e-07, 'lambda_l2': 2.552611097698313e-06, 'num_leaves': 30, 'feature_fraction': 0.9940578853789381, 'bagging_fraction': 0.9351101767667923, 'bagging_freq': 4, 'min_child_samples': 23}. Best is trial 14 with value: 0.3362105010791073.\n",
      "[I 2024-10-13 00:21:03,960] Trial 77 finished with value: 0.3335834245881628 and parameters: {'lambda_l1': 8.565284926677716e-05, 'lambda_l2': 9.242570035400834e-07, 'num_leaves': 39, 'feature_fraction': 0.8351560033902052, 'bagging_fraction': 0.7993896756373855, 'bagging_freq': 1, 'min_child_samples': 19}. Best is trial 14 with value: 0.3362105010791073.\n",
      "[I 2024-10-13 00:21:04,784] Trial 78 finished with value: 0.3186090130116792 and parameters: {'lambda_l1': 2.858957893199942e-05, 'lambda_l2': 8.175533416476519e-07, 'num_leaves': 63, 'feature_fraction': 0.786441379617666, 'bagging_fraction': 0.7993477923830332, 'bagging_freq': 1, 'min_child_samples': 13}. Best is trial 14 with value: 0.3362105010791073.\n",
      "[I 2024-10-13 00:21:05,666] Trial 79 finished with value: 0.312282221585523 and parameters: {'lambda_l1': 8.907504898761852e-05, 'lambda_l2': 1.5659095723075623e-08, 'num_leaves': 52, 'feature_fraction': 0.7255389828477062, 'bagging_fraction': 0.7311872801011311, 'bagging_freq': 2, 'min_child_samples': 19}. Best is trial 14 with value: 0.3362105010791073.\n",
      "[I 2024-10-13 00:21:06,386] Trial 80 finished with value: 0.32978530754017366 and parameters: {'lambda_l1': 0.0002322986386474499, 'lambda_l2': 0.0019409238360577074, 'num_leaves': 38, 'feature_fraction': 0.6937645264825503, 'bagging_fraction': 0.6999943726160127, 'bagging_freq': 5, 'min_child_samples': 60}. Best is trial 14 with value: 0.3362105010791073.\n",
      "[I 2024-10-13 00:21:07,170] Trial 81 finished with value: 0.32121739120729265 and parameters: {'lambda_l1': 0.00026769153931110166, 'lambda_l2': 0.01687154383502503, 'num_leaves': 39, 'feature_fraction': 0.5679616114579401, 'bagging_fraction': 0.7118497031676368, 'bagging_freq': 5, 'min_child_samples': 60}. Best is trial 14 with value: 0.3362105010791073.\n",
      "[I 2024-10-13 00:21:07,873] Trial 82 finished with value: 0.31234052228485043 and parameters: {'lambda_l1': 0.0001790037061848342, 'lambda_l2': 0.0001486545370546323, 'num_leaves': 28, 'feature_fraction': 0.4095853610189522, 'bagging_fraction': 0.6757121297155908, 'bagging_freq': 5, 'min_child_samples': 64}. Best is trial 14 with value: 0.3362105010791073.\n",
      "[I 2024-10-13 00:21:08,851] Trial 83 finished with value: 0.3098229021220198 and parameters: {'lambda_l1': 0.0009682139911132221, 'lambda_l2': 0.002333760660024773, 'num_leaves': 57, 'feature_fraction': 0.5122388717199764, 'bagging_fraction': 0.7648277853778287, 'bagging_freq': 5, 'min_child_samples': 50}. Best is trial 14 with value: 0.3362105010791073.\n",
      "[I 2024-10-13 00:21:09,695] Trial 84 finished with value: 0.3121127410034681 and parameters: {'lambda_l1': 1.5256774966217471e-05, 'lambda_l2': 0.0013256713492458751, 'num_leaves': 39, 'feature_fraction': 0.695588735798908, 'bagging_fraction': 0.6198009708294422, 'bagging_freq': 6, 'min_child_samples': 67}. Best is trial 14 with value: 0.3362105010791073.\n",
      "[I 2024-10-13 00:21:10,492] Trial 85 finished with value: 0.31659483449048587 and parameters: {'lambda_l1': 3.6919262943383868e-06, 'lambda_l2': 0.0060466926729230985, 'num_leaves': 49, 'feature_fraction': 0.6587798123649082, 'bagging_fraction': 0.6928303344501026, 'bagging_freq': 4, 'min_child_samples': 60}. Best is trial 14 with value: 0.3362105010791073.\n",
      "[I 2024-10-13 00:21:11,572] Trial 86 finished with value: 0.3196853618675837 and parameters: {'lambda_l1': 4.10323286049433e-05, 'lambda_l2': 2.5304186505518573e-06, 'num_leaves': 68, 'feature_fraction': 0.9754726636147162, 'bagging_fraction': 0.740015849041309, 'bagging_freq': 6, 'min_child_samples': 42}. Best is trial 14 with value: 0.3362105010791073.\n",
      "[I 2024-10-13 00:21:12,256] Trial 87 finished with value: 0.31635958710667367 and parameters: {'lambda_l1': 0.0029190311497749406, 'lambda_l2': 5.426363071772385e-07, 'num_leaves': 23, 'feature_fraction': 0.6250684342793664, 'bagging_fraction': 0.8184823017804592, 'bagging_freq': 1, 'min_child_samples': 74}. Best is trial 14 with value: 0.3362105010791073.\n",
      "[I 2024-10-13 00:21:13,418] Trial 88 finished with value: 0.30634054653320975 and parameters: {'lambda_l1': 1.6007557144081361e-06, 'lambda_l2': 1.8939030085523673e-07, 'num_leaves': 207, 'feature_fraction': 0.8296994345867954, 'bagging_fraction': 0.7880833769096872, 'bagging_freq': 5, 'min_child_samples': 97}. Best is trial 14 with value: 0.3362105010791073.\n",
      "[I 2024-10-13 00:21:13,935] Trial 89 finished with value: 0.3204654140442734 and parameters: {'lambda_l1': 0.0005946958848758297, 'lambda_l2': 1.3985859229182174e-06, 'num_leaves': 16, 'feature_fraction': 0.9132493831438786, 'bagging_fraction': 0.8627534906656318, 'bagging_freq': 1, 'min_child_samples': 58}. Best is trial 14 with value: 0.3362105010791073.\n",
      "[I 2024-10-13 00:21:15,043] Trial 90 finished with value: 0.3110009413311451 and parameters: {'lambda_l1': 1.1561189443372637e-05, 'lambda_l2': 0.00045151583580242867, 'num_leaves': 74, 'feature_fraction': 0.4581938465301019, 'bagging_fraction': 0.9014661778701387, 'bagging_freq': 1, 'min_child_samples': 55}. Best is trial 14 with value: 0.3362105010791073.\n",
      "[I 2024-10-13 00:21:15,841] Trial 91 finished with value: 0.3183476418011274 and parameters: {'lambda_l1': 7.802842785603777e-05, 'lambda_l2': 8.819224572965952e-07, 'num_leaves': 44, 'feature_fraction': 0.8531973592387838, 'bagging_fraction': 0.8851377662365976, 'bagging_freq': 1, 'min_child_samples': 22}. Best is trial 14 with value: 0.3362105010791073.\n",
      "[I 2024-10-13 00:21:16,530] Trial 92 finished with value: 0.32429542407217027 and parameters: {'lambda_l1': 4.710071720356369e-06, 'lambda_l2': 9.320577609824264e-08, 'num_leaves': 33, 'feature_fraction': 0.8075739753844586, 'bagging_fraction': 0.7696471185350702, 'bagging_freq': 1, 'min_child_samples': 17}. Best is trial 14 with value: 0.3362105010791073.\n",
      "[I 2024-10-13 00:21:17,410] Trial 93 finished with value: 0.33277333027350764 and parameters: {'lambda_l1': 6.328364807490716e-07, 'lambda_l2': 6.380049336663176e-06, 'num_leaves': 54, 'feature_fraction': 0.7873255339180689, 'bagging_fraction': 0.8024127251410772, 'bagging_freq': 1, 'min_child_samples': 26}. Best is trial 14 with value: 0.3362105010791073.\n",
      "[I 2024-10-13 00:21:18,325] Trial 94 finished with value: 0.3277794291837972 and parameters: {'lambda_l1': 7.240976593379022e-07, 'lambda_l2': 5.160485616623997e-06, 'num_leaves': 55, 'feature_fraction': 0.754986170294782, 'bagging_fraction': 0.8090934365654264, 'bagging_freq': 1, 'min_child_samples': 30}. Best is trial 14 with value: 0.3362105010791073.\n",
      "[I 2024-10-13 00:21:19,300] Trial 95 finished with value: 0.3142801668438753 and parameters: {'lambda_l1': 0.00022536535767330462, 'lambda_l2': 2.2640996387147157e-05, 'num_leaves': 65, 'feature_fraction': 0.7836214729025671, 'bagging_fraction': 0.7522904560546112, 'bagging_freq': 2, 'min_child_samples': 25}. Best is trial 14 with value: 0.3362105010791073.\n",
      "[I 2024-10-13 00:21:20,443] Trial 96 finished with value: 0.32450893239158085 and parameters: {'lambda_l1': 8.258600996385922e-06, 'lambda_l2': 9.991675582395178e-06, 'num_leaves': 84, 'feature_fraction': 0.8368846561743184, 'bagging_fraction': 0.7100602374032812, 'bagging_freq': 1, 'min_child_samples': 34}. Best is trial 14 with value: 0.3362105010791073.\n",
      "[I 2024-10-13 00:21:21,231] Trial 97 finished with value: 0.3218673710881461 and parameters: {'lambda_l1': 2.3650653698071585e-06, 'lambda_l2': 2.1047086698671592e-06, 'num_leaves': 48, 'feature_fraction': 0.7207217493608089, 'bagging_fraction': 0.8284345344679928, 'bagging_freq': 1, 'min_child_samples': 7}. Best is trial 14 with value: 0.3362105010791073.\n",
      "[I 2024-10-13 00:21:22,147] Trial 98 finished with value: 0.31849844862998733 and parameters: {'lambda_l1': 2.5215226135682196e-05, 'lambda_l2': 0.001772508042912384, 'num_leaves': 60, 'feature_fraction': 0.7359139228218035, 'bagging_fraction': 0.7998723632632816, 'bagging_freq': 2, 'min_child_samples': 18}. Best is trial 14 with value: 0.3362105010791073.\n",
      "[I 2024-10-13 00:21:22,911] Trial 99 finished with value: 0.3301969654726218 and parameters: {'lambda_l1': 0.0018986939799518028, 'lambda_l2': 0.005378172079072012, 'num_leaves': 38, 'feature_fraction': 0.7981302605420734, 'bagging_fraction': 0.7751993757322997, 'bagging_freq': 3, 'min_child_samples': 14}. Best is trial 14 with value: 0.3362105010791073.\n"
     ]
    }
   ],
   "source": [
    "#Defino el estudio a optimizar\n",
    "study = optuna.create_study(direction='maximize', #buscamos maximizar la metrica\n",
    "                            storage=\"sqlite:///../src/db.sqlite3\",  # Specify the storage URL here.\n",
    "                            study_name=\"04 - LGB Multiclass_FE\", #nombre del experimento\n",
    "                            load_if_exists=True) #continuar si ya existe\n",
    "\n",
    "#Corremos 100 trials para buscar mejores parametros\n",
    "study.optimize(lgb_objective, n_trials=100)"
   ]
  },
  {
   "cell_type": "code",
   "execution_count": 177,
   "metadata": {},
   "outputs": [
    {
     "data": {
      "text/plain": [
       "{'lambda_l1': 4.133725289280242,\n",
       " 'lambda_l2': 0.003729454690905579,\n",
       " 'num_leaves': 252,\n",
       " 'feature_fraction': 0.574913563972525,\n",
       " 'bagging_fraction': 0.845767374866544,\n",
       " 'bagging_freq': 1,\n",
       " 'min_child_samples': 7}"
      ]
     },
     "execution_count": 177,
     "metadata": {},
     "output_type": "execute_result"
    }
   ],
   "source": [
    "#Obtenemos mejor resultado\n",
    "study.best_params"
   ]
  },
  {
   "cell_type": "code",
   "execution_count": 178,
   "metadata": {},
   "outputs": [
    {
     "data": {
      "application/vnd.plotly.v1+json": {
       "config": {
        "plotlyServerURL": "https://plot.ly"
       },
       "data": [
        {
         "type": "heatmap",
         "x": [
          0,
          1,
          2,
          3,
          4
         ],
         "y": [
          0,
          1,
          2,
          3,
          4
         ],
         "z": [
          [
           3.6585365853658534,
           43.90243902439025,
           26.82926829268293,
           8.536585365853659,
           17.073170731707318
          ],
          [
           0.3236245954692557,
           35.59870550161812,
           37.055016181229774,
           7.119741100323624,
           19.902912621359224
          ],
          [
           0,
           23.543990086741015,
           36.30731102850062,
           12.51548946716233,
           27.63320941759603
          ],
          [
           0,
           17.33128834355828,
           33.74233128834356,
           20.552147239263803,
           28.37423312883436
          ],
          [
           0,
           11.666666666666666,
           19.166666666666668,
           7.5,
           61.66666666666667
          ]
         ]
        }
       ],
       "layout": {
        "annotations": [
         {
          "font": {
           "color": "white"
          },
          "showarrow": false,
          "text": "3.7 - 3",
          "x": 0,
          "xref": "x",
          "y": 0,
          "yref": "y"
         },
         {
          "font": {
           "color": "white"
          },
          "showarrow": false,
          "text": "43.9 - 36",
          "x": 1,
          "xref": "x",
          "y": 0,
          "yref": "y"
         },
         {
          "font": {
           "color": "white"
          },
          "showarrow": false,
          "text": "26.8 - 22",
          "x": 2,
          "xref": "x",
          "y": 0,
          "yref": "y"
         },
         {
          "font": {
           "color": "white"
          },
          "showarrow": false,
          "text": "8.5 - 7",
          "x": 3,
          "xref": "x",
          "y": 0,
          "yref": "y"
         },
         {
          "font": {
           "color": "white"
          },
          "showarrow": false,
          "text": "17.1 - 14",
          "x": 4,
          "xref": "x",
          "y": 0,
          "yref": "y"
         },
         {
          "font": {
           "color": "white"
          },
          "showarrow": false,
          "text": "0.3 - 2",
          "x": 0,
          "xref": "x",
          "y": 1,
          "yref": "y"
         },
         {
          "font": {
           "color": "white"
          },
          "showarrow": false,
          "text": "35.6 - 220",
          "x": 1,
          "xref": "x",
          "y": 1,
          "yref": "y"
         },
         {
          "font": {
           "color": "white"
          },
          "showarrow": false,
          "text": "37.1 - 229",
          "x": 2,
          "xref": "x",
          "y": 1,
          "yref": "y"
         },
         {
          "font": {
           "color": "white"
          },
          "showarrow": false,
          "text": "7.1 - 44",
          "x": 3,
          "xref": "x",
          "y": 1,
          "yref": "y"
         },
         {
          "font": {
           "color": "white"
          },
          "showarrow": false,
          "text": "19.9 - 123",
          "x": 4,
          "xref": "x",
          "y": 1,
          "yref": "y"
         },
         {
          "font": {
           "color": "white"
          },
          "showarrow": false,
          "text": "0.0 - 0",
          "x": 0,
          "xref": "x",
          "y": 2,
          "yref": "y"
         },
         {
          "font": {
           "color": "white"
          },
          "showarrow": false,
          "text": "23.5 - 190",
          "x": 1,
          "xref": "x",
          "y": 2,
          "yref": "y"
         },
         {
          "font": {
           "color": "white"
          },
          "showarrow": false,
          "text": "36.3 - 293",
          "x": 2,
          "xref": "x",
          "y": 2,
          "yref": "y"
         },
         {
          "font": {
           "color": "white"
          },
          "showarrow": false,
          "text": "12.5 - 101",
          "x": 3,
          "xref": "x",
          "y": 2,
          "yref": "y"
         },
         {
          "font": {
           "color": "white"
          },
          "showarrow": false,
          "text": "27.6 - 223",
          "x": 4,
          "xref": "x",
          "y": 2,
          "yref": "y"
         },
         {
          "font": {
           "color": "white"
          },
          "showarrow": false,
          "text": "0.0 - 0",
          "x": 0,
          "xref": "x",
          "y": 3,
          "yref": "y"
         },
         {
          "font": {
           "color": "white"
          },
          "showarrow": false,
          "text": "17.3 - 113",
          "x": 1,
          "xref": "x",
          "y": 3,
          "yref": "y"
         },
         {
          "font": {
           "color": "white"
          },
          "showarrow": false,
          "text": "33.7 - 220",
          "x": 2,
          "xref": "x",
          "y": 3,
          "yref": "y"
         },
         {
          "font": {
           "color": "white"
          },
          "showarrow": false,
          "text": "20.6 - 134",
          "x": 3,
          "xref": "x",
          "y": 3,
          "yref": "y"
         },
         {
          "font": {
           "color": "white"
          },
          "showarrow": false,
          "text": "28.4 - 185",
          "x": 4,
          "xref": "x",
          "y": 3,
          "yref": "y"
         },
         {
          "font": {
           "color": "white"
          },
          "showarrow": false,
          "text": "0.0 - 0",
          "x": 0,
          "xref": "x",
          "y": 4,
          "yref": "y"
         },
         {
          "font": {
           "color": "white"
          },
          "showarrow": false,
          "text": "11.7 - 98",
          "x": 1,
          "xref": "x",
          "y": 4,
          "yref": "y"
         },
         {
          "font": {
           "color": "white"
          },
          "showarrow": false,
          "text": "19.2 - 161",
          "x": 2,
          "xref": "x",
          "y": 4,
          "yref": "y"
         },
         {
          "font": {
           "color": "white"
          },
          "showarrow": false,
          "text": "7.5 - 63",
          "x": 3,
          "xref": "x",
          "y": 4,
          "yref": "y"
         },
         {
          "font": {
           "color": "white"
          },
          "showarrow": false,
          "text": "61.7 - 518",
          "x": 4,
          "xref": "x",
          "y": 4,
          "yref": "y"
         }
        ],
        "height": 800,
        "template": {
         "data": {
          "bar": [
           {
            "error_x": {
             "color": "#2a3f5f"
            },
            "error_y": {
             "color": "#2a3f5f"
            },
            "marker": {
             "line": {
              "color": "#E5ECF6",
              "width": 0.5
             },
             "pattern": {
              "fillmode": "overlay",
              "size": 10,
              "solidity": 0.2
             }
            },
            "type": "bar"
           }
          ],
          "barpolar": [
           {
            "marker": {
             "line": {
              "color": "#E5ECF6",
              "width": 0.5
             },
             "pattern": {
              "fillmode": "overlay",
              "size": 10,
              "solidity": 0.2
             }
            },
            "type": "barpolar"
           }
          ],
          "carpet": [
           {
            "aaxis": {
             "endlinecolor": "#2a3f5f",
             "gridcolor": "white",
             "linecolor": "white",
             "minorgridcolor": "white",
             "startlinecolor": "#2a3f5f"
            },
            "baxis": {
             "endlinecolor": "#2a3f5f",
             "gridcolor": "white",
             "linecolor": "white",
             "minorgridcolor": "white",
             "startlinecolor": "#2a3f5f"
            },
            "type": "carpet"
           }
          ],
          "choropleth": [
           {
            "colorbar": {
             "outlinewidth": 0,
             "ticks": ""
            },
            "type": "choropleth"
           }
          ],
          "contour": [
           {
            "colorbar": {
             "outlinewidth": 0,
             "ticks": ""
            },
            "colorscale": [
             [
              0,
              "#0d0887"
             ],
             [
              0.1111111111111111,
              "#46039f"
             ],
             [
              0.2222222222222222,
              "#7201a8"
             ],
             [
              0.3333333333333333,
              "#9c179e"
             ],
             [
              0.4444444444444444,
              "#bd3786"
             ],
             [
              0.5555555555555556,
              "#d8576b"
             ],
             [
              0.6666666666666666,
              "#ed7953"
             ],
             [
              0.7777777777777778,
              "#fb9f3a"
             ],
             [
              0.8888888888888888,
              "#fdca26"
             ],
             [
              1,
              "#f0f921"
             ]
            ],
            "type": "contour"
           }
          ],
          "contourcarpet": [
           {
            "colorbar": {
             "outlinewidth": 0,
             "ticks": ""
            },
            "type": "contourcarpet"
           }
          ],
          "heatmap": [
           {
            "colorbar": {
             "outlinewidth": 0,
             "ticks": ""
            },
            "colorscale": [
             [
              0,
              "#0d0887"
             ],
             [
              0.1111111111111111,
              "#46039f"
             ],
             [
              0.2222222222222222,
              "#7201a8"
             ],
             [
              0.3333333333333333,
              "#9c179e"
             ],
             [
              0.4444444444444444,
              "#bd3786"
             ],
             [
              0.5555555555555556,
              "#d8576b"
             ],
             [
              0.6666666666666666,
              "#ed7953"
             ],
             [
              0.7777777777777778,
              "#fb9f3a"
             ],
             [
              0.8888888888888888,
              "#fdca26"
             ],
             [
              1,
              "#f0f921"
             ]
            ],
            "type": "heatmap"
           }
          ],
          "heatmapgl": [
           {
            "colorbar": {
             "outlinewidth": 0,
             "ticks": ""
            },
            "colorscale": [
             [
              0,
              "#0d0887"
             ],
             [
              0.1111111111111111,
              "#46039f"
             ],
             [
              0.2222222222222222,
              "#7201a8"
             ],
             [
              0.3333333333333333,
              "#9c179e"
             ],
             [
              0.4444444444444444,
              "#bd3786"
             ],
             [
              0.5555555555555556,
              "#d8576b"
             ],
             [
              0.6666666666666666,
              "#ed7953"
             ],
             [
              0.7777777777777778,
              "#fb9f3a"
             ],
             [
              0.8888888888888888,
              "#fdca26"
             ],
             [
              1,
              "#f0f921"
             ]
            ],
            "type": "heatmapgl"
           }
          ],
          "histogram": [
           {
            "marker": {
             "pattern": {
              "fillmode": "overlay",
              "size": 10,
              "solidity": 0.2
             }
            },
            "type": "histogram"
           }
          ],
          "histogram2d": [
           {
            "colorbar": {
             "outlinewidth": 0,
             "ticks": ""
            },
            "colorscale": [
             [
              0,
              "#0d0887"
             ],
             [
              0.1111111111111111,
              "#46039f"
             ],
             [
              0.2222222222222222,
              "#7201a8"
             ],
             [
              0.3333333333333333,
              "#9c179e"
             ],
             [
              0.4444444444444444,
              "#bd3786"
             ],
             [
              0.5555555555555556,
              "#d8576b"
             ],
             [
              0.6666666666666666,
              "#ed7953"
             ],
             [
              0.7777777777777778,
              "#fb9f3a"
             ],
             [
              0.8888888888888888,
              "#fdca26"
             ],
             [
              1,
              "#f0f921"
             ]
            ],
            "type": "histogram2d"
           }
          ],
          "histogram2dcontour": [
           {
            "colorbar": {
             "outlinewidth": 0,
             "ticks": ""
            },
            "colorscale": [
             [
              0,
              "#0d0887"
             ],
             [
              0.1111111111111111,
              "#46039f"
             ],
             [
              0.2222222222222222,
              "#7201a8"
             ],
             [
              0.3333333333333333,
              "#9c179e"
             ],
             [
              0.4444444444444444,
              "#bd3786"
             ],
             [
              0.5555555555555556,
              "#d8576b"
             ],
             [
              0.6666666666666666,
              "#ed7953"
             ],
             [
              0.7777777777777778,
              "#fb9f3a"
             ],
             [
              0.8888888888888888,
              "#fdca26"
             ],
             [
              1,
              "#f0f921"
             ]
            ],
            "type": "histogram2dcontour"
           }
          ],
          "mesh3d": [
           {
            "colorbar": {
             "outlinewidth": 0,
             "ticks": ""
            },
            "type": "mesh3d"
           }
          ],
          "parcoords": [
           {
            "line": {
             "colorbar": {
              "outlinewidth": 0,
              "ticks": ""
             }
            },
            "type": "parcoords"
           }
          ],
          "pie": [
           {
            "automargin": true,
            "type": "pie"
           }
          ],
          "scatter": [
           {
            "fillpattern": {
             "fillmode": "overlay",
             "size": 10,
             "solidity": 0.2
            },
            "type": "scatter"
           }
          ],
          "scatter3d": [
           {
            "line": {
             "colorbar": {
              "outlinewidth": 0,
              "ticks": ""
             }
            },
            "marker": {
             "colorbar": {
              "outlinewidth": 0,
              "ticks": ""
             }
            },
            "type": "scatter3d"
           }
          ],
          "scattercarpet": [
           {
            "marker": {
             "colorbar": {
              "outlinewidth": 0,
              "ticks": ""
             }
            },
            "type": "scattercarpet"
           }
          ],
          "scattergeo": [
           {
            "marker": {
             "colorbar": {
              "outlinewidth": 0,
              "ticks": ""
             }
            },
            "type": "scattergeo"
           }
          ],
          "scattergl": [
           {
            "marker": {
             "colorbar": {
              "outlinewidth": 0,
              "ticks": ""
             }
            },
            "type": "scattergl"
           }
          ],
          "scattermapbox": [
           {
            "marker": {
             "colorbar": {
              "outlinewidth": 0,
              "ticks": ""
             }
            },
            "type": "scattermapbox"
           }
          ],
          "scatterpolar": [
           {
            "marker": {
             "colorbar": {
              "outlinewidth": 0,
              "ticks": ""
             }
            },
            "type": "scatterpolar"
           }
          ],
          "scatterpolargl": [
           {
            "marker": {
             "colorbar": {
              "outlinewidth": 0,
              "ticks": ""
             }
            },
            "type": "scatterpolargl"
           }
          ],
          "scatterternary": [
           {
            "marker": {
             "colorbar": {
              "outlinewidth": 0,
              "ticks": ""
             }
            },
            "type": "scatterternary"
           }
          ],
          "surface": [
           {
            "colorbar": {
             "outlinewidth": 0,
             "ticks": ""
            },
            "colorscale": [
             [
              0,
              "#0d0887"
             ],
             [
              0.1111111111111111,
              "#46039f"
             ],
             [
              0.2222222222222222,
              "#7201a8"
             ],
             [
              0.3333333333333333,
              "#9c179e"
             ],
             [
              0.4444444444444444,
              "#bd3786"
             ],
             [
              0.5555555555555556,
              "#d8576b"
             ],
             [
              0.6666666666666666,
              "#ed7953"
             ],
             [
              0.7777777777777778,
              "#fb9f3a"
             ],
             [
              0.8888888888888888,
              "#fdca26"
             ],
             [
              1,
              "#f0f921"
             ]
            ],
            "type": "surface"
           }
          ],
          "table": [
           {
            "cells": {
             "fill": {
              "color": "#EBF0F8"
             },
             "line": {
              "color": "white"
             }
            },
            "header": {
             "fill": {
              "color": "#C8D4E3"
             },
             "line": {
              "color": "white"
             }
            },
            "type": "table"
           }
          ]
         },
         "layout": {
          "annotationdefaults": {
           "arrowcolor": "#2a3f5f",
           "arrowhead": 0,
           "arrowwidth": 1
          },
          "autotypenumbers": "strict",
          "coloraxis": {
           "colorbar": {
            "outlinewidth": 0,
            "ticks": ""
           }
          },
          "colorscale": {
           "diverging": [
            [
             0,
             "#8e0152"
            ],
            [
             0.1,
             "#c51b7d"
            ],
            [
             0.2,
             "#de77ae"
            ],
            [
             0.3,
             "#f1b6da"
            ],
            [
             0.4,
             "#fde0ef"
            ],
            [
             0.5,
             "#f7f7f7"
            ],
            [
             0.6,
             "#e6f5d0"
            ],
            [
             0.7,
             "#b8e186"
            ],
            [
             0.8,
             "#7fbc41"
            ],
            [
             0.9,
             "#4d9221"
            ],
            [
             1,
             "#276419"
            ]
           ],
           "sequential": [
            [
             0,
             "#0d0887"
            ],
            [
             0.1111111111111111,
             "#46039f"
            ],
            [
             0.2222222222222222,
             "#7201a8"
            ],
            [
             0.3333333333333333,
             "#9c179e"
            ],
            [
             0.4444444444444444,
             "#bd3786"
            ],
            [
             0.5555555555555556,
             "#d8576b"
            ],
            [
             0.6666666666666666,
             "#ed7953"
            ],
            [
             0.7777777777777778,
             "#fb9f3a"
            ],
            [
             0.8888888888888888,
             "#fdca26"
            ],
            [
             1,
             "#f0f921"
            ]
           ],
           "sequentialminus": [
            [
             0,
             "#0d0887"
            ],
            [
             0.1111111111111111,
             "#46039f"
            ],
            [
             0.2222222222222222,
             "#7201a8"
            ],
            [
             0.3333333333333333,
             "#9c179e"
            ],
            [
             0.4444444444444444,
             "#bd3786"
            ],
            [
             0.5555555555555556,
             "#d8576b"
            ],
            [
             0.6666666666666666,
             "#ed7953"
            ],
            [
             0.7777777777777778,
             "#fb9f3a"
            ],
            [
             0.8888888888888888,
             "#fdca26"
            ],
            [
             1,
             "#f0f921"
            ]
           ]
          },
          "colorway": [
           "#636efa",
           "#EF553B",
           "#00cc96",
           "#ab63fa",
           "#FFA15A",
           "#19d3f3",
           "#FF6692",
           "#B6E880",
           "#FF97FF",
           "#FECB52"
          ],
          "font": {
           "color": "#2a3f5f"
          },
          "geo": {
           "bgcolor": "white",
           "lakecolor": "white",
           "landcolor": "#E5ECF6",
           "showlakes": true,
           "showland": true,
           "subunitcolor": "white"
          },
          "hoverlabel": {
           "align": "left"
          },
          "hovermode": "closest",
          "mapbox": {
           "style": "light"
          },
          "paper_bgcolor": "white",
          "plot_bgcolor": "#E5ECF6",
          "polar": {
           "angularaxis": {
            "gridcolor": "white",
            "linecolor": "white",
            "ticks": ""
           },
           "bgcolor": "#E5ECF6",
           "radialaxis": {
            "gridcolor": "white",
            "linecolor": "white",
            "ticks": ""
           }
          },
          "scene": {
           "xaxis": {
            "backgroundcolor": "#E5ECF6",
            "gridcolor": "white",
            "gridwidth": 2,
            "linecolor": "white",
            "showbackground": true,
            "ticks": "",
            "zerolinecolor": "white"
           },
           "yaxis": {
            "backgroundcolor": "#E5ECF6",
            "gridcolor": "white",
            "gridwidth": 2,
            "linecolor": "white",
            "showbackground": true,
            "ticks": "",
            "zerolinecolor": "white"
           },
           "zaxis": {
            "backgroundcolor": "#E5ECF6",
            "gridcolor": "white",
            "gridwidth": 2,
            "linecolor": "white",
            "showbackground": true,
            "ticks": "",
            "zerolinecolor": "white"
           }
          },
          "shapedefaults": {
           "line": {
            "color": "#2a3f5f"
           }
          },
          "ternary": {
           "aaxis": {
            "gridcolor": "white",
            "linecolor": "white",
            "ticks": ""
           },
           "baxis": {
            "gridcolor": "white",
            "linecolor": "white",
            "ticks": ""
           },
           "bgcolor": "#E5ECF6",
           "caxis": {
            "gridcolor": "white",
            "linecolor": "white",
            "ticks": ""
           }
          },
          "title": {
           "x": 0.05
          },
          "xaxis": {
           "automargin": true,
           "gridcolor": "white",
           "linecolor": "white",
           "ticks": "",
           "title": {
            "standoff": 15
           },
           "zerolinecolor": "white",
           "zerolinewidth": 2
          },
          "yaxis": {
           "automargin": true,
           "gridcolor": "white",
           "linecolor": "white",
           "ticks": "",
           "title": {
            "standoff": 15
           },
           "zerolinecolor": "white",
           "zerolinewidth": 2
          }
         }
        },
        "title": {
         "text": "Conf Matrix"
        },
        "width": 800,
        "xaxis": {
         "title": {
          "text": "Predicted value"
         }
        },
        "yaxis": {
         "title": {
          "text": "Real value"
         }
        }
       }
      }
     },
     "metadata": {},
     "output_type": "display_data"
    },
    {
     "data": {
      "text/plain": [
       "0.3362105010791073"
      ]
     },
     "execution_count": 178,
     "metadata": {},
     "output_type": "execute_result"
    }
   ],
   "source": [
    "#Vamos a replicar el resultado de la optimizacion reentrenando el modelo con el mejor conjunto de hiperparametros\n",
    "#Generamos parametros incluyendo los fijos y la mejor solución que encontro optuna\n",
    "lgb_params =  {      \n",
    "                        'objective': 'multiclass',\n",
    "                        'verbosity':-1,\n",
    "                        'num_class': len(y_train.unique())} | study.best_params\n",
    "\n",
    "lgb_train_dataset = lgb.Dataset(data=X_train,\n",
    "                                label=y_train)\n",
    "\n",
    "\n",
    "#Entreno\n",
    "lgb_model = lgb.train(lgb_params,\n",
    "                    lgb_train_dataset)\n",
    "\n",
    "#Muestro matriz de confusion y kappa\n",
    "display(plot_confusion_matrix(y_test,lgb_model.predict(X_test).argmax(axis=1)))\n",
    "\n",
    "cohen_kappa_score(y_test,lgb_model.predict(X_test).argmax(axis=1),\n",
    "                             weights = 'quadratic')\n"
   ]
  },
  {
   "cell_type": "markdown",
   "metadata": {},
   "source": [
    "## Modelo con cross validation y conjunto de test"
   ]
  },
  {
   "cell_type": "code",
   "execution_count": 179,
   "metadata": {},
   "outputs": [],
   "source": [
    "#Genero una metrica para que lightGBM haga la evaluación y pueda hacer early_stopping en el cross validation\n",
    "def lgb_custom_metric_kappa(dy_pred, dy_true):\n",
    "    metric_name = 'kappa'\n",
    "    value = cohen_kappa_score(dy_true.get_label(),dy_pred.argmax(axis=1),weights = 'quadratic')\n",
    "    is_higher_better = True\n",
    "    return(metric_name, value, is_higher_better)\n",
    "\n",
    "#Funcion objetivo a optimizar. En este caso vamos a hacer 5fold cv sobre el conjunto de train. \n",
    "# El score de CV es el objetivo a optimizar. Ademas vamos a usar los 5 modelos del CV para estimar el conjunto de test,\n",
    "# registraremos en optuna las predicciones, matriz de confusion y el score en test.\n",
    "# CV Score -> Se usa para determinar el rendimiento de los hiperparametros con precision \n",
    "# Test Score -> Nos permite testear que esta todo OK, no use (ni debo usar) esos datos para nada en el entrenamiento \n",
    "# o la optimizacion de hiperparametros\n",
    "\n",
    "def cv_es_lgb_objective(trial):\n",
    "\n",
    "    #PArametros para LightGBM\n",
    "    lgb_params = {      \n",
    "                        #PArametros fijos\n",
    "                        'objective': 'multiclass',\n",
    "                        'verbosity':-1,\n",
    "                        'num_class': len(y_train.unique()),\n",
    "                        #Hiperparametros a optimizar utilizando suggest_float o suggest_int segun el tipo de dato\n",
    "                        #Se indica el nombre del parametro, valor minimo, valor maximo \n",
    "                        #en elgunos casos el parametro log=True para parametros que requieren buscar en esa escala\n",
    "                        'lambda_l1': trial.suggest_float('lambda_l1', 1e-8, 10.0, log=True),\n",
    "                        'lambda_l2': trial.suggest_float('lambda_l2', 1e-8, 10.0, log=True),\n",
    "                        'num_leaves': trial.suggest_int('num_leaves', 2, 256),\n",
    "                        'feature_fraction': trial.suggest_float('feature_fraction', 0.4, 1.0),\n",
    "                        'bagging_fraction': trial.suggest_float('bagging_fraction', 0.4, 1.0),\n",
    "                        'bagging_freq': trial.suggest_int('bagging_freq', 1, 7),\n",
    "                        'min_child_samples': trial.suggest_int('min_child_samples', 5, 100),\n",
    "                        } \n",
    "\n",
    "    #Voy a generar estimaciones de los 5 modelos del CV sobre los datos test y los acumulo en la matriz scores_ensemble\n",
    "    scores_ensemble = np.zeros((len(y_test),len(y_train.unique())))\n",
    "\n",
    "    #Score del 5 fold CV inicializado en 0\n",
    "    score_folds = 0\n",
    "\n",
    "    #Numero de splits del CV\n",
    "    n_splits = 5\n",
    "\n",
    "    #Objeto para hacer el split estratificado de CV\n",
    "    skf = StratifiedKFold(n_splits=n_splits)\n",
    "\n",
    "    for i, (if_index, oof_index) in enumerate(skf.split(X_train, y_train)):\n",
    "        \n",
    "        #Dataset in fold (donde entreno) \n",
    "        lgb_if_dataset = lgb.Dataset(data=X_train.iloc[if_index],\n",
    "                                        label=y_train.iloc[if_index],\n",
    "                                        free_raw_data=False)\n",
    "        \n",
    "        #Dataset Out of fold (donde mido la performance del CV)\n",
    "        lgb_oof_dataset = lgb.Dataset(data=X_train.iloc[oof_index],\n",
    "                                        label=y_train.iloc[oof_index],\n",
    "                                        free_raw_data=False)\n",
    "\n",
    "        #Entreno el modelo\n",
    "        lgb_model = lgb.train(lgb_params,\n",
    "                                lgb_if_dataset,\n",
    "                                valid_sets=lgb_oof_dataset,\n",
    "                                callbacks=[lgb.early_stopping(10, verbose=False)],\n",
    "                                feval = lgb_custom_metric_kappa\n",
    "                                )\n",
    "        \n",
    "        #Acumulo los scores (probabilidades) de cada clase para cada uno de los modelos que determino en los folds\n",
    "        #Se predice el 20% de los datos que separe para tes y no uso para entrenar en ningun fold\n",
    "        scores_ensemble = scores_ensemble + lgb_model.predict(X_test)\n",
    "        \n",
    "        #Score del fold (registros de dataset train que en este fold quedan out of fold)\n",
    "        score_folds = score_folds + cohen_kappa_score(y_train.iloc[oof_index], \n",
    "                                                            lgb_model.predict(X_train.iloc[oof_index]).argmax(axis=1),weights = 'quadratic')/n_splits\n",
    "\n",
    "\n",
    "    #Guardo prediccion del trial sobre el conjunto de test\n",
    "    # Genero nombre de archivo\n",
    "    predicted_filename = os.path.join(PATH_TO_TEMP_FILES,f'test_{trial.study.study_name}_{trial.number}.joblib')\n",
    "    # Copia del dataset para guardar la prediccion\n",
    "    predicted_df = test.copy()\n",
    "    # Genero columna pred con predicciones sumadas de los 5 folds\n",
    "    predicted_df['pred'] = [scores_ensemble[p,:] for p in range(scores_ensemble.shape[0])]\n",
    "    # Grabo dataframe en temp_artifacts\n",
    "    dump(predicted_df, predicted_filename)\n",
    "    # Indico a optuna que asocie el archivo generado al trial\n",
    "    upload_artifact(trial, predicted_filename, artifact_store)    \n",
    "\n",
    "    #Grabo natriz de confusion\n",
    "    #Nombre de archivo\n",
    "    cm_filename = os.path.join(PATH_TO_TEMP_FILES,f'cm_{trial.study.study_name}_{trial.number}.jpg')\n",
    "    #Grabo archivo\n",
    "    plot_confusion_matrix(y_test,scores_ensemble.argmax(axis=1)).write_image(cm_filename)\n",
    "    #Asocio al trial\n",
    "    upload_artifact(trial, cm_filename, artifact_store)\n",
    "\n",
    "    #Determino score en conjunto de test y asocio como metrica adicional en optuna\n",
    "    test_score = cohen_kappa_score(y_test,scores_ensemble.argmax(axis=1),weights = 'quadratic')\n",
    "    trial.set_user_attr(\"test_score\", test_score)\n",
    "\n",
    "    #Devuelvo score del 5fold cv a optuna para que optimice en base a eso\n",
    "    return(score_folds)"
   ]
  },
  {
   "cell_type": "code",
   "execution_count": 180,
   "metadata": {},
   "outputs": [
    {
     "name": "stderr",
     "output_type": "stream",
     "text": [
      "[I 2024-10-13 00:21:24,104] A new study created in RDB with name: 04 - LGB Multiclass CV_FE\n",
      "C:\\Users\\natal\\AppData\\Local\\Temp\\ipykernel_19556\\4150719641.py:86: FutureWarning:\n",
      "\n",
      "upload_artifact() got {'study_or_trial', 'file_path', 'artifact_store'} as positional arguments but they were expected to be given as keyword arguments.\n",
      "\n",
      "C:\\Users\\natal\\AppData\\Local\\Temp\\ipykernel_19556\\4150719641.py:94: FutureWarning:\n",
      "\n",
      "upload_artifact() got {'study_or_trial', 'file_path', 'artifact_store'} as positional arguments but they were expected to be given as keyword arguments.\n",
      "\n",
      "[I 2024-10-13 00:21:27,770] Trial 0 finished with value: 0.3511596796859668 and parameters: {'lambda_l1': 1.729595486590433e-07, 'lambda_l2': 0.051213600364552164, 'num_leaves': 61, 'feature_fraction': 0.6459645525782332, 'bagging_fraction': 0.6494771998655922, 'bagging_freq': 4, 'min_child_samples': 100}. Best is trial 0 with value: 0.3511596796859668.\n",
      "C:\\Users\\natal\\AppData\\Local\\Temp\\ipykernel_19556\\4150719641.py:86: FutureWarning:\n",
      "\n",
      "upload_artifact() got {'study_or_trial', 'file_path', 'artifact_store'} as positional arguments but they were expected to be given as keyword arguments.\n",
      "\n",
      "C:\\Users\\natal\\AppData\\Local\\Temp\\ipykernel_19556\\4150719641.py:94: FutureWarning:\n",
      "\n",
      "upload_artifact() got {'study_or_trial', 'file_path', 'artifact_store'} as positional arguments but they were expected to be given as keyword arguments.\n",
      "\n",
      "[I 2024-10-13 00:21:32,602] Trial 1 finished with value: 0.3500007770270196 and parameters: {'lambda_l1': 5.5415347841998115e-05, 'lambda_l2': 1.3882982632341555e-08, 'num_leaves': 220, 'feature_fraction': 0.4564283693509643, 'bagging_fraction': 0.9470809660650831, 'bagging_freq': 5, 'min_child_samples': 67}. Best is trial 0 with value: 0.3511596796859668.\n",
      "C:\\Users\\natal\\AppData\\Local\\Temp\\ipykernel_19556\\4150719641.py:86: FutureWarning:\n",
      "\n",
      "upload_artifact() got {'study_or_trial', 'file_path', 'artifact_store'} as positional arguments but they were expected to be given as keyword arguments.\n",
      "\n",
      "C:\\Users\\natal\\AppData\\Local\\Temp\\ipykernel_19556\\4150719641.py:94: FutureWarning:\n",
      "\n",
      "upload_artifact() got {'study_or_trial', 'file_path', 'artifact_store'} as positional arguments but they were expected to be given as keyword arguments.\n",
      "\n",
      "[I 2024-10-13 00:21:36,633] Trial 2 finished with value: 0.34372995202194245 and parameters: {'lambda_l1': 2.848308785304171, 'lambda_l2': 0.37777333189656914, 'num_leaves': 249, 'feature_fraction': 0.42096386255457197, 'bagging_fraction': 0.6690957866784877, 'bagging_freq': 7, 'min_child_samples': 99}. Best is trial 0 with value: 0.3511596796859668.\n",
      "C:\\Users\\natal\\AppData\\Local\\Temp\\ipykernel_19556\\4150719641.py:86: FutureWarning:\n",
      "\n",
      "upload_artifact() got {'study_or_trial', 'file_path', 'artifact_store'} as positional arguments but they were expected to be given as keyword arguments.\n",
      "\n",
      "C:\\Users\\natal\\AppData\\Local\\Temp\\ipykernel_19556\\4150719641.py:94: FutureWarning:\n",
      "\n",
      "upload_artifact() got {'study_or_trial', 'file_path', 'artifact_store'} as positional arguments but they were expected to be given as keyword arguments.\n",
      "\n",
      "[I 2024-10-13 00:21:40,791] Trial 3 finished with value: 0.3537972360242776 and parameters: {'lambda_l1': 0.006132979764924657, 'lambda_l2': 2.315371059259222, 'num_leaves': 131, 'feature_fraction': 0.5969672684303589, 'bagging_fraction': 0.5343324347506149, 'bagging_freq': 7, 'min_child_samples': 100}. Best is trial 3 with value: 0.3537972360242776.\n",
      "C:\\Users\\natal\\AppData\\Local\\Temp\\ipykernel_19556\\4150719641.py:86: FutureWarning:\n",
      "\n",
      "upload_artifact() got {'study_or_trial', 'file_path', 'artifact_store'} as positional arguments but they were expected to be given as keyword arguments.\n",
      "\n",
      "C:\\Users\\natal\\AppData\\Local\\Temp\\ipykernel_19556\\4150719641.py:94: FutureWarning:\n",
      "\n",
      "upload_artifact() got {'study_or_trial', 'file_path', 'artifact_store'} as positional arguments but they were expected to be given as keyword arguments.\n",
      "\n",
      "[I 2024-10-13 00:21:44,508] Trial 4 finished with value: 0.34711409278733335 and parameters: {'lambda_l1': 3.1335252708956393e-07, 'lambda_l2': 0.0005837515022854125, 'num_leaves': 76, 'feature_fraction': 0.9875765776081732, 'bagging_fraction': 0.5957589152795548, 'bagging_freq': 3, 'min_child_samples': 61}. Best is trial 3 with value: 0.3537972360242776.\n",
      "C:\\Users\\natal\\AppData\\Local\\Temp\\ipykernel_19556\\4150719641.py:86: FutureWarning:\n",
      "\n",
      "upload_artifact() got {'study_or_trial', 'file_path', 'artifact_store'} as positional arguments but they were expected to be given as keyword arguments.\n",
      "\n",
      "C:\\Users\\natal\\AppData\\Local\\Temp\\ipykernel_19556\\4150719641.py:94: FutureWarning:\n",
      "\n",
      "upload_artifact() got {'study_or_trial', 'file_path', 'artifact_store'} as positional arguments but they were expected to be given as keyword arguments.\n",
      "\n",
      "[I 2024-10-13 00:21:48,734] Trial 5 finished with value: 0.3408861001396443 and parameters: {'lambda_l1': 0.5199551107706799, 'lambda_l2': 0.4775821720626773, 'num_leaves': 221, 'feature_fraction': 0.8365591901353123, 'bagging_fraction': 0.8665810016511383, 'bagging_freq': 7, 'min_child_samples': 21}. Best is trial 3 with value: 0.3537972360242776.\n",
      "C:\\Users\\natal\\AppData\\Local\\Temp\\ipykernel_19556\\4150719641.py:86: FutureWarning:\n",
      "\n",
      "upload_artifact() got {'study_or_trial', 'file_path', 'artifact_store'} as positional arguments but they were expected to be given as keyword arguments.\n",
      "\n",
      "C:\\Users\\natal\\AppData\\Local\\Temp\\ipykernel_19556\\4150719641.py:94: FutureWarning:\n",
      "\n",
      "upload_artifact() got {'study_or_trial', 'file_path', 'artifact_store'} as positional arguments but they were expected to be given as keyword arguments.\n",
      "\n",
      "[I 2024-10-13 00:21:51,784] Trial 6 finished with value: 0.34928415349283465 and parameters: {'lambda_l1': 8.191005102844973e-08, 'lambda_l2': 1.6383766452880435e-07, 'num_leaves': 49, 'feature_fraction': 0.846140743211789, 'bagging_fraction': 0.6031546376330954, 'bagging_freq': 2, 'min_child_samples': 55}. Best is trial 3 with value: 0.3537972360242776.\n",
      "C:\\Users\\natal\\AppData\\Local\\Temp\\ipykernel_19556\\4150719641.py:86: FutureWarning:\n",
      "\n",
      "upload_artifact() got {'study_or_trial', 'file_path', 'artifact_store'} as positional arguments but they were expected to be given as keyword arguments.\n",
      "\n",
      "C:\\Users\\natal\\AppData\\Local\\Temp\\ipykernel_19556\\4150719641.py:94: FutureWarning:\n",
      "\n",
      "upload_artifact() got {'study_or_trial', 'file_path', 'artifact_store'} as positional arguments but they were expected to be given as keyword arguments.\n",
      "\n",
      "[I 2024-10-13 00:21:56,140] Trial 7 finished with value: 0.3527092548540064 and parameters: {'lambda_l1': 1.039740614870054, 'lambda_l2': 0.0021252350217380728, 'num_leaves': 170, 'feature_fraction': 0.5108917607514072, 'bagging_fraction': 0.8107091804064273, 'bagging_freq': 4, 'min_child_samples': 57}. Best is trial 3 with value: 0.3537972360242776.\n",
      "C:\\Users\\natal\\AppData\\Local\\Temp\\ipykernel_19556\\4150719641.py:86: FutureWarning:\n",
      "\n",
      "upload_artifact() got {'study_or_trial', 'file_path', 'artifact_store'} as positional arguments but they were expected to be given as keyword arguments.\n",
      "\n",
      "C:\\Users\\natal\\AppData\\Local\\Temp\\ipykernel_19556\\4150719641.py:94: FutureWarning:\n",
      "\n",
      "upload_artifact() got {'study_or_trial', 'file_path', 'artifact_store'} as positional arguments but they were expected to be given as keyword arguments.\n",
      "\n",
      "[I 2024-10-13 00:21:59,421] Trial 8 finished with value: 0.34422187136348015 and parameters: {'lambda_l1': 0.00011624741838263809, 'lambda_l2': 1.3327607682008567e-07, 'num_leaves': 53, 'feature_fraction': 0.7677162001364821, 'bagging_fraction': 0.45171787205462466, 'bagging_freq': 4, 'min_child_samples': 60}. Best is trial 3 with value: 0.3537972360242776.\n",
      "C:\\Users\\natal\\AppData\\Local\\Temp\\ipykernel_19556\\4150719641.py:86: FutureWarning:\n",
      "\n",
      "upload_artifact() got {'study_or_trial', 'file_path', 'artifact_store'} as positional arguments but they were expected to be given as keyword arguments.\n",
      "\n",
      "C:\\Users\\natal\\AppData\\Local\\Temp\\ipykernel_19556\\4150719641.py:94: FutureWarning:\n",
      "\n",
      "upload_artifact() got {'study_or_trial', 'file_path', 'artifact_store'} as positional arguments but they were expected to be given as keyword arguments.\n",
      "\n",
      "[I 2024-10-13 00:22:03,676] Trial 9 finished with value: 0.33551230463475656 and parameters: {'lambda_l1': 5.979194093130299e-07, 'lambda_l2': 3.259507906018193e-06, 'num_leaves': 242, 'feature_fraction': 0.7091115300189546, 'bagging_fraction': 0.46978843649603763, 'bagging_freq': 4, 'min_child_samples': 12}. Best is trial 3 with value: 0.3537972360242776.\n",
      "C:\\Users\\natal\\AppData\\Local\\Temp\\ipykernel_19556\\4150719641.py:86: FutureWarning:\n",
      "\n",
      "upload_artifact() got {'study_or_trial', 'file_path', 'artifact_store'} as positional arguments but they were expected to be given as keyword arguments.\n",
      "\n",
      "C:\\Users\\natal\\AppData\\Local\\Temp\\ipykernel_19556\\4150719641.py:94: FutureWarning:\n",
      "\n",
      "upload_artifact() got {'study_or_trial', 'file_path', 'artifact_store'} as positional arguments but they were expected to be given as keyword arguments.\n",
      "\n",
      "[I 2024-10-13 00:22:07,679] Trial 10 finished with value: 0.3495575344488697 and parameters: {'lambda_l1': 0.005583862160402331, 'lambda_l2': 3.391750940664536, 'num_leaves': 119, 'feature_fraction': 0.567850248643036, 'bagging_fraction': 0.5232773976872032, 'bagging_freq': 6, 'min_child_samples': 82}. Best is trial 3 with value: 0.3537972360242776.\n",
      "C:\\Users\\natal\\AppData\\Local\\Temp\\ipykernel_19556\\4150719641.py:86: FutureWarning:\n",
      "\n",
      "upload_artifact() got {'study_or_trial', 'file_path', 'artifact_store'} as positional arguments but they were expected to be given as keyword arguments.\n",
      "\n",
      "C:\\Users\\natal\\AppData\\Local\\Temp\\ipykernel_19556\\4150719641.py:94: FutureWarning:\n",
      "\n",
      "upload_artifact() got {'study_or_trial', 'file_path', 'artifact_store'} as positional arguments but they were expected to be given as keyword arguments.\n",
      "\n",
      "[I 2024-10-13 00:22:12,731] Trial 11 finished with value: 0.3500489569514196 and parameters: {'lambda_l1': 0.032192066616061686, 'lambda_l2': 0.000490224304222484, 'num_leaves': 158, 'feature_fraction': 0.5441636310115002, 'bagging_fraction': 0.796337253188532, 'bagging_freq': 2, 'min_child_samples': 32}. Best is trial 3 with value: 0.3537972360242776.\n",
      "C:\\Users\\natal\\AppData\\Local\\Temp\\ipykernel_19556\\4150719641.py:86: FutureWarning:\n",
      "\n",
      "upload_artifact() got {'study_or_trial', 'file_path', 'artifact_store'} as positional arguments but they were expected to be given as keyword arguments.\n",
      "\n",
      "C:\\Users\\natal\\AppData\\Local\\Temp\\ipykernel_19556\\4150719641.py:94: FutureWarning:\n",
      "\n",
      "upload_artifact() got {'study_or_trial', 'file_path', 'artifact_store'} as positional arguments but they were expected to be given as keyword arguments.\n",
      "\n",
      "[I 2024-10-13 00:22:17,315] Trial 12 finished with value: 0.35380063699385667 and parameters: {'lambda_l1': 0.05141552014690819, 'lambda_l2': 0.010891821419472494, 'num_leaves': 167, 'feature_fraction': 0.5482701156557246, 'bagging_fraction': 0.7612313098159331, 'bagging_freq': 5, 'min_child_samples': 37}. Best is trial 12 with value: 0.35380063699385667.\n",
      "C:\\Users\\natal\\AppData\\Local\\Temp\\ipykernel_19556\\4150719641.py:86: FutureWarning:\n",
      "\n",
      "upload_artifact() got {'study_or_trial', 'file_path', 'artifact_store'} as positional arguments but they were expected to be given as keyword arguments.\n",
      "\n",
      "C:\\Users\\natal\\AppData\\Local\\Temp\\ipykernel_19556\\4150719641.py:94: FutureWarning:\n",
      "\n",
      "upload_artifact() got {'study_or_trial', 'file_path', 'artifact_store'} as positional arguments but they were expected to be given as keyword arguments.\n",
      "\n",
      "[I 2024-10-13 00:22:21,181] Trial 13 finished with value: 0.34620270143673854 and parameters: {'lambda_l1': 0.005707809509103402, 'lambda_l2': 0.023348559245757832, 'num_leaves': 122, 'feature_fraction': 0.6234008627721129, 'bagging_fraction': 0.7237938226421547, 'bagging_freq': 6, 'min_child_samples': 36}. Best is trial 12 with value: 0.35380063699385667.\n",
      "C:\\Users\\natal\\AppData\\Local\\Temp\\ipykernel_19556\\4150719641.py:86: FutureWarning:\n",
      "\n",
      "upload_artifact() got {'study_or_trial', 'file_path', 'artifact_store'} as positional arguments but they were expected to be given as keyword arguments.\n",
      "\n",
      "C:\\Users\\natal\\AppData\\Local\\Temp\\ipykernel_19556\\4150719641.py:94: FutureWarning:\n",
      "\n",
      "upload_artifact() got {'study_or_trial', 'file_path', 'artifact_store'} as positional arguments but they were expected to be given as keyword arguments.\n",
      "\n",
      "[I 2024-10-13 00:22:25,044] Trial 14 finished with value: 0.3479993566420656 and parameters: {'lambda_l1': 0.0627185844484225, 'lambda_l2': 2.0268912467478972e-05, 'num_leaves': 176, 'feature_fraction': 0.6349314649985067, 'bagging_fraction': 0.7352469642616355, 'bagging_freq': 6, 'min_child_samples': 41}. Best is trial 12 with value: 0.35380063699385667.\n",
      "C:\\Users\\natal\\AppData\\Local\\Temp\\ipykernel_19556\\4150719641.py:86: FutureWarning:\n",
      "\n",
      "upload_artifact() got {'study_or_trial', 'file_path', 'artifact_store'} as positional arguments but they were expected to be given as keyword arguments.\n",
      "\n",
      "C:\\Users\\natal\\AppData\\Local\\Temp\\ipykernel_19556\\4150719641.py:94: FutureWarning:\n",
      "\n",
      "upload_artifact() got {'study_or_trial', 'file_path', 'artifact_store'} as positional arguments but they were expected to be given as keyword arguments.\n",
      "\n",
      "[I 2024-10-13 00:22:28,541] Trial 15 finished with value: 0.34405735513472313 and parameters: {'lambda_l1': 0.000635661736220313, 'lambda_l2': 7.000627317059848, 'num_leaves': 8, 'feature_fraction': 0.495120704229496, 'bagging_fraction': 0.5452006195347664, 'bagging_freq': 5, 'min_child_samples': 79}. Best is trial 12 with value: 0.35380063699385667.\n",
      "C:\\Users\\natal\\AppData\\Local\\Temp\\ipykernel_19556\\4150719641.py:86: FutureWarning:\n",
      "\n",
      "upload_artifact() got {'study_or_trial', 'file_path', 'artifact_store'} as positional arguments but they were expected to be given as keyword arguments.\n",
      "\n",
      "C:\\Users\\natal\\AppData\\Local\\Temp\\ipykernel_19556\\4150719641.py:94: FutureWarning:\n",
      "\n",
      "upload_artifact() got {'study_or_trial', 'file_path', 'artifact_store'} as positional arguments but they were expected to be given as keyword arguments.\n",
      "\n",
      "[I 2024-10-13 00:22:32,295] Trial 16 finished with value: 0.34134353038794735 and parameters: {'lambda_l1': 9.108711202996216e-06, 'lambda_l2': 0.011105111432068814, 'num_leaves': 95, 'feature_fraction': 0.7100064821174866, 'bagging_fraction': 0.40921051284461624, 'bagging_freq': 7, 'min_child_samples': 46}. Best is trial 12 with value: 0.35380063699385667.\n",
      "C:\\Users\\natal\\AppData\\Local\\Temp\\ipykernel_19556\\4150719641.py:86: FutureWarning:\n",
      "\n",
      "upload_artifact() got {'study_or_trial', 'file_path', 'artifact_store'} as positional arguments but they were expected to be given as keyword arguments.\n",
      "\n",
      "C:\\Users\\natal\\AppData\\Local\\Temp\\ipykernel_19556\\4150719641.py:94: FutureWarning:\n",
      "\n",
      "upload_artifact() got {'study_or_trial', 'file_path', 'artifact_store'} as positional arguments but they were expected to be given as keyword arguments.\n",
      "\n",
      "[I 2024-10-13 00:22:37,419] Trial 17 finished with value: 0.35334198913404746 and parameters: {'lambda_l1': 0.0014209241125593098, 'lambda_l2': 4.016368792546474e-05, 'num_leaves': 149, 'feature_fraction': 0.5787352282430465, 'bagging_fraction': 0.960885262012711, 'bagging_freq': 5, 'min_child_samples': 21}. Best is trial 12 with value: 0.35380063699385667.\n",
      "C:\\Users\\natal\\AppData\\Local\\Temp\\ipykernel_19556\\4150719641.py:86: FutureWarning:\n",
      "\n",
      "upload_artifact() got {'study_or_trial', 'file_path', 'artifact_store'} as positional arguments but they were expected to be given as keyword arguments.\n",
      "\n",
      "C:\\Users\\natal\\AppData\\Local\\Temp\\ipykernel_19556\\4150719641.py:94: FutureWarning:\n",
      "\n",
      "upload_artifact() got {'study_or_trial', 'file_path', 'artifact_store'} as positional arguments but they were expected to be given as keyword arguments.\n",
      "\n",
      "[I 2024-10-13 00:22:42,405] Trial 18 finished with value: 0.3460455082834255 and parameters: {'lambda_l1': 0.018199615379133772, 'lambda_l2': 0.5514774443311582, 'num_leaves': 196, 'feature_fraction': 0.45550541625931207, 'bagging_fraction': 0.8710901184382365, 'bagging_freq': 1, 'min_child_samples': 80}. Best is trial 12 with value: 0.35380063699385667.\n",
      "C:\\Users\\natal\\AppData\\Local\\Temp\\ipykernel_19556\\4150719641.py:86: FutureWarning:\n",
      "\n",
      "upload_artifact() got {'study_or_trial', 'file_path', 'artifact_store'} as positional arguments but they were expected to be given as keyword arguments.\n",
      "\n",
      "C:\\Users\\natal\\AppData\\Local\\Temp\\ipykernel_19556\\4150719641.py:94: FutureWarning:\n",
      "\n",
      "upload_artifact() got {'study_or_trial', 'file_path', 'artifact_store'} as positional arguments but they were expected to be given as keyword arguments.\n",
      "\n",
      "[I 2024-10-13 00:22:46,462] Trial 19 finished with value: 0.35006430597657845 and parameters: {'lambda_l1': 0.4228374798437073, 'lambda_l2': 0.09445745151185925, 'num_leaves': 103, 'feature_fraction': 0.7691842461226682, 'bagging_fraction': 0.7528057290868104, 'bagging_freq': 6, 'min_child_samples': 27}. Best is trial 12 with value: 0.35380063699385667.\n",
      "C:\\Users\\natal\\AppData\\Local\\Temp\\ipykernel_19556\\4150719641.py:86: FutureWarning:\n",
      "\n",
      "upload_artifact() got {'study_or_trial', 'file_path', 'artifact_store'} as positional arguments but they were expected to be given as keyword arguments.\n",
      "\n",
      "C:\\Users\\natal\\AppData\\Local\\Temp\\ipykernel_19556\\4150719641.py:94: FutureWarning:\n",
      "\n",
      "upload_artifact() got {'study_or_trial', 'file_path', 'artifact_store'} as positional arguments but they were expected to be given as keyword arguments.\n",
      "\n",
      "[I 2024-10-13 00:22:49,962] Trial 20 finished with value: 0.35133980643784957 and parameters: {'lambda_l1': 1.0031443595980733e-05, 'lambda_l2': 0.003849382969366026, 'num_leaves': 145, 'feature_fraction': 0.602543826857312, 'bagging_fraction': 0.6020722547257898, 'bagging_freq': 7, 'min_child_samples': 71}. Best is trial 12 with value: 0.35380063699385667.\n",
      "C:\\Users\\natal\\AppData\\Local\\Temp\\ipykernel_19556\\4150719641.py:86: FutureWarning:\n",
      "\n",
      "upload_artifact() got {'study_or_trial', 'file_path', 'artifact_store'} as positional arguments but they were expected to be given as keyword arguments.\n",
      "\n",
      "C:\\Users\\natal\\AppData\\Local\\Temp\\ipykernel_19556\\4150719641.py:94: FutureWarning:\n",
      "\n",
      "upload_artifact() got {'study_or_trial', 'file_path', 'artifact_store'} as positional arguments but they were expected to be given as keyword arguments.\n",
      "\n",
      "[I 2024-10-13 00:22:54,343] Trial 21 finished with value: 0.34920881517070435 and parameters: {'lambda_l1': 0.0011865828187368923, 'lambda_l2': 2.917632141155768e-05, 'num_leaves': 141, 'feature_fraction': 0.5621720600355071, 'bagging_fraction': 0.9240476125661424, 'bagging_freq': 5, 'min_child_samples': 7}. Best is trial 12 with value: 0.35380063699385667.\n",
      "C:\\Users\\natal\\AppData\\Local\\Temp\\ipykernel_19556\\4150719641.py:86: FutureWarning:\n",
      "\n",
      "upload_artifact() got {'study_or_trial', 'file_path', 'artifact_store'} as positional arguments but they were expected to be given as keyword arguments.\n",
      "\n",
      "C:\\Users\\natal\\AppData\\Local\\Temp\\ipykernel_19556\\4150719641.py:94: FutureWarning:\n",
      "\n",
      "upload_artifact() got {'study_or_trial', 'file_path', 'artifact_store'} as positional arguments but they were expected to be given as keyword arguments.\n",
      "\n",
      "[I 2024-10-13 00:22:59,284] Trial 22 finished with value: 0.35125472416350223 and parameters: {'lambda_l1': 0.1351502620833769, 'lambda_l2': 2.9972709403239877e-05, 'num_leaves': 191, 'feature_fraction': 0.6729265047373142, 'bagging_fraction': 0.9932161506359714, 'bagging_freq': 5, 'min_child_samples': 17}. Best is trial 12 with value: 0.35380063699385667.\n",
      "C:\\Users\\natal\\AppData\\Local\\Temp\\ipykernel_19556\\4150719641.py:86: FutureWarning:\n",
      "\n",
      "upload_artifact() got {'study_or_trial', 'file_path', 'artifact_store'} as positional arguments but they were expected to be given as keyword arguments.\n",
      "\n",
      "C:\\Users\\natal\\AppData\\Local\\Temp\\ipykernel_19556\\4150719641.py:94: FutureWarning:\n",
      "\n",
      "upload_artifact() got {'study_or_trial', 'file_path', 'artifact_store'} as positional arguments but they were expected to be given as keyword arguments.\n",
      "\n",
      "[I 2024-10-13 00:23:04,257] Trial 23 finished with value: 0.35498285054977313 and parameters: {'lambda_l1': 0.0026283613425070415, 'lambda_l2': 0.00012022520782832867, 'num_leaves': 151, 'feature_fraction': 0.5190461453836214, 'bagging_fraction': 0.8360618857961382, 'bagging_freq': 3, 'min_child_samples': 45}. Best is trial 23 with value: 0.35498285054977313.\n",
      "C:\\Users\\natal\\AppData\\Local\\Temp\\ipykernel_19556\\4150719641.py:86: FutureWarning:\n",
      "\n",
      "upload_artifact() got {'study_or_trial', 'file_path', 'artifact_store'} as positional arguments but they were expected to be given as keyword arguments.\n",
      "\n",
      "C:\\Users\\natal\\AppData\\Local\\Temp\\ipykernel_19556\\4150719641.py:94: FutureWarning:\n",
      "\n",
      "upload_artifact() got {'study_or_trial', 'file_path', 'artifact_store'} as positional arguments but they were expected to be given as keyword arguments.\n",
      "\n",
      "[I 2024-10-13 00:23:09,076] Trial 24 finished with value: 0.3490092629451964 and parameters: {'lambda_l1': 8.603633844407995, 'lambda_l2': 0.00017375471587503308, 'num_leaves': 192, 'feature_fraction': 0.5061512958557735, 'bagging_fraction': 0.8007524344034198, 'bagging_freq': 3, 'min_child_samples': 47}. Best is trial 23 with value: 0.35498285054977313.\n",
      "C:\\Users\\natal\\AppData\\Local\\Temp\\ipykernel_19556\\4150719641.py:86: FutureWarning:\n",
      "\n",
      "upload_artifact() got {'study_or_trial', 'file_path', 'artifact_store'} as positional arguments but they were expected to be given as keyword arguments.\n",
      "\n",
      "C:\\Users\\natal\\AppData\\Local\\Temp\\ipykernel_19556\\4150719641.py:94: FutureWarning:\n",
      "\n",
      "upload_artifact() got {'study_or_trial', 'file_path', 'artifact_store'} as positional arguments but they were expected to be given as keyword arguments.\n",
      "\n",
      "[I 2024-10-13 00:23:14,189] Trial 25 finished with value: 0.3547580517893967 and parameters: {'lambda_l1': 0.007723019046664562, 'lambda_l2': 2.619100545362127e-06, 'num_leaves': 124, 'feature_fraction': 0.42540472984353905, 'bagging_fraction': 0.8490124566318459, 'bagging_freq': 3, 'min_child_samples': 49}. Best is trial 23 with value: 0.35498285054977313.\n",
      "C:\\Users\\natal\\AppData\\Local\\Temp\\ipykernel_19556\\4150719641.py:86: FutureWarning:\n",
      "\n",
      "upload_artifact() got {'study_or_trial', 'file_path', 'artifact_store'} as positional arguments but they were expected to be given as keyword arguments.\n",
      "\n",
      "C:\\Users\\natal\\AppData\\Local\\Temp\\ipykernel_19556\\4150719641.py:94: FutureWarning:\n",
      "\n",
      "upload_artifact() got {'study_or_trial', 'file_path', 'artifact_store'} as positional arguments but they were expected to be given as keyword arguments.\n",
      "\n",
      "[I 2024-10-13 00:23:19,780] Trial 26 finished with value: 0.3544141124981538 and parameters: {'lambda_l1': 0.15204836511646946, 'lambda_l2': 1.0291386597286433e-06, 'num_leaves': 99, 'feature_fraction': 0.4061050941182364, 'bagging_fraction': 0.8690130424762177, 'bagging_freq': 3, 'min_child_samples': 49}. Best is trial 23 with value: 0.35498285054977313.\n",
      "C:\\Users\\natal\\AppData\\Local\\Temp\\ipykernel_19556\\4150719641.py:86: FutureWarning:\n",
      "\n",
      "upload_artifact() got {'study_or_trial', 'file_path', 'artifact_store'} as positional arguments but they were expected to be given as keyword arguments.\n",
      "\n",
      "C:\\Users\\natal\\AppData\\Local\\Temp\\ipykernel_19556\\4150719641.py:94: FutureWarning:\n",
      "\n",
      "upload_artifact() got {'study_or_trial', 'file_path', 'artifact_store'} as positional arguments but they were expected to be given as keyword arguments.\n",
      "\n",
      "[I 2024-10-13 00:23:23,895] Trial 27 finished with value: 0.35065669498767627 and parameters: {'lambda_l1': 1.264670373114221e-08, 'lambda_l2': 9.709169820975836e-07, 'num_leaves': 93, 'feature_fraction': 0.4141684951771868, 'bagging_fraction': 0.8694993026089413, 'bagging_freq': 3, 'min_child_samples': 46}. Best is trial 23 with value: 0.35498285054977313.\n",
      "C:\\Users\\natal\\AppData\\Local\\Temp\\ipykernel_19556\\4150719641.py:86: FutureWarning:\n",
      "\n",
      "upload_artifact() got {'study_or_trial', 'file_path', 'artifact_store'} as positional arguments but they were expected to be given as keyword arguments.\n",
      "\n",
      "C:\\Users\\natal\\AppData\\Local\\Temp\\ipykernel_19556\\4150719641.py:94: FutureWarning:\n",
      "\n",
      "upload_artifact() got {'study_or_trial', 'file_path', 'artifact_store'} as positional arguments but they were expected to be given as keyword arguments.\n",
      "\n",
      "[I 2024-10-13 00:23:28,461] Trial 28 finished with value: 0.3568090692349163 and parameters: {'lambda_l1': 7.66754525595212e-05, 'lambda_l2': 1.2423014183329958e-06, 'num_leaves': 23, 'feature_fraction': 0.40637460413800547, 'bagging_fraction': 0.9097985162136317, 'bagging_freq': 2, 'min_child_samples': 50}. Best is trial 28 with value: 0.3568090692349163.\n",
      "C:\\Users\\natal\\AppData\\Local\\Temp\\ipykernel_19556\\4150719641.py:86: FutureWarning:\n",
      "\n",
      "upload_artifact() got {'study_or_trial', 'file_path', 'artifact_store'} as positional arguments but they were expected to be given as keyword arguments.\n",
      "\n",
      "C:\\Users\\natal\\AppData\\Local\\Temp\\ipykernel_19556\\4150719641.py:94: FutureWarning:\n",
      "\n",
      "upload_artifact() got {'study_or_trial', 'file_path', 'artifact_store'} as positional arguments but they were expected to be given as keyword arguments.\n",
      "\n",
      "[I 2024-10-13 00:23:34,944] Trial 29 finished with value: 0.3472738229297509 and parameters: {'lambda_l1': 2.925761372523901e-05, 'lambda_l2': 4.317605183814659e-06, 'num_leaves': 7, 'feature_fraction': 0.4732798192021115, 'bagging_fraction': 0.9153168864688013, 'bagging_freq': 2, 'min_child_samples': 68}. Best is trial 28 with value: 0.3568090692349163.\n",
      "C:\\Users\\natal\\AppData\\Local\\Temp\\ipykernel_19556\\4150719641.py:86: FutureWarning:\n",
      "\n",
      "upload_artifact() got {'study_or_trial', 'file_path', 'artifact_store'} as positional arguments but they were expected to be given as keyword arguments.\n",
      "\n",
      "C:\\Users\\natal\\AppData\\Local\\Temp\\ipykernel_19556\\4150719641.py:94: FutureWarning:\n",
      "\n",
      "upload_artifact() got {'study_or_trial', 'file_path', 'artifact_store'} as positional arguments but they were expected to be given as keyword arguments.\n",
      "\n",
      "[I 2024-10-13 00:23:39,257] Trial 30 finished with value: 0.35651338561076784 and parameters: {'lambda_l1': 0.00021535074344752544, 'lambda_l2': 1.0482918779910375e-08, 'num_leaves': 36, 'feature_fraction': 0.4445549691515321, 'bagging_fraction': 0.8389990023033493, 'bagging_freq': 1, 'min_child_samples': 29}. Best is trial 28 with value: 0.3568090692349163.\n",
      "C:\\Users\\natal\\AppData\\Local\\Temp\\ipykernel_19556\\4150719641.py:86: FutureWarning:\n",
      "\n",
      "upload_artifact() got {'study_or_trial', 'file_path', 'artifact_store'} as positional arguments but they were expected to be given as keyword arguments.\n",
      "\n",
      "C:\\Users\\natal\\AppData\\Local\\Temp\\ipykernel_19556\\4150719641.py:94: FutureWarning:\n",
      "\n",
      "upload_artifact() got {'study_or_trial', 'file_path', 'artifact_store'} as positional arguments but they were expected to be given as keyword arguments.\n",
      "\n",
      "[I 2024-10-13 00:23:44,063] Trial 31 finished with value: 0.35388748617739857 and parameters: {'lambda_l1': 0.0002873967097317473, 'lambda_l2': 2.6117938449086813e-08, 'num_leaves': 33, 'feature_fraction': 0.43441455422420966, 'bagging_fraction': 0.8492734693135108, 'bagging_freq': 1, 'min_child_samples': 27}. Best is trial 28 with value: 0.3568090692349163.\n",
      "C:\\Users\\natal\\AppData\\Local\\Temp\\ipykernel_19556\\4150719641.py:86: FutureWarning:\n",
      "\n",
      "upload_artifact() got {'study_or_trial', 'file_path', 'artifact_store'} as positional arguments but they were expected to be given as keyword arguments.\n",
      "\n",
      "C:\\Users\\natal\\AppData\\Local\\Temp\\ipykernel_19556\\4150719641.py:94: FutureWarning:\n",
      "\n",
      "upload_artifact() got {'study_or_trial', 'file_path', 'artifact_store'} as positional arguments but they were expected to be given as keyword arguments.\n",
      "\n",
      "[I 2024-10-13 00:23:48,376] Trial 32 finished with value: 0.35770846516908383 and parameters: {'lambda_l1': 0.0002539019759131704, 'lambda_l2': 6.131422137550094e-08, 'num_leaves': 28, 'feature_fraction': 0.4676085255300775, 'bagging_fraction': 0.8107297643291389, 'bagging_freq': 2, 'min_child_samples': 42}. Best is trial 32 with value: 0.35770846516908383.\n",
      "C:\\Users\\natal\\AppData\\Local\\Temp\\ipykernel_19556\\4150719641.py:86: FutureWarning:\n",
      "\n",
      "upload_artifact() got {'study_or_trial', 'file_path', 'artifact_store'} as positional arguments but they were expected to be given as keyword arguments.\n",
      "\n",
      "C:\\Users\\natal\\AppData\\Local\\Temp\\ipykernel_19556\\4150719641.py:94: FutureWarning:\n",
      "\n",
      "upload_artifact() got {'study_or_trial', 'file_path', 'artifact_store'} as positional arguments but they were expected to be given as keyword arguments.\n",
      "\n",
      "[I 2024-10-13 00:23:52,122] Trial 33 finished with value: 0.3576148567270444 and parameters: {'lambda_l1': 1.4352645605121098e-06, 'lambda_l2': 4.598699272217681e-08, 'num_leaves': 32, 'feature_fraction': 0.4624758900978348, 'bagging_fraction': 0.6879868153387771, 'bagging_freq': 1, 'min_child_samples': 41}. Best is trial 32 with value: 0.35770846516908383.\n",
      "C:\\Users\\natal\\AppData\\Local\\Temp\\ipykernel_19556\\4150719641.py:86: FutureWarning:\n",
      "\n",
      "upload_artifact() got {'study_or_trial', 'file_path', 'artifact_store'} as positional arguments but they were expected to be given as keyword arguments.\n",
      "\n",
      "C:\\Users\\natal\\AppData\\Local\\Temp\\ipykernel_19556\\4150719641.py:94: FutureWarning:\n",
      "\n",
      "upload_artifact() got {'study_or_trial', 'file_path', 'artifact_store'} as positional arguments but they were expected to be given as keyword arguments.\n",
      "\n",
      "[I 2024-10-13 00:23:55,692] Trial 34 finished with value: 0.35188013786186817 and parameters: {'lambda_l1': 1.2482826349529693e-06, 'lambda_l2': 1.0179559450205e-08, 'num_leaves': 28, 'feature_fraction': 0.4641819312730591, 'bagging_fraction': 0.6739180947107373, 'bagging_freq': 1, 'min_child_samples': 31}. Best is trial 32 with value: 0.35770846516908383.\n",
      "C:\\Users\\natal\\AppData\\Local\\Temp\\ipykernel_19556\\4150719641.py:86: FutureWarning:\n",
      "\n",
      "upload_artifact() got {'study_or_trial', 'file_path', 'artifact_store'} as positional arguments but they were expected to be given as keyword arguments.\n",
      "\n",
      "C:\\Users\\natal\\AppData\\Local\\Temp\\ipykernel_19556\\4150719641.py:94: FutureWarning:\n",
      "\n",
      "upload_artifact() got {'study_or_trial', 'file_path', 'artifact_store'} as positional arguments but they were expected to be given as keyword arguments.\n",
      "\n",
      "[I 2024-10-13 00:24:00,227] Trial 35 finished with value: 0.35101249876797924 and parameters: {'lambda_l1': 3.937475276751571e-06, 'lambda_l2': 8.515857127699548e-08, 'num_leaves': 70, 'feature_fraction': 0.4738515827800991, 'bagging_fraction': 0.6896721677481686, 'bagging_freq': 2, 'min_child_samples': 40}. Best is trial 32 with value: 0.35770846516908383.\n",
      "C:\\Users\\natal\\AppData\\Local\\Temp\\ipykernel_19556\\4150719641.py:86: FutureWarning:\n",
      "\n",
      "upload_artifact() got {'study_or_trial', 'file_path', 'artifact_store'} as positional arguments but they were expected to be given as keyword arguments.\n",
      "\n",
      "C:\\Users\\natal\\AppData\\Local\\Temp\\ipykernel_19556\\4150719641.py:94: FutureWarning:\n",
      "\n",
      "upload_artifact() got {'study_or_trial', 'file_path', 'artifact_store'} as positional arguments but they were expected to be given as keyword arguments.\n",
      "\n",
      "[I 2024-10-13 00:24:04,557] Trial 36 finished with value: 0.35096716680936735 and parameters: {'lambda_l1': 8.981842489888135e-05, 'lambda_l2': 3.889534937247229e-08, 'num_leaves': 25, 'feature_fraction': 0.40293177703865146, 'bagging_fraction': 0.9069766449395157, 'bagging_freq': 1, 'min_child_samples': 53}. Best is trial 32 with value: 0.35770846516908383.\n",
      "C:\\Users\\natal\\AppData\\Local\\Temp\\ipykernel_19556\\4150719641.py:86: FutureWarning:\n",
      "\n",
      "upload_artifact() got {'study_or_trial', 'file_path', 'artifact_store'} as positional arguments but they were expected to be given as keyword arguments.\n",
      "\n",
      "C:\\Users\\natal\\AppData\\Local\\Temp\\ipykernel_19556\\4150719641.py:94: FutureWarning:\n",
      "\n",
      "upload_artifact() got {'study_or_trial', 'file_path', 'artifact_store'} as positional arguments but they were expected to be given as keyword arguments.\n",
      "\n",
      "[I 2024-10-13 00:24:08,013] Trial 37 finished with value: 0.3514873678613135 and parameters: {'lambda_l1': 2.4076599516834466e-05, 'lambda_l2': 2.4452083412914725e-07, 'num_leaves': 35, 'feature_fraction': 0.9957160678828053, 'bagging_fraction': 0.645348669029537, 'bagging_freq': 2, 'min_child_samples': 31}. Best is trial 32 with value: 0.35770846516908383.\n",
      "C:\\Users\\natal\\AppData\\Local\\Temp\\ipykernel_19556\\4150719641.py:86: FutureWarning:\n",
      "\n",
      "upload_artifact() got {'study_or_trial', 'file_path', 'artifact_store'} as positional arguments but they were expected to be given as keyword arguments.\n",
      "\n",
      "C:\\Users\\natal\\AppData\\Local\\Temp\\ipykernel_19556\\4150719641.py:94: FutureWarning:\n",
      "\n",
      "upload_artifact() got {'study_or_trial', 'file_path', 'artifact_store'} as positional arguments but they were expected to be given as keyword arguments.\n",
      "\n",
      "[I 2024-10-13 00:24:11,544] Trial 38 finished with value: 0.24942345467004093 and parameters: {'lambda_l1': 0.0003373354412508778, 'lambda_l2': 7.185904731606453e-07, 'num_leaves': 2, 'feature_fraction': 0.4434119699345768, 'bagging_fraction': 0.7783446245293715, 'bagging_freq': 1, 'min_child_samples': 24}. Best is trial 32 with value: 0.35770846516908383.\n",
      "C:\\Users\\natal\\AppData\\Local\\Temp\\ipykernel_19556\\4150719641.py:86: FutureWarning:\n",
      "\n",
      "upload_artifact() got {'study_or_trial', 'file_path', 'artifact_store'} as positional arguments but they were expected to be given as keyword arguments.\n",
      "\n",
      "C:\\Users\\natal\\AppData\\Local\\Temp\\ipykernel_19556\\4150719641.py:94: FutureWarning:\n",
      "\n",
      "upload_artifact() got {'study_or_trial', 'file_path', 'artifact_store'} as positional arguments but they were expected to be given as keyword arguments.\n",
      "\n",
      "[I 2024-10-13 00:24:14,404] Trial 39 finished with value: 0.3512902818804631 and parameters: {'lambda_l1': 1.1350428131413164e-07, 'lambda_l2': 4.2984091562725136e-08, 'num_leaves': 47, 'feature_fraction': 0.9249837334985408, 'bagging_fraction': 0.6447232053640044, 'bagging_freq': 2, 'min_child_samples': 62}. Best is trial 32 with value: 0.35770846516908383.\n",
      "C:\\Users\\natal\\AppData\\Local\\Temp\\ipykernel_19556\\4150719641.py:86: FutureWarning:\n",
      "\n",
      "upload_artifact() got {'study_or_trial', 'file_path', 'artifact_store'} as positional arguments but they were expected to be given as keyword arguments.\n",
      "\n",
      "C:\\Users\\natal\\AppData\\Local\\Temp\\ipykernel_19556\\4150719641.py:94: FutureWarning:\n",
      "\n",
      "upload_artifact() got {'study_or_trial', 'file_path', 'artifact_store'} as positional arguments but they were expected to be given as keyword arguments.\n",
      "\n",
      "[I 2024-10-13 00:24:18,908] Trial 40 finished with value: 0.35255969002118337 and parameters: {'lambda_l1': 2.6215069492881982e-06, 'lambda_l2': 3.315192328618147e-07, 'num_leaves': 65, 'feature_fraction': 0.48888766254938587, 'bagging_fraction': 0.7187381108265427, 'bagging_freq': 1, 'min_child_samples': 41}. Best is trial 32 with value: 0.35770846516908383.\n",
      "C:\\Users\\natal\\AppData\\Local\\Temp\\ipykernel_19556\\4150719641.py:86: FutureWarning:\n",
      "\n",
      "upload_artifact() got {'study_or_trial', 'file_path', 'artifact_store'} as positional arguments but they were expected to be given as keyword arguments.\n",
      "\n",
      "C:\\Users\\natal\\AppData\\Local\\Temp\\ipykernel_19556\\4150719641.py:94: FutureWarning:\n",
      "\n",
      "upload_artifact() got {'study_or_trial', 'file_path', 'artifact_store'} as positional arguments but they were expected to be given as keyword arguments.\n",
      "\n",
      "[I 2024-10-13 00:24:22,368] Trial 41 finished with value: 0.35458651245285466 and parameters: {'lambda_l1': 0.0026598400979621598, 'lambda_l2': 1.183455052581663e-08, 'num_leaves': 22, 'feature_fraction': 0.5233672528580062, 'bagging_fraction': 0.8284041570614602, 'bagging_freq': 2, 'min_child_samples': 36}. Best is trial 32 with value: 0.35770846516908383.\n",
      "C:\\Users\\natal\\AppData\\Local\\Temp\\ipykernel_19556\\4150719641.py:86: FutureWarning:\n",
      "\n",
      "upload_artifact() got {'study_or_trial', 'file_path', 'artifact_store'} as positional arguments but they were expected to be given as keyword arguments.\n",
      "\n",
      "C:\\Users\\natal\\AppData\\Local\\Temp\\ipykernel_19556\\4150719641.py:94: FutureWarning:\n",
      "\n",
      "upload_artifact() got {'study_or_trial', 'file_path', 'artifact_store'} as positional arguments but they were expected to be given as keyword arguments.\n",
      "\n",
      "[I 2024-10-13 00:24:26,561] Trial 42 finished with value: 0.36156706356096524 and parameters: {'lambda_l1': 0.00017671079099984254, 'lambda_l2': 5.5692307321899104e-08, 'num_leaves': 45, 'feature_fraction': 0.5222169061954288, 'bagging_fraction': 0.898032969944761, 'bagging_freq': 2, 'min_child_samples': 54}. Best is trial 42 with value: 0.36156706356096524.\n",
      "C:\\Users\\natal\\AppData\\Local\\Temp\\ipykernel_19556\\4150719641.py:86: FutureWarning:\n",
      "\n",
      "upload_artifact() got {'study_or_trial', 'file_path', 'artifact_store'} as positional arguments but they were expected to be given as keyword arguments.\n",
      "\n",
      "C:\\Users\\natal\\AppData\\Local\\Temp\\ipykernel_19556\\4150719641.py:94: FutureWarning:\n",
      "\n",
      "upload_artifact() got {'study_or_trial', 'file_path', 'artifact_store'} as positional arguments but they were expected to be given as keyword arguments.\n",
      "\n",
      "[I 2024-10-13 00:24:31,825] Trial 43 finished with value: 0.3661528629795574 and parameters: {'lambda_l1': 0.00016604139437501557, 'lambda_l2': 7.702263078805146e-08, 'num_leaves': 43, 'feature_fraction': 0.4472494356675854, 'bagging_fraction': 0.9628927983494942, 'bagging_freq': 1, 'min_child_samples': 56}. Best is trial 43 with value: 0.3661528629795574.\n",
      "C:\\Users\\natal\\AppData\\Local\\Temp\\ipykernel_19556\\4150719641.py:86: FutureWarning:\n",
      "\n",
      "upload_artifact() got {'study_or_trial', 'file_path', 'artifact_store'} as positional arguments but they were expected to be given as keyword arguments.\n",
      "\n",
      "C:\\Users\\natal\\AppData\\Local\\Temp\\ipykernel_19556\\4150719641.py:94: FutureWarning:\n",
      "\n",
      "upload_artifact() got {'study_or_trial', 'file_path', 'artifact_store'} as positional arguments but they were expected to be given as keyword arguments.\n",
      "\n",
      "[I 2024-10-13 00:24:36,428] Trial 44 finished with value: 0.3592000542868639 and parameters: {'lambda_l1': 4.720818721943416e-05, 'lambda_l2': 7.082579033808091e-08, 'num_leaves': 80, 'feature_fraction': 0.5323570759412927, 'bagging_fraction': 0.9982871915027185, 'bagging_freq': 2, 'min_child_samples': 60}. Best is trial 43 with value: 0.3661528629795574.\n",
      "C:\\Users\\natal\\AppData\\Local\\Temp\\ipykernel_19556\\4150719641.py:86: FutureWarning:\n",
      "\n",
      "upload_artifact() got {'study_or_trial', 'file_path', 'artifact_store'} as positional arguments but they were expected to be given as keyword arguments.\n",
      "\n",
      "C:\\Users\\natal\\AppData\\Local\\Temp\\ipykernel_19556\\4150719641.py:94: FutureWarning:\n",
      "\n",
      "upload_artifact() got {'study_or_trial', 'file_path', 'artifact_store'} as positional arguments but they were expected to be given as keyword arguments.\n",
      "\n",
      "[I 2024-10-13 00:24:41,123] Trial 45 finished with value: 0.3571672605323383 and parameters: {'lambda_l1': 2.5364862753417027e-05, 'lambda_l2': 7.957175591973417e-08, 'num_leaves': 81, 'feature_fraction': 0.5232109115805752, 'bagging_fraction': 0.9995259672934595, 'bagging_freq': 1, 'min_child_samples': 59}. Best is trial 43 with value: 0.3661528629795574.\n",
      "C:\\Users\\natal\\AppData\\Local\\Temp\\ipykernel_19556\\4150719641.py:86: FutureWarning:\n",
      "\n",
      "upload_artifact() got {'study_or_trial', 'file_path', 'artifact_store'} as positional arguments but they were expected to be given as keyword arguments.\n",
      "\n",
      "C:\\Users\\natal\\AppData\\Local\\Temp\\ipykernel_19556\\4150719641.py:94: FutureWarning:\n",
      "\n",
      "upload_artifact() got {'study_or_trial', 'file_path', 'artifact_store'} as positional arguments but they were expected to be given as keyword arguments.\n",
      "\n",
      "[I 2024-10-13 00:24:45,799] Trial 46 finished with value: 0.3604114121519085 and parameters: {'lambda_l1': 4.913432311037117e-07, 'lambda_l2': 2.3575652617955554e-07, 'num_leaves': 60, 'feature_fraction': 0.5371357849537304, 'bagging_fraction': 0.9575488400591963, 'bagging_freq': 2, 'min_child_samples': 63}. Best is trial 43 with value: 0.3661528629795574.\n",
      "C:\\Users\\natal\\AppData\\Local\\Temp\\ipykernel_19556\\4150719641.py:86: FutureWarning:\n",
      "\n",
      "upload_artifact() got {'study_or_trial', 'file_path', 'artifact_store'} as positional arguments but they were expected to be given as keyword arguments.\n",
      "\n",
      "C:\\Users\\natal\\AppData\\Local\\Temp\\ipykernel_19556\\4150719641.py:94: FutureWarning:\n",
      "\n",
      "upload_artifact() got {'study_or_trial', 'file_path', 'artifact_store'} as positional arguments but they were expected to be given as keyword arguments.\n",
      "\n",
      "[I 2024-10-13 00:24:49,706] Trial 47 finished with value: 0.36700401006667505 and parameters: {'lambda_l1': 8.981962953828524e-06, 'lambda_l2': 2.1714113852803515e-07, 'num_leaves': 53, 'feature_fraction': 0.5472433240952279, 'bagging_fraction': 0.9632552545346394, 'bagging_freq': 2, 'min_child_samples': 73}. Best is trial 47 with value: 0.36700401006667505.\n",
      "C:\\Users\\natal\\AppData\\Local\\Temp\\ipykernel_19556\\4150719641.py:86: FutureWarning:\n",
      "\n",
      "upload_artifact() got {'study_or_trial', 'file_path', 'artifact_store'} as positional arguments but they were expected to be given as keyword arguments.\n",
      "\n",
      "C:\\Users\\natal\\AppData\\Local\\Temp\\ipykernel_19556\\4150719641.py:94: FutureWarning:\n",
      "\n",
      "upload_artifact() got {'study_or_trial', 'file_path', 'artifact_store'} as positional arguments but they were expected to be given as keyword arguments.\n",
      "\n",
      "[I 2024-10-13 00:24:53,796] Trial 48 finished with value: 0.3580657525154135 and parameters: {'lambda_l1': 2.6917122310823208e-08, 'lambda_l2': 8.304619750709113e-06, 'num_leaves': 59, 'feature_fraction': 0.6013855278739768, 'bagging_fraction': 0.9634492275911049, 'bagging_freq': 3, 'min_child_samples': 74}. Best is trial 47 with value: 0.36700401006667505.\n",
      "C:\\Users\\natal\\AppData\\Local\\Temp\\ipykernel_19556\\4150719641.py:86: FutureWarning:\n",
      "\n",
      "upload_artifact() got {'study_or_trial', 'file_path', 'artifact_store'} as positional arguments but they were expected to be given as keyword arguments.\n",
      "\n",
      "C:\\Users\\natal\\AppData\\Local\\Temp\\ipykernel_19556\\4150719641.py:94: FutureWarning:\n",
      "\n",
      "upload_artifact() got {'study_or_trial', 'file_path', 'artifact_store'} as positional arguments but they were expected to be given as keyword arguments.\n",
      "\n",
      "[I 2024-10-13 00:24:57,904] Trial 49 finished with value: 0.35810016748896145 and parameters: {'lambda_l1': 2.5747869001167483e-07, 'lambda_l2': 3.185089882262945e-07, 'num_leaves': 82, 'feature_fraction': 0.6667650043776971, 'bagging_fraction': 0.9462012468674672, 'bagging_freq': 2, 'min_child_samples': 90}. Best is trial 47 with value: 0.36700401006667505.\n",
      "C:\\Users\\natal\\AppData\\Local\\Temp\\ipykernel_19556\\4150719641.py:86: FutureWarning:\n",
      "\n",
      "upload_artifact() got {'study_or_trial', 'file_path', 'artifact_store'} as positional arguments but they were expected to be given as keyword arguments.\n",
      "\n",
      "C:\\Users\\natal\\AppData\\Local\\Temp\\ipykernel_19556\\4150719641.py:94: FutureWarning:\n",
      "\n",
      "upload_artifact() got {'study_or_trial', 'file_path', 'artifact_store'} as positional arguments but they were expected to be given as keyword arguments.\n",
      "\n",
      "[I 2024-10-13 00:25:01,773] Trial 50 finished with value: 0.3603043497517284 and parameters: {'lambda_l1': 1.0402250664451785e-05, 'lambda_l2': 1.6650177888121023e-07, 'num_leaves': 44, 'feature_fraction': 0.5449605637388353, 'bagging_fraction': 0.9729148760722752, 'bagging_freq': 2, 'min_child_samples': 65}. Best is trial 47 with value: 0.36700401006667505.\n",
      "C:\\Users\\natal\\AppData\\Local\\Temp\\ipykernel_19556\\4150719641.py:86: FutureWarning:\n",
      "\n",
      "upload_artifact() got {'study_or_trial', 'file_path', 'artifact_store'} as positional arguments but they were expected to be given as keyword arguments.\n",
      "\n",
      "C:\\Users\\natal\\AppData\\Local\\Temp\\ipykernel_19556\\4150719641.py:94: FutureWarning:\n",
      "\n",
      "upload_artifact() got {'study_or_trial', 'file_path', 'artifact_store'} as positional arguments but they were expected to be given as keyword arguments.\n",
      "\n",
      "[I 2024-10-13 00:25:05,648] Trial 51 finished with value: 0.3560965227692938 and parameters: {'lambda_l1': 6.564632512088913e-06, 'lambda_l2': 1.910295944662326e-07, 'num_leaves': 51, 'feature_fraction': 0.5474914785054973, 'bagging_fraction': 0.9721478978542551, 'bagging_freq': 2, 'min_child_samples': 63}. Best is trial 47 with value: 0.36700401006667505.\n",
      "C:\\Users\\natal\\AppData\\Local\\Temp\\ipykernel_19556\\4150719641.py:86: FutureWarning:\n",
      "\n",
      "upload_artifact() got {'study_or_trial', 'file_path', 'artifact_store'} as positional arguments but they were expected to be given as keyword arguments.\n",
      "\n",
      "C:\\Users\\natal\\AppData\\Local\\Temp\\ipykernel_19556\\4150719641.py:94: FutureWarning:\n",
      "\n",
      "upload_artifact() got {'study_or_trial', 'file_path', 'artifact_store'} as positional arguments but they were expected to be given as keyword arguments.\n",
      "\n",
      "[I 2024-10-13 00:25:09,067] Trial 52 finished with value: 0.35269245161755336 and parameters: {'lambda_l1': 3.6057013595117596e-05, 'lambda_l2': 4.884836738880846e-07, 'num_leaves': 48, 'feature_fraction': 0.5775831889065189, 'bagging_fraction': 0.9374342831280729, 'bagging_freq': 2, 'min_child_samples': 65}. Best is trial 47 with value: 0.36700401006667505.\n",
      "C:\\Users\\natal\\AppData\\Local\\Temp\\ipykernel_19556\\4150719641.py:86: FutureWarning:\n",
      "\n",
      "upload_artifact() got {'study_or_trial', 'file_path', 'artifact_store'} as positional arguments but they were expected to be given as keyword arguments.\n",
      "\n",
      "C:\\Users\\natal\\AppData\\Local\\Temp\\ipykernel_19556\\4150719641.py:94: FutureWarning:\n",
      "\n",
      "upload_artifact() got {'study_or_trial', 'file_path', 'artifact_store'} as positional arguments but they were expected to be given as keyword arguments.\n",
      "\n",
      "[I 2024-10-13 00:25:13,301] Trial 53 finished with value: 0.3596285729065182 and parameters: {'lambda_l1': 4.479211480412742e-07, 'lambda_l2': 1.2910224886748536e-07, 'num_leaves': 73, 'feature_fraction': 0.5431765871534884, 'bagging_fraction': 0.8932439598387463, 'bagging_freq': 4, 'min_child_samples': 56}. Best is trial 47 with value: 0.36700401006667505.\n",
      "C:\\Users\\natal\\AppData\\Local\\Temp\\ipykernel_19556\\4150719641.py:86: FutureWarning:\n",
      "\n",
      "upload_artifact() got {'study_or_trial', 'file_path', 'artifact_store'} as positional arguments but they were expected to be given as keyword arguments.\n",
      "\n",
      "C:\\Users\\natal\\AppData\\Local\\Temp\\ipykernel_19556\\4150719641.py:94: FutureWarning:\n",
      "\n",
      "upload_artifact() got {'study_or_trial', 'file_path', 'artifact_store'} as positional arguments but they were expected to be given as keyword arguments.\n",
      "\n",
      "[I 2024-10-13 00:25:17,430] Trial 54 finished with value: 0.3535682029215743 and parameters: {'lambda_l1': 3.2019500570313476e-07, 'lambda_l2': 1.3337081582716534e-07, 'num_leaves': 42, 'feature_fraction': 0.5875487438585155, 'bagging_fraction': 0.8913351884422105, 'bagging_freq': 4, 'min_child_samples': 56}. Best is trial 47 with value: 0.36700401006667505.\n",
      "C:\\Users\\natal\\AppData\\Local\\Temp\\ipykernel_19556\\4150719641.py:86: FutureWarning:\n",
      "\n",
      "upload_artifact() got {'study_or_trial', 'file_path', 'artifact_store'} as positional arguments but they were expected to be given as keyword arguments.\n",
      "\n",
      "C:\\Users\\natal\\AppData\\Local\\Temp\\ipykernel_19556\\4150719641.py:94: FutureWarning:\n",
      "\n",
      "upload_artifact() got {'study_or_trial', 'file_path', 'artifact_store'} as positional arguments but they were expected to be given as keyword arguments.\n",
      "\n",
      "[I 2024-10-13 00:25:21,560] Trial 55 finished with value: 0.3592055751125829 and parameters: {'lambda_l1': 5.4166425323492904e-08, 'lambda_l2': 2.8652457521448664e-08, 'num_leaves': 57, 'feature_fraction': 0.6217858749578926, 'bagging_fraction': 0.8925004363421218, 'bagging_freq': 4, 'min_child_samples': 73}. Best is trial 47 with value: 0.36700401006667505.\n",
      "C:\\Users\\natal\\AppData\\Local\\Temp\\ipykernel_19556\\4150719641.py:86: FutureWarning:\n",
      "\n",
      "upload_artifact() got {'study_or_trial', 'file_path', 'artifact_store'} as positional arguments but they were expected to be given as keyword arguments.\n",
      "\n",
      "C:\\Users\\natal\\AppData\\Local\\Temp\\ipykernel_19556\\4150719641.py:94: FutureWarning:\n",
      "\n",
      "upload_artifact() got {'study_or_trial', 'file_path', 'artifact_store'} as positional arguments but they were expected to be given as keyword arguments.\n",
      "\n",
      "[I 2024-10-13 00:25:26,135] Trial 56 finished with value: 0.35326866839117743 and parameters: {'lambda_l1': 6.041932257083074e-07, 'lambda_l2': 1.956840452592955e-06, 'num_leaves': 15, 'feature_fraction': 0.495694752491726, 'bagging_fraction': 0.9793505421173428, 'bagging_freq': 4, 'min_child_samples': 67}. Best is trial 47 with value: 0.36700401006667505.\n",
      "C:\\Users\\natal\\AppData\\Local\\Temp\\ipykernel_19556\\4150719641.py:86: FutureWarning:\n",
      "\n",
      "upload_artifact() got {'study_or_trial', 'file_path', 'artifact_store'} as positional arguments but they were expected to be given as keyword arguments.\n",
      "\n",
      "C:\\Users\\natal\\AppData\\Local\\Temp\\ipykernel_19556\\4150719641.py:94: FutureWarning:\n",
      "\n",
      "upload_artifact() got {'study_or_trial', 'file_path', 'artifact_store'} as positional arguments but they were expected to be given as keyword arguments.\n",
      "\n",
      "[I 2024-10-13 00:25:30,092] Trial 57 finished with value: 0.35180873360587334 and parameters: {'lambda_l1': 1.406211840254467e-05, 'lambda_l2': 8.059278216911847e-06, 'num_leaves': 70, 'feature_fraction': 0.5547560314396042, 'bagging_fraction': 0.9379272259135364, 'bagging_freq': 3, 'min_child_samples': 86}. Best is trial 47 with value: 0.36700401006667505.\n",
      "C:\\Users\\natal\\AppData\\Local\\Temp\\ipykernel_19556\\4150719641.py:86: FutureWarning:\n",
      "\n",
      "upload_artifact() got {'study_or_trial', 'file_path', 'artifact_store'} as positional arguments but they were expected to be given as keyword arguments.\n",
      "\n",
      "C:\\Users\\natal\\AppData\\Local\\Temp\\ipykernel_19556\\4150719641.py:94: FutureWarning:\n",
      "\n",
      "upload_artifact() got {'study_or_trial', 'file_path', 'artifact_store'} as positional arguments but they were expected to be given as keyword arguments.\n",
      "\n",
      "[I 2024-10-13 00:25:34,097] Trial 58 finished with value: 0.3512424906545025 and parameters: {'lambda_l1': 1.0576913659999397e-06, 'lambda_l2': 2.0988415417101793e-08, 'num_leaves': 62, 'feature_fraction': 0.49627302092283554, 'bagging_fraction': 0.9556235026091647, 'bagging_freq': 3, 'min_child_samples': 77}. Best is trial 47 with value: 0.36700401006667505.\n",
      "C:\\Users\\natal\\AppData\\Local\\Temp\\ipykernel_19556\\4150719641.py:86: FutureWarning:\n",
      "\n",
      "upload_artifact() got {'study_or_trial', 'file_path', 'artifact_store'} as positional arguments but they were expected to be given as keyword arguments.\n",
      "\n",
      "C:\\Users\\natal\\AppData\\Local\\Temp\\ipykernel_19556\\4150719641.py:94: FutureWarning:\n",
      "\n",
      "upload_artifact() got {'study_or_trial', 'file_path', 'artifact_store'} as positional arguments but they were expected to be given as keyword arguments.\n",
      "\n",
      "[I 2024-10-13 00:25:38,277] Trial 59 finished with value: 0.35508143826322 and parameters: {'lambda_l1': 3.0149042265140067e-06, 'lambda_l2': 1.5456052104858585e-07, 'num_leaves': 88, 'feature_fraction': 0.6480373120295682, 'bagging_fraction': 0.9332370114034478, 'bagging_freq': 1, 'min_child_samples': 53}. Best is trial 47 with value: 0.36700401006667505.\n",
      "C:\\Users\\natal\\AppData\\Local\\Temp\\ipykernel_19556\\4150719641.py:86: FutureWarning:\n",
      "\n",
      "upload_artifact() got {'study_or_trial', 'file_path', 'artifact_store'} as positional arguments but they were expected to be given as keyword arguments.\n",
      "\n",
      "C:\\Users\\natal\\AppData\\Local\\Temp\\ipykernel_19556\\4150719641.py:94: FutureWarning:\n",
      "\n",
      "upload_artifact() got {'study_or_trial', 'file_path', 'artifact_store'} as positional arguments but they were expected to be given as keyword arguments.\n",
      "\n",
      "[I 2024-10-13 00:25:43,158] Trial 60 finished with value: 0.3637454707906207 and parameters: {'lambda_l1': 0.0006575655019756153, 'lambda_l2': 3.586821337457992e-07, 'num_leaves': 109, 'feature_fraction': 0.5390549113761427, 'bagging_fraction': 0.9834729264545192, 'bagging_freq': 2, 'min_child_samples': 69}. Best is trial 47 with value: 0.36700401006667505.\n",
      "C:\\Users\\natal\\AppData\\Local\\Temp\\ipykernel_19556\\4150719641.py:86: FutureWarning:\n",
      "\n",
      "upload_artifact() got {'study_or_trial', 'file_path', 'artifact_store'} as positional arguments but they were expected to be given as keyword arguments.\n",
      "\n",
      "C:\\Users\\natal\\AppData\\Local\\Temp\\ipykernel_19556\\4150719641.py:94: FutureWarning:\n",
      "\n",
      "upload_artifact() got {'study_or_trial', 'file_path', 'artifact_store'} as positional arguments but they were expected to be given as keyword arguments.\n",
      "\n",
      "[I 2024-10-13 00:25:47,950] Trial 61 finished with value: 0.35988736695231605 and parameters: {'lambda_l1': 0.0014354477008580255, 'lambda_l2': 5.857450179697786e-07, 'num_leaves': 111, 'feature_fraction': 0.5391721789345995, 'bagging_fraction': 0.9739170988940589, 'bagging_freq': 2, 'min_child_samples': 69}. Best is trial 47 with value: 0.36700401006667505.\n",
      "C:\\Users\\natal\\AppData\\Local\\Temp\\ipykernel_19556\\4150719641.py:86: FutureWarning:\n",
      "\n",
      "upload_artifact() got {'study_or_trial', 'file_path', 'artifact_store'} as positional arguments but they were expected to be given as keyword arguments.\n",
      "\n",
      "C:\\Users\\natal\\AppData\\Local\\Temp\\ipykernel_19556\\4150719641.py:94: FutureWarning:\n",
      "\n",
      "upload_artifact() got {'study_or_trial', 'file_path', 'artifact_store'} as positional arguments but they were expected to be given as keyword arguments.\n",
      "\n",
      "[I 2024-10-13 00:25:52,412] Trial 62 finished with value: 0.3531099064587861 and parameters: {'lambda_l1': 0.0006162720984161563, 'lambda_l2': 4.3774445447862233e-07, 'num_leaves': 134, 'feature_fraction': 0.563085987682573, 'bagging_fraction': 0.9785608936634933, 'bagging_freq': 2, 'min_child_samples': 69}. Best is trial 47 with value: 0.36700401006667505.\n",
      "C:\\Users\\natal\\AppData\\Local\\Temp\\ipykernel_19556\\4150719641.py:86: FutureWarning:\n",
      "\n",
      "upload_artifact() got {'study_or_trial', 'file_path', 'artifact_store'} as positional arguments but they were expected to be given as keyword arguments.\n",
      "\n",
      "C:\\Users\\natal\\AppData\\Local\\Temp\\ipykernel_19556\\4150719641.py:94: FutureWarning:\n",
      "\n",
      "upload_artifact() got {'study_or_trial', 'file_path', 'artifact_store'} as positional arguments but they were expected to be given as keyword arguments.\n",
      "\n",
      "[I 2024-10-13 00:25:57,336] Trial 63 finished with value: 0.3570308737991806 and parameters: {'lambda_l1': 0.00015511909709230764, 'lambda_l2': 6.124120611921857e-07, 'num_leaves': 111, 'feature_fraction': 0.5124740469404108, 'bagging_fraction': 0.9510929343407167, 'bagging_freq': 2, 'min_child_samples': 75}. Best is trial 47 with value: 0.36700401006667505.\n",
      "C:\\Users\\natal\\AppData\\Local\\Temp\\ipykernel_19556\\4150719641.py:86: FutureWarning:\n",
      "\n",
      "upload_artifact() got {'study_or_trial', 'file_path', 'artifact_store'} as positional arguments but they were expected to be given as keyword arguments.\n",
      "\n",
      "C:\\Users\\natal\\AppData\\Local\\Temp\\ipykernel_19556\\4150719641.py:94: FutureWarning:\n",
      "\n",
      "upload_artifact() got {'study_or_trial', 'file_path', 'artifact_store'} as positional arguments but they were expected to be given as keyword arguments.\n",
      "\n",
      "[I 2024-10-13 00:26:01,663] Trial 64 finished with value: 0.34994644488615073 and parameters: {'lambda_l1': 0.0007227044837132178, 'lambda_l2': 1.2701666998142699e-06, 'num_leaves': 110, 'feature_fraction': 0.7340376524311841, 'bagging_fraction': 0.9775146752859593, 'bagging_freq': 3, 'min_child_samples': 65}. Best is trial 47 with value: 0.36700401006667505.\n",
      "C:\\Users\\natal\\AppData\\Local\\Temp\\ipykernel_19556\\4150719641.py:86: FutureWarning:\n",
      "\n",
      "upload_artifact() got {'study_or_trial', 'file_path', 'artifact_store'} as positional arguments but they were expected to be given as keyword arguments.\n",
      "\n",
      "C:\\Users\\natal\\AppData\\Local\\Temp\\ipykernel_19556\\4150719641.py:94: FutureWarning:\n",
      "\n",
      "upload_artifact() got {'study_or_trial', 'file_path', 'artifact_store'} as positional arguments but they were expected to be given as keyword arguments.\n",
      "\n",
      "[I 2024-10-13 00:26:05,817] Trial 65 finished with value: 0.3581676560703322 and parameters: {'lambda_l1': 0.015547042789676191, 'lambda_l2': 5.674697561215537e-06, 'num_leaves': 42, 'feature_fraction': 0.614097018851672, 'bagging_fraction': 0.9317416786687907, 'bagging_freq': 2, 'min_child_samples': 84}. Best is trial 47 with value: 0.36700401006667505.\n",
      "C:\\Users\\natal\\AppData\\Local\\Temp\\ipykernel_19556\\4150719641.py:86: FutureWarning:\n",
      "\n",
      "upload_artifact() got {'study_or_trial', 'file_path', 'artifact_store'} as positional arguments but they were expected to be given as keyword arguments.\n",
      "\n",
      "C:\\Users\\natal\\AppData\\Local\\Temp\\ipykernel_19556\\4150719641.py:94: FutureWarning:\n",
      "\n",
      "upload_artifact() got {'study_or_trial', 'file_path', 'artifact_store'} as positional arguments but they were expected to be given as keyword arguments.\n",
      "\n",
      "[I 2024-10-13 00:26:09,781] Trial 66 finished with value: 0.3507472940980607 and parameters: {'lambda_l1': 0.0021841223674534784, 'lambda_l2': 2.1389974243171356e-06, 'num_leaves': 88, 'feature_fraction': 0.5777717206945148, 'bagging_fraction': 0.9815999515644496, 'bagging_freq': 2, 'min_child_samples': 70}. Best is trial 47 with value: 0.36700401006667505.\n",
      "C:\\Users\\natal\\AppData\\Local\\Temp\\ipykernel_19556\\4150719641.py:86: FutureWarning:\n",
      "\n",
      "upload_artifact() got {'study_or_trial', 'file_path', 'artifact_store'} as positional arguments but they were expected to be given as keyword arguments.\n",
      "\n",
      "C:\\Users\\natal\\AppData\\Local\\Temp\\ipykernel_19556\\4150719641.py:94: FutureWarning:\n",
      "\n",
      "upload_artifact() got {'study_or_trial', 'file_path', 'artifact_store'} as positional arguments but they were expected to be given as keyword arguments.\n",
      "\n",
      "[I 2024-10-13 00:26:13,972] Trial 67 finished with value: 0.35254821443251066 and parameters: {'lambda_l1': 0.00046550984729811504, 'lambda_l2': 0.0010157874134578385, 'num_leaves': 16, 'feature_fraction': 0.4828120651080291, 'bagging_fraction': 0.9596312058793576, 'bagging_freq': 1, 'min_child_samples': 65}. Best is trial 47 with value: 0.36700401006667505.\n",
      "C:\\Users\\natal\\AppData\\Local\\Temp\\ipykernel_19556\\4150719641.py:86: FutureWarning:\n",
      "\n",
      "upload_artifact() got {'study_or_trial', 'file_path', 'artifact_store'} as positional arguments but they were expected to be given as keyword arguments.\n",
      "\n",
      "C:\\Users\\natal\\AppData\\Local\\Temp\\ipykernel_19556\\4150719641.py:94: FutureWarning:\n",
      "\n",
      "upload_artifact() got {'study_or_trial', 'file_path', 'artifact_store'} as positional arguments but they were expected to be given as keyword arguments.\n",
      "\n",
      "[I 2024-10-13 00:26:18,435] Trial 68 finished with value: 0.3581777936710302 and parameters: {'lambda_l1': 0.001029255669633765, 'lambda_l2': 1.3669583302377547e-05, 'num_leaves': 107, 'feature_fraction': 0.5330501486556485, 'bagging_fraction': 0.9190130540834991, 'bagging_freq': 3, 'min_child_samples': 58}. Best is trial 47 with value: 0.36700401006667505.\n",
      "C:\\Users\\natal\\AppData\\Local\\Temp\\ipykernel_19556\\4150719641.py:86: FutureWarning:\n",
      "\n",
      "upload_artifact() got {'study_or_trial', 'file_path', 'artifact_store'} as positional arguments but they were expected to be given as keyword arguments.\n",
      "\n",
      "C:\\Users\\natal\\AppData\\Local\\Temp\\ipykernel_19556\\4150719641.py:94: FutureWarning:\n",
      "\n",
      "upload_artifact() got {'study_or_trial', 'file_path', 'artifact_store'} as positional arguments but they were expected to be given as keyword arguments.\n",
      "\n",
      "[I 2024-10-13 00:26:22,402] Trial 69 finished with value: 0.35239344840737696 and parameters: {'lambda_l1': 0.00011517332763243841, 'lambda_l2': 3.1369433252566927e-07, 'num_leaves': 115, 'feature_fraction': 0.8553138959339032, 'bagging_fraction': 0.8868682390355728, 'bagging_freq': 2, 'min_child_samples': 72}. Best is trial 47 with value: 0.36700401006667505.\n",
      "C:\\Users\\natal\\AppData\\Local\\Temp\\ipykernel_19556\\4150719641.py:86: FutureWarning:\n",
      "\n",
      "upload_artifact() got {'study_or_trial', 'file_path', 'artifact_store'} as positional arguments but they were expected to be given as keyword arguments.\n",
      "\n",
      "C:\\Users\\natal\\AppData\\Local\\Temp\\ipykernel_19556\\4150719641.py:94: FutureWarning:\n",
      "\n",
      "upload_artifact() got {'study_or_trial', 'file_path', 'artifact_store'} as positional arguments but they were expected to be given as keyword arguments.\n",
      "\n",
      "[I 2024-10-13 00:26:26,281] Trial 70 finished with value: 0.34995565126991696 and parameters: {'lambda_l1': 1.681997611769423e-05, 'lambda_l2': 2.1318262616622152e-08, 'num_leaves': 132, 'feature_fraction': 0.6418216581575986, 'bagging_fraction': 0.9913407406586443, 'bagging_freq': 1, 'min_child_samples': 79}. Best is trial 47 with value: 0.36700401006667505.\n",
      "C:\\Users\\natal\\AppData\\Local\\Temp\\ipykernel_19556\\4150719641.py:86: FutureWarning:\n",
      "\n",
      "upload_artifact() got {'study_or_trial', 'file_path', 'artifact_store'} as positional arguments but they were expected to be given as keyword arguments.\n",
      "\n",
      "C:\\Users\\natal\\AppData\\Local\\Temp\\ipykernel_19556\\4150719641.py:94: FutureWarning:\n",
      "\n",
      "upload_artifact() got {'study_or_trial', 'file_path', 'artifact_store'} as positional arguments but they were expected to be given as keyword arguments.\n",
      "\n",
      "[I 2024-10-13 00:26:30,622] Trial 71 finished with value: 0.3612730839578545 and parameters: {'lambda_l1': 4.1508355582506495e-07, 'lambda_l2': 1.1029825573532269e-07, 'num_leaves': 75, 'feature_fraction': 0.5420659160729909, 'bagging_fraction': 0.8973076549439942, 'bagging_freq': 2, 'min_child_samples': 55}. Best is trial 47 with value: 0.36700401006667505.\n",
      "C:\\Users\\natal\\AppData\\Local\\Temp\\ipykernel_19556\\4150719641.py:86: FutureWarning:\n",
      "\n",
      "upload_artifact() got {'study_or_trial', 'file_path', 'artifact_store'} as positional arguments but they were expected to be given as keyword arguments.\n",
      "\n",
      "C:\\Users\\natal\\AppData\\Local\\Temp\\ipykernel_19556\\4150719641.py:94: FutureWarning:\n",
      "\n",
      "upload_artifact() got {'study_or_trial', 'file_path', 'artifact_store'} as positional arguments but they were expected to be given as keyword arguments.\n",
      "\n",
      "[I 2024-10-13 00:26:35,758] Trial 72 finished with value: 0.35694879957904085 and parameters: {'lambda_l1': 6.965621510630847e-06, 'lambda_l2': 2.0739534002483607e-07, 'num_leaves': 55, 'feature_fraction': 0.5960876899980632, 'bagging_fraction': 0.91369279938625, 'bagging_freq': 2, 'min_child_samples': 51}. Best is trial 47 with value: 0.36700401006667505.\n",
      "C:\\Users\\natal\\AppData\\Local\\Temp\\ipykernel_19556\\4150719641.py:86: FutureWarning:\n",
      "\n",
      "upload_artifact() got {'study_or_trial', 'file_path', 'artifact_store'} as positional arguments but they were expected to be given as keyword arguments.\n",
      "\n",
      "C:\\Users\\natal\\AppData\\Local\\Temp\\ipykernel_19556\\4150719641.py:94: FutureWarning:\n",
      "\n",
      "upload_artifact() got {'study_or_trial', 'file_path', 'artifact_store'} as positional arguments but they were expected to be given as keyword arguments.\n",
      "\n",
      "[I 2024-10-13 00:26:40,247] Trial 73 finished with value: 0.36107774816614635 and parameters: {'lambda_l1': 1.3610543540760965e-07, 'lambda_l2': 1.0389199290955848e-07, 'num_leaves': 44, 'feature_fraction': 0.5064591365202373, 'bagging_fraction': 0.9537702318482683, 'bagging_freq': 2, 'min_child_samples': 63}. Best is trial 47 with value: 0.36700401006667505.\n",
      "C:\\Users\\natal\\AppData\\Local\\Temp\\ipykernel_19556\\4150719641.py:86: FutureWarning:\n",
      "\n",
      "upload_artifact() got {'study_or_trial', 'file_path', 'artifact_store'} as positional arguments but they were expected to be given as keyword arguments.\n",
      "\n",
      "C:\\Users\\natal\\AppData\\Local\\Temp\\ipykernel_19556\\4150719641.py:94: FutureWarning:\n",
      "\n",
      "upload_artifact() got {'study_or_trial', 'file_path', 'artifact_store'} as positional arguments but they were expected to be given as keyword arguments.\n",
      "\n",
      "[I 2024-10-13 00:26:44,907] Trial 74 finished with value: 0.36106455188810693 and parameters: {'lambda_l1': 6.024568665813627e-08, 'lambda_l2': 1.0797944396056127e-07, 'num_leaves': 41, 'feature_fraction': 0.511122780347624, 'bagging_fraction': 0.9566982935743438, 'bagging_freq': 3, 'min_child_samples': 62}. Best is trial 47 with value: 0.36700401006667505.\n",
      "C:\\Users\\natal\\AppData\\Local\\Temp\\ipykernel_19556\\4150719641.py:86: FutureWarning:\n",
      "\n",
      "upload_artifact() got {'study_or_trial', 'file_path', 'artifact_store'} as positional arguments but they were expected to be given as keyword arguments.\n",
      "\n",
      "C:\\Users\\natal\\AppData\\Local\\Temp\\ipykernel_19556\\4150719641.py:94: FutureWarning:\n",
      "\n",
      "upload_artifact() got {'study_or_trial', 'file_path', 'artifact_store'} as positional arguments but they were expected to be given as keyword arguments.\n",
      "\n",
      "[I 2024-10-13 00:26:50,105] Trial 75 finished with value: 0.35672396594032524 and parameters: {'lambda_l1': 5.694856266423767e-08, 'lambda_l2': 8.072199342548445e-08, 'num_leaves': 64, 'feature_fraction': 0.4496878416430055, 'bagging_fraction': 0.9439293291903277, 'bagging_freq': 3, 'min_child_samples': 54}. Best is trial 47 with value: 0.36700401006667505.\n",
      "C:\\Users\\natal\\AppData\\Local\\Temp\\ipykernel_19556\\4150719641.py:86: FutureWarning:\n",
      "\n",
      "upload_artifact() got {'study_or_trial', 'file_path', 'artifact_store'} as positional arguments but they were expected to be given as keyword arguments.\n",
      "\n",
      "C:\\Users\\natal\\AppData\\Local\\Temp\\ipykernel_19556\\4150719641.py:94: FutureWarning:\n",
      "\n",
      "upload_artifact() got {'study_or_trial', 'file_path', 'artifact_store'} as positional arguments but they were expected to be given as keyword arguments.\n",
      "\n",
      "[I 2024-10-13 00:26:54,788] Trial 76 finished with value: 0.35848759592240287 and parameters: {'lambda_l1': 1.0834826706664854e-08, 'lambda_l2': 4.839963221404322e-08, 'num_leaves': 38, 'feature_fraction': 0.5059729849565238, 'bagging_fraction': 0.9030740552807788, 'bagging_freq': 3, 'min_child_samples': 61}. Best is trial 47 with value: 0.36700401006667505.\n",
      "C:\\Users\\natal\\AppData\\Local\\Temp\\ipykernel_19556\\4150719641.py:86: FutureWarning:\n",
      "\n",
      "upload_artifact() got {'study_or_trial', 'file_path', 'artifact_store'} as positional arguments but they were expected to be given as keyword arguments.\n",
      "\n",
      "C:\\Users\\natal\\AppData\\Local\\Temp\\ipykernel_19556\\4150719641.py:94: FutureWarning:\n",
      "\n",
      "upload_artifact() got {'study_or_trial', 'file_path', 'artifact_store'} as positional arguments but they were expected to be given as keyword arguments.\n",
      "\n",
      "[I 2024-10-13 00:26:58,902] Trial 77 finished with value: 0.35968259819010606 and parameters: {'lambda_l1': 1.4203142667008561e-07, 'lambda_l2': 2.0351965023316247e-08, 'num_leaves': 53, 'feature_fraction': 0.43358385281961104, 'bagging_fraction': 0.9204179219441928, 'bagging_freq': 1, 'min_child_samples': 58}. Best is trial 47 with value: 0.36700401006667505.\n",
      "C:\\Users\\natal\\AppData\\Local\\Temp\\ipykernel_19556\\4150719641.py:86: FutureWarning:\n",
      "\n",
      "upload_artifact() got {'study_or_trial', 'file_path', 'artifact_store'} as positional arguments but they were expected to be given as keyword arguments.\n",
      "\n",
      "C:\\Users\\natal\\AppData\\Local\\Temp\\ipykernel_19556\\4150719641.py:94: FutureWarning:\n",
      "\n",
      "upload_artifact() got {'study_or_trial', 'file_path', 'artifact_store'} as positional arguments but they were expected to be given as keyword arguments.\n",
      "\n",
      "[I 2024-10-13 00:27:03,214] Trial 78 finished with value: 0.3589357855379389 and parameters: {'lambda_l1': 3.108531915732325e-08, 'lambda_l2': 1.156720023335325e-07, 'num_leaves': 69, 'feature_fraction': 0.4807910321959029, 'bagging_fraction': 0.8780269600868106, 'bagging_freq': 3, 'min_child_samples': 62}. Best is trial 47 with value: 0.36700401006667505.\n",
      "C:\\Users\\natal\\AppData\\Local\\Temp\\ipykernel_19556\\4150719641.py:86: FutureWarning:\n",
      "\n",
      "upload_artifact() got {'study_or_trial', 'file_path', 'artifact_store'} as positional arguments but they were expected to be given as keyword arguments.\n",
      "\n",
      "C:\\Users\\natal\\AppData\\Local\\Temp\\ipykernel_19556\\4150719641.py:94: FutureWarning:\n",
      "\n",
      "upload_artifact() got {'study_or_trial', 'file_path', 'artifact_store'} as positional arguments but they were expected to be given as keyword arguments.\n",
      "\n",
      "[I 2024-10-13 00:27:07,227] Trial 79 finished with value: 0.35980379578562494 and parameters: {'lambda_l1': 1.9639835410561563e-07, 'lambda_l2': 4.1257012982139845e-08, 'num_leaves': 14, 'feature_fraction': 0.5099303627552249, 'bagging_fraction': 0.8536875069241652, 'bagging_freq': 2, 'min_child_samples': 51}. Best is trial 47 with value: 0.36700401006667505.\n",
      "C:\\Users\\natal\\AppData\\Local\\Temp\\ipykernel_19556\\4150719641.py:86: FutureWarning:\n",
      "\n",
      "upload_artifact() got {'study_or_trial', 'file_path', 'artifact_store'} as positional arguments but they were expected to be given as keyword arguments.\n",
      "\n",
      "C:\\Users\\natal\\AppData\\Local\\Temp\\ipykernel_19556\\4150719641.py:94: FutureWarning:\n",
      "\n",
      "upload_artifact() got {'study_or_trial', 'file_path', 'artifact_store'} as positional arguments but they were expected to be given as keyword arguments.\n",
      "\n",
      "[I 2024-10-13 00:27:11,948] Trial 80 finished with value: 0.35513955053389384 and parameters: {'lambda_l1': 8.737016659204126e-07, 'lambda_l2': 1.548636186527808e-06, 'num_leaves': 227, 'feature_fraction': 0.5647275429543067, 'bagging_fraction': 0.9580910640461989, 'bagging_freq': 2, 'min_child_samples': 48}. Best is trial 47 with value: 0.36700401006667505.\n",
      "C:\\Users\\natal\\AppData\\Local\\Temp\\ipykernel_19556\\4150719641.py:86: FutureWarning:\n",
      "\n",
      "upload_artifact() got {'study_or_trial', 'file_path', 'artifact_store'} as positional arguments but they were expected to be given as keyword arguments.\n",
      "\n",
      "C:\\Users\\natal\\AppData\\Local\\Temp\\ipykernel_19556\\4150719641.py:94: FutureWarning:\n",
      "\n",
      "upload_artifact() got {'study_or_trial', 'file_path', 'artifact_store'} as positional arguments but they were expected to be given as keyword arguments.\n",
      "\n",
      "[I 2024-10-13 00:27:15,410] Trial 81 finished with value: 0.35477641294174755 and parameters: {'lambda_l1': 2.8913759730138535e-08, 'lambda_l2': 2.3537854543859487e-07, 'num_leaves': 44, 'feature_fraction': 0.5298899593544746, 'bagging_fraction': 0.5612641238902772, 'bagging_freq': 2, 'min_child_samples': 64}. Best is trial 47 with value: 0.36700401006667505.\n",
      "C:\\Users\\natal\\AppData\\Local\\Temp\\ipykernel_19556\\4150719641.py:86: FutureWarning:\n",
      "\n",
      "upload_artifact() got {'study_or_trial', 'file_path', 'artifact_store'} as positional arguments but they were expected to be given as keyword arguments.\n",
      "\n",
      "C:\\Users\\natal\\AppData\\Local\\Temp\\ipykernel_19556\\4150719641.py:94: FutureWarning:\n",
      "\n",
      "upload_artifact() got {'study_or_trial', 'file_path', 'artifact_store'} as positional arguments but they were expected to be given as keyword arguments.\n",
      "\n",
      "[I 2024-10-13 00:27:19,218] Trial 82 finished with value: 0.3569278375454976 and parameters: {'lambda_l1': 1.9408223461729024e-06, 'lambda_l2': 9.316951320407057e-08, 'num_leaves': 39, 'feature_fraction': 0.5496413028425484, 'bagging_fraction': 0.9889438128555719, 'bagging_freq': 2, 'min_child_samples': 67}. Best is trial 47 with value: 0.36700401006667505.\n",
      "C:\\Users\\natal\\AppData\\Local\\Temp\\ipykernel_19556\\4150719641.py:86: FutureWarning:\n",
      "\n",
      "upload_artifact() got {'study_or_trial', 'file_path', 'artifact_store'} as positional arguments but they were expected to be given as keyword arguments.\n",
      "\n",
      "C:\\Users\\natal\\AppData\\Local\\Temp\\ipykernel_19556\\4150719641.py:94: FutureWarning:\n",
      "\n",
      "upload_artifact() got {'study_or_trial', 'file_path', 'artifact_store'} as positional arguments but they were expected to be given as keyword arguments.\n",
      "\n",
      "[I 2024-10-13 00:27:23,666] Trial 83 finished with value: 0.3584987384782359 and parameters: {'lambda_l1': 6.184307186798484e-08, 'lambda_l2': 7.98247735849679e-05, 'num_leaves': 49, 'feature_fraction': 0.49762285928423683, 'bagging_fraction': 0.9686632869774381, 'bagging_freq': 2, 'min_child_samples': 60}. Best is trial 47 with value: 0.36700401006667505.\n",
      "C:\\Users\\natal\\AppData\\Local\\Temp\\ipykernel_19556\\4150719641.py:86: FutureWarning:\n",
      "\n",
      "upload_artifact() got {'study_or_trial', 'file_path', 'artifact_store'} as positional arguments but they were expected to be given as keyword arguments.\n",
      "\n",
      "C:\\Users\\natal\\AppData\\Local\\Temp\\ipykernel_19556\\4150719641.py:94: FutureWarning:\n",
      "\n",
      "upload_artifact() got {'study_or_trial', 'file_path', 'artifact_store'} as positional arguments but they were expected to be given as keyword arguments.\n",
      "\n",
      "[I 2024-10-13 00:27:27,643] Trial 84 finished with value: 0.35588925272386374 and parameters: {'lambda_l1': 1.0008995206493441e-07, 'lambda_l2': 5.971163783846637e-08, 'num_leaves': 76, 'feature_fraction': 0.5222119433186111, 'bagging_fraction': 0.9469228640914837, 'bagging_freq': 1, 'min_child_samples': 55}. Best is trial 47 with value: 0.36700401006667505.\n",
      "C:\\Users\\natal\\AppData\\Local\\Temp\\ipykernel_19556\\4150719641.py:86: FutureWarning:\n",
      "\n",
      "upload_artifact() got {'study_or_trial', 'file_path', 'artifact_store'} as positional arguments but they were expected to be given as keyword arguments.\n",
      "\n",
      "C:\\Users\\natal\\AppData\\Local\\Temp\\ipykernel_19556\\4150719641.py:94: FutureWarning:\n",
      "\n",
      "upload_artifact() got {'study_or_trial', 'file_path', 'artifact_store'} as positional arguments but they were expected to be given as keyword arguments.\n",
      "\n",
      "[I 2024-10-13 00:27:31,783] Trial 85 finished with value: 0.35848738962223303 and parameters: {'lambda_l1': 4.330583253685415e-06, 'lambda_l2': 8.558789699497239e-07, 'num_leaves': 31, 'feature_fraction': 0.572211279081039, 'bagging_fraction': 0.928719850449819, 'bagging_freq': 2, 'min_child_samples': 76}. Best is trial 47 with value: 0.36700401006667505.\n",
      "C:\\Users\\natal\\AppData\\Local\\Temp\\ipykernel_19556\\4150719641.py:86: FutureWarning:\n",
      "\n",
      "upload_artifact() got {'study_or_trial', 'file_path', 'artifact_store'} as positional arguments but they were expected to be given as keyword arguments.\n",
      "\n",
      "C:\\Users\\natal\\AppData\\Local\\Temp\\ipykernel_19556\\4150719641.py:94: FutureWarning:\n",
      "\n",
      "upload_artifact() got {'study_or_trial', 'file_path', 'artifact_store'} as positional arguments but they were expected to be given as keyword arguments.\n",
      "\n",
      "[I 2024-10-13 00:27:35,989] Trial 86 finished with value: 0.3539841488917217 and parameters: {'lambda_l1': 7.394945284834438e-07, 'lambda_l2': 1.74639610265639e-08, 'num_leaves': 60, 'feature_fraction': 0.4786152165529298, 'bagging_fraction': 0.9631140781465208, 'bagging_freq': 3, 'min_child_samples': 72}. Best is trial 47 with value: 0.36700401006667505.\n",
      "C:\\Users\\natal\\AppData\\Local\\Temp\\ipykernel_19556\\4150719641.py:86: FutureWarning:\n",
      "\n",
      "upload_artifact() got {'study_or_trial', 'file_path', 'artifact_store'} as positional arguments but they were expected to be given as keyword arguments.\n",
      "\n",
      "C:\\Users\\natal\\AppData\\Local\\Temp\\ipykernel_19556\\4150719641.py:94: FutureWarning:\n",
      "\n",
      "upload_artifact() got {'study_or_trial', 'file_path', 'artifact_store'} as positional arguments but they were expected to be given as keyword arguments.\n",
      "\n",
      "[I 2024-10-13 00:27:39,892] Trial 87 finished with value: 0.3480343649507147 and parameters: {'lambda_l1': 5.000750573174071e-05, 'lambda_l2': 3.826744355429972e-07, 'num_leaves': 19, 'feature_fraction': 0.4570081178065993, 'bagging_fraction': 0.4785154703355744, 'bagging_freq': 2, 'min_child_samples': 57}. Best is trial 47 with value: 0.36700401006667505.\n",
      "C:\\Users\\natal\\AppData\\Local\\Temp\\ipykernel_19556\\4150719641.py:86: FutureWarning:\n",
      "\n",
      "upload_artifact() got {'study_or_trial', 'file_path', 'artifact_store'} as positional arguments but they were expected to be given as keyword arguments.\n",
      "\n",
      "C:\\Users\\natal\\AppData\\Local\\Temp\\ipykernel_19556\\4150719641.py:94: FutureWarning:\n",
      "\n",
      "upload_artifact() got {'study_or_trial', 'file_path', 'artifact_store'} as positional arguments but they were expected to be given as keyword arguments.\n",
      "\n",
      "[I 2024-10-13 00:27:44,258] Trial 88 finished with value: 0.3539927601929328 and parameters: {'lambda_l1': 3.879581165167139e-07, 'lambda_l2': 1.7579994345763862e-07, 'num_leaves': 54, 'feature_fraction': 0.5884847914308091, 'bagging_fraction': 0.9058482078798642, 'bagging_freq': 1, 'min_child_samples': 67}. Best is trial 47 with value: 0.36700401006667505.\n",
      "C:\\Users\\natal\\AppData\\Local\\Temp\\ipykernel_19556\\4150719641.py:86: FutureWarning:\n",
      "\n",
      "upload_artifact() got {'study_or_trial', 'file_path', 'artifact_store'} as positional arguments but they were expected to be given as keyword arguments.\n",
      "\n",
      "C:\\Users\\natal\\AppData\\Local\\Temp\\ipykernel_19556\\4150719641.py:94: FutureWarning:\n",
      "\n",
      "upload_artifact() got {'study_or_trial', 'file_path', 'artifact_store'} as positional arguments but they were expected to be given as keyword arguments.\n",
      "\n",
      "[I 2024-10-13 00:27:49,708] Trial 89 finished with value: 0.3596079735302697 and parameters: {'lambda_l1': 0.00020926331560862813, 'lambda_l2': 3.010417769611211e-08, 'num_leaves': 27, 'feature_fraction': 0.42813031633474247, 'bagging_fraction': 0.9963613250612351, 'bagging_freq': 2, 'min_child_samples': 45}. Best is trial 47 with value: 0.36700401006667505.\n",
      "C:\\Users\\natal\\AppData\\Local\\Temp\\ipykernel_19556\\4150719641.py:86: FutureWarning:\n",
      "\n",
      "upload_artifact() got {'study_or_trial', 'file_path', 'artifact_store'} as positional arguments but they were expected to be given as keyword arguments.\n",
      "\n",
      "C:\\Users\\natal\\AppData\\Local\\Temp\\ipykernel_19556\\4150719641.py:94: FutureWarning:\n",
      "\n",
      "upload_artifact() got {'study_or_trial', 'file_path', 'artifact_store'} as positional arguments but they were expected to be given as keyword arguments.\n",
      "\n",
      "[I 2024-10-13 00:27:54,982] Trial 90 finished with value: 0.3600373720550961 and parameters: {'lambda_l1': 2.0036865060521306e-06, 'lambda_l2': 1.0080643387236792e-07, 'num_leaves': 97, 'feature_fraction': 0.5157320630088312, 'bagging_fraction': 0.8627407745926431, 'bagging_freq': 3, 'min_child_samples': 62}. Best is trial 47 with value: 0.36700401006667505.\n",
      "C:\\Users\\natal\\AppData\\Local\\Temp\\ipykernel_19556\\4150719641.py:86: FutureWarning:\n",
      "\n",
      "upload_artifact() got {'study_or_trial', 'file_path', 'artifact_store'} as positional arguments but they were expected to be given as keyword arguments.\n",
      "\n",
      "C:\\Users\\natal\\AppData\\Local\\Temp\\ipykernel_19556\\4150719641.py:94: FutureWarning:\n",
      "\n",
      "upload_artifact() got {'study_or_trial', 'file_path', 'artifact_store'} as positional arguments but they were expected to be given as keyword arguments.\n",
      "\n",
      "[I 2024-10-13 00:28:00,177] Trial 91 finished with value: 0.35996755842240796 and parameters: {'lambda_l1': 1.7462472256696532e-06, 'lambda_l2': 1.083633528128464e-07, 'num_leaves': 97, 'feature_fraction': 0.5112829353279589, 'bagging_fraction': 0.8563424112506844, 'bagging_freq': 3, 'min_child_samples': 63}. Best is trial 47 with value: 0.36700401006667505.\n",
      "C:\\Users\\natal\\AppData\\Local\\Temp\\ipykernel_19556\\4150719641.py:86: FutureWarning:\n",
      "\n",
      "upload_artifact() got {'study_or_trial', 'file_path', 'artifact_store'} as positional arguments but they were expected to be given as keyword arguments.\n",
      "\n",
      "C:\\Users\\natal\\AppData\\Local\\Temp\\ipykernel_19556\\4150719641.py:94: FutureWarning:\n",
      "\n",
      "upload_artifact() got {'study_or_trial', 'file_path', 'artifact_store'} as positional arguments but they were expected to be given as keyword arguments.\n",
      "\n",
      "[I 2024-10-13 00:28:05,579] Trial 92 finished with value: 0.35605745080404894 and parameters: {'lambda_l1': 1.8444956272607875e-07, 'lambda_l2': 6.118051613250154e-08, 'num_leaves': 91, 'feature_fraction': 0.5481252316048959, 'bagging_fraction': 0.9482031424390747, 'bagging_freq': 2, 'min_child_samples': 60}. Best is trial 47 with value: 0.36700401006667505.\n",
      "C:\\Users\\natal\\AppData\\Local\\Temp\\ipykernel_19556\\4150719641.py:86: FutureWarning:\n",
      "\n",
      "upload_artifact() got {'study_or_trial', 'file_path', 'artifact_store'} as positional arguments but they were expected to be given as keyword arguments.\n",
      "\n",
      "C:\\Users\\natal\\AppData\\Local\\Temp\\ipykernel_19556\\4150719641.py:94: FutureWarning:\n",
      "\n",
      "upload_artifact() got {'study_or_trial', 'file_path', 'artifact_store'} as positional arguments but they were expected to be given as keyword arguments.\n",
      "\n",
      "[I 2024-10-13 00:28:10,177] Trial 93 finished with value: 0.35789633139515775 and parameters: {'lambda_l1': 7.154494425694177e-05, 'lambda_l2': 2.3188914655805198e-07, 'num_leaves': 77, 'feature_fraction': 0.5592283473517132, 'bagging_fraction': 0.9276498487373896, 'bagging_freq': 3, 'min_child_samples': 65}. Best is trial 47 with value: 0.36700401006667505.\n",
      "C:\\Users\\natal\\AppData\\Local\\Temp\\ipykernel_19556\\4150719641.py:86: FutureWarning:\n",
      "\n",
      "upload_artifact() got {'study_or_trial', 'file_path', 'artifact_store'} as positional arguments but they were expected to be given as keyword arguments.\n",
      "\n",
      "C:\\Users\\natal\\AppData\\Local\\Temp\\ipykernel_19556\\4150719641.py:94: FutureWarning:\n",
      "\n",
      "upload_artifact() got {'study_or_trial', 'file_path', 'artifact_store'} as positional arguments but they were expected to be given as keyword arguments.\n",
      "\n",
      "[I 2024-10-13 00:28:14,894] Trial 94 finished with value: 0.3564144799664794 and parameters: {'lambda_l1': 1.1266908269893795e-05, 'lambda_l2': 3.947709813527339e-08, 'num_leaves': 67, 'feature_fraction': 0.5349721315682037, 'bagging_fraction': 0.8792893582623416, 'bagging_freq': 2, 'min_child_samples': 52}. Best is trial 47 with value: 0.36700401006667505.\n",
      "C:\\Users\\natal\\AppData\\Local\\Temp\\ipykernel_19556\\4150719641.py:86: FutureWarning:\n",
      "\n",
      "upload_artifact() got {'study_or_trial', 'file_path', 'artifact_store'} as positional arguments but they were expected to be given as keyword arguments.\n",
      "\n",
      "C:\\Users\\natal\\AppData\\Local\\Temp\\ipykernel_19556\\4150719641.py:94: FutureWarning:\n",
      "\n",
      "upload_artifact() got {'study_or_trial', 'file_path', 'artifact_store'} as positional arguments but they were expected to be given as keyword arguments.\n",
      "\n",
      "[I 2024-10-13 00:28:18,960] Trial 95 finished with value: 0.3488735555082516 and parameters: {'lambda_l1': 3.981057487608725e-06, 'lambda_l2': 1.4166212558518495e-08, 'num_leaves': 46, 'feature_fraction': 0.4898863997079461, 'bagging_fraction': 0.9015079289436734, 'bagging_freq': 1, 'min_child_samples': 70}. Best is trial 47 with value: 0.36700401006667505.\n",
      "C:\\Users\\natal\\AppData\\Local\\Temp\\ipykernel_19556\\4150719641.py:86: FutureWarning:\n",
      "\n",
      "upload_artifact() got {'study_or_trial', 'file_path', 'artifact_store'} as positional arguments but they were expected to be given as keyword arguments.\n",
      "\n",
      "C:\\Users\\natal\\AppData\\Local\\Temp\\ipykernel_19556\\4150719641.py:94: FutureWarning:\n",
      "\n",
      "upload_artifact() got {'study_or_trial', 'file_path', 'artifact_store'} as positional arguments but they were expected to be given as keyword arguments.\n",
      "\n",
      "[I 2024-10-13 00:28:24,083] Trial 96 finished with value: 0.3545149358843303 and parameters: {'lambda_l1': 2.864684672072872e-07, 'lambda_l2': 4.79935017465816e-07, 'num_leaves': 100, 'feature_fraction': 0.5164883942116858, 'bagging_fraction': 0.969781760370583, 'bagging_freq': 2, 'min_child_samples': 55}. Best is trial 47 with value: 0.36700401006667505.\n",
      "C:\\Users\\natal\\AppData\\Local\\Temp\\ipykernel_19556\\4150719641.py:86: FutureWarning:\n",
      "\n",
      "upload_artifact() got {'study_or_trial', 'file_path', 'artifact_store'} as positional arguments but they were expected to be given as keyword arguments.\n",
      "\n",
      "C:\\Users\\natal\\AppData\\Local\\Temp\\ipykernel_19556\\4150719641.py:94: FutureWarning:\n",
      "\n",
      "upload_artifact() got {'study_or_trial', 'file_path', 'artifact_store'} as positional arguments but they were expected to be given as keyword arguments.\n",
      "\n",
      "[I 2024-10-13 00:28:29,460] Trial 97 finished with value: 0.3529940821526535 and parameters: {'lambda_l1': 5.517672983411643e-07, 'lambda_l2': 0.05315258151567795, 'num_leaves': 85, 'feature_fraction': 0.4669219841235382, 'bagging_fraction': 0.8284935081588588, 'bagging_freq': 3, 'min_child_samples': 58}. Best is trial 47 with value: 0.36700401006667505.\n",
      "C:\\Users\\natal\\AppData\\Local\\Temp\\ipykernel_19556\\4150719641.py:86: FutureWarning:\n",
      "\n",
      "upload_artifact() got {'study_or_trial', 'file_path', 'artifact_store'} as positional arguments but they were expected to be given as keyword arguments.\n",
      "\n",
      "C:\\Users\\natal\\AppData\\Local\\Temp\\ipykernel_19556\\4150719641.py:94: FutureWarning:\n",
      "\n",
      "upload_artifact() got {'study_or_trial', 'file_path', 'artifact_store'} as positional arguments but they were expected to be given as keyword arguments.\n",
      "\n",
      "[I 2024-10-13 00:28:34,885] Trial 98 finished with value: 0.355767214023015 and parameters: {'lambda_l1': 1.825344704110148e-05, 'lambda_l2': 0.9815111353720963, 'num_leaves': 120, 'feature_fraction': 0.5009096242470354, 'bagging_fraction': 0.9846227709927947, 'bagging_freq': 4, 'min_child_samples': 62}. Best is trial 47 with value: 0.36700401006667505.\n",
      "C:\\Users\\natal\\AppData\\Local\\Temp\\ipykernel_19556\\4150719641.py:86: FutureWarning:\n",
      "\n",
      "upload_artifact() got {'study_or_trial', 'file_path', 'artifact_store'} as positional arguments but they were expected to be given as keyword arguments.\n",
      "\n",
      "C:\\Users\\natal\\AppData\\Local\\Temp\\ipykernel_19556\\4150719641.py:94: FutureWarning:\n",
      "\n",
      "upload_artifact() got {'study_or_trial', 'file_path', 'artifact_store'} as positional arguments but they were expected to be given as keyword arguments.\n",
      "\n",
      "[I 2024-10-13 00:28:39,889] Trial 99 finished with value: 0.35808904938401825 and parameters: {'lambda_l1': 7.536072993213523e-06, 'lambda_l2': 1.2935276309056163e-07, 'num_leaves': 37, 'feature_fraction': 0.5391360861231529, 'bagging_fraction': 0.9358633202327946, 'bagging_freq': 2, 'min_child_samples': 66}. Best is trial 47 with value: 0.36700401006667505.\n"
     ]
    }
   ],
   "source": [
    "#Inicio el store de artefactos (archivos) de optuna\n",
    "artifact_store = FileSystemArtifactStore(base_path=PATH_TO_OPTUNA_ARTIFACTS)\n",
    "\n",
    "#Genero estudio\n",
    "study = optuna.create_study(direction='maximize',\n",
    "                            storage=\"sqlite:///../src/db.sqlite3\",  # Specify the storage URL here.\n",
    "                            study_name=\"04 - LGB Multiclass CV_FE\",\n",
    "                            load_if_exists = True)\n",
    "#Corro la optimizacion\n",
    "study.optimize(cv_es_lgb_objective, n_trials=100)"
   ]
  },
  {
   "cell_type": "markdown",
   "metadata": {},
   "source": [
    "Para ver el optuna dashboard tengo que correr este comando en la terminal"
   ]
  },
  {
   "cell_type": "code",
   "execution_count": 181,
   "metadata": {},
   "outputs": [
    {
     "name": "stdout",
     "output_type": "stream",
     "text": [
      "^C\n"
     ]
    }
   ],
   "source": [
    "!optuna-dashboard sqlite:///../src/db.sqlite3 --artifact-dir ../src/optuna_artifacts --port 8081\n",
    "\n",
    "#PS C:\\Users\\natal> optuna-dashboard sqlite:///../src/db.sqlite3 --artifact-dir ../src/optuna_artifacts --port 8081\n",
    "\n",
    "#\"C:\\Users\\natal\\Documents\\GitHub\\pet_project\\pet_project\\pet-competition\\src\"\n",
    "#C:/Users/natal/Documents/GitHub/pet_project/pet_project/pet-competition"
   ]
  }
 ],
 "metadata": {
  "kernelspec": {
   "display_name": "envtp",
   "language": "python",
   "name": "python3"
  },
  "language_info": {
   "codemirror_mode": {
    "name": "ipython",
    "version": 3
   },
   "file_extension": ".py",
   "mimetype": "text/x-python",
   "name": "python",
   "nbconvert_exporter": "python",
   "pygments_lexer": "ipython3",
   "version": "3.12.5"
  }
 },
 "nbformat": 4,
 "nbformat_minor": 2
}
