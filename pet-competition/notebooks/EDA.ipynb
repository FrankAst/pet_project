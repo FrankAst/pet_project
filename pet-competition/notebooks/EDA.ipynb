{
 "cells": [
  {
   "cell_type": "code",
   "execution_count": 1,
   "metadata": {},
   "outputs": [
    {
     "data": {
      "text/html": [
       "<pre style=\"white-space:pre;overflow-x:auto;line-height:normal;font-family:Menlo,'DejaVu Sans Mono',consolas,'Courier New',monospace\"><span style=\"color: #7fbfbf; text-decoration-color: #7fbfbf\">[08/08/24 22:20:21] </span><span style=\"color: #000080; text-decoration-color: #000080\">INFO    </span> Using                                                                  <a href=\"file://c:\\Users\\abelf\\anaconda3\\envs\\ldi2\\Lib\\site-packages\\kedro\\framework\\project\\__init__.py\" target=\"_blank\"><span style=\"color: #7f7f7f; text-decoration-color: #7f7f7f\">__init__.py</span></a><span style=\"color: #7f7f7f; text-decoration-color: #7f7f7f\">:</span><a href=\"file://c:\\Users\\abelf\\anaconda3\\envs\\ldi2\\Lib\\site-packages\\kedro\\framework\\project\\__init__.py#246\" target=\"_blank\"><span style=\"color: #7f7f7f; text-decoration-color: #7f7f7f\">246</span></a>\n",
       "<span style=\"color: #7fbfbf; text-decoration-color: #7fbfbf\">                    </span>         <span style=\"color: #008000; text-decoration-color: #008000\">'c:\\Users\\abelf\\anaconda3\\envs\\ldi2\\Lib\\site-packages\\kedro\\framework\\</span> <span style=\"color: #7f7f7f; text-decoration-color: #7f7f7f\">               </span>\n",
       "<span style=\"color: #7fbfbf; text-decoration-color: #7fbfbf\">                    </span>         <span style=\"color: #008000; text-decoration-color: #008000\">project\\rich_logging.yml'</span> as logging configuration.                    <span style=\"color: #7f7f7f; text-decoration-color: #7f7f7f\">               </span>\n",
       "</pre>\n"
      ],
      "text/plain": [
       "\u001b[2;36m[08/08/24 22:20:21]\u001b[0m\u001b[2;36m \u001b[0m\u001b[34mINFO    \u001b[0m Using                                                                  \u001b]8;id=835238;file://c:\\Users\\abelf\\anaconda3\\envs\\ldi2\\Lib\\site-packages\\kedro\\framework\\project\\__init__.py\u001b\\\u001b[2m__init__.py\u001b[0m\u001b]8;;\u001b\\\u001b[2m:\u001b[0m\u001b]8;id=430292;file://c:\\Users\\abelf\\anaconda3\\envs\\ldi2\\Lib\\site-packages\\kedro\\framework\\project\\__init__.py#246\u001b\\\u001b[2m246\u001b[0m\u001b]8;;\u001b\\\n",
       "\u001b[2;36m                    \u001b[0m         \u001b[32m'c:\\Users\\abelf\\anaconda3\\envs\\ldi2\\Lib\\site-packages\\kedro\\framework\\\u001b[0m \u001b[2m               \u001b[0m\n",
       "\u001b[2;36m                    \u001b[0m         \u001b[32mproject\\rich_logging.yml'\u001b[0m as logging configuration.                    \u001b[2m               \u001b[0m\n"
      ]
     },
     "metadata": {},
     "output_type": "display_data"
    },
    {
     "data": {
      "text/html": [
       "<pre style=\"white-space:pre;overflow-x:auto;line-height:normal;font-family:Menlo,'DejaVu Sans Mono',consolas,'Courier New',monospace\"><span style=\"color: #7fbfbf; text-decoration-color: #7fbfbf\">                    </span><span style=\"color: #000080; text-decoration-color: #000080\">INFO    </span> Registered line magic <span style=\"color: #008000; text-decoration-color: #008000\">'%reload_kedro'</span>                                   <a href=\"file://c:\\Users\\abelf\\anaconda3\\envs\\ldi2\\Lib\\site-packages\\kedro\\ipython\\__init__.py\" target=\"_blank\"><span style=\"color: #7f7f7f; text-decoration-color: #7f7f7f\">__init__.py</span></a><span style=\"color: #7f7f7f; text-decoration-color: #7f7f7f\">:</span><a href=\"file://c:\\Users\\abelf\\anaconda3\\envs\\ldi2\\Lib\\site-packages\\kedro\\ipython\\__init__.py#58\" target=\"_blank\"><span style=\"color: #7f7f7f; text-decoration-color: #7f7f7f\">58</span></a>\n",
       "</pre>\n"
      ],
      "text/plain": [
       "\u001b[2;36m                   \u001b[0m\u001b[2;36m \u001b[0m\u001b[34mINFO    \u001b[0m Registered line magic \u001b[32m'%reload_kedro'\u001b[0m                                   \u001b]8;id=890542;file://c:\\Users\\abelf\\anaconda3\\envs\\ldi2\\Lib\\site-packages\\kedro\\ipython\\__init__.py\u001b\\\u001b[2m__init__.py\u001b[0m\u001b]8;;\u001b\\\u001b[2m:\u001b[0m\u001b]8;id=713363;file://c:\\Users\\abelf\\anaconda3\\envs\\ldi2\\Lib\\site-packages\\kedro\\ipython\\__init__.py#58\u001b\\\u001b[2m58\u001b[0m\u001b]8;;\u001b\\\n"
      ]
     },
     "metadata": {},
     "output_type": "display_data"
    },
    {
     "data": {
      "text/html": [
       "<pre style=\"white-space:pre;overflow-x:auto;line-height:normal;font-family:Menlo,'DejaVu Sans Mono',consolas,'Courier New',monospace\"><span style=\"color: #7fbfbf; text-decoration-color: #7fbfbf\">                    </span><span style=\"color: #000080; text-decoration-color: #000080\">INFO    </span> Registered line magic <span style=\"color: #008000; text-decoration-color: #008000\">'%load_node'</span>                                      <a href=\"file://c:\\Users\\abelf\\anaconda3\\envs\\ldi2\\Lib\\site-packages\\kedro\\ipython\\__init__.py\" target=\"_blank\"><span style=\"color: #7f7f7f; text-decoration-color: #7f7f7f\">__init__.py</span></a><span style=\"color: #7f7f7f; text-decoration-color: #7f7f7f\">:</span><a href=\"file://c:\\Users\\abelf\\anaconda3\\envs\\ldi2\\Lib\\site-packages\\kedro\\ipython\\__init__.py#60\" target=\"_blank\"><span style=\"color: #7f7f7f; text-decoration-color: #7f7f7f\">60</span></a>\n",
       "</pre>\n"
      ],
      "text/plain": [
       "\u001b[2;36m                   \u001b[0m\u001b[2;36m \u001b[0m\u001b[34mINFO    \u001b[0m Registered line magic \u001b[32m'%load_node'\u001b[0m                                      \u001b]8;id=670414;file://c:\\Users\\abelf\\anaconda3\\envs\\ldi2\\Lib\\site-packages\\kedro\\ipython\\__init__.py\u001b\\\u001b[2m__init__.py\u001b[0m\u001b]8;;\u001b\\\u001b[2m:\u001b[0m\u001b]8;id=732871;file://c:\\Users\\abelf\\anaconda3\\envs\\ldi2\\Lib\\site-packages\\kedro\\ipython\\__init__.py#60\u001b\\\u001b[2m60\u001b[0m\u001b]8;;\u001b\\\n"
      ]
     },
     "metadata": {},
     "output_type": "display_data"
    },
    {
     "data": {
      "text/html": [
       "<pre style=\"white-space:pre;overflow-x:auto;line-height:normal;font-family:Menlo,'DejaVu Sans Mono',consolas,'Courier New',monospace\"><span style=\"color: #7fbfbf; text-decoration-color: #7fbfbf\">                    </span><span style=\"color: #000080; text-decoration-color: #000080\">INFO    </span> Resolved project path as: e:\\LAB2\\pet_project\\pet-competition.         <a href=\"file://c:\\Users\\abelf\\anaconda3\\envs\\ldi2\\Lib\\site-packages\\kedro\\ipython\\__init__.py\" target=\"_blank\"><span style=\"color: #7f7f7f; text-decoration-color: #7f7f7f\">__init__.py</span></a><span style=\"color: #7f7f7f; text-decoration-color: #7f7f7f\">:</span><a href=\"file://c:\\Users\\abelf\\anaconda3\\envs\\ldi2\\Lib\\site-packages\\kedro\\ipython\\__init__.py#175\" target=\"_blank\"><span style=\"color: #7f7f7f; text-decoration-color: #7f7f7f\">175</span></a>\n",
       "<span style=\"color: #7fbfbf; text-decoration-color: #7fbfbf\">                    </span>         To set a different path, run <span style=\"color: #008000; text-decoration-color: #008000\">'%reload_kedro &lt;project_root&gt;'</span>            <span style=\"color: #7f7f7f; text-decoration-color: #7f7f7f\">               </span>\n",
       "</pre>\n"
      ],
      "text/plain": [
       "\u001b[2;36m                   \u001b[0m\u001b[2;36m \u001b[0m\u001b[34mINFO    \u001b[0m Resolved project path as: e:\\LAB2\\pet_project\\pet-competition.         \u001b]8;id=419659;file://c:\\Users\\abelf\\anaconda3\\envs\\ldi2\\Lib\\site-packages\\kedro\\ipython\\__init__.py\u001b\\\u001b[2m__init__.py\u001b[0m\u001b]8;;\u001b\\\u001b[2m:\u001b[0m\u001b]8;id=715210;file://c:\\Users\\abelf\\anaconda3\\envs\\ldi2\\Lib\\site-packages\\kedro\\ipython\\__init__.py#175\u001b\\\u001b[2m175\u001b[0m\u001b]8;;\u001b\\\n",
       "\u001b[2;36m                    \u001b[0m         To set a different path, run \u001b[32m'%reload_kedro \u001b[0m\u001b[32m<\u001b[0m\u001b[32mproject_root\u001b[0m\u001b[32m>\u001b[0m\u001b[32m'\u001b[0m            \u001b[2m               \u001b[0m\n"
      ]
     },
     "metadata": {},
     "output_type": "display_data"
    },
    {
     "data": {
      "text/html": [
       "<pre style=\"white-space:pre;overflow-x:auto;line-height:normal;font-family:Menlo,'DejaVu Sans Mono',consolas,'Courier New',monospace\"><span style=\"color: #7fbfbf; text-decoration-color: #7fbfbf\">                    </span><span style=\"color: #800000; text-decoration-color: #800000\">WARNING </span> c:\\Users\\abelf\\anaconda3\\envs\\ldi2\\Lib\\site-packages\\kedro_viz\\__init_ <a href=\"file://c:\\Users\\abelf\\anaconda3\\envs\\ldi2\\Lib\\warnings.py\" target=\"_blank\"><span style=\"color: #7f7f7f; text-decoration-color: #7f7f7f\">warnings.py</span></a><span style=\"color: #7f7f7f; text-decoration-color: #7f7f7f\">:</span><a href=\"file://c:\\Users\\abelf\\anaconda3\\envs\\ldi2\\Lib\\warnings.py#112\" target=\"_blank\"><span style=\"color: #7f7f7f; text-decoration-color: #7f7f7f\">112</span></a>\n",
       "<span style=\"color: #7fbfbf; text-decoration-color: #7fbfbf\">                    </span>         _.py:<span style=\"color: #008080; text-decoration-color: #008080; font-weight: bold\">13</span>: KedroVizPythonVersionWarning: Please be advised that Kedro    <span style=\"color: #7f7f7f; text-decoration-color: #7f7f7f\">               </span>\n",
       "<span style=\"color: #7fbfbf; text-decoration-color: #7fbfbf\">                    </span>         Viz is not yet fully                                                   <span style=\"color: #7f7f7f; text-decoration-color: #7f7f7f\">               </span>\n",
       "<span style=\"color: #7fbfbf; text-decoration-color: #7fbfbf\">                    </span>                 compatible with the Python version you are currently using.    <span style=\"color: #7f7f7f; text-decoration-color: #7f7f7f\">               </span>\n",
       "<span style=\"color: #7fbfbf; text-decoration-color: #7fbfbf\">                    </span>           <span style=\"color: #800080; text-decoration-color: #800080; font-weight: bold\">warnings.warn</span><span style=\"font-weight: bold\">(</span>                                                       <span style=\"color: #7f7f7f; text-decoration-color: #7f7f7f\">               </span>\n",
       "<span style=\"color: #7fbfbf; text-decoration-color: #7fbfbf\">                    </span>                                                                                <span style=\"color: #7f7f7f; text-decoration-color: #7f7f7f\">               </span>\n",
       "</pre>\n"
      ],
      "text/plain": [
       "\u001b[2;36m                   \u001b[0m\u001b[2;36m \u001b[0m\u001b[31mWARNING \u001b[0m c:\\Users\\abelf\\anaconda3\\envs\\ldi2\\Lib\\site-packages\\kedro_viz\\__init_ \u001b]8;id=849680;file://c:\\Users\\abelf\\anaconda3\\envs\\ldi2\\Lib\\warnings.py\u001b\\\u001b[2mwarnings.py\u001b[0m\u001b]8;;\u001b\\\u001b[2m:\u001b[0m\u001b]8;id=959498;file://c:\\Users\\abelf\\anaconda3\\envs\\ldi2\\Lib\\warnings.py#112\u001b\\\u001b[2m112\u001b[0m\u001b]8;;\u001b\\\n",
       "\u001b[2;36m                    \u001b[0m         _.py:\u001b[1;36m13\u001b[0m: KedroVizPythonVersionWarning: Please be advised that Kedro    \u001b[2m               \u001b[0m\n",
       "\u001b[2;36m                    \u001b[0m         Viz is not yet fully                                                   \u001b[2m               \u001b[0m\n",
       "\u001b[2;36m                    \u001b[0m                 compatible with the Python version you are currently using.    \u001b[2m               \u001b[0m\n",
       "\u001b[2;36m                    \u001b[0m           \u001b[1;35mwarnings.warn\u001b[0m\u001b[1m(\u001b[0m                                                       \u001b[2m               \u001b[0m\n",
       "\u001b[2;36m                    \u001b[0m                                                                                \u001b[2m               \u001b[0m\n"
      ]
     },
     "metadata": {},
     "output_type": "display_data"
    },
    {
     "data": {
      "text/html": [
       "<pre style=\"white-space:pre;overflow-x:auto;line-height:normal;font-family:Menlo,'DejaVu Sans Mono',consolas,'Courier New',monospace\"><span style=\"color: #7fbfbf; text-decoration-color: #7fbfbf\">[08/08/24 22:20:24] </span><span style=\"color: #000080; text-decoration-color: #000080\">INFO    </span> Kedro is sending anonymous usage data with the sole purpose of improving <a href=\"file://c:\\Users\\abelf\\anaconda3\\envs\\ldi2\\Lib\\site-packages\\kedro_telemetry\\plugin.py\" target=\"_blank\"><span style=\"color: #7f7f7f; text-decoration-color: #7f7f7f\">plugin.py</span></a><span style=\"color: #7f7f7f; text-decoration-color: #7f7f7f\">:</span><a href=\"file://c:\\Users\\abelf\\anaconda3\\envs\\ldi2\\Lib\\site-packages\\kedro_telemetry\\plugin.py#233\" target=\"_blank\"><span style=\"color: #7f7f7f; text-decoration-color: #7f7f7f\">233</span></a>\n",
       "<span style=\"color: #7fbfbf; text-decoration-color: #7fbfbf\">                    </span>         the product. No personal data or IP addresses are stored on our side. If <span style=\"color: #7f7f7f; text-decoration-color: #7f7f7f\">             </span>\n",
       "<span style=\"color: #7fbfbf; text-decoration-color: #7fbfbf\">                    </span>         you want to opt out, set the `KEDRO_DISABLE_TELEMETRY` or `DO_NOT_TRACK` <span style=\"color: #7f7f7f; text-decoration-color: #7f7f7f\">             </span>\n",
       "<span style=\"color: #7fbfbf; text-decoration-color: #7fbfbf\">                    </span>         environment variables, or create a `.telemetry` file in the current      <span style=\"color: #7f7f7f; text-decoration-color: #7f7f7f\">             </span>\n",
       "<span style=\"color: #7fbfbf; text-decoration-color: #7fbfbf\">                    </span>         working directory with the contents `consent: false`. Read more at       <span style=\"color: #7f7f7f; text-decoration-color: #7f7f7f\">             </span>\n",
       "<span style=\"color: #7fbfbf; text-decoration-color: #7fbfbf\">                    </span>         <span style=\"color: #0000ff; text-decoration-color: #0000ff; text-decoration: underline\">https://docs.kedro.org/en/stable/configuration/telemetry.html</span>            <span style=\"color: #7f7f7f; text-decoration-color: #7f7f7f\">             </span>\n",
       "</pre>\n"
      ],
      "text/plain": [
       "\u001b[2;36m[08/08/24 22:20:24]\u001b[0m\u001b[2;36m \u001b[0m\u001b[34mINFO    \u001b[0m Kedro is sending anonymous usage data with the sole purpose of improving \u001b]8;id=361274;file://c:\\Users\\abelf\\anaconda3\\envs\\ldi2\\Lib\\site-packages\\kedro_telemetry\\plugin.py\u001b\\\u001b[2mplugin.py\u001b[0m\u001b]8;;\u001b\\\u001b[2m:\u001b[0m\u001b]8;id=468365;file://c:\\Users\\abelf\\anaconda3\\envs\\ldi2\\Lib\\site-packages\\kedro_telemetry\\plugin.py#233\u001b\\\u001b[2m233\u001b[0m\u001b]8;;\u001b\\\n",
       "\u001b[2;36m                    \u001b[0m         the product. No personal data or IP addresses are stored on our side. If \u001b[2m             \u001b[0m\n",
       "\u001b[2;36m                    \u001b[0m         you want to opt out, set the `KEDRO_DISABLE_TELEMETRY` or `DO_NOT_TRACK` \u001b[2m             \u001b[0m\n",
       "\u001b[2;36m                    \u001b[0m         environment variables, or create a `.telemetry` file in the current      \u001b[2m             \u001b[0m\n",
       "\u001b[2;36m                    \u001b[0m         working directory with the contents `consent: false`. Read more at       \u001b[2m             \u001b[0m\n",
       "\u001b[2;36m                    \u001b[0m         \u001b[4;94mhttps://docs.kedro.org/en/stable/configuration/telemetry.html\u001b[0m            \u001b[2m             \u001b[0m\n"
      ]
     },
     "metadata": {},
     "output_type": "display_data"
    },
    {
     "data": {
      "text/html": [
       "<pre style=\"white-space:pre;overflow-x:auto;line-height:normal;font-family:Menlo,'DejaVu Sans Mono',consolas,'Courier New',monospace\"><span style=\"color: #7fbfbf; text-decoration-color: #7fbfbf\">[08/08/24 22:20:25] </span><span style=\"color: #000080; text-decoration-color: #000080\">INFO    </span> Kedro project Pet_competition                                          <a href=\"file://c:\\Users\\abelf\\anaconda3\\envs\\ldi2\\Lib\\site-packages\\kedro\\ipython\\__init__.py\" target=\"_blank\"><span style=\"color: #7f7f7f; text-decoration-color: #7f7f7f\">__init__.py</span></a><span style=\"color: #7f7f7f; text-decoration-color: #7f7f7f\">:</span><a href=\"file://c:\\Users\\abelf\\anaconda3\\envs\\ldi2\\Lib\\site-packages\\kedro\\ipython\\__init__.py#141\" target=\"_blank\"><span style=\"color: #7f7f7f; text-decoration-color: #7f7f7f\">141</span></a>\n",
       "</pre>\n"
      ],
      "text/plain": [
       "\u001b[2;36m[08/08/24 22:20:25]\u001b[0m\u001b[2;36m \u001b[0m\u001b[34mINFO    \u001b[0m Kedro project Pet_competition                                          \u001b]8;id=174660;file://c:\\Users\\abelf\\anaconda3\\envs\\ldi2\\Lib\\site-packages\\kedro\\ipython\\__init__.py\u001b\\\u001b[2m__init__.py\u001b[0m\u001b]8;;\u001b\\\u001b[2m:\u001b[0m\u001b]8;id=357780;file://c:\\Users\\abelf\\anaconda3\\envs\\ldi2\\Lib\\site-packages\\kedro\\ipython\\__init__.py#141\u001b\\\u001b[2m141\u001b[0m\u001b]8;;\u001b\\\n"
      ]
     },
     "metadata": {},
     "output_type": "display_data"
    },
    {
     "data": {
      "text/html": [
       "<pre style=\"white-space:pre;overflow-x:auto;line-height:normal;font-family:Menlo,'DejaVu Sans Mono',consolas,'Courier New',monospace\"><span style=\"color: #7fbfbf; text-decoration-color: #7fbfbf\">                    </span><span style=\"color: #000080; text-decoration-color: #000080\">INFO    </span> Defined global variable <span style=\"color: #008000; text-decoration-color: #008000\">'context'</span>, <span style=\"color: #008000; text-decoration-color: #008000\">'session'</span>, <span style=\"color: #008000; text-decoration-color: #008000\">'catalog'</span> and            <a href=\"file://c:\\Users\\abelf\\anaconda3\\envs\\ldi2\\Lib\\site-packages\\kedro\\ipython\\__init__.py\" target=\"_blank\"><span style=\"color: #7f7f7f; text-decoration-color: #7f7f7f\">__init__.py</span></a><span style=\"color: #7f7f7f; text-decoration-color: #7f7f7f\">:</span><a href=\"file://c:\\Users\\abelf\\anaconda3\\envs\\ldi2\\Lib\\site-packages\\kedro\\ipython\\__init__.py#142\" target=\"_blank\"><span style=\"color: #7f7f7f; text-decoration-color: #7f7f7f\">142</span></a>\n",
       "<span style=\"color: #7fbfbf; text-decoration-color: #7fbfbf\">                    </span>         <span style=\"color: #008000; text-decoration-color: #008000\">'pipelines'</span>                                                            <span style=\"color: #7f7f7f; text-decoration-color: #7f7f7f\">               </span>\n",
       "</pre>\n"
      ],
      "text/plain": [
       "\u001b[2;36m                   \u001b[0m\u001b[2;36m \u001b[0m\u001b[34mINFO    \u001b[0m Defined global variable \u001b[32m'context'\u001b[0m, \u001b[32m'session'\u001b[0m, \u001b[32m'catalog'\u001b[0m and            \u001b]8;id=54473;file://c:\\Users\\abelf\\anaconda3\\envs\\ldi2\\Lib\\site-packages\\kedro\\ipython\\__init__.py\u001b\\\u001b[2m__init__.py\u001b[0m\u001b]8;;\u001b\\\u001b[2m:\u001b[0m\u001b]8;id=650243;file://c:\\Users\\abelf\\anaconda3\\envs\\ldi2\\Lib\\site-packages\\kedro\\ipython\\__init__.py#142\u001b\\\u001b[2m142\u001b[0m\u001b]8;;\u001b\\\n",
       "\u001b[2;36m                    \u001b[0m         \u001b[32m'pipelines'\u001b[0m                                                            \u001b[2m               \u001b[0m\n"
      ]
     },
     "metadata": {},
     "output_type": "display_data"
    },
    {
     "data": {
      "text/html": [
       "<pre style=\"white-space:pre;overflow-x:auto;line-height:normal;font-family:Menlo,'DejaVu Sans Mono',consolas,'Courier New',monospace\"><span style=\"color: #7fbfbf; text-decoration-color: #7fbfbf\">[08/08/24 22:20:28] </span><span style=\"color: #000080; text-decoration-color: #000080\">INFO    </span> Registered line magic <span style=\"color: #008000; text-decoration-color: #008000\">'run_viz'</span>                                        <a href=\"file://c:\\Users\\abelf\\anaconda3\\envs\\ldi2\\Lib\\site-packages\\kedro\\ipython\\__init__.py\" target=\"_blank\"><span style=\"color: #7f7f7f; text-decoration-color: #7f7f7f\">__init__.py</span></a><span style=\"color: #7f7f7f; text-decoration-color: #7f7f7f\">:</span><a href=\"file://c:\\Users\\abelf\\anaconda3\\envs\\ldi2\\Lib\\site-packages\\kedro\\ipython\\__init__.py#148\" target=\"_blank\"><span style=\"color: #7f7f7f; text-decoration-color: #7f7f7f\">148</span></a>\n",
       "</pre>\n"
      ],
      "text/plain": [
       "\u001b[2;36m[08/08/24 22:20:28]\u001b[0m\u001b[2;36m \u001b[0m\u001b[34mINFO    \u001b[0m Registered line magic \u001b[32m'run_viz'\u001b[0m                                        \u001b]8;id=606179;file://c:\\Users\\abelf\\anaconda3\\envs\\ldi2\\Lib\\site-packages\\kedro\\ipython\\__init__.py\u001b\\\u001b[2m__init__.py\u001b[0m\u001b]8;;\u001b\\\u001b[2m:\u001b[0m\u001b]8;id=135407;file://c:\\Users\\abelf\\anaconda3\\envs\\ldi2\\Lib\\site-packages\\kedro\\ipython\\__init__.py#148\u001b\\\u001b[2m148\u001b[0m\u001b]8;;\u001b\\\n"
      ]
     },
     "metadata": {},
     "output_type": "display_data"
    }
   ],
   "source": [
    "#load when is first time running\n",
    "%reload_ext kedro.ipython"
   ]
  },
  {
   "cell_type": "code",
   "execution_count": 2,
   "metadata": {},
   "outputs": [
    {
     "data": {
      "text/html": [
       "<pre style=\"white-space:pre;overflow-x:auto;line-height:normal;font-family:Menlo,'DejaVu Sans Mono',consolas,'Courier New',monospace\"></pre>\n"
      ],
      "text/plain": []
     },
     "metadata": {},
     "output_type": "display_data"
    },
    {
     "data": {
      "text/plain": [
       "\n",
       "\u001b[1m{\u001b[0m\u001b[32m'train'\u001b[0m: \u001b[32m\"kedro_datasets.pandas.csv_dataset.CSVDataset\u001b[0m\u001b[32m(\u001b[0m\u001b[32mfilepath\u001b[0m\u001b[32m=\u001b[0m\u001b[32mPurePosixPath\u001b[0m\u001b[32m(\u001b[0m\u001b[32m'E:/LAB2/pet_project/pet-competition/data/01_raw/train/train.csv'\u001b[0m\u001b[32m)\u001b[0m\u001b[32m, \"\u001b[0m\n",
       "          \u001b[32m\"\u001b[0m\u001b[32mprotocol\u001b[0m\u001b[32m='file', \u001b[0m\u001b[32mload_args\u001b[0m\u001b[32m=\u001b[0m\u001b[32m{\u001b[0m\u001b[32m}\u001b[0m\u001b[32m, \u001b[0m\u001b[32msave_args\u001b[0m\u001b[32m=\u001b[0m\u001b[32m{\u001b[0m\u001b[32m'index': False\u001b[0m\u001b[32m}\u001b[0m\u001b[32m)\u001b[0m\u001b[32m\"\u001b[0m,\n",
       " \u001b[32m'breed_labels'\u001b[0m: \u001b[32m\"kedro_datasets.pandas.csv_dataset.CSVDataset\u001b[0m\u001b[32m(\u001b[0m\u001b[32mfilepath\u001b[0m\u001b[32m=\u001b[0m\u001b[32mPurePosixPath\u001b[0m\u001b[32m(\u001b[0m\u001b[32m'E:/LAB2/pet_project/pet-competition/data/01_raw/breed_labels.csv'\u001b[0m\u001b[32m)\u001b[0m\u001b[32m, \"\u001b[0m\n",
       "                 \u001b[32m\"\u001b[0m\u001b[32mprotocol\u001b[0m\u001b[32m='file', \u001b[0m\u001b[32mload_args\u001b[0m\u001b[32m=\u001b[0m\u001b[32m{\u001b[0m\u001b[32m}\u001b[0m\u001b[32m, \u001b[0m\u001b[32msave_args\u001b[0m\u001b[32m=\u001b[0m\u001b[32m{\u001b[0m\u001b[32m'index': False\u001b[0m\u001b[32m}\u001b[0m\u001b[32m)\u001b[0m\u001b[32m\"\u001b[0m,\n",
       " \u001b[32m'color_labels'\u001b[0m: \u001b[32m\"kedro_datasets.pandas.csv_dataset.CSVDataset\u001b[0m\u001b[32m(\u001b[0m\u001b[32mfilepath\u001b[0m\u001b[32m=\u001b[0m\u001b[32mPurePosixPath\u001b[0m\u001b[32m(\u001b[0m\u001b[32m'E:/LAB2/pet_project/pet-competition/data/01_raw/color_labels.csv'\u001b[0m\u001b[32m)\u001b[0m\u001b[32m, \"\u001b[0m\n",
       "                 \u001b[32m\"\u001b[0m\u001b[32mprotocol\u001b[0m\u001b[32m='file', \u001b[0m\u001b[32mload_args\u001b[0m\u001b[32m=\u001b[0m\u001b[32m{\u001b[0m\u001b[32m}\u001b[0m\u001b[32m, \u001b[0m\u001b[32msave_args\u001b[0m\u001b[32m=\u001b[0m\u001b[32m{\u001b[0m\u001b[32m'index': False\u001b[0m\u001b[32m}\u001b[0m\u001b[32m)\u001b[0m\u001b[32m\"\u001b[0m,\n",
       " \u001b[32m'state_labels'\u001b[0m: \u001b[32m\"kedro_datasets.pandas.csv_dataset.CSVDataset\u001b[0m\u001b[32m(\u001b[0m\u001b[32mfilepath\u001b[0m\u001b[32m=\u001b[0m\u001b[32mPurePosixPath\u001b[0m\u001b[32m(\u001b[0m\u001b[32m'E:/LAB2/pet_project/pet-competition/data/01_raw/state_labels.csv'\u001b[0m\u001b[32m)\u001b[0m\u001b[32m, \"\u001b[0m\n",
       "                 \u001b[32m\"\u001b[0m\u001b[32mprotocol\u001b[0m\u001b[32m='file', \u001b[0m\u001b[32mload_args\u001b[0m\u001b[32m=\u001b[0m\u001b[32m{\u001b[0m\u001b[32m}\u001b[0m\u001b[32m, \u001b[0m\u001b[32msave_args\u001b[0m\u001b[32m=\u001b[0m\u001b[32m{\u001b[0m\u001b[32m'index': False\u001b[0m\u001b[32m}\u001b[0m\u001b[32m)\u001b[0m\u001b[32m\"\u001b[0m,\n",
       " \u001b[32m'parameters'\u001b[0m: \u001b[32m\"kedro.io.memory_dataset.MemoryDataset\u001b[0m\u001b[32m(\u001b[0m\u001b[32mdata\u001b[0m\u001b[32m='\u001b[0m\u001b[32m<\u001b[0m\u001b[32mdict\u001b[0m\u001b[32m>\u001b[0m\u001b[32m'\u001b[0m\u001b[32m)\u001b[0m\u001b[32m\"\u001b[0m\u001b[1m}\u001b[0m"
      ]
     },
     "execution_count": 2,
     "metadata": {},
     "output_type": "execute_result"
    }
   ],
   "source": [
    "catalog"
   ]
  },
  {
   "cell_type": "markdown",
   "metadata": {},
   "source": [
    "# Librerias"
   ]
  },
  {
   "cell_type": "code",
   "execution_count": 14,
   "metadata": {},
   "outputs": [],
   "source": [
    "import pandas as pd\n",
    "import seaborn as sns\n",
    "import matplotlib.pyplot as plt\n",
    "from pandas.plotting import table\n",
    "#from funciones import *"
   ]
  },
  {
   "cell_type": "markdown",
   "metadata": {},
   "source": [
    "# EDA"
   ]
  },
  {
   "cell_type": "markdown",
   "metadata": {},
   "source": [
    "## Exploracion inicial"
   ]
  },
  {
   "cell_type": "code",
   "execution_count": 15,
   "metadata": {},
   "outputs": [
    {
     "data": {
      "text/html": [
       "<pre style=\"white-space:pre;overflow-x:auto;line-height:normal;font-family:Menlo,'DejaVu Sans Mono',consolas,'Courier New',monospace\"><span style=\"color: #7fbfbf; text-decoration-color: #7fbfbf\">[08/08/24 22:29:42] </span><span style=\"color: #000080; text-decoration-color: #000080\">INFO    </span> Loading data from train <span style=\"font-weight: bold\">(</span>CSVDataset<span style=\"font-weight: bold\">)</span><span style=\"color: #808000; text-decoration-color: #808000\">...</span>                            <a href=\"file://c:\\Users\\abelf\\anaconda3\\envs\\ldi2\\Lib\\site-packages\\kedro\\io\\data_catalog.py\" target=\"_blank\"><span style=\"color: #7f7f7f; text-decoration-color: #7f7f7f\">data_catalog.py</span></a><span style=\"color: #7f7f7f; text-decoration-color: #7f7f7f\">:</span><a href=\"file://c:\\Users\\abelf\\anaconda3\\envs\\ldi2\\Lib\\site-packages\\kedro\\io\\data_catalog.py#537\" target=\"_blank\"><span style=\"color: #7f7f7f; text-decoration-color: #7f7f7f\">537</span></a>\n",
       "</pre>\n"
      ],
      "text/plain": [
       "\u001b[2;36m[08/08/24 22:29:42]\u001b[0m\u001b[2;36m \u001b[0m\u001b[34mINFO    \u001b[0m Loading data from train \u001b[1m(\u001b[0mCSVDataset\u001b[1m)\u001b[0m\u001b[33m...\u001b[0m                            \u001b]8;id=603573;file://c:\\Users\\abelf\\anaconda3\\envs\\ldi2\\Lib\\site-packages\\kedro\\io\\data_catalog.py\u001b\\\u001b[2mdata_catalog.py\u001b[0m\u001b]8;;\u001b\\\u001b[2m:\u001b[0m\u001b]8;id=373575;file://c:\\Users\\abelf\\anaconda3\\envs\\ldi2\\Lib\\site-packages\\kedro\\io\\data_catalog.py#537\u001b\\\u001b[2m537\u001b[0m\u001b]8;;\u001b\\\n"
      ]
     },
     "metadata": {},
     "output_type": "display_data"
    },
    {
     "data": {
      "text/html": [
       "<pre style=\"white-space:pre;overflow-x:auto;line-height:normal;font-family:Menlo,'DejaVu Sans Mono',consolas,'Courier New',monospace\"></pre>\n"
      ],
      "text/plain": []
     },
     "metadata": {},
     "output_type": "display_data"
    },
    {
     "data": {
      "text/html": [
       "<div>\n",
       "<style scoped>\n",
       "    .dataframe tbody tr th:only-of-type {\n",
       "        vertical-align: middle;\n",
       "    }\n",
       "\n",
       "    .dataframe tbody tr th {\n",
       "        vertical-align: top;\n",
       "    }\n",
       "\n",
       "    .dataframe thead th {\n",
       "        text-align: right;\n",
       "    }\n",
       "</style>\n",
       "<table border=\"1\" class=\"dataframe\">\n",
       "  <thead>\n",
       "    <tr style=\"text-align: right;\">\n",
       "      <th></th>\n",
       "      <th>Type</th>\n",
       "      <th>Name</th>\n",
       "      <th>Age</th>\n",
       "      <th>Breed1</th>\n",
       "      <th>Breed2</th>\n",
       "      <th>Gender</th>\n",
       "      <th>Color1</th>\n",
       "      <th>Color2</th>\n",
       "      <th>Color3</th>\n",
       "      <th>MaturitySize</th>\n",
       "      <th>...</th>\n",
       "      <th>Health</th>\n",
       "      <th>Quantity</th>\n",
       "      <th>Fee</th>\n",
       "      <th>State</th>\n",
       "      <th>RescuerID</th>\n",
       "      <th>VideoAmt</th>\n",
       "      <th>Description</th>\n",
       "      <th>PetID</th>\n",
       "      <th>PhotoAmt</th>\n",
       "      <th>AdoptionSpeed</th>\n",
       "    </tr>\n",
       "  </thead>\n",
       "  <tbody>\n",
       "    <tr>\n",
       "      <th>0</th>\n",
       "      <td>2</td>\n",
       "      <td>Nibble</td>\n",
       "      <td>3</td>\n",
       "      <td>299</td>\n",
       "      <td>0</td>\n",
       "      <td>1</td>\n",
       "      <td>1</td>\n",
       "      <td>7</td>\n",
       "      <td>0</td>\n",
       "      <td>1</td>\n",
       "      <td>...</td>\n",
       "      <td>1</td>\n",
       "      <td>1</td>\n",
       "      <td>100</td>\n",
       "      <td>41326</td>\n",
       "      <td>8480853f516546f6cf33aa88cd76c379</td>\n",
       "      <td>0</td>\n",
       "      <td>Nibble is a 3+ month old ball of cuteness. He ...</td>\n",
       "      <td>86e1089a3</td>\n",
       "      <td>1.0</td>\n",
       "      <td>2</td>\n",
       "    </tr>\n",
       "    <tr>\n",
       "      <th>1</th>\n",
       "      <td>2</td>\n",
       "      <td>No Name Yet</td>\n",
       "      <td>1</td>\n",
       "      <td>265</td>\n",
       "      <td>0</td>\n",
       "      <td>1</td>\n",
       "      <td>1</td>\n",
       "      <td>2</td>\n",
       "      <td>0</td>\n",
       "      <td>2</td>\n",
       "      <td>...</td>\n",
       "      <td>1</td>\n",
       "      <td>1</td>\n",
       "      <td>0</td>\n",
       "      <td>41401</td>\n",
       "      <td>3082c7125d8fb66f7dd4bff4192c8b14</td>\n",
       "      <td>0</td>\n",
       "      <td>I just found it alone yesterday near my apartm...</td>\n",
       "      <td>6296e909a</td>\n",
       "      <td>2.0</td>\n",
       "      <td>0</td>\n",
       "    </tr>\n",
       "    <tr>\n",
       "      <th>2</th>\n",
       "      <td>1</td>\n",
       "      <td>Brisco</td>\n",
       "      <td>1</td>\n",
       "      <td>307</td>\n",
       "      <td>0</td>\n",
       "      <td>1</td>\n",
       "      <td>2</td>\n",
       "      <td>7</td>\n",
       "      <td>0</td>\n",
       "      <td>2</td>\n",
       "      <td>...</td>\n",
       "      <td>1</td>\n",
       "      <td>1</td>\n",
       "      <td>0</td>\n",
       "      <td>41326</td>\n",
       "      <td>fa90fa5b1ee11c86938398b60abc32cb</td>\n",
       "      <td>0</td>\n",
       "      <td>Their pregnant mother was dumped by her irresp...</td>\n",
       "      <td>3422e4906</td>\n",
       "      <td>7.0</td>\n",
       "      <td>3</td>\n",
       "    </tr>\n",
       "    <tr>\n",
       "      <th>3</th>\n",
       "      <td>1</td>\n",
       "      <td>Miko</td>\n",
       "      <td>4</td>\n",
       "      <td>307</td>\n",
       "      <td>0</td>\n",
       "      <td>2</td>\n",
       "      <td>1</td>\n",
       "      <td>2</td>\n",
       "      <td>0</td>\n",
       "      <td>2</td>\n",
       "      <td>...</td>\n",
       "      <td>1</td>\n",
       "      <td>1</td>\n",
       "      <td>150</td>\n",
       "      <td>41401</td>\n",
       "      <td>9238e4f44c71a75282e62f7136c6b240</td>\n",
       "      <td>0</td>\n",
       "      <td>Good guard dog, very alert, active, obedience ...</td>\n",
       "      <td>5842f1ff5</td>\n",
       "      <td>8.0</td>\n",
       "      <td>2</td>\n",
       "    </tr>\n",
       "    <tr>\n",
       "      <th>4</th>\n",
       "      <td>1</td>\n",
       "      <td>Hunter</td>\n",
       "      <td>1</td>\n",
       "      <td>307</td>\n",
       "      <td>0</td>\n",
       "      <td>1</td>\n",
       "      <td>1</td>\n",
       "      <td>0</td>\n",
       "      <td>0</td>\n",
       "      <td>2</td>\n",
       "      <td>...</td>\n",
       "      <td>1</td>\n",
       "      <td>1</td>\n",
       "      <td>0</td>\n",
       "      <td>41326</td>\n",
       "      <td>95481e953f8aed9ec3d16fc4509537e8</td>\n",
       "      <td>0</td>\n",
       "      <td>This handsome yet cute boy is up for adoption....</td>\n",
       "      <td>850a43f90</td>\n",
       "      <td>3.0</td>\n",
       "      <td>2</td>\n",
       "    </tr>\n",
       "  </tbody>\n",
       "</table>\n",
       "<p>5 rows × 24 columns</p>\n",
       "</div>"
      ],
      "text/plain": [
       "\n",
       "   Type         Name  Age  Breed1  Breed2  Gender  Color1  Color2  Color3  \\\n",
       "\u001b[1;36m0\u001b[0m     \u001b[1;36m2\u001b[0m       Nibble    \u001b[1;36m3\u001b[0m     \u001b[1;36m299\u001b[0m       \u001b[1;36m0\u001b[0m       \u001b[1;36m1\u001b[0m       \u001b[1;36m1\u001b[0m       \u001b[1;36m7\u001b[0m       \u001b[1;36m0\u001b[0m   \n",
       "\u001b[1;36m1\u001b[0m     \u001b[1;36m2\u001b[0m  No Name Yet    \u001b[1;36m1\u001b[0m     \u001b[1;36m265\u001b[0m       \u001b[1;36m0\u001b[0m       \u001b[1;36m1\u001b[0m       \u001b[1;36m1\u001b[0m       \u001b[1;36m2\u001b[0m       \u001b[1;36m0\u001b[0m   \n",
       "\u001b[1;36m2\u001b[0m     \u001b[1;36m1\u001b[0m       Brisco    \u001b[1;36m1\u001b[0m     \u001b[1;36m307\u001b[0m       \u001b[1;36m0\u001b[0m       \u001b[1;36m1\u001b[0m       \u001b[1;36m2\u001b[0m       \u001b[1;36m7\u001b[0m       \u001b[1;36m0\u001b[0m   \n",
       "\u001b[1;36m3\u001b[0m     \u001b[1;36m1\u001b[0m         Miko    \u001b[1;36m4\u001b[0m     \u001b[1;36m307\u001b[0m       \u001b[1;36m0\u001b[0m       \u001b[1;36m2\u001b[0m       \u001b[1;36m1\u001b[0m       \u001b[1;36m2\u001b[0m       \u001b[1;36m0\u001b[0m   \n",
       "\u001b[1;36m4\u001b[0m     \u001b[1;36m1\u001b[0m       Hunter    \u001b[1;36m1\u001b[0m     \u001b[1;36m307\u001b[0m       \u001b[1;36m0\u001b[0m       \u001b[1;36m1\u001b[0m       \u001b[1;36m1\u001b[0m       \u001b[1;36m0\u001b[0m       \u001b[1;36m0\u001b[0m   \n",
       "\n",
       "   MaturitySize  \u001b[33m...\u001b[0m  Health  Quantity  Fee  State  \\\n",
       "\u001b[1;36m0\u001b[0m             \u001b[1;36m1\u001b[0m  \u001b[33m...\u001b[0m       \u001b[1;36m1\u001b[0m         \u001b[1;36m1\u001b[0m  \u001b[1;36m100\u001b[0m  \u001b[1;36m41326\u001b[0m   \n",
       "\u001b[1;36m1\u001b[0m             \u001b[1;36m2\u001b[0m  \u001b[33m...\u001b[0m       \u001b[1;36m1\u001b[0m         \u001b[1;36m1\u001b[0m    \u001b[1;36m0\u001b[0m  \u001b[1;36m41401\u001b[0m   \n",
       "\u001b[1;36m2\u001b[0m             \u001b[1;36m2\u001b[0m  \u001b[33m...\u001b[0m       \u001b[1;36m1\u001b[0m         \u001b[1;36m1\u001b[0m    \u001b[1;36m0\u001b[0m  \u001b[1;36m41326\u001b[0m   \n",
       "\u001b[1;36m3\u001b[0m             \u001b[1;36m2\u001b[0m  \u001b[33m...\u001b[0m       \u001b[1;36m1\u001b[0m         \u001b[1;36m1\u001b[0m  \u001b[1;36m150\u001b[0m  \u001b[1;36m41401\u001b[0m   \n",
       "\u001b[1;36m4\u001b[0m             \u001b[1;36m2\u001b[0m  \u001b[33m...\u001b[0m       \u001b[1;36m1\u001b[0m         \u001b[1;36m1\u001b[0m    \u001b[1;36m0\u001b[0m  \u001b[1;36m41326\u001b[0m   \n",
       "\n",
       "                          RescuerID  VideoAmt  \\\n",
       "\u001b[1;36m0\u001b[0m  8480853f516546f6cf33aa88cd76c379         \u001b[1;36m0\u001b[0m   \n",
       "\u001b[1;36m1\u001b[0m  3082c7125d8fb66f7dd4bff4192c8b14         \u001b[1;36m0\u001b[0m   \n",
       "\u001b[1;36m2\u001b[0m  fa90fa5b1ee11c86938398b60abc32cb         \u001b[1;36m0\u001b[0m   \n",
       "\u001b[1;36m3\u001b[0m  9238e4f44c71a75282e62f7136c6b240         \u001b[1;36m0\u001b[0m   \n",
       "\u001b[1;36m4\u001b[0m  95481e953f8aed9ec3d16fc4509537e8         \u001b[1;36m0\u001b[0m   \n",
       "\n",
       "                                         Description      PetID PhotoAmt  \\\n",
       "\u001b[1;36m0\u001b[0m  Nibble is a \u001b[1;36m3\u001b[0m+ month old ball of cuteness. He \u001b[33m...\u001b[0m  86e1089a3      \u001b[1;36m1.0\u001b[0m   \n",
       "\u001b[1;36m1\u001b[0m  I just found it alone yesterday near my apartm\u001b[33m...\u001b[0m  6296e909a      \u001b[1;36m2.0\u001b[0m   \n",
       "\u001b[1;36m2\u001b[0m  Their pregnant mother was dumped by her irresp\u001b[33m...\u001b[0m  \u001b[1;36m3422e4906\u001b[0m      \u001b[1;36m7.0\u001b[0m   \n",
       "\u001b[1;36m3\u001b[0m  Good guard dog, very alert, active, obedience \u001b[33m...\u001b[0m  5842f1ff5      \u001b[1;36m8.0\u001b[0m   \n",
       "\u001b[1;36m4\u001b[0m  This handsome yet cute boy is up for adoption\u001b[33m...\u001b[0m.  850a43f90      \u001b[1;36m3.0\u001b[0m   \n",
       "\n",
       "   AdoptionSpeed  \n",
       "\u001b[1;36m0\u001b[0m              \u001b[1;36m2\u001b[0m  \n",
       "\u001b[1;36m1\u001b[0m              \u001b[1;36m0\u001b[0m  \n",
       "\u001b[1;36m2\u001b[0m              \u001b[1;36m3\u001b[0m  \n",
       "\u001b[1;36m3\u001b[0m              \u001b[1;36m2\u001b[0m  \n",
       "\u001b[1;36m4\u001b[0m              \u001b[1;36m2\u001b[0m  \n",
       "\n",
       "\u001b[1m[\u001b[0m\u001b[1;36m5\u001b[0m rows x \u001b[1;36m24\u001b[0m columns\u001b[1m]\u001b[0m"
      ]
     },
     "execution_count": 15,
     "metadata": {},
     "output_type": "execute_result"
    }
   ],
   "source": [
    "df = catalog.load(\"train\")\n",
    "df.head()"
   ]
  },
  {
   "cell_type": "code",
   "execution_count": 6,
   "metadata": {},
   "outputs": [
    {
     "name": "stdout",
     "output_type": "stream",
     "text": [
      "<class 'pandas.core.frame.DataFrame'>\n",
      "RangeIndex: 14993 entries, 0 to 14992\n",
      "Data columns (total 24 columns):\n",
      " #   Column         Non-Null Count  Dtype  \n",
      "---  ------         --------------  -----  \n",
      " 0   Type           14993 non-null  int64  \n",
      " 1   Name           13728 non-null  object \n",
      " 2   Age            14993 non-null  int64  \n",
      " 3   Breed1         14993 non-null  int64  \n",
      " 4   Breed2         14993 non-null  int64  \n",
      " 5   Gender         14993 non-null  int64  \n",
      " 6   Color1         14993 non-null  int64  \n",
      " 7   Color2         14993 non-null  int64  \n",
      " 8   Color3         14993 non-null  int64  \n",
      " 9   MaturitySize   14993 non-null  int64  \n",
      " 10  FurLength      14993 non-null  int64  \n",
      " 11  Vaccinated     14993 non-null  int64  \n",
      " 12  Dewormed       14993 non-null  int64  \n",
      " 13  Sterilized     14993 non-null  int64  \n",
      " 14  Health         14993 non-null  int64  \n",
      " 15  Quantity       14993 non-null  int64  \n",
      " 16  Fee            14993 non-null  int64  \n",
      " 17  State          14993 non-null  int64  \n",
      " 18  RescuerID      14993 non-null  object \n",
      " 19  VideoAmt       14993 non-null  int64  \n",
      " 20  Description    14980 non-null  object \n",
      " 21  PetID          14993 non-null  object \n",
      " 22  PhotoAmt       14993 non-null  float64\n",
      " 23  AdoptionSpeed  14993 non-null  int64  \n",
      "dtypes: float64(1), int64(19), object(4)\n",
      "memory usage: 2.7+ MB\n"
     ]
    }
   ],
   "source": [
    "df.info()"
   ]
  },
  {
   "cell_type": "markdown",
   "metadata": {},
   "source": [
    "No se observan valores nulos ✅"
   ]
  },
  {
   "cell_type": "code",
   "execution_count": 16,
   "metadata": {},
   "outputs": [
    {
     "data": {
      "text/html": [
       "<pre style=\"white-space:pre;overflow-x:auto;line-height:normal;font-family:Menlo,'DejaVu Sans Mono',consolas,'Courier New',monospace\"></pre>\n"
      ],
      "text/plain": []
     },
     "metadata": {},
     "output_type": "display_data"
    },
    {
     "data": {
      "text/html": [
       "<div>\n",
       "<style scoped>\n",
       "    .dataframe tbody tr th:only-of-type {\n",
       "        vertical-align: middle;\n",
       "    }\n",
       "\n",
       "    .dataframe tbody tr th {\n",
       "        vertical-align: top;\n",
       "    }\n",
       "\n",
       "    .dataframe thead th {\n",
       "        text-align: right;\n",
       "    }\n",
       "</style>\n",
       "<table border=\"1\" class=\"dataframe\">\n",
       "  <thead>\n",
       "    <tr style=\"text-align: right;\">\n",
       "      <th></th>\n",
       "      <th>Type</th>\n",
       "      <th>Age</th>\n",
       "      <th>Breed1</th>\n",
       "      <th>Breed2</th>\n",
       "      <th>Gender</th>\n",
       "      <th>Color1</th>\n",
       "      <th>Color2</th>\n",
       "      <th>Color3</th>\n",
       "      <th>MaturitySize</th>\n",
       "      <th>FurLength</th>\n",
       "      <th>Vaccinated</th>\n",
       "      <th>Dewormed</th>\n",
       "      <th>Sterilized</th>\n",
       "      <th>Health</th>\n",
       "      <th>Quantity</th>\n",
       "      <th>Fee</th>\n",
       "      <th>State</th>\n",
       "      <th>VideoAmt</th>\n",
       "      <th>PhotoAmt</th>\n",
       "      <th>AdoptionSpeed</th>\n",
       "    </tr>\n",
       "  </thead>\n",
       "  <tbody>\n",
       "    <tr>\n",
       "      <th>count</th>\n",
       "      <td>14993.000000</td>\n",
       "      <td>14993.000000</td>\n",
       "      <td>14993.000000</td>\n",
       "      <td>14993.000000</td>\n",
       "      <td>14993.000000</td>\n",
       "      <td>14993.000000</td>\n",
       "      <td>14993.000000</td>\n",
       "      <td>14993.000000</td>\n",
       "      <td>14993.000000</td>\n",
       "      <td>14993.000000</td>\n",
       "      <td>14993.000000</td>\n",
       "      <td>14993.000000</td>\n",
       "      <td>14993.000000</td>\n",
       "      <td>14993.000000</td>\n",
       "      <td>14993.000000</td>\n",
       "      <td>14993.000000</td>\n",
       "      <td>14993.000000</td>\n",
       "      <td>14993.000000</td>\n",
       "      <td>14993.000000</td>\n",
       "      <td>14993.000000</td>\n",
       "    </tr>\n",
       "    <tr>\n",
       "      <th>mean</th>\n",
       "      <td>1.457614</td>\n",
       "      <td>10.452078</td>\n",
       "      <td>265.272594</td>\n",
       "      <td>74.009738</td>\n",
       "      <td>1.776162</td>\n",
       "      <td>2.234176</td>\n",
       "      <td>3.222837</td>\n",
       "      <td>1.882012</td>\n",
       "      <td>1.862002</td>\n",
       "      <td>1.467485</td>\n",
       "      <td>1.731208</td>\n",
       "      <td>1.558727</td>\n",
       "      <td>1.914227</td>\n",
       "      <td>1.036617</td>\n",
       "      <td>1.576069</td>\n",
       "      <td>21.259988</td>\n",
       "      <td>41346.028347</td>\n",
       "      <td>0.056760</td>\n",
       "      <td>3.889215</td>\n",
       "      <td>2.516441</td>\n",
       "    </tr>\n",
       "    <tr>\n",
       "      <th>std</th>\n",
       "      <td>0.498217</td>\n",
       "      <td>18.155790</td>\n",
       "      <td>60.056818</td>\n",
       "      <td>123.011575</td>\n",
       "      <td>0.681592</td>\n",
       "      <td>1.745225</td>\n",
       "      <td>2.742562</td>\n",
       "      <td>2.984086</td>\n",
       "      <td>0.547959</td>\n",
       "      <td>0.599070</td>\n",
       "      <td>0.667649</td>\n",
       "      <td>0.695817</td>\n",
       "      <td>0.566172</td>\n",
       "      <td>0.199535</td>\n",
       "      <td>1.472477</td>\n",
       "      <td>78.414548</td>\n",
       "      <td>32.444153</td>\n",
       "      <td>0.346185</td>\n",
       "      <td>3.487810</td>\n",
       "      <td>1.177265</td>\n",
       "    </tr>\n",
       "    <tr>\n",
       "      <th>min</th>\n",
       "      <td>1.000000</td>\n",
       "      <td>0.000000</td>\n",
       "      <td>0.000000</td>\n",
       "      <td>0.000000</td>\n",
       "      <td>1.000000</td>\n",
       "      <td>1.000000</td>\n",
       "      <td>0.000000</td>\n",
       "      <td>0.000000</td>\n",
       "      <td>1.000000</td>\n",
       "      <td>1.000000</td>\n",
       "      <td>1.000000</td>\n",
       "      <td>1.000000</td>\n",
       "      <td>1.000000</td>\n",
       "      <td>1.000000</td>\n",
       "      <td>1.000000</td>\n",
       "      <td>0.000000</td>\n",
       "      <td>41324.000000</td>\n",
       "      <td>0.000000</td>\n",
       "      <td>0.000000</td>\n",
       "      <td>0.000000</td>\n",
       "    </tr>\n",
       "    <tr>\n",
       "      <th>25%</th>\n",
       "      <td>1.000000</td>\n",
       "      <td>2.000000</td>\n",
       "      <td>265.000000</td>\n",
       "      <td>0.000000</td>\n",
       "      <td>1.000000</td>\n",
       "      <td>1.000000</td>\n",
       "      <td>0.000000</td>\n",
       "      <td>0.000000</td>\n",
       "      <td>2.000000</td>\n",
       "      <td>1.000000</td>\n",
       "      <td>1.000000</td>\n",
       "      <td>1.000000</td>\n",
       "      <td>2.000000</td>\n",
       "      <td>1.000000</td>\n",
       "      <td>1.000000</td>\n",
       "      <td>0.000000</td>\n",
       "      <td>41326.000000</td>\n",
       "      <td>0.000000</td>\n",
       "      <td>2.000000</td>\n",
       "      <td>2.000000</td>\n",
       "    </tr>\n",
       "    <tr>\n",
       "      <th>50%</th>\n",
       "      <td>1.000000</td>\n",
       "      <td>3.000000</td>\n",
       "      <td>266.000000</td>\n",
       "      <td>0.000000</td>\n",
       "      <td>2.000000</td>\n",
       "      <td>2.000000</td>\n",
       "      <td>2.000000</td>\n",
       "      <td>0.000000</td>\n",
       "      <td>2.000000</td>\n",
       "      <td>1.000000</td>\n",
       "      <td>2.000000</td>\n",
       "      <td>1.000000</td>\n",
       "      <td>2.000000</td>\n",
       "      <td>1.000000</td>\n",
       "      <td>1.000000</td>\n",
       "      <td>0.000000</td>\n",
       "      <td>41326.000000</td>\n",
       "      <td>0.000000</td>\n",
       "      <td>3.000000</td>\n",
       "      <td>2.000000</td>\n",
       "    </tr>\n",
       "    <tr>\n",
       "      <th>75%</th>\n",
       "      <td>2.000000</td>\n",
       "      <td>12.000000</td>\n",
       "      <td>307.000000</td>\n",
       "      <td>179.000000</td>\n",
       "      <td>2.000000</td>\n",
       "      <td>3.000000</td>\n",
       "      <td>6.000000</td>\n",
       "      <td>5.000000</td>\n",
       "      <td>2.000000</td>\n",
       "      <td>2.000000</td>\n",
       "      <td>2.000000</td>\n",
       "      <td>2.000000</td>\n",
       "      <td>2.000000</td>\n",
       "      <td>1.000000</td>\n",
       "      <td>1.000000</td>\n",
       "      <td>0.000000</td>\n",
       "      <td>41401.000000</td>\n",
       "      <td>0.000000</td>\n",
       "      <td>5.000000</td>\n",
       "      <td>4.000000</td>\n",
       "    </tr>\n",
       "    <tr>\n",
       "      <th>max</th>\n",
       "      <td>2.000000</td>\n",
       "      <td>255.000000</td>\n",
       "      <td>307.000000</td>\n",
       "      <td>307.000000</td>\n",
       "      <td>3.000000</td>\n",
       "      <td>7.000000</td>\n",
       "      <td>7.000000</td>\n",
       "      <td>7.000000</td>\n",
       "      <td>4.000000</td>\n",
       "      <td>3.000000</td>\n",
       "      <td>3.000000</td>\n",
       "      <td>3.000000</td>\n",
       "      <td>3.000000</td>\n",
       "      <td>3.000000</td>\n",
       "      <td>20.000000</td>\n",
       "      <td>3000.000000</td>\n",
       "      <td>41415.000000</td>\n",
       "      <td>8.000000</td>\n",
       "      <td>30.000000</td>\n",
       "      <td>4.000000</td>\n",
       "    </tr>\n",
       "  </tbody>\n",
       "</table>\n",
       "</div>"
      ],
      "text/plain": [
       "\n",
       "               Type           Age        Breed1        Breed2        Gender  \\\n",
       "count  \u001b[1;36m14993.000000\u001b[0m  \u001b[1;36m14993.000000\u001b[0m  \u001b[1;36m14993.000000\u001b[0m  \u001b[1;36m14993.000000\u001b[0m  \u001b[1;36m14993.000000\u001b[0m   \n",
       "mean       \u001b[1;36m1.457614\u001b[0m     \u001b[1;36m10.452078\u001b[0m    \u001b[1;36m265.272594\u001b[0m     \u001b[1;36m74.009738\u001b[0m      \u001b[1;36m1.776162\u001b[0m   \n",
       "std        \u001b[1;36m0.498217\u001b[0m     \u001b[1;36m18.155790\u001b[0m     \u001b[1;36m60.056818\u001b[0m    \u001b[1;36m123.011575\u001b[0m      \u001b[1;36m0.681592\u001b[0m   \n",
       "min        \u001b[1;36m1.000000\u001b[0m      \u001b[1;36m0.000000\u001b[0m      \u001b[1;36m0.000000\u001b[0m      \u001b[1;36m0.000000\u001b[0m      \u001b[1;36m1.000000\u001b[0m   \n",
       "\u001b[1;36m25\u001b[0m%        \u001b[1;36m1.000000\u001b[0m      \u001b[1;36m2.000000\u001b[0m    \u001b[1;36m265.000000\u001b[0m      \u001b[1;36m0.000000\u001b[0m      \u001b[1;36m1.000000\u001b[0m   \n",
       "\u001b[1;36m50\u001b[0m%        \u001b[1;36m1.000000\u001b[0m      \u001b[1;36m3.000000\u001b[0m    \u001b[1;36m266.000000\u001b[0m      \u001b[1;36m0.000000\u001b[0m      \u001b[1;36m2.000000\u001b[0m   \n",
       "\u001b[1;36m75\u001b[0m%        \u001b[1;36m2.000000\u001b[0m     \u001b[1;36m12.000000\u001b[0m    \u001b[1;36m307.000000\u001b[0m    \u001b[1;36m179.000000\u001b[0m      \u001b[1;36m2.000000\u001b[0m   \n",
       "max        \u001b[1;36m2.000000\u001b[0m    \u001b[1;36m255.000000\u001b[0m    \u001b[1;36m307.000000\u001b[0m    \u001b[1;36m307.000000\u001b[0m      \u001b[1;36m3.000000\u001b[0m   \n",
       "\n",
       "             Color1        Color2        Color3  MaturitySize     FurLength  \\\n",
       "count  \u001b[1;36m14993.000000\u001b[0m  \u001b[1;36m14993.000000\u001b[0m  \u001b[1;36m14993.000000\u001b[0m  \u001b[1;36m14993.000000\u001b[0m  \u001b[1;36m14993.000000\u001b[0m   \n",
       "mean       \u001b[1;36m2.234176\u001b[0m      \u001b[1;36m3.222837\u001b[0m      \u001b[1;36m1.882012\u001b[0m      \u001b[1;36m1.862002\u001b[0m      \u001b[1;36m1.467485\u001b[0m   \n",
       "std        \u001b[1;36m1.745225\u001b[0m      \u001b[1;36m2.742562\u001b[0m      \u001b[1;36m2.984086\u001b[0m      \u001b[1;36m0.547959\u001b[0m      \u001b[1;36m0.599070\u001b[0m   \n",
       "min        \u001b[1;36m1.000000\u001b[0m      \u001b[1;36m0.000000\u001b[0m      \u001b[1;36m0.000000\u001b[0m      \u001b[1;36m1.000000\u001b[0m      \u001b[1;36m1.000000\u001b[0m   \n",
       "\u001b[1;36m25\u001b[0m%        \u001b[1;36m1.000000\u001b[0m      \u001b[1;36m0.000000\u001b[0m      \u001b[1;36m0.000000\u001b[0m      \u001b[1;36m2.000000\u001b[0m      \u001b[1;36m1.000000\u001b[0m   \n",
       "\u001b[1;36m50\u001b[0m%        \u001b[1;36m2.000000\u001b[0m      \u001b[1;36m2.000000\u001b[0m      \u001b[1;36m0.000000\u001b[0m      \u001b[1;36m2.000000\u001b[0m      \u001b[1;36m1.000000\u001b[0m   \n",
       "\u001b[1;36m75\u001b[0m%        \u001b[1;36m3.000000\u001b[0m      \u001b[1;36m6.000000\u001b[0m      \u001b[1;36m5.000000\u001b[0m      \u001b[1;36m2.000000\u001b[0m      \u001b[1;36m2.000000\u001b[0m   \n",
       "max        \u001b[1;36m7.000000\u001b[0m      \u001b[1;36m7.000000\u001b[0m      \u001b[1;36m7.000000\u001b[0m      \u001b[1;36m4.000000\u001b[0m      \u001b[1;36m3.000000\u001b[0m   \n",
       "\n",
       "         Vaccinated      Dewormed    Sterilized        Health      Quantity  \\\n",
       "count  \u001b[1;36m14993.000000\u001b[0m  \u001b[1;36m14993.000000\u001b[0m  \u001b[1;36m14993.000000\u001b[0m  \u001b[1;36m14993.000000\u001b[0m  \u001b[1;36m14993.000000\u001b[0m   \n",
       "mean       \u001b[1;36m1.731208\u001b[0m      \u001b[1;36m1.558727\u001b[0m      \u001b[1;36m1.914227\u001b[0m      \u001b[1;36m1.036617\u001b[0m      \u001b[1;36m1.576069\u001b[0m   \n",
       "std        \u001b[1;36m0.667649\u001b[0m      \u001b[1;36m0.695817\u001b[0m      \u001b[1;36m0.566172\u001b[0m      \u001b[1;36m0.199535\u001b[0m      \u001b[1;36m1.472477\u001b[0m   \n",
       "min        \u001b[1;36m1.000000\u001b[0m      \u001b[1;36m1.000000\u001b[0m      \u001b[1;36m1.000000\u001b[0m      \u001b[1;36m1.000000\u001b[0m      \u001b[1;36m1.000000\u001b[0m   \n",
       "\u001b[1;36m25\u001b[0m%        \u001b[1;36m1.000000\u001b[0m      \u001b[1;36m1.000000\u001b[0m      \u001b[1;36m2.000000\u001b[0m      \u001b[1;36m1.000000\u001b[0m      \u001b[1;36m1.000000\u001b[0m   \n",
       "\u001b[1;36m50\u001b[0m%        \u001b[1;36m2.000000\u001b[0m      \u001b[1;36m1.000000\u001b[0m      \u001b[1;36m2.000000\u001b[0m      \u001b[1;36m1.000000\u001b[0m      \u001b[1;36m1.000000\u001b[0m   \n",
       "\u001b[1;36m75\u001b[0m%        \u001b[1;36m2.000000\u001b[0m      \u001b[1;36m2.000000\u001b[0m      \u001b[1;36m2.000000\u001b[0m      \u001b[1;36m1.000000\u001b[0m      \u001b[1;36m1.000000\u001b[0m   \n",
       "max        \u001b[1;36m3.000000\u001b[0m      \u001b[1;36m3.000000\u001b[0m      \u001b[1;36m3.000000\u001b[0m      \u001b[1;36m3.000000\u001b[0m     \u001b[1;36m20.000000\u001b[0m   \n",
       "\n",
       "                Fee         State      VideoAmt      PhotoAmt  AdoptionSpeed  \n",
       "count  \u001b[1;36m14993.000000\u001b[0m  \u001b[1;36m14993.000000\u001b[0m  \u001b[1;36m14993.000000\u001b[0m  \u001b[1;36m14993.000000\u001b[0m   \u001b[1;36m14993.000000\u001b[0m  \n",
       "mean      \u001b[1;36m21.259988\u001b[0m  \u001b[1;36m41346.028347\u001b[0m      \u001b[1;36m0.056760\u001b[0m      \u001b[1;36m3.889215\u001b[0m       \u001b[1;36m2.516441\u001b[0m  \n",
       "std       \u001b[1;36m78.414548\u001b[0m     \u001b[1;36m32.444153\u001b[0m      \u001b[1;36m0.346185\u001b[0m      \u001b[1;36m3.487810\u001b[0m       \u001b[1;36m1.177265\u001b[0m  \n",
       "min        \u001b[1;36m0.000000\u001b[0m  \u001b[1;36m41324.000000\u001b[0m      \u001b[1;36m0.000000\u001b[0m      \u001b[1;36m0.000000\u001b[0m       \u001b[1;36m0.000000\u001b[0m  \n",
       "\u001b[1;36m25\u001b[0m%        \u001b[1;36m0.000000\u001b[0m  \u001b[1;36m41326.000000\u001b[0m      \u001b[1;36m0.000000\u001b[0m      \u001b[1;36m2.000000\u001b[0m       \u001b[1;36m2.000000\u001b[0m  \n",
       "\u001b[1;36m50\u001b[0m%        \u001b[1;36m0.000000\u001b[0m  \u001b[1;36m41326.000000\u001b[0m      \u001b[1;36m0.000000\u001b[0m      \u001b[1;36m3.000000\u001b[0m       \u001b[1;36m2.000000\u001b[0m  \n",
       "\u001b[1;36m75\u001b[0m%        \u001b[1;36m0.000000\u001b[0m  \u001b[1;36m41401.000000\u001b[0m      \u001b[1;36m0.000000\u001b[0m      \u001b[1;36m5.000000\u001b[0m       \u001b[1;36m4.000000\u001b[0m  \n",
       "max     \u001b[1;36m3000.000000\u001b[0m  \u001b[1;36m41415.000000\u001b[0m      \u001b[1;36m8.000000\u001b[0m     \u001b[1;36m30.000000\u001b[0m       \u001b[1;36m4.000000\u001b[0m  "
      ]
     },
     "execution_count": 16,
     "metadata": {},
     "output_type": "execute_result"
    }
   ],
   "source": [
    "df.describe()"
   ]
  },
  {
   "cell_type": "markdown",
   "metadata": {},
   "source": [
    "Anomalias detectadas en:\n",
    "* **Age**:  max: 255 months ~ 21.25 years...\n",
    "* **Gender**:  tipo 3 = mixed "
   ]
  },
  {
   "cell_type": "markdown",
   "metadata": {},
   "source": [
    "---\n",
    "## Clasificacion de variables\n",
    "\n",
    "Identificadores:\n",
    "* PetID\n",
    "* RescuerID\n",
    "\n",
    "Cantitativas:\n",
    "* Age - Age of pet when listed, in months\n",
    "* Quantity - Number of pets represented in profile\n",
    "* Fee\n",
    "* VideoAmt\n",
    "* PhotoAmt\n",
    "\n",
    "Categoricas:\n",
    "* Type -  (1 = Dog, 2 = Cat)\n",
    "* Name\n",
    "* Breed1 \n",
    "* Breed2\n",
    "* Gender - (1 = Male, 2 = Female, 3 = Mixed, if profile represents group of pets)\n",
    "* Color1\n",
    "* Color2\n",
    "* Color3\n",
    "* MaturitySize - (1 = Small, 2 = Medium, 3 = Large, 4 = Extra Large, 0 = Not Specified)\n",
    "* FurLenght - (1 = Short, 2 = Medium, 3 = Long, 0 = Not Specified)\n",
    "* Vaccinated - (1 = Yes, 2 = No, 3 = Not Sure)\n",
    "* Dewormed - (1 = Yes, 2 = No, 3 = Not Sure)\n",
    "* Sterilized - (1 = Yes, 2 = No, 3 = Not Sure)\n",
    "* Health - (1 = Healthy, 2 = Minor Injury, 3 = Serious Injury, 0 = Not Specified)\n",
    "* State\n",
    "* Description\n",
    "\n",
    "Target\n",
    "* AdoptionSpeed\n",
    "\n",
    "0 - Pet was adopted on the same day as it was listed.\n",
    "\n",
    "1 - Pet was adopted between 1 and 7 days (1st week) after being listed.\n",
    "\n",
    "2 - Pet was adopted between 8 and 30 days (1st month) after being listed.\n",
    "\n",
    "3 - Pet was adopted between 31 and 90 days (2nd & 3rd month) after being listed.\n",
    "\n",
    "4 - No adoption after 100 days of being listed. (There are no pets in this dataset that waited between 90 and 100 days).\n",
    "\n",
    "\n",
    "\n",
    "\n",
    "\n"
   ]
  },
  {
   "cell_type": "markdown",
   "metadata": {},
   "source": [
    "## Variables cuantitativas"
   ]
  },
  {
   "cell_type": "code",
   "execution_count": 17,
   "metadata": {},
   "outputs": [],
   "source": [
    "cuant_cols = ['Age','Quantity','Fee','VideoAmt','PhotoAmt']\n",
    "target = 'AdoptionSpeed'"
   ]
  },
  {
   "cell_type": "markdown",
   "metadata": {},
   "source": [
    "### Distribuciones"
   ]
  },
  {
   "cell_type": "code",
   "execution_count": 18,
   "metadata": {},
   "outputs": [
    {
     "data": {
      "text/html": [
       "<pre style=\"white-space:pre;overflow-x:auto;line-height:normal;font-family:Menlo,'DejaVu Sans Mono',consolas,'Courier New',monospace\"><span style=\"color: #800000; text-decoration-color: #800000\">╭─────────────────────────────── </span><span style=\"color: #800000; text-decoration-color: #800000; font-weight: bold\">Traceback </span><span style=\"color: #bf7f7f; text-decoration-color: #bf7f7f; font-weight: bold\">(most recent call last)</span><span style=\"color: #800000; text-decoration-color: #800000\"> ────────────────────────────────╮</span>\n",
       "<span style=\"color: #800000; text-decoration-color: #800000\">│</span> in <span style=\"color: #00ff00; text-decoration-color: #00ff00\">&lt;module&gt;</span>:<span style=\"color: #0000ff; text-decoration-color: #0000ff\">1</span>                                                                                    <span style=\"color: #800000; text-decoration-color: #800000\">│</span>\n",
       "<span style=\"color: #800000; text-decoration-color: #800000\">│</span>                                                                                                  <span style=\"color: #800000; text-decoration-color: #800000\">│</span>\n",
       "<span style=\"color: #800000; text-decoration-color: #800000\">│</span> <span style=\"color: #800000; text-decoration-color: #800000\">❱ </span>1 plot_histogram_boxplot_with_stats(df, cuant_cols)                                            <span style=\"color: #800000; text-decoration-color: #800000\">│</span>\n",
       "<span style=\"color: #800000; text-decoration-color: #800000\">│</span>   <span style=\"color: #7f7f7f; text-decoration-color: #7f7f7f\">2 </span>                                                                                             <span style=\"color: #800000; text-decoration-color: #800000\">│</span>\n",
       "<span style=\"color: #800000; text-decoration-color: #800000\">│</span>                                                                                                  <span style=\"color: #800000; text-decoration-color: #800000\">│</span>\n",
       "<span style=\"color: #800000; text-decoration-color: #800000\">│</span> <span style=\"color: #808000; text-decoration-color: #808000\">e:\\LAB2\\pet_project\\pet-competition\\notebooks\\funciones.py</span>:<span style=\"color: #0000ff; text-decoration-color: #0000ff\">5</span> in                                  <span style=\"color: #800000; text-decoration-color: #800000\">│</span>\n",
       "<span style=\"color: #800000; text-decoration-color: #800000\">│</span> <span style=\"color: #00ff00; text-decoration-color: #00ff00\">plot_histogram_boxplot_with_stats</span>                                                                <span style=\"color: #800000; text-decoration-color: #800000\">│</span>\n",
       "<span style=\"color: #800000; text-decoration-color: #800000\">│</span>                                                                                                  <span style=\"color: #800000; text-decoration-color: #800000\">│</span>\n",
       "<span style=\"color: #800000; text-decoration-color: #800000\">│</span>   <span style=\"color: #7f7f7f; text-decoration-color: #7f7f7f\"> 2 </span>                                                                                            <span style=\"color: #800000; text-decoration-color: #800000\">│</span>\n",
       "<span style=\"color: #800000; text-decoration-color: #800000\">│</span>   <span style=\"color: #7f7f7f; text-decoration-color: #7f7f7f\"> 3 </span><span style=\"color: #0000ff; text-decoration-color: #0000ff\">def</span> <span style=\"color: #00ff00; text-decoration-color: #00ff00\">plot_histogram_boxplot_with_stats</span>(df, variables, bins=<span style=\"color: #0000ff; text-decoration-color: #0000ff\">20</span>, hist_color=<span style=\"color: #808000; text-decoration-color: #808000\">'skyblue'</span>, box_    <span style=\"color: #800000; text-decoration-color: #800000\">│</span>\n",
       "<span style=\"color: #800000; text-decoration-color: #800000\">│</span>   <span style=\"color: #7f7f7f; text-decoration-color: #7f7f7f\"> 4 </span><span style=\"color: #7f7f7f; text-decoration-color: #7f7f7f\">│   </span>num_vars = <span style=\"color: #00ffff; text-decoration-color: #00ffff\">len</span>(variables)                                                               <span style=\"color: #800000; text-decoration-color: #800000\">│</span>\n",
       "<span style=\"color: #800000; text-decoration-color: #800000\">│</span> <span style=\"color: #800000; text-decoration-color: #800000\">❱ </span> 5 <span style=\"color: #7f7f7f; text-decoration-color: #7f7f7f\">│   </span>plt.figure(figsize=(<span style=\"color: #0000ff; text-decoration-color: #0000ff\">15</span>, <span style=\"color: #0000ff; text-decoration-color: #0000ff\">5</span> * num_vars))  <span style=\"color: #7f7f7f; text-decoration-color: #7f7f7f\"># Adjust figure size based on number of vari</span>    <span style=\"color: #800000; text-decoration-color: #800000\">│</span>\n",
       "<span style=\"color: #800000; text-decoration-color: #800000\">│</span>   <span style=\"color: #7f7f7f; text-decoration-color: #7f7f7f\"> 6 </span><span style=\"color: #7f7f7f; text-decoration-color: #7f7f7f\">│   </span>                                                                                        <span style=\"color: #800000; text-decoration-color: #800000\">│</span>\n",
       "<span style=\"color: #800000; text-decoration-color: #800000\">│</span>   <span style=\"color: #7f7f7f; text-decoration-color: #7f7f7f\"> 7 </span><span style=\"color: #7f7f7f; text-decoration-color: #7f7f7f\">│   </span><span style=\"color: #0000ff; text-decoration-color: #0000ff\">for</span> i, var <span style=\"color: #ff00ff; text-decoration-color: #ff00ff\">in</span> <span style=\"color: #00ffff; text-decoration-color: #00ffff\">enumerate</span>(variables):                                                     <span style=\"color: #800000; text-decoration-color: #800000\">│</span>\n",
       "<span style=\"color: #800000; text-decoration-color: #800000\">│</span>   <span style=\"color: #7f7f7f; text-decoration-color: #7f7f7f\"> 8 </span><span style=\"color: #7f7f7f; text-decoration-color: #7f7f7f\">│   │   </span><span style=\"color: #7f7f7f; text-decoration-color: #7f7f7f\"># Summary statistics with rounding to 2 decimals</span>                                    <span style=\"color: #800000; text-decoration-color: #800000\">│</span>\n",
       "<span style=\"color: #800000; text-decoration-color: #800000\">╰──────────────────────────────────────────────────────────────────────────────────────────────────╯</span>\n",
       "<span style=\"color: #ff0000; text-decoration-color: #ff0000; font-weight: bold\">NameError: </span>name <span style=\"color: #008000; text-decoration-color: #008000\">'plt'</span> is not defined\n",
       "</pre>\n"
      ],
      "text/plain": [
       "\u001b[31m╭─\u001b[0m\u001b[31m──────────────────────────────\u001b[0m\u001b[31m \u001b[0m\u001b[1;31mTraceback \u001b[0m\u001b[1;2;31m(most recent call last)\u001b[0m\u001b[31m \u001b[0m\u001b[31m───────────────────────────────\u001b[0m\u001b[31m─╮\u001b[0m\n",
       "\u001b[31m│\u001b[0m in \u001b[92m<module>\u001b[0m:\u001b[94m1\u001b[0m                                                                                    \u001b[31m│\u001b[0m\n",
       "\u001b[31m│\u001b[0m                                                                                                  \u001b[31m│\u001b[0m\n",
       "\u001b[31m│\u001b[0m \u001b[31m❱ \u001b[0m1 plot_histogram_boxplot_with_stats(df, cuant_cols)                                            \u001b[31m│\u001b[0m\n",
       "\u001b[31m│\u001b[0m   \u001b[2m2 \u001b[0m                                                                                             \u001b[31m│\u001b[0m\n",
       "\u001b[31m│\u001b[0m                                                                                                  \u001b[31m│\u001b[0m\n",
       "\u001b[31m│\u001b[0m \u001b[33me:\\LAB2\\pet_project\\pet-competition\\notebooks\\funciones.py\u001b[0m:\u001b[94m5\u001b[0m in                                  \u001b[31m│\u001b[0m\n",
       "\u001b[31m│\u001b[0m \u001b[92mplot_histogram_boxplot_with_stats\u001b[0m                                                                \u001b[31m│\u001b[0m\n",
       "\u001b[31m│\u001b[0m                                                                                                  \u001b[31m│\u001b[0m\n",
       "\u001b[31m│\u001b[0m   \u001b[2m 2 \u001b[0m                                                                                            \u001b[31m│\u001b[0m\n",
       "\u001b[31m│\u001b[0m   \u001b[2m 3 \u001b[0m\u001b[94mdef\u001b[0m \u001b[92mplot_histogram_boxplot_with_stats\u001b[0m(df, variables, bins=\u001b[94m20\u001b[0m, hist_color=\u001b[33m'\u001b[0m\u001b[33mskyblue\u001b[0m\u001b[33m'\u001b[0m, box_    \u001b[31m│\u001b[0m\n",
       "\u001b[31m│\u001b[0m   \u001b[2m 4 \u001b[0m\u001b[2m│   \u001b[0mnum_vars = \u001b[96mlen\u001b[0m(variables)                                                               \u001b[31m│\u001b[0m\n",
       "\u001b[31m│\u001b[0m \u001b[31m❱ \u001b[0m 5 \u001b[2m│   \u001b[0mplt.figure(figsize=(\u001b[94m15\u001b[0m, \u001b[94m5\u001b[0m * num_vars))  \u001b[2m# Adjust figure size based on number of vari\u001b[0m    \u001b[31m│\u001b[0m\n",
       "\u001b[31m│\u001b[0m   \u001b[2m 6 \u001b[0m\u001b[2m│   \u001b[0m                                                                                        \u001b[31m│\u001b[0m\n",
       "\u001b[31m│\u001b[0m   \u001b[2m 7 \u001b[0m\u001b[2m│   \u001b[0m\u001b[94mfor\u001b[0m i, var \u001b[95min\u001b[0m \u001b[96menumerate\u001b[0m(variables):                                                     \u001b[31m│\u001b[0m\n",
       "\u001b[31m│\u001b[0m   \u001b[2m 8 \u001b[0m\u001b[2m│   │   \u001b[0m\u001b[2m# Summary statistics with rounding to 2 decimals\u001b[0m                                    \u001b[31m│\u001b[0m\n",
       "\u001b[31m╰──────────────────────────────────────────────────────────────────────────────────────────────────╯\u001b[0m\n",
       "\u001b[1;91mNameError: \u001b[0mname \u001b[32m'plt'\u001b[0m is not defined\n"
      ]
     },
     "metadata": {},
     "output_type": "display_data"
    }
   ],
   "source": [
    "plot_histogram_boxplot_with_stats(df, cuant_cols)"
   ]
  },
  {
   "cell_type": "markdown",
   "metadata": {},
   "source": [
    "### Distribuciones por nivel de 'AdoptionSpeed'"
   ]
  },
  {
   "cell_type": "code",
   "execution_count": 19,
   "metadata": {},
   "outputs": [
    {
     "data": {
      "text/html": [
       "<pre style=\"white-space:pre;overflow-x:auto;line-height:normal;font-family:Menlo,'DejaVu Sans Mono',consolas,'Courier New',monospace\"><span style=\"color: #800000; text-decoration-color: #800000\">╭─────────────────────────────── </span><span style=\"color: #800000; text-decoration-color: #800000; font-weight: bold\">Traceback </span><span style=\"color: #bf7f7f; text-decoration-color: #bf7f7f; font-weight: bold\">(most recent call last)</span><span style=\"color: #800000; text-decoration-color: #800000\"> ────────────────────────────────╮</span>\n",
       "<span style=\"color: #800000; text-decoration-color: #800000\">│</span> in <span style=\"color: #00ff00; text-decoration-color: #00ff00\">&lt;module&gt;</span>:<span style=\"color: #0000ff; text-decoration-color: #0000ff\">1</span>                                                                                    <span style=\"color: #800000; text-decoration-color: #800000\">│</span>\n",
       "<span style=\"color: #800000; text-decoration-color: #800000\">│</span>                                                                                                  <span style=\"color: #800000; text-decoration-color: #800000\">│</span>\n",
       "<span style=\"color: #800000; text-decoration-color: #800000\">│</span> <span style=\"color: #800000; text-decoration-color: #800000\">❱ </span>1 create_summary_table_with_kde(df, cuant_cols, target)                                        <span style=\"color: #800000; text-decoration-color: #800000\">│</span>\n",
       "<span style=\"color: #800000; text-decoration-color: #800000\">│</span>   <span style=\"color: #7f7f7f; text-decoration-color: #7f7f7f\">2 </span>                                                                                             <span style=\"color: #800000; text-decoration-color: #800000\">│</span>\n",
       "<span style=\"color: #800000; text-decoration-color: #800000\">│</span>                                                                                                  <span style=\"color: #800000; text-decoration-color: #800000\">│</span>\n",
       "<span style=\"color: #800000; text-decoration-color: #800000\">│</span> <span style=\"color: #808000; text-decoration-color: #808000\">e:\\LAB2\\pet_project\\pet-competition\\notebooks\\funciones.py</span>:<span style=\"color: #0000ff; text-decoration-color: #0000ff\">48</span> in <span style=\"color: #00ff00; text-decoration-color: #00ff00\">create_summary_table_with_kde</span>   <span style=\"color: #800000; text-decoration-color: #800000\">│</span>\n",
       "<span style=\"color: #800000; text-decoration-color: #800000\">│</span>                                                                                                  <span style=\"color: #800000; text-decoration-color: #800000\">│</span>\n",
       "<span style=\"color: #800000; text-decoration-color: #800000\">│</span>   <span style=\"color: #7f7f7f; text-decoration-color: #7f7f7f\">45 </span>                                                                                            <span style=\"color: #800000; text-decoration-color: #800000\">│</span>\n",
       "<span style=\"color: #800000; text-decoration-color: #800000\">│</span>   <span style=\"color: #7f7f7f; text-decoration-color: #7f7f7f\">46 </span>                                                                                            <span style=\"color: #800000; text-decoration-color: #800000\">│</span>\n",
       "<span style=\"color: #800000; text-decoration-color: #800000\">│</span>   <span style=\"color: #7f7f7f; text-decoration-color: #7f7f7f\">47 # Tablas de resumen estadisticos por nivel de 'AdoptionSpeed' + histogramas:</span>                <span style=\"color: #800000; text-decoration-color: #800000\">│</span>\n",
       "<span style=\"color: #800000; text-decoration-color: #800000\">│</span> <span style=\"color: #800000; text-decoration-color: #800000\">❱ </span>48                                                                                             <span style=\"color: #800000; text-decoration-color: #800000\">│</span>\n",
       "<span style=\"color: #800000; text-decoration-color: #800000\">│</span>   <span style=\"color: #7f7f7f; text-decoration-color: #7f7f7f\">49 </span><span style=\"color: #0000ff; text-decoration-color: #0000ff\">def</span> <span style=\"color: #00ff00; text-decoration-color: #00ff00\">create_summary_table_with_kde</span>(df, cuant_cols, target):                                  <span style=\"color: #800000; text-decoration-color: #800000\">│</span>\n",
       "<span style=\"color: #800000; text-decoration-color: #800000\">│</span>   <span style=\"color: #7f7f7f; text-decoration-color: #7f7f7f\">50 </span><span style=\"color: #7f7f7f; text-decoration-color: #7f7f7f\">│   </span><span style=\"color: #0000ff; text-decoration-color: #0000ff\">for</span> var <span style=\"color: #ff00ff; text-decoration-color: #ff00ff\">in</span> cuant_cols:                                                                  <span style=\"color: #800000; text-decoration-color: #800000\">│</span>\n",
       "<span style=\"color: #800000; text-decoration-color: #800000\">│</span>   <span style=\"color: #7f7f7f; text-decoration-color: #7f7f7f\">51 </span><span style=\"color: #7f7f7f; text-decoration-color: #7f7f7f\">│   │   </span><span style=\"color: #7f7f7f; text-decoration-color: #7f7f7f\"># Group by the target variable and calculate summary statistics</span>                     <span style=\"color: #800000; text-decoration-color: #800000\">│</span>\n",
       "<span style=\"color: #800000; text-decoration-color: #800000\">╰──────────────────────────────────────────────────────────────────────────────────────────────────╯</span>\n",
       "<span style=\"color: #ff0000; text-decoration-color: #ff0000; font-weight: bold\">NameError: </span>name <span style=\"color: #008000; text-decoration-color: #008000\">'plt'</span> is not defined\n",
       "</pre>\n"
      ],
      "text/plain": [
       "\u001b[31m╭─\u001b[0m\u001b[31m──────────────────────────────\u001b[0m\u001b[31m \u001b[0m\u001b[1;31mTraceback \u001b[0m\u001b[1;2;31m(most recent call last)\u001b[0m\u001b[31m \u001b[0m\u001b[31m───────────────────────────────\u001b[0m\u001b[31m─╮\u001b[0m\n",
       "\u001b[31m│\u001b[0m in \u001b[92m<module>\u001b[0m:\u001b[94m1\u001b[0m                                                                                    \u001b[31m│\u001b[0m\n",
       "\u001b[31m│\u001b[0m                                                                                                  \u001b[31m│\u001b[0m\n",
       "\u001b[31m│\u001b[0m \u001b[31m❱ \u001b[0m1 create_summary_table_with_kde(df, cuant_cols, target)                                        \u001b[31m│\u001b[0m\n",
       "\u001b[31m│\u001b[0m   \u001b[2m2 \u001b[0m                                                                                             \u001b[31m│\u001b[0m\n",
       "\u001b[31m│\u001b[0m                                                                                                  \u001b[31m│\u001b[0m\n",
       "\u001b[31m│\u001b[0m \u001b[33me:\\LAB2\\pet_project\\pet-competition\\notebooks\\funciones.py\u001b[0m:\u001b[94m48\u001b[0m in \u001b[92mcreate_summary_table_with_kde\u001b[0m   \u001b[31m│\u001b[0m\n",
       "\u001b[31m│\u001b[0m                                                                                                  \u001b[31m│\u001b[0m\n",
       "\u001b[31m│\u001b[0m   \u001b[2m45 \u001b[0m                                                                                            \u001b[31m│\u001b[0m\n",
       "\u001b[31m│\u001b[0m   \u001b[2m46 \u001b[0m                                                                                            \u001b[31m│\u001b[0m\n",
       "\u001b[31m│\u001b[0m   \u001b[2m47 \u001b[0m\u001b[2m# Tablas de resumen estadisticos por nivel de 'AdoptionSpeed' + histogramas:\u001b[0m                \u001b[31m│\u001b[0m\n",
       "\u001b[31m│\u001b[0m \u001b[31m❱ \u001b[0m48                                                                                             \u001b[31m│\u001b[0m\n",
       "\u001b[31m│\u001b[0m   \u001b[2m49 \u001b[0m\u001b[94mdef\u001b[0m \u001b[92mcreate_summary_table_with_kde\u001b[0m(df, cuant_cols, target):                                  \u001b[31m│\u001b[0m\n",
       "\u001b[31m│\u001b[0m   \u001b[2m50 \u001b[0m\u001b[2m│   \u001b[0m\u001b[94mfor\u001b[0m var \u001b[95min\u001b[0m cuant_cols:                                                                  \u001b[31m│\u001b[0m\n",
       "\u001b[31m│\u001b[0m   \u001b[2m51 \u001b[0m\u001b[2m│   │   \u001b[0m\u001b[2m# Group by the target variable and calculate summary statistics\u001b[0m                     \u001b[31m│\u001b[0m\n",
       "\u001b[31m╰──────────────────────────────────────────────────────────────────────────────────────────────────╯\u001b[0m\n",
       "\u001b[1;91mNameError: \u001b[0mname \u001b[32m'plt'\u001b[0m is not defined\n"
      ]
     },
     "metadata": {},
     "output_type": "display_data"
    }
   ],
   "source": [
    "\n",
    "create_summary_table_with_kde(df, cuant_cols, target)"
   ]
  },
  {
   "cell_type": "markdown",
   "metadata": {},
   "source": [
    "A priori "
   ]
  },
  {
   "cell_type": "markdown",
   "metadata": {},
   "source": [
    "--- \n",
    "\n",
    "Tras inspeccionar el dataset y el diccionario de datos provisto, se observa que varias columnas numericas son referencia a valores categoricos hallados en otras tablas."
   ]
  },
  {
   "cell_type": "markdown",
   "metadata": {},
   "source": [
    "## Incorporacion datasets de labels"
   ]
  },
  {
   "cell_type": "code",
   "execution_count": 62,
   "metadata": {},
   "outputs": [
    {
     "data": {
      "text/html": [
       "<pre style=\"white-space:pre;overflow-x:auto;line-height:normal;font-family:Menlo,'DejaVu Sans Mono',consolas,'Courier New',monospace\"><span style=\"color: #7fbfbf; text-decoration-color: #7fbfbf\">[08/10/24 09:04:50] </span><span style=\"color: #000080; text-decoration-color: #000080\">INFO    </span> Loading data from color_labels <span style=\"font-weight: bold\">(</span>CSVDataset<span style=\"font-weight: bold\">)</span><span style=\"color: #808000; text-decoration-color: #808000\">...</span>                     <a href=\"file://c:\\Users\\abelf\\anaconda3\\envs\\ldi2\\Lib\\site-packages\\kedro\\io\\data_catalog.py\" target=\"_blank\"><span style=\"color: #7f7f7f; text-decoration-color: #7f7f7f\">data_catalog.py</span></a><span style=\"color: #7f7f7f; text-decoration-color: #7f7f7f\">:</span><a href=\"file://c:\\Users\\abelf\\anaconda3\\envs\\ldi2\\Lib\\site-packages\\kedro\\io\\data_catalog.py#537\" target=\"_blank\"><span style=\"color: #7f7f7f; text-decoration-color: #7f7f7f\">537</span></a>\n",
       "</pre>\n"
      ],
      "text/plain": [
       "\u001b[2;36m[08/10/24 09:04:50]\u001b[0m\u001b[2;36m \u001b[0m\u001b[34mINFO    \u001b[0m Loading data from color_labels \u001b[1m(\u001b[0mCSVDataset\u001b[1m)\u001b[0m\u001b[33m...\u001b[0m                     \u001b]8;id=649761;file://c:\\Users\\abelf\\anaconda3\\envs\\ldi2\\Lib\\site-packages\\kedro\\io\\data_catalog.py\u001b\\\u001b[2mdata_catalog.py\u001b[0m\u001b]8;;\u001b\\\u001b[2m:\u001b[0m\u001b]8;id=24049;file://c:\\Users\\abelf\\anaconda3\\envs\\ldi2\\Lib\\site-packages\\kedro\\io\\data_catalog.py#537\u001b\\\u001b[2m537\u001b[0m\u001b]8;;\u001b\\\n"
      ]
     },
     "metadata": {},
     "output_type": "display_data"
    },
    {
     "data": {
      "text/html": [
       "<pre style=\"white-space:pre;overflow-x:auto;line-height:normal;font-family:Menlo,'DejaVu Sans Mono',consolas,'Courier New',monospace\"><span style=\"color: #7fbfbf; text-decoration-color: #7fbfbf\">                    </span><span style=\"color: #000080; text-decoration-color: #000080\">INFO    </span> Loading data from breed_labels <span style=\"font-weight: bold\">(</span>CSVDataset<span style=\"font-weight: bold\">)</span><span style=\"color: #808000; text-decoration-color: #808000\">...</span>                     <a href=\"file://c:\\Users\\abelf\\anaconda3\\envs\\ldi2\\Lib\\site-packages\\kedro\\io\\data_catalog.py\" target=\"_blank\"><span style=\"color: #7f7f7f; text-decoration-color: #7f7f7f\">data_catalog.py</span></a><span style=\"color: #7f7f7f; text-decoration-color: #7f7f7f\">:</span><a href=\"file://c:\\Users\\abelf\\anaconda3\\envs\\ldi2\\Lib\\site-packages\\kedro\\io\\data_catalog.py#537\" target=\"_blank\"><span style=\"color: #7f7f7f; text-decoration-color: #7f7f7f\">537</span></a>\n",
       "</pre>\n"
      ],
      "text/plain": [
       "\u001b[2;36m                   \u001b[0m\u001b[2;36m \u001b[0m\u001b[34mINFO    \u001b[0m Loading data from breed_labels \u001b[1m(\u001b[0mCSVDataset\u001b[1m)\u001b[0m\u001b[33m...\u001b[0m                     \u001b]8;id=723581;file://c:\\Users\\abelf\\anaconda3\\envs\\ldi2\\Lib\\site-packages\\kedro\\io\\data_catalog.py\u001b\\\u001b[2mdata_catalog.py\u001b[0m\u001b]8;;\u001b\\\u001b[2m:\u001b[0m\u001b]8;id=56704;file://c:\\Users\\abelf\\anaconda3\\envs\\ldi2\\Lib\\site-packages\\kedro\\io\\data_catalog.py#537\u001b\\\u001b[2m537\u001b[0m\u001b]8;;\u001b\\\n"
      ]
     },
     "metadata": {},
     "output_type": "display_data"
    },
    {
     "data": {
      "text/html": [
       "<pre style=\"white-space:pre;overflow-x:auto;line-height:normal;font-family:Menlo,'DejaVu Sans Mono',consolas,'Courier New',monospace\"><span style=\"color: #7fbfbf; text-decoration-color: #7fbfbf\">                    </span><span style=\"color: #000080; text-decoration-color: #000080\">INFO    </span> Loading data from state_labels <span style=\"font-weight: bold\">(</span>CSVDataset<span style=\"font-weight: bold\">)</span><span style=\"color: #808000; text-decoration-color: #808000\">...</span>                     <a href=\"file://c:\\Users\\abelf\\anaconda3\\envs\\ldi2\\Lib\\site-packages\\kedro\\io\\data_catalog.py\" target=\"_blank\"><span style=\"color: #7f7f7f; text-decoration-color: #7f7f7f\">data_catalog.py</span></a><span style=\"color: #7f7f7f; text-decoration-color: #7f7f7f\">:</span><a href=\"file://c:\\Users\\abelf\\anaconda3\\envs\\ldi2\\Lib\\site-packages\\kedro\\io\\data_catalog.py#537\" target=\"_blank\"><span style=\"color: #7f7f7f; text-decoration-color: #7f7f7f\">537</span></a>\n",
       "</pre>\n"
      ],
      "text/plain": [
       "\u001b[2;36m                   \u001b[0m\u001b[2;36m \u001b[0m\u001b[34mINFO    \u001b[0m Loading data from state_labels \u001b[1m(\u001b[0mCSVDataset\u001b[1m)\u001b[0m\u001b[33m...\u001b[0m                     \u001b]8;id=957315;file://c:\\Users\\abelf\\anaconda3\\envs\\ldi2\\Lib\\site-packages\\kedro\\io\\data_catalog.py\u001b\\\u001b[2mdata_catalog.py\u001b[0m\u001b]8;;\u001b\\\u001b[2m:\u001b[0m\u001b]8;id=241352;file://c:\\Users\\abelf\\anaconda3\\envs\\ldi2\\Lib\\site-packages\\kedro\\io\\data_catalog.py#537\u001b\\\u001b[2m537\u001b[0m\u001b]8;;\u001b\\\n"
      ]
     },
     "metadata": {},
     "output_type": "display_data"
    }
   ],
   "source": [
    "df_colors = catalog.load(\"color_labels\")\n",
    "df_breed = catalog.load(\"breed_labels\")\n",
    "df_state = catalog.load(\"state_labels\")"
   ]
  },
  {
   "cell_type": "markdown",
   "metadata": {},
   "source": [
    "### Colors"
   ]
  },
  {
   "cell_type": "code",
   "execution_count": 63,
   "metadata": {},
   "outputs": [
    {
     "data": {
      "text/html": [
       "<pre style=\"white-space:pre;overflow-x:auto;line-height:normal;font-family:Menlo,'DejaVu Sans Mono',consolas,'Courier New',monospace\"></pre>\n"
      ],
      "text/plain": []
     },
     "metadata": {},
     "output_type": "display_data"
    },
    {
     "data": {
      "text/html": [
       "<div>\n",
       "<style scoped>\n",
       "    .dataframe tbody tr th:only-of-type {\n",
       "        vertical-align: middle;\n",
       "    }\n",
       "\n",
       "    .dataframe tbody tr th {\n",
       "        vertical-align: top;\n",
       "    }\n",
       "\n",
       "    .dataframe thead th {\n",
       "        text-align: right;\n",
       "    }\n",
       "</style>\n",
       "<table border=\"1\" class=\"dataframe\">\n",
       "  <thead>\n",
       "    <tr style=\"text-align: right;\">\n",
       "      <th></th>\n",
       "      <th>ColorID</th>\n",
       "      <th>ColorName</th>\n",
       "    </tr>\n",
       "  </thead>\n",
       "  <tbody>\n",
       "    <tr>\n",
       "      <th>0</th>\n",
       "      <td>1</td>\n",
       "      <td>Black</td>\n",
       "    </tr>\n",
       "    <tr>\n",
       "      <th>1</th>\n",
       "      <td>2</td>\n",
       "      <td>Brown</td>\n",
       "    </tr>\n",
       "    <tr>\n",
       "      <th>2</th>\n",
       "      <td>3</td>\n",
       "      <td>Golden</td>\n",
       "    </tr>\n",
       "    <tr>\n",
       "      <th>3</th>\n",
       "      <td>4</td>\n",
       "      <td>Yellow</td>\n",
       "    </tr>\n",
       "    <tr>\n",
       "      <th>4</th>\n",
       "      <td>5</td>\n",
       "      <td>Cream</td>\n",
       "    </tr>\n",
       "  </tbody>\n",
       "</table>\n",
       "</div>"
      ],
      "text/plain": [
       "\n",
       "   ColorID ColorName\n",
       "\u001b[1;36m0\u001b[0m        \u001b[1;36m1\u001b[0m     Black\n",
       "\u001b[1;36m1\u001b[0m        \u001b[1;36m2\u001b[0m     Brown\n",
       "\u001b[1;36m2\u001b[0m        \u001b[1;36m3\u001b[0m    Golden\n",
       "\u001b[1;36m3\u001b[0m        \u001b[1;36m4\u001b[0m    Yellow\n",
       "\u001b[1;36m4\u001b[0m        \u001b[1;36m5\u001b[0m     Cream"
      ]
     },
     "execution_count": 63,
     "metadata": {},
     "output_type": "execute_result"
    }
   ],
   "source": [
    "df_colors.head()"
   ]
  },
  {
   "cell_type": "code",
   "execution_count": 64,
   "metadata": {},
   "outputs": [
    {
     "data": {
      "text/html": [
       "<pre style=\"white-space:pre;overflow-x:auto;line-height:normal;font-family:Menlo,'DejaVu Sans Mono',consolas,'Courier New',monospace\"></pre>\n"
      ],
      "text/plain": []
     },
     "metadata": {},
     "output_type": "display_data"
    },
    {
     "data": {
      "text/plain": [
       "\u001b[1m(\u001b[0m\u001b[1;36m7\u001b[0m, \u001b[1;36m2\u001b[0m\u001b[1m)\u001b[0m"
      ]
     },
     "execution_count": 64,
     "metadata": {},
     "output_type": "execute_result"
    }
   ],
   "source": [
    "df_colors.shape"
   ]
  },
  {
   "cell_type": "markdown",
   "metadata": {},
   "source": [
    "### Breed"
   ]
  },
  {
   "cell_type": "code",
   "execution_count": 65,
   "metadata": {},
   "outputs": [
    {
     "data": {
      "text/html": [
       "<pre style=\"white-space:pre;overflow-x:auto;line-height:normal;font-family:Menlo,'DejaVu Sans Mono',consolas,'Courier New',monospace\"></pre>\n"
      ],
      "text/plain": []
     },
     "metadata": {},
     "output_type": "display_data"
    },
    {
     "data": {
      "text/html": [
       "<div>\n",
       "<style scoped>\n",
       "    .dataframe tbody tr th:only-of-type {\n",
       "        vertical-align: middle;\n",
       "    }\n",
       "\n",
       "    .dataframe tbody tr th {\n",
       "        vertical-align: top;\n",
       "    }\n",
       "\n",
       "    .dataframe thead th {\n",
       "        text-align: right;\n",
       "    }\n",
       "</style>\n",
       "<table border=\"1\" class=\"dataframe\">\n",
       "  <thead>\n",
       "    <tr style=\"text-align: right;\">\n",
       "      <th></th>\n",
       "      <th>BreedID</th>\n",
       "      <th>Type</th>\n",
       "      <th>BreedName</th>\n",
       "    </tr>\n",
       "  </thead>\n",
       "  <tbody>\n",
       "    <tr>\n",
       "      <th>0</th>\n",
       "      <td>1</td>\n",
       "      <td>1</td>\n",
       "      <td>Affenpinscher</td>\n",
       "    </tr>\n",
       "    <tr>\n",
       "      <th>1</th>\n",
       "      <td>2</td>\n",
       "      <td>1</td>\n",
       "      <td>Afghan Hound</td>\n",
       "    </tr>\n",
       "    <tr>\n",
       "      <th>2</th>\n",
       "      <td>3</td>\n",
       "      <td>1</td>\n",
       "      <td>Airedale Terrier</td>\n",
       "    </tr>\n",
       "    <tr>\n",
       "      <th>3</th>\n",
       "      <td>4</td>\n",
       "      <td>1</td>\n",
       "      <td>Akbash</td>\n",
       "    </tr>\n",
       "    <tr>\n",
       "      <th>4</th>\n",
       "      <td>5</td>\n",
       "      <td>1</td>\n",
       "      <td>Akita</td>\n",
       "    </tr>\n",
       "  </tbody>\n",
       "</table>\n",
       "</div>"
      ],
      "text/plain": [
       "\n",
       "   BreedID  Type         BreedName\n",
       "\u001b[1;36m0\u001b[0m        \u001b[1;36m1\u001b[0m     \u001b[1;36m1\u001b[0m     Affenpinscher\n",
       "\u001b[1;36m1\u001b[0m        \u001b[1;36m2\u001b[0m     \u001b[1;36m1\u001b[0m      Afghan Hound\n",
       "\u001b[1;36m2\u001b[0m        \u001b[1;36m3\u001b[0m     \u001b[1;36m1\u001b[0m  Airedale Terrier\n",
       "\u001b[1;36m3\u001b[0m        \u001b[1;36m4\u001b[0m     \u001b[1;36m1\u001b[0m            Akbash\n",
       "\u001b[1;36m4\u001b[0m        \u001b[1;36m5\u001b[0m     \u001b[1;36m1\u001b[0m             Akita"
      ]
     },
     "execution_count": 65,
     "metadata": {},
     "output_type": "execute_result"
    }
   ],
   "source": [
    "df_breed.head()"
   ]
  },
  {
   "cell_type": "code",
   "execution_count": 66,
   "metadata": {},
   "outputs": [
    {
     "data": {
      "text/html": [
       "<pre style=\"white-space:pre;overflow-x:auto;line-height:normal;font-family:Menlo,'DejaVu Sans Mono',consolas,'Courier New',monospace\"></pre>\n"
      ],
      "text/plain": []
     },
     "metadata": {},
     "output_type": "display_data"
    },
    {
     "data": {
      "text/plain": [
       "\u001b[1m(\u001b[0m\u001b[1;36m307\u001b[0m, \u001b[1;36m3\u001b[0m\u001b[1m)\u001b[0m"
      ]
     },
     "execution_count": 66,
     "metadata": {},
     "output_type": "execute_result"
    }
   ],
   "source": [
    "df_breed.shape"
   ]
  },
  {
   "cell_type": "code",
   "execution_count": 67,
   "metadata": {},
   "outputs": [
    {
     "data": {
      "text/html": [
       "<pre style=\"white-space:pre;overflow-x:auto;line-height:normal;font-family:Menlo,'DejaVu Sans Mono',consolas,'Courier New',monospace\"></pre>\n"
      ],
      "text/plain": []
     },
     "metadata": {},
     "output_type": "display_data"
    },
    {
     "data": {
      "text/plain": [
       "\n",
       "BreedID      \u001b[1;36m0\u001b[0m\n",
       "Type         \u001b[1;36m0\u001b[0m\n",
       "BreedName    \u001b[1;36m0\u001b[0m\n",
       "dtype: int64"
      ]
     },
     "execution_count": 67,
     "metadata": {},
     "output_type": "execute_result"
    }
   ],
   "source": [
    "df_breed.isna().sum()"
   ]
  },
  {
   "cell_type": "markdown",
   "metadata": {},
   "source": [
    "### State"
   ]
  },
  {
   "cell_type": "code",
   "execution_count": 68,
   "metadata": {},
   "outputs": [
    {
     "data": {
      "text/html": [
       "<pre style=\"white-space:pre;overflow-x:auto;line-height:normal;font-family:Menlo,'DejaVu Sans Mono',consolas,'Courier New',monospace\"></pre>\n"
      ],
      "text/plain": []
     },
     "metadata": {},
     "output_type": "display_data"
    },
    {
     "data": {
      "text/html": [
       "<div>\n",
       "<style scoped>\n",
       "    .dataframe tbody tr th:only-of-type {\n",
       "        vertical-align: middle;\n",
       "    }\n",
       "\n",
       "    .dataframe tbody tr th {\n",
       "        vertical-align: top;\n",
       "    }\n",
       "\n",
       "    .dataframe thead th {\n",
       "        text-align: right;\n",
       "    }\n",
       "</style>\n",
       "<table border=\"1\" class=\"dataframe\">\n",
       "  <thead>\n",
       "    <tr style=\"text-align: right;\">\n",
       "      <th></th>\n",
       "      <th>StateID</th>\n",
       "      <th>StateName</th>\n",
       "    </tr>\n",
       "  </thead>\n",
       "  <tbody>\n",
       "    <tr>\n",
       "      <th>0</th>\n",
       "      <td>41336</td>\n",
       "      <td>Johor</td>\n",
       "    </tr>\n",
       "    <tr>\n",
       "      <th>1</th>\n",
       "      <td>41325</td>\n",
       "      <td>Kedah</td>\n",
       "    </tr>\n",
       "    <tr>\n",
       "      <th>2</th>\n",
       "      <td>41367</td>\n",
       "      <td>Kelantan</td>\n",
       "    </tr>\n",
       "    <tr>\n",
       "      <th>3</th>\n",
       "      <td>41401</td>\n",
       "      <td>Kuala Lumpur</td>\n",
       "    </tr>\n",
       "    <tr>\n",
       "      <th>4</th>\n",
       "      <td>41415</td>\n",
       "      <td>Labuan</td>\n",
       "    </tr>\n",
       "    <tr>\n",
       "      <th>5</th>\n",
       "      <td>41324</td>\n",
       "      <td>Melaka</td>\n",
       "    </tr>\n",
       "    <tr>\n",
       "      <th>6</th>\n",
       "      <td>41332</td>\n",
       "      <td>Negeri Sembilan</td>\n",
       "    </tr>\n",
       "    <tr>\n",
       "      <th>7</th>\n",
       "      <td>41335</td>\n",
       "      <td>Pahang</td>\n",
       "    </tr>\n",
       "    <tr>\n",
       "      <th>8</th>\n",
       "      <td>41330</td>\n",
       "      <td>Perak</td>\n",
       "    </tr>\n",
       "    <tr>\n",
       "      <th>9</th>\n",
       "      <td>41380</td>\n",
       "      <td>Perlis</td>\n",
       "    </tr>\n",
       "    <tr>\n",
       "      <th>10</th>\n",
       "      <td>41327</td>\n",
       "      <td>Pulau Pinang</td>\n",
       "    </tr>\n",
       "    <tr>\n",
       "      <th>11</th>\n",
       "      <td>41345</td>\n",
       "      <td>Sabah</td>\n",
       "    </tr>\n",
       "    <tr>\n",
       "      <th>12</th>\n",
       "      <td>41342</td>\n",
       "      <td>Sarawak</td>\n",
       "    </tr>\n",
       "    <tr>\n",
       "      <th>13</th>\n",
       "      <td>41326</td>\n",
       "      <td>Selangor</td>\n",
       "    </tr>\n",
       "    <tr>\n",
       "      <th>14</th>\n",
       "      <td>41361</td>\n",
       "      <td>Terengganu</td>\n",
       "    </tr>\n",
       "  </tbody>\n",
       "</table>\n",
       "</div>"
      ],
      "text/plain": [
       "\n",
       "    StateID        StateName\n",
       "\u001b[1;36m0\u001b[0m     \u001b[1;36m41336\u001b[0m            Johor\n",
       "\u001b[1;36m1\u001b[0m     \u001b[1;36m41325\u001b[0m            Kedah\n",
       "\u001b[1;36m2\u001b[0m     \u001b[1;36m41367\u001b[0m         Kelantan\n",
       "\u001b[1;36m3\u001b[0m     \u001b[1;36m41401\u001b[0m     Kuala Lumpur\n",
       "\u001b[1;36m4\u001b[0m     \u001b[1;36m41415\u001b[0m           Labuan\n",
       "\u001b[1;36m5\u001b[0m     \u001b[1;36m41324\u001b[0m           Melaka\n",
       "\u001b[1;36m6\u001b[0m     \u001b[1;36m41332\u001b[0m  Negeri Sembilan\n",
       "\u001b[1;36m7\u001b[0m     \u001b[1;36m41335\u001b[0m           Pahang\n",
       "\u001b[1;36m8\u001b[0m     \u001b[1;36m41330\u001b[0m            Perak\n",
       "\u001b[1;36m9\u001b[0m     \u001b[1;36m41380\u001b[0m           Perlis\n",
       "\u001b[1;36m10\u001b[0m    \u001b[1;36m41327\u001b[0m     Pulau Pinang\n",
       "\u001b[1;36m11\u001b[0m    \u001b[1;36m41345\u001b[0m            Sabah\n",
       "\u001b[1;36m12\u001b[0m    \u001b[1;36m41342\u001b[0m          Sarawak\n",
       "\u001b[1;36m13\u001b[0m    \u001b[1;36m41326\u001b[0m         Selangor\n",
       "\u001b[1;36m14\u001b[0m    \u001b[1;36m41361\u001b[0m       Terengganu"
      ]
     },
     "execution_count": 68,
     "metadata": {},
     "output_type": "execute_result"
    }
   ],
   "source": [
    "df_state.head(20)"
   ]
  },
  {
   "cell_type": "markdown",
   "metadata": {},
   "source": [
    "## Unificacion de datasets"
   ]
  },
  {
   "cell_type": "code",
   "execution_count": 69,
   "metadata": {},
   "outputs": [
    {
     "data": {
      "text/html": [
       "<pre style=\"white-space:pre;overflow-x:auto;line-height:normal;font-family:Menlo,'DejaVu Sans Mono',consolas,'Courier New',monospace\"></pre>\n"
      ],
      "text/plain": []
     },
     "metadata": {},
     "output_type": "display_data"
    },
    {
     "data": {
      "text/html": [
       "<div>\n",
       "<style scoped>\n",
       "    .dataframe tbody tr th:only-of-type {\n",
       "        vertical-align: middle;\n",
       "    }\n",
       "\n",
       "    .dataframe tbody tr th {\n",
       "        vertical-align: top;\n",
       "    }\n",
       "\n",
       "    .dataframe thead th {\n",
       "        text-align: right;\n",
       "    }\n",
       "</style>\n",
       "<table border=\"1\" class=\"dataframe\">\n",
       "  <thead>\n",
       "    <tr style=\"text-align: right;\">\n",
       "      <th></th>\n",
       "      <th>Type</th>\n",
       "      <th>Name</th>\n",
       "      <th>Age</th>\n",
       "      <th>Breed1</th>\n",
       "      <th>Breed2</th>\n",
       "      <th>Gender</th>\n",
       "      <th>Color1</th>\n",
       "      <th>Color2</th>\n",
       "      <th>Color3</th>\n",
       "      <th>MaturitySize</th>\n",
       "      <th>...</th>\n",
       "      <th>State</th>\n",
       "      <th>RescuerID</th>\n",
       "      <th>VideoAmt</th>\n",
       "      <th>Description</th>\n",
       "      <th>PetID</th>\n",
       "      <th>PhotoAmt</th>\n",
       "      <th>AdoptionSpeed</th>\n",
       "      <th>BreedID</th>\n",
       "      <th>Type_name</th>\n",
       "      <th>BreedName</th>\n",
       "    </tr>\n",
       "  </thead>\n",
       "  <tbody>\n",
       "    <tr>\n",
       "      <th>0</th>\n",
       "      <td>2</td>\n",
       "      <td>Nibble</td>\n",
       "      <td>3</td>\n",
       "      <td>299</td>\n",
       "      <td>0</td>\n",
       "      <td>1</td>\n",
       "      <td>1</td>\n",
       "      <td>7</td>\n",
       "      <td>0</td>\n",
       "      <td>1</td>\n",
       "      <td>...</td>\n",
       "      <td>41326</td>\n",
       "      <td>8480853f516546f6cf33aa88cd76c379</td>\n",
       "      <td>0</td>\n",
       "      <td>Nibble is a 3+ month old ball of cuteness. He ...</td>\n",
       "      <td>86e1089a3</td>\n",
       "      <td>1.0</td>\n",
       "      <td>2</td>\n",
       "      <td>299.0</td>\n",
       "      <td>2.0</td>\n",
       "      <td>Tabby</td>\n",
       "    </tr>\n",
       "    <tr>\n",
       "      <th>1</th>\n",
       "      <td>2</td>\n",
       "      <td>No Name Yet</td>\n",
       "      <td>1</td>\n",
       "      <td>265</td>\n",
       "      <td>0</td>\n",
       "      <td>1</td>\n",
       "      <td>1</td>\n",
       "      <td>2</td>\n",
       "      <td>0</td>\n",
       "      <td>2</td>\n",
       "      <td>...</td>\n",
       "      <td>41401</td>\n",
       "      <td>3082c7125d8fb66f7dd4bff4192c8b14</td>\n",
       "      <td>0</td>\n",
       "      <td>I just found it alone yesterday near my apartm...</td>\n",
       "      <td>6296e909a</td>\n",
       "      <td>2.0</td>\n",
       "      <td>0</td>\n",
       "      <td>265.0</td>\n",
       "      <td>2.0</td>\n",
       "      <td>Domestic Medium Hair</td>\n",
       "    </tr>\n",
       "    <tr>\n",
       "      <th>2</th>\n",
       "      <td>1</td>\n",
       "      <td>Brisco</td>\n",
       "      <td>1</td>\n",
       "      <td>307</td>\n",
       "      <td>0</td>\n",
       "      <td>1</td>\n",
       "      <td>2</td>\n",
       "      <td>7</td>\n",
       "      <td>0</td>\n",
       "      <td>2</td>\n",
       "      <td>...</td>\n",
       "      <td>41326</td>\n",
       "      <td>fa90fa5b1ee11c86938398b60abc32cb</td>\n",
       "      <td>0</td>\n",
       "      <td>Their pregnant mother was dumped by her irresp...</td>\n",
       "      <td>3422e4906</td>\n",
       "      <td>7.0</td>\n",
       "      <td>3</td>\n",
       "      <td>307.0</td>\n",
       "      <td>1.0</td>\n",
       "      <td>Mixed Breed</td>\n",
       "    </tr>\n",
       "    <tr>\n",
       "      <th>3</th>\n",
       "      <td>1</td>\n",
       "      <td>Miko</td>\n",
       "      <td>4</td>\n",
       "      <td>307</td>\n",
       "      <td>0</td>\n",
       "      <td>2</td>\n",
       "      <td>1</td>\n",
       "      <td>2</td>\n",
       "      <td>0</td>\n",
       "      <td>2</td>\n",
       "      <td>...</td>\n",
       "      <td>41401</td>\n",
       "      <td>9238e4f44c71a75282e62f7136c6b240</td>\n",
       "      <td>0</td>\n",
       "      <td>Good guard dog, very alert, active, obedience ...</td>\n",
       "      <td>5842f1ff5</td>\n",
       "      <td>8.0</td>\n",
       "      <td>2</td>\n",
       "      <td>307.0</td>\n",
       "      <td>1.0</td>\n",
       "      <td>Mixed Breed</td>\n",
       "    </tr>\n",
       "    <tr>\n",
       "      <th>4</th>\n",
       "      <td>1</td>\n",
       "      <td>Hunter</td>\n",
       "      <td>1</td>\n",
       "      <td>307</td>\n",
       "      <td>0</td>\n",
       "      <td>1</td>\n",
       "      <td>1</td>\n",
       "      <td>0</td>\n",
       "      <td>0</td>\n",
       "      <td>2</td>\n",
       "      <td>...</td>\n",
       "      <td>41326</td>\n",
       "      <td>95481e953f8aed9ec3d16fc4509537e8</td>\n",
       "      <td>0</td>\n",
       "      <td>This handsome yet cute boy is up for adoption....</td>\n",
       "      <td>850a43f90</td>\n",
       "      <td>3.0</td>\n",
       "      <td>2</td>\n",
       "      <td>307.0</td>\n",
       "      <td>1.0</td>\n",
       "      <td>Mixed Breed</td>\n",
       "    </tr>\n",
       "    <tr>\n",
       "      <th>...</th>\n",
       "      <td>...</td>\n",
       "      <td>...</td>\n",
       "      <td>...</td>\n",
       "      <td>...</td>\n",
       "      <td>...</td>\n",
       "      <td>...</td>\n",
       "      <td>...</td>\n",
       "      <td>...</td>\n",
       "      <td>...</td>\n",
       "      <td>...</td>\n",
       "      <td>...</td>\n",
       "      <td>...</td>\n",
       "      <td>...</td>\n",
       "      <td>...</td>\n",
       "      <td>...</td>\n",
       "      <td>...</td>\n",
       "      <td>...</td>\n",
       "      <td>...</td>\n",
       "      <td>...</td>\n",
       "      <td>...</td>\n",
       "      <td>...</td>\n",
       "    </tr>\n",
       "    <tr>\n",
       "      <th>14988</th>\n",
       "      <td>2</td>\n",
       "      <td>NaN</td>\n",
       "      <td>2</td>\n",
       "      <td>266</td>\n",
       "      <td>0</td>\n",
       "      <td>3</td>\n",
       "      <td>1</td>\n",
       "      <td>0</td>\n",
       "      <td>0</td>\n",
       "      <td>2</td>\n",
       "      <td>...</td>\n",
       "      <td>41326</td>\n",
       "      <td>61c84bd7bcb6fb31d2d480b1bcf9682e</td>\n",
       "      <td>0</td>\n",
       "      <td>I have 4 kittens that need to be adopt urgentl...</td>\n",
       "      <td>dc0935a84</td>\n",
       "      <td>3.0</td>\n",
       "      <td>2</td>\n",
       "      <td>266.0</td>\n",
       "      <td>2.0</td>\n",
       "      <td>Domestic Short Hair</td>\n",
       "    </tr>\n",
       "    <tr>\n",
       "      <th>14989</th>\n",
       "      <td>2</td>\n",
       "      <td>Serato &amp; Eddie</td>\n",
       "      <td>60</td>\n",
       "      <td>265</td>\n",
       "      <td>264</td>\n",
       "      <td>3</td>\n",
       "      <td>1</td>\n",
       "      <td>4</td>\n",
       "      <td>7</td>\n",
       "      <td>2</td>\n",
       "      <td>...</td>\n",
       "      <td>41326</td>\n",
       "      <td>1d5096c4a5e159a3b750c5cfcf6ceabf</td>\n",
       "      <td>0</td>\n",
       "      <td>Serato(female cat- 3 color) is 4 years old and...</td>\n",
       "      <td>a01ab5b30</td>\n",
       "      <td>3.0</td>\n",
       "      <td>4</td>\n",
       "      <td>265.0</td>\n",
       "      <td>2.0</td>\n",
       "      <td>Domestic Medium Hair</td>\n",
       "    </tr>\n",
       "    <tr>\n",
       "      <th>14990</th>\n",
       "      <td>2</td>\n",
       "      <td>Monkies</td>\n",
       "      <td>2</td>\n",
       "      <td>265</td>\n",
       "      <td>266</td>\n",
       "      <td>3</td>\n",
       "      <td>5</td>\n",
       "      <td>6</td>\n",
       "      <td>7</td>\n",
       "      <td>3</td>\n",
       "      <td>...</td>\n",
       "      <td>41326</td>\n",
       "      <td>6f40a7acfad5cc0bb3e44591ea446c05</td>\n",
       "      <td>0</td>\n",
       "      <td>Mix breed, good temperament kittens. Love huma...</td>\n",
       "      <td>d981b6395</td>\n",
       "      <td>5.0</td>\n",
       "      <td>3</td>\n",
       "      <td>265.0</td>\n",
       "      <td>2.0</td>\n",
       "      <td>Domestic Medium Hair</td>\n",
       "    </tr>\n",
       "    <tr>\n",
       "      <th>14991</th>\n",
       "      <td>2</td>\n",
       "      <td>Ms Daym</td>\n",
       "      <td>9</td>\n",
       "      <td>266</td>\n",
       "      <td>0</td>\n",
       "      <td>2</td>\n",
       "      <td>4</td>\n",
       "      <td>7</td>\n",
       "      <td>0</td>\n",
       "      <td>1</td>\n",
       "      <td>...</td>\n",
       "      <td>41336</td>\n",
       "      <td>c311c0c569245baa147d91fa4e351ae4</td>\n",
       "      <td>0</td>\n",
       "      <td>she is very shy..adventures and independent..s...</td>\n",
       "      <td>e4da1c9e4</td>\n",
       "      <td>3.0</td>\n",
       "      <td>4</td>\n",
       "      <td>266.0</td>\n",
       "      <td>2.0</td>\n",
       "      <td>Domestic Short Hair</td>\n",
       "    </tr>\n",
       "    <tr>\n",
       "      <th>14992</th>\n",
       "      <td>1</td>\n",
       "      <td>Fili</td>\n",
       "      <td>1</td>\n",
       "      <td>307</td>\n",
       "      <td>307</td>\n",
       "      <td>1</td>\n",
       "      <td>2</td>\n",
       "      <td>0</td>\n",
       "      <td>0</td>\n",
       "      <td>2</td>\n",
       "      <td>...</td>\n",
       "      <td>41332</td>\n",
       "      <td>9ed1d5493d223eaa5024c1a031dbc9c2</td>\n",
       "      <td>0</td>\n",
       "      <td>Fili just loves laying around and also loves b...</td>\n",
       "      <td>a83d95ead</td>\n",
       "      <td>1.0</td>\n",
       "      <td>3</td>\n",
       "      <td>307.0</td>\n",
       "      <td>1.0</td>\n",
       "      <td>Mixed Breed</td>\n",
       "    </tr>\n",
       "  </tbody>\n",
       "</table>\n",
       "<p>14993 rows × 27 columns</p>\n",
       "</div>"
      ],
      "text/plain": [
       "\n",
       "       Type             Name  Age  Breed1  Breed2  Gender  Color1  Color2  \\\n",
       "\u001b[1;36m0\u001b[0m          \u001b[1;36m2\u001b[0m          Nibble    \u001b[1;36m3\u001b[0m     \u001b[1;36m299\u001b[0m       \u001b[1;36m0\u001b[0m       \u001b[1;36m1\u001b[0m       \u001b[1;36m1\u001b[0m       \u001b[1;36m7\u001b[0m   \n",
       "\u001b[1;36m1\u001b[0m          \u001b[1;36m2\u001b[0m     No Name Yet    \u001b[1;36m1\u001b[0m     \u001b[1;36m265\u001b[0m       \u001b[1;36m0\u001b[0m       \u001b[1;36m1\u001b[0m       \u001b[1;36m1\u001b[0m       \u001b[1;36m2\u001b[0m   \n",
       "\u001b[1;36m2\u001b[0m          \u001b[1;36m1\u001b[0m          Brisco    \u001b[1;36m1\u001b[0m     \u001b[1;36m307\u001b[0m       \u001b[1;36m0\u001b[0m       \u001b[1;36m1\u001b[0m       \u001b[1;36m2\u001b[0m       \u001b[1;36m7\u001b[0m   \n",
       "\u001b[1;36m3\u001b[0m          \u001b[1;36m1\u001b[0m            Miko    \u001b[1;36m4\u001b[0m     \u001b[1;36m307\u001b[0m       \u001b[1;36m0\u001b[0m       \u001b[1;36m2\u001b[0m       \u001b[1;36m1\u001b[0m       \u001b[1;36m2\u001b[0m   \n",
       "\u001b[1;36m4\u001b[0m          \u001b[1;36m1\u001b[0m          Hunter    \u001b[1;36m1\u001b[0m     \u001b[1;36m307\u001b[0m       \u001b[1;36m0\u001b[0m       \u001b[1;36m1\u001b[0m       \u001b[1;36m1\u001b[0m       \u001b[1;36m0\u001b[0m   \n",
       "\u001b[33m...\u001b[0m      \u001b[33m...\u001b[0m             \u001b[33m...\u001b[0m  \u001b[33m...\u001b[0m     \u001b[33m...\u001b[0m     \u001b[33m...\u001b[0m     \u001b[33m...\u001b[0m     \u001b[33m...\u001b[0m     \u001b[33m...\u001b[0m   \n",
       "\u001b[1;36m14988\u001b[0m      \u001b[1;36m2\u001b[0m             NaN    \u001b[1;36m2\u001b[0m     \u001b[1;36m266\u001b[0m       \u001b[1;36m0\u001b[0m       \u001b[1;36m3\u001b[0m       \u001b[1;36m1\u001b[0m       \u001b[1;36m0\u001b[0m   \n",
       "\u001b[1;36m14989\u001b[0m      \u001b[1;36m2\u001b[0m  Serato & Eddie   \u001b[1;36m60\u001b[0m     \u001b[1;36m265\u001b[0m     \u001b[1;36m264\u001b[0m       \u001b[1;36m3\u001b[0m       \u001b[1;36m1\u001b[0m       \u001b[1;36m4\u001b[0m   \n",
       "\u001b[1;36m14990\u001b[0m      \u001b[1;36m2\u001b[0m         Monkies    \u001b[1;36m2\u001b[0m     \u001b[1;36m265\u001b[0m     \u001b[1;36m266\u001b[0m       \u001b[1;36m3\u001b[0m       \u001b[1;36m5\u001b[0m       \u001b[1;36m6\u001b[0m   \n",
       "\u001b[1;36m14991\u001b[0m      \u001b[1;36m2\u001b[0m         Ms Daym    \u001b[1;36m9\u001b[0m     \u001b[1;36m266\u001b[0m       \u001b[1;36m0\u001b[0m       \u001b[1;36m2\u001b[0m       \u001b[1;36m4\u001b[0m       \u001b[1;36m7\u001b[0m   \n",
       "\u001b[1;36m14992\u001b[0m      \u001b[1;36m1\u001b[0m            Fili    \u001b[1;36m1\u001b[0m     \u001b[1;36m307\u001b[0m     \u001b[1;36m307\u001b[0m       \u001b[1;36m1\u001b[0m       \u001b[1;36m2\u001b[0m       \u001b[1;36m0\u001b[0m   \n",
       "\n",
       "       Color3  MaturitySize  \u001b[33m...\u001b[0m  State                         RescuerID  \\\n",
       "\u001b[1;36m0\u001b[0m           \u001b[1;36m0\u001b[0m             \u001b[1;36m1\u001b[0m  \u001b[33m...\u001b[0m  \u001b[1;36m41326\u001b[0m  8480853f516546f6cf33aa88cd76c379   \n",
       "\u001b[1;36m1\u001b[0m           \u001b[1;36m0\u001b[0m             \u001b[1;36m2\u001b[0m  \u001b[33m...\u001b[0m  \u001b[1;36m41401\u001b[0m  3082c7125d8fb66f7dd4bff4192c8b14   \n",
       "\u001b[1;36m2\u001b[0m           \u001b[1;36m0\u001b[0m             \u001b[1;36m2\u001b[0m  \u001b[33m...\u001b[0m  \u001b[1;36m41326\u001b[0m  fa90fa5b1ee11c86938398b60abc32cb   \n",
       "\u001b[1;36m3\u001b[0m           \u001b[1;36m0\u001b[0m             \u001b[1;36m2\u001b[0m  \u001b[33m...\u001b[0m  \u001b[1;36m41401\u001b[0m  9238e4f44c71a75282e62f7136c6b240   \n",
       "\u001b[1;36m4\u001b[0m           \u001b[1;36m0\u001b[0m             \u001b[1;36m2\u001b[0m  \u001b[33m...\u001b[0m  \u001b[1;36m41326\u001b[0m  95481e953f8aed9ec3d16fc4509537e8   \n",
       "\u001b[33m...\u001b[0m       \u001b[33m...\u001b[0m           \u001b[33m...\u001b[0m  \u001b[33m...\u001b[0m    \u001b[33m...\u001b[0m                               \u001b[33m...\u001b[0m   \n",
       "\u001b[1;36m14988\u001b[0m       \u001b[1;36m0\u001b[0m             \u001b[1;36m2\u001b[0m  \u001b[33m...\u001b[0m  \u001b[1;36m41326\u001b[0m  61c84bd7bcb6fb31d2d480b1bcf9682e   \n",
       "\u001b[1;36m14989\u001b[0m       \u001b[1;36m7\u001b[0m             \u001b[1;36m2\u001b[0m  \u001b[33m...\u001b[0m  \u001b[1;36m41326\u001b[0m  1d5096c4a5e159a3b750c5cfcf6ceabf   \n",
       "\u001b[1;36m14990\u001b[0m       \u001b[1;36m7\u001b[0m             \u001b[1;36m3\u001b[0m  \u001b[33m...\u001b[0m  \u001b[1;36m41326\u001b[0m  6f40a7acfad5cc0bb3e44591ea446c05   \n",
       "\u001b[1;36m14991\u001b[0m       \u001b[1;36m0\u001b[0m             \u001b[1;36m1\u001b[0m  \u001b[33m...\u001b[0m  \u001b[1;36m41336\u001b[0m  c311c0c569245baa147d91fa4e351ae4   \n",
       "\u001b[1;36m14992\u001b[0m       \u001b[1;36m0\u001b[0m             \u001b[1;36m2\u001b[0m  \u001b[33m...\u001b[0m  \u001b[1;36m41332\u001b[0m  9ed1d5493d223eaa5024c1a031dbc9c2   \n",
       "\n",
       "       VideoAmt                                        Description      PetID  \\\n",
       "\u001b[1;36m0\u001b[0m             \u001b[1;36m0\u001b[0m  Nibble is a \u001b[1;36m3\u001b[0m+ month old ball of cuteness. He \u001b[33m...\u001b[0m  86e1089a3   \n",
       "\u001b[1;36m1\u001b[0m             \u001b[1;36m0\u001b[0m  I just found it alone yesterday near my apartm\u001b[33m...\u001b[0m  6296e909a   \n",
       "\u001b[1;36m2\u001b[0m             \u001b[1;36m0\u001b[0m  Their pregnant mother was dumped by her irresp\u001b[33m...\u001b[0m  \u001b[1;36m3422e4906\u001b[0m   \n",
       "\u001b[1;36m3\u001b[0m             \u001b[1;36m0\u001b[0m  Good guard dog, very alert, active, obedience \u001b[33m...\u001b[0m  5842f1ff5   \n",
       "\u001b[1;36m4\u001b[0m             \u001b[1;36m0\u001b[0m  This handsome yet cute boy is up for adoption\u001b[33m...\u001b[0m.  850a43f90   \n",
       "\u001b[33m...\u001b[0m         \u001b[33m...\u001b[0m                                                \u001b[33m...\u001b[0m        \u001b[33m...\u001b[0m   \n",
       "\u001b[1;36m14988\u001b[0m         \u001b[1;36m0\u001b[0m  I have \u001b[1;36m4\u001b[0m kittens that need to be adopt urgentl\u001b[33m...\u001b[0m  dc0935a84   \n",
       "\u001b[1;36m14989\u001b[0m         \u001b[1;36m0\u001b[0m  \u001b[1;35mSerato\u001b[0m\u001b[1m(\u001b[0mfemale cat- \u001b[1;36m3\u001b[0m color\u001b[1m)\u001b[0m is \u001b[1;36m4\u001b[0m years old and\u001b[33m...\u001b[0m  a01ab5b30   \n",
       "\u001b[1;36m14990\u001b[0m         \u001b[1;36m0\u001b[0m  Mix breed, good temperament kittens. Love huma\u001b[33m...\u001b[0m  d981b6395   \n",
       "\u001b[1;36m14991\u001b[0m         \u001b[1;36m0\u001b[0m  she is very shy..adventures and independent..s\u001b[33m...\u001b[0m  e4da1c9e4   \n",
       "\u001b[1;36m14992\u001b[0m         \u001b[1;36m0\u001b[0m  Fili just loves laying around and also loves b\u001b[33m...\u001b[0m  a83d95ead   \n",
       "\n",
       "       PhotoAmt  AdoptionSpeed  BreedID Type_name             BreedName  \n",
       "\u001b[1;36m0\u001b[0m           \u001b[1;36m1.0\u001b[0m              \u001b[1;36m2\u001b[0m    \u001b[1;36m299.0\u001b[0m       \u001b[1;36m2.0\u001b[0m                 Tabby  \n",
       "\u001b[1;36m1\u001b[0m           \u001b[1;36m2.0\u001b[0m              \u001b[1;36m0\u001b[0m    \u001b[1;36m265.0\u001b[0m       \u001b[1;36m2.0\u001b[0m  Domestic Medium Hair  \n",
       "\u001b[1;36m2\u001b[0m           \u001b[1;36m7.0\u001b[0m              \u001b[1;36m3\u001b[0m    \u001b[1;36m307.0\u001b[0m       \u001b[1;36m1.0\u001b[0m           Mixed Breed  \n",
       "\u001b[1;36m3\u001b[0m           \u001b[1;36m8.0\u001b[0m              \u001b[1;36m2\u001b[0m    \u001b[1;36m307.0\u001b[0m       \u001b[1;36m1.0\u001b[0m           Mixed Breed  \n",
       "\u001b[1;36m4\u001b[0m           \u001b[1;36m3.0\u001b[0m              \u001b[1;36m2\u001b[0m    \u001b[1;36m307.0\u001b[0m       \u001b[1;36m1.0\u001b[0m           Mixed Breed  \n",
       "\u001b[33m...\u001b[0m         \u001b[33m...\u001b[0m            \u001b[33m...\u001b[0m      \u001b[33m...\u001b[0m       \u001b[33m...\u001b[0m                   \u001b[33m...\u001b[0m  \n",
       "\u001b[1;36m14988\u001b[0m       \u001b[1;36m3.0\u001b[0m              \u001b[1;36m2\u001b[0m    \u001b[1;36m266.0\u001b[0m       \u001b[1;36m2.0\u001b[0m   Domestic Short Hair  \n",
       "\u001b[1;36m14989\u001b[0m       \u001b[1;36m3.0\u001b[0m              \u001b[1;36m4\u001b[0m    \u001b[1;36m265.0\u001b[0m       \u001b[1;36m2.0\u001b[0m  Domestic Medium Hair  \n",
       "\u001b[1;36m14990\u001b[0m       \u001b[1;36m5.0\u001b[0m              \u001b[1;36m3\u001b[0m    \u001b[1;36m265.0\u001b[0m       \u001b[1;36m2.0\u001b[0m  Domestic Medium Hair  \n",
       "\u001b[1;36m14991\u001b[0m       \u001b[1;36m3.0\u001b[0m              \u001b[1;36m4\u001b[0m    \u001b[1;36m266.0\u001b[0m       \u001b[1;36m2.0\u001b[0m   Domestic Short Hair  \n",
       "\u001b[1;36m14992\u001b[0m       \u001b[1;36m1.0\u001b[0m              \u001b[1;36m3\u001b[0m    \u001b[1;36m307.0\u001b[0m       \u001b[1;36m1.0\u001b[0m           Mixed Breed  \n",
       "\n",
       "\u001b[1m[\u001b[0m\u001b[1;36m14993\u001b[0m rows x \u001b[1;36m27\u001b[0m columns\u001b[1m]\u001b[0m"
      ]
     },
     "execution_count": 69,
     "metadata": {},
     "output_type": "execute_result"
    }
   ],
   "source": [
    "merged_df = pd.merge(df, df_breed, how='left', left_on=['Breed1'], right_on=['BreedID'], suffixes=[\" \",\"_name\"])\n",
    "\n",
    "merged_df"
   ]
  },
  {
   "cell_type": "code",
   "execution_count": null,
   "metadata": {},
   "outputs": [],
   "source": []
  },
  {
   "cell_type": "markdown",
   "metadata": {},
   "source": [
    "---\n",
    "\n",
    "# **Aux Functions**\n",
    "\n",
    "---"
   ]
  },
  {
   "cell_type": "code",
   "execution_count": 18,
   "metadata": {},
   "outputs": [],
   "source": [
    "# Graficos descriptivos para variables cuantitativas.\n",
    "\n",
    "def plot_histogram_boxplot_with_stats(df, variables, bins=20, hist_color='skyblue', box_color='lightgreen'):\n",
    "    num_vars = len(variables)\n",
    "    plt.figure(figsize=(15, 5 * num_vars))  # Adjust figure size based on number of variables\n",
    "\n",
    "    for i, var in enumerate(variables):\n",
    "        # Summary statistics with rounding to 2 decimals\n",
    "        stats = df[var].describe().reset_index()\n",
    "        stats.columns = ['Statistic', var]\n",
    "        stats[var] = stats[var].round(2)  # Round to 2 decimal places\n",
    "\n",
    "        # Histogram with table inside\n",
    "        ax_hist = plt.subplot(num_vars, 2, 2 * i + 1)\n",
    "        sns.histplot(df[var], bins=bins, kde=True, color=hist_color, ax=ax_hist)\n",
    "        ax_hist.set_title(f'Histogram of {var}', fontsize=14)\n",
    "        ax_hist.set_xlabel(var, fontsize=12)\n",
    "        ax_hist.set_ylabel('Frequency', fontsize=12)\n",
    "        ax_hist.grid(False)\n",
    "\n",
    "        # Add the summary table inside the histogram plot\n",
    "        table_data = stats.values\n",
    "        ax_hist.table(cellText=table_data,\n",
    "                      colLabels=stats.columns,\n",
    "                      cellLoc='center', rowLoc='center',\n",
    "                      colLoc='center', loc='upper right',\n",
    "                      bbox=[0.6, 0.6, 0.4, 0.4])  # Adjust bbox for positioning\n",
    "\n",
    "        # Boxplot\n",
    "        ax_box = plt.subplot(num_vars, 2, 2 * i + 2)\n",
    "        sns.boxplot(x=df[var], color=box_color, ax=ax_box)\n",
    "        ax_box.set_title(f'Boxplot of {var}', fontsize=14)\n",
    "        ax_box.set_xlabel(var, fontsize=12)\n",
    "        ax_box.grid(True)\n",
    "\n",
    "    plt.tight_layout(pad=3.0)  # Adjust spacing between plots\n",
    "    plt.show()\n"
   ]
  },
  {
   "cell_type": "code",
   "execution_count": 17,
   "metadata": {},
   "outputs": [],
   "source": [
    "# Tablas de resumen estadisticos por nivel de 'AdoptionSpeed' + histogramas:\n",
    "\n",
    "def create_summary_table_with_kde(df, cuant_cols, target):\n",
    "    for var in cuant_cols:\n",
    "        # Group by the target variable and calculate summary statistics\n",
    "        grouped_stats = df.groupby(target)[var].describe().T.round(2)\n",
    "        \n",
    "        # Set up the figure for the table and the KDE plot\n",
    "        fig, axes = plt.subplots(1, 2, figsize=(15, 6))\n",
    "        \n",
    "        # Plot the summary table\n",
    "        table = axes[0].table(cellText=grouped_stats.values,\n",
    "                              colLabels=grouped_stats.columns,\n",
    "                              rowLabels=grouped_stats.index,\n",
    "                              loc='center',\n",
    "                              cellLoc='center')\n",
    "        table.scale(1.5, 1.5)\n",
    "        axes[0].axis('off')\n",
    "        axes[0].set_title(f'Summary Table for {var}', fontsize=16)\n",
    "        \n",
    "        # Plot the KDE for the variable\n",
    "        sns.kdeplot(data=df, x=var, hue=target,\n",
    "                    hue_order=df[target].unique()[::-1],\n",
    "                    fill=True, alpha=0.4, linewidth=0.5, cut=0., ax=axes[1])\n",
    "        axes[1].set_title(f'Distribution of {var} by {target}', fontsize=16)\n",
    "        axes[1].set_xlabel(var)\n",
    "        axes[1].set_ylabel('Density')\n",
    "        \n",
    "        # Show the plot\n",
    "        plt.tight_layout()\n",
    "        plt.show()\n"
   ]
  },
  {
   "cell_type": "markdown",
   "metadata": {},
   "source": [
    "Variable target \"Adoption speed\" "
   ]
  },
  {
   "cell_type": "code",
   "execution_count": 36,
   "metadata": {},
   "outputs": [
    {
     "data": {
      "text/html": [
       "<pre style=\"white-space:pre;overflow-x:auto;line-height:normal;font-family:Menlo,'DejaVu Sans Mono',consolas,'Courier New',monospace\"><span style=\"color: #7fbfbf; text-decoration-color: #7fbfbf\">[08/09/24 11:12:13] </span><span style=\"color: #800000; text-decoration-color: #800000\">WARNING </span> C:\\Users\\abelf\\AppData\\Local\\Temp\\ipykernel_26660\\<span style=\"color: #008080; text-decoration-color: #008080; font-weight: bold\">2935100711.</span>py:<span style=\"color: #008080; text-decoration-color: #008080; font-weight: bold\">2</span>:     <a href=\"file://c:\\Users\\abelf\\anaconda3\\envs\\ldi2\\Lib\\warnings.py\" target=\"_blank\"><span style=\"color: #7f7f7f; text-decoration-color: #7f7f7f\">warnings.py</span></a><span style=\"color: #7f7f7f; text-decoration-color: #7f7f7f\">:</span><a href=\"file://c:\\Users\\abelf\\anaconda3\\envs\\ldi2\\Lib\\warnings.py#112\" target=\"_blank\"><span style=\"color: #7f7f7f; text-decoration-color: #7f7f7f\">112</span></a>\n",
       "<span style=\"color: #7fbfbf; text-decoration-color: #7fbfbf\">                    </span>         FutureWarning:                                                         <span style=\"color: #7f7f7f; text-decoration-color: #7f7f7f\">               </span>\n",
       "<span style=\"color: #7fbfbf; text-decoration-color: #7fbfbf\">                    </span>                                                                                <span style=\"color: #7f7f7f; text-decoration-color: #7f7f7f\">               </span>\n",
       "<span style=\"color: #7fbfbf; text-decoration-color: #7fbfbf\">                    </span>         Passing `palette` without assigning `hue` is deprecated and will be    <span style=\"color: #7f7f7f; text-decoration-color: #7f7f7f\">               </span>\n",
       "<span style=\"color: #7fbfbf; text-decoration-color: #7fbfbf\">                    </span>         removed in v0.<span style=\"color: #008080; text-decoration-color: #008080; font-weight: bold\">14.0</span>. Assign the `x` variable to `hue` and set           <span style=\"color: #7f7f7f; text-decoration-color: #7f7f7f\">               </span>\n",
       "<span style=\"color: #7fbfbf; text-decoration-color: #7fbfbf\">                    </span>         `<span style=\"color: #808000; text-decoration-color: #808000\">legend</span>=<span style=\"color: #ff0000; text-decoration-color: #ff0000; font-style: italic\">False</span>` for the same effect.                                    <span style=\"color: #7f7f7f; text-decoration-color: #7f7f7f\">               </span>\n",
       "<span style=\"color: #7fbfbf; text-decoration-color: #7fbfbf\">                    </span>                                                                                <span style=\"color: #7f7f7f; text-decoration-color: #7f7f7f\">               </span>\n",
       "<span style=\"color: #7fbfbf; text-decoration-color: #7fbfbf\">                    </span>           g = <span style=\"color: #800080; text-decoration-color: #800080; font-weight: bold\">sns.countplot</span><span style=\"font-weight: bold\">(</span><span style=\"color: #808000; text-decoration-color: #808000\">x</span>=<span style=\"color: #008000; text-decoration-color: #008000\">'AdoptionSpeed'</span>, <span style=\"color: #808000; text-decoration-color: #808000\">data</span>=<span style=\"color: #800080; text-decoration-color: #800080\">df</span>,<span style=\"color: #808000; text-decoration-color: #808000\">palette</span>=<span style=\"color: #008000; text-decoration-color: #008000\">'magma'</span><span style=\"font-weight: bold\">)</span>        <span style=\"color: #7f7f7f; text-decoration-color: #7f7f7f\">               </span>\n",
       "<span style=\"color: #7fbfbf; text-decoration-color: #7fbfbf\">                    </span>                                                                                <span style=\"color: #7f7f7f; text-decoration-color: #7f7f7f\">               </span>\n",
       "</pre>\n"
      ],
      "text/plain": [
       "\u001b[2;36m[08/09/24 11:12:13]\u001b[0m\u001b[2;36m \u001b[0m\u001b[31mWARNING \u001b[0m C:\\Users\\abelf\\AppData\\Local\\Temp\\ipykernel_26660\\\u001b[1;36m2935100711.\u001b[0mpy:\u001b[1;36m2\u001b[0m:     \u001b]8;id=457998;file://c:\\Users\\abelf\\anaconda3\\envs\\ldi2\\Lib\\warnings.py\u001b\\\u001b[2mwarnings.py\u001b[0m\u001b]8;;\u001b\\\u001b[2m:\u001b[0m\u001b]8;id=88607;file://c:\\Users\\abelf\\anaconda3\\envs\\ldi2\\Lib\\warnings.py#112\u001b\\\u001b[2m112\u001b[0m\u001b]8;;\u001b\\\n",
       "\u001b[2;36m                    \u001b[0m         FutureWarning:                                                         \u001b[2m               \u001b[0m\n",
       "\u001b[2;36m                    \u001b[0m                                                                                \u001b[2m               \u001b[0m\n",
       "\u001b[2;36m                    \u001b[0m         Passing `palette` without assigning `hue` is deprecated and will be    \u001b[2m               \u001b[0m\n",
       "\u001b[2;36m                    \u001b[0m         removed in v0.\u001b[1;36m14.0\u001b[0m. Assign the `x` variable to `hue` and set           \u001b[2m               \u001b[0m\n",
       "\u001b[2;36m                    \u001b[0m         `\u001b[33mlegend\u001b[0m=\u001b[3;91mFalse\u001b[0m` for the same effect.                                    \u001b[2m               \u001b[0m\n",
       "\u001b[2;36m                    \u001b[0m                                                                                \u001b[2m               \u001b[0m\n",
       "\u001b[2;36m                    \u001b[0m           g = \u001b[1;35msns.countplot\u001b[0m\u001b[1m(\u001b[0m\u001b[33mx\u001b[0m=\u001b[32m'AdoptionSpeed'\u001b[0m, \u001b[33mdata\u001b[0m=\u001b[35mdf\u001b[0m,\u001b[33mpalette\u001b[0m=\u001b[32m'magma'\u001b[0m\u001b[1m)\u001b[0m        \u001b[2m               \u001b[0m\n",
       "\u001b[2;36m                    \u001b[0m                                                                                \u001b[2m               \u001b[0m\n"
      ]
     },
     "metadata": {},
     "output_type": "display_data"
    },
    {
     "data": {
      "text/html": [
       "<pre style=\"white-space:pre;overflow-x:auto;line-height:normal;font-family:Menlo,'DejaVu Sans Mono',consolas,'Courier New',monospace\"></pre>\n"
      ],
      "text/plain": []
     },
     "metadata": {},
     "output_type": "display_data"
    },
    {
     "data": {
      "image/png": "[encoded data removed]",
      "text/plain": [
       "\u001b[1m<\u001b[0m\u001b[1;95mFigure\u001b[0m\u001b[39m size 140\u001b[0m\u001b[1;36m0x600\u001b[0m\u001b[39m with \u001b[0m\u001b[1;36m1\u001b[0m\u001b[39m Axes\u001b[0m\u001b[1m>\u001b[0m"
      ]
     },
     "metadata": {},
     "output_type": "display_data"
    }
   ],
   "source": [
    "plt.figure(figsize=(14, 6));\n",
    "g = sns.countplot(x='AdoptionSpeed', data=df,palette='magma')\n",
    "plt.title('Adoption speed classes rates');\n",
    "ax=g.axes\n",
    "for p in ax.patches:\n",
    "     #print(p)\n",
    "     ax.annotate(f\"{p.get_height() * 100 / df.shape[0]:.2f}%\", (p.get_x() + p.get_width() / 2., p.get_height()),\n",
    "     ha='center', va='center', fontsize=11, color='gray', rotation=0, xytext=(0, 10),\n",
    "     textcoords='offset points')  "
   ]
  },
  {
   "cell_type": "code",
   "execution_count": 53,
   "metadata": {},
   "outputs": [],
   "source": [
    "main_count = df['AdoptionSpeed'].value_counts(normalize=True).sort_index()\n",
    "def prepare_plot_dict(df, col, main_count):\n",
    "    \"\"\"\n",
    "    Preparing dictionary with data for plotting.\n",
    "    \n",
    "    I want to show how much higher/lower are the rates of Adoption speed for the current column comparing to base values (as described higher),\n",
    "    At first I calculate base rates, then for each category in the column I calculate rates of Adoption speed and find difference with the base rates.\n",
    "    \n",
    "    \"\"\"\n",
    "    main_count = dict(main_count)\n",
    "    plot_dict = {}\n",
    "    for i in df[col].unique():\n",
    "        val_count = dict(df.loc[df[col] == i, 'AdoptionSpeed'].value_counts().sort_index())\n",
    "\n",
    "        for k, v in main_count.items():\n",
    "            if k in val_count:\n",
    "                plot_dict[val_count[k]] = ((val_count[k] / sum(val_count.values())) / main_count[k]) * 100 - 100\n",
    "            else:\n",
    "                plot_dict[0] = 0\n",
    "\n",
    "    return plot_dict\n",
    "\n",
    "def make_count_plot(df, x, hue='AdoptionSpeed', title='', main_count=main_count):\n",
    "    \"\"\"\n",
    "    Plotting countplot with correct annotations.\n",
    "    \"\"\"\n",
    "    g = sns.countplot(x=x, data=df, hue=hue,palette='magma');\n",
    "    plt.title(f'AdoptionSpeed {title}');\n",
    "    ax = g.axes\n",
    "\n",
    "    plot_dict = prepare_plot_dict(df, x, main_count)\n",
    "\n",
    "    for p in ax.patches:\n",
    "        h = p.get_height() if str(p.get_height()) != 'nan' else 0\n",
    "        #print(h)\n",
    "        if (h != 0):\n",
    "            \n",
    "            text = f\"{plot_dict[h]:.0f}%\" if plot_dict[h] < 0 else f\"+{plot_dict[h]:.0f}%\"\n",
    "            ax.annotate(text, (p.get_x() + p.get_width() / 2., h),\n",
    "            ha='center', va='center', fontsize=11, color='green' if plot_dict[h] > 0 else 'red', rotation=0, xytext=(0, 10),\n",
    "            textcoords='offset points')  "
   ]
  },
  {
   "cell_type": "code",
   "execution_count": 54,
   "metadata": {},
   "outputs": [
    {
     "data": {
      "text/html": [
       "<pre style=\"white-space:pre;overflow-x:auto;line-height:normal;font-family:Menlo,'DejaVu Sans Mono',consolas,'Courier New',monospace\"></pre>\n"
      ],
      "text/plain": []
     },
     "metadata": {},
     "output_type": "display_data"
    },
    {
     "data": {
      "image/png": "[encoded data removed]",
      "text/plain": [
       "\u001b[1m<\u001b[0m\u001b[1;95mFigure\u001b[0m\u001b[39m size 180\u001b[0m\u001b[1;36m0x800\u001b[0m\u001b[39m with \u001b[0m\u001b[1;36m1\u001b[0m\u001b[39m Axes\u001b[0m\u001b[1m>\u001b[0m"
      ]
     },
     "metadata": {},
     "output_type": "display_data"
    }
   ],
   "source": [
    "plt.figure(figsize=(18, 8));\n",
    "make_count_plot(df=df, x='Type', title='by pet Type')"
   ]
  },
  {
   "cell_type": "code",
   "execution_count": 58,
   "metadata": {},
   "outputs": [
    {
     "data": {
      "text/html": [
       "<pre style=\"white-space:pre;overflow-x:auto;line-height:normal;font-family:Menlo,'DejaVu Sans Mono',consolas,'Courier New',monospace\"></pre>\n"
      ],
      "text/plain": []
     },
     "metadata": {},
     "output_type": "display_data"
    },
    {
     "data": {
      "image/png": "[encoded data removed]",
      "text/plain": [
       "\u001b[1m<\u001b[0m\u001b[1;95mFigure\u001b[0m\u001b[39m size 180\u001b[0m\u001b[1;36m0x800\u001b[0m\u001b[39m with \u001b[0m\u001b[1;36m1\u001b[0m\u001b[39m Axes\u001b[0m\u001b[1m>\u001b[0m"
      ]
     },
     "metadata": {},
     "output_type": "display_data"
    }
   ],
   "source": [
    "plt.figure(figsize=(18, 8));\n",
    "make_count_plot(df=df, x='Gender', title='by pet Gender')"
   ]
  },
  {
   "cell_type": "code",
   "execution_count": 72,
   "metadata": {},
   "outputs": [
    {
     "data": {
      "text/html": [
       "<pre style=\"white-space:pre;overflow-x:auto;line-height:normal;font-family:Menlo,'DejaVu Sans Mono',consolas,'Courier New',monospace\"></pre>\n"
      ],
      "text/plain": []
     },
     "metadata": {},
     "output_type": "display_data"
    },
    {
     "data": {
      "image/png": "[encoded data removed]",
      "text/plain": [
       "\u001b[1m<\u001b[0m\u001b[1;95mFigure\u001b[0m\u001b[39m size 180\u001b[0m\u001b[1;36m0x800\u001b[0m\u001b[39m with \u001b[0m\u001b[1;36m1\u001b[0m\u001b[39m Axes\u001b[0m\u001b[1m>\u001b[0m"
      ]
     },
     "metadata": {},
     "output_type": "display_data"
    }
   ],
   "source": [
    "plt.figure(figsize=(18, 8));\n",
    "make_count_plot(df=df, x='Vaccinated', title='by pet Vacinated')"
   ]
  },
  {
   "cell_type": "code",
   "execution_count": 73,
   "metadata": {},
   "outputs": [
    {
     "data": {
      "text/html": [
       "<pre style=\"white-space:pre;overflow-x:auto;line-height:normal;font-family:Menlo,'DejaVu Sans Mono',consolas,'Courier New',monospace\"></pre>\n"
      ],
      "text/plain": []
     },
     "metadata": {},
     "output_type": "display_data"
    },
    {
     "data": {
      "image/png": "[encoded data removed]",
      "text/plain": [
       "\u001b[1m<\u001b[0m\u001b[1;95mFigure\u001b[0m\u001b[39m size 180\u001b[0m\u001b[1;36m0x800\u001b[0m\u001b[39m with \u001b[0m\u001b[1;36m1\u001b[0m\u001b[39m Axes\u001b[0m\u001b[1m>\u001b[0m"
      ]
     },
     "metadata": {},
     "output_type": "display_data"
    }
   ],
   "source": [
    "plt.figure(figsize=(18, 8));\n",
    "make_count_plot(df=df, x='Dewormed', title='by pet Dewormed')"
   ]
  },
  {
   "cell_type": "code",
   "execution_count": 75,
   "metadata": {},
   "outputs": [
    {
     "data": {
      "text/html": [
       "<pre style=\"white-space:pre;overflow-x:auto;line-height:normal;font-family:Menlo,'DejaVu Sans Mono',consolas,'Courier New',monospace\"></pre>\n"
      ],
      "text/plain": []
     },
     "metadata": {},
     "output_type": "display_data"
    },
    {
     "data": {
      "image/png": "[encoded data removed]",
      "text/plain": [
       "\u001b[1m<\u001b[0m\u001b[1;95mFigure\u001b[0m\u001b[39m size 180\u001b[0m\u001b[1;36m0x800\u001b[0m\u001b[39m with \u001b[0m\u001b[1;36m1\u001b[0m\u001b[39m Axes\u001b[0m\u001b[1m>\u001b[0m"
      ]
     },
     "metadata": {},
     "output_type": "display_data"
    }
   ],
   "source": [
    "plt.figure(figsize=(18, 8));\n",
    "make_count_plot(df=df, x='Sterilized', title='by pet Sterilized')"
   ]
  },
  {
   "cell_type": "code",
   "execution_count": 76,
   "metadata": {},
   "outputs": [
    {
     "data": {
      "text/html": [
       "<pre style=\"white-space:pre;overflow-x:auto;line-height:normal;font-family:Menlo,'DejaVu Sans Mono',consolas,'Courier New',monospace\"></pre>\n"
      ],
      "text/plain": []
     },
     "metadata": {},
     "output_type": "display_data"
    },
    {
     "data": {
      "image/png": "[encoded data removed]",
      "text/plain": [
       "\u001b[1m<\u001b[0m\u001b[1;95mFigure\u001b[0m\u001b[39m size 180\u001b[0m\u001b[1;36m0x800\u001b[0m\u001b[39m with \u001b[0m\u001b[1;36m1\u001b[0m\u001b[39m Axes\u001b[0m\u001b[1m>\u001b[0m"
      ]
     },
     "metadata": {},
     "output_type": "display_data"
    }
   ],
   "source": [
    "plt.figure(figsize=(18, 8));\n",
    "make_count_plot(df=df, x='Health', title='by pet Health')"
   ]
  },
  {
   "cell_type": "code",
   "execution_count": 78,
   "metadata": {},
   "outputs": [
    {
     "data": {
      "text/html": [
       "<pre style=\"white-space:pre;overflow-x:auto;line-height:normal;font-family:Menlo,'DejaVu Sans Mono',consolas,'Courier New',monospace\"></pre>\n"
      ],
      "text/plain": []
     },
     "metadata": {},
     "output_type": "display_data"
    },
    {
     "data": {
      "image/png": "[encoded data removed]",
      "text/plain": [
       "\u001b[1m<\u001b[0m\u001b[1;95mFigure\u001b[0m\u001b[39m size 180\u001b[0m\u001b[1;36m0x800\u001b[0m\u001b[39m with \u001b[0m\u001b[1;36m1\u001b[0m\u001b[39m Axes\u001b[0m\u001b[1m>\u001b[0m"
      ]
     },
     "metadata": {},
     "output_type": "display_data"
    }
   ],
   "source": [
    "plt.figure(figsize=(18, 8));\n",
    "make_count_plot(df=df, x='MaturitySize', title='by pet MaturitySize')"
   ]
  },
  {
   "cell_type": "code",
   "execution_count": 70,
   "metadata": {},
   "outputs": [
    {
     "data": {
      "text/html": [
       "<pre style=\"white-space:pre;overflow-x:auto;line-height:normal;font-family:Menlo,'DejaVu Sans Mono',consolas,'Courier New',monospace\"></pre>\n"
      ],
      "text/plain": []
     },
     "metadata": {},
     "output_type": "display_data"
    },
    {
     "data": {
      "text/plain": [
       "\n",
       "Breed1\n",
       "\u001b[1;36m307\u001b[0m    \u001b[1;36m5927\u001b[0m\n",
       "\u001b[1;36m266\u001b[0m    \u001b[1;36m3634\u001b[0m\n",
       "\u001b[1;36m265\u001b[0m    \u001b[1;36m1258\u001b[0m\n",
       "\u001b[1;36m299\u001b[0m     \u001b[1;36m342\u001b[0m\n",
       "\u001b[1;36m264\u001b[0m     \u001b[1;36m296\u001b[0m\n",
       "       \u001b[33m...\u001b[0m \n",
       "\u001b[1;36m302\u001b[0m       \u001b[1;36m1\u001b[0m\n",
       "\u001b[1;36m287\u001b[0m       \u001b[1;36m1\u001b[0m\n",
       "\u001b[1;36m143\u001b[0m       \u001b[1;36m1\u001b[0m\n",
       "\u001b[1;36m99\u001b[0m        \u001b[1;36m1\u001b[0m\n",
       "\u001b[1;36m81\u001b[0m        \u001b[1;36m1\u001b[0m\n",
       "Name: count, Length: \u001b[1;36m176\u001b[0m, dtype: int64"
      ]
     },
     "execution_count": 70,
     "metadata": {},
     "output_type": "execute_result"
    }
   ],
   "source": [
    "df['Breed1'].value_counts()"
   ]
  },
  {
   "cell_type": "code",
   "execution_count": 71,
   "metadata": {},
   "outputs": [
    {
     "data": {
      "text/html": [
       "<pre style=\"white-space:pre;overflow-x:auto;line-height:normal;font-family:Menlo,'DejaVu Sans Mono',consolas,'Courier New',monospace\"></pre>\n"
      ],
      "text/plain": []
     },
     "metadata": {},
     "output_type": "display_data"
    },
    {
     "data": {
      "text/html": [
       "<div>\n",
       "<style scoped>\n",
       "    .dataframe tbody tr th:only-of-type {\n",
       "        vertical-align: middle;\n",
       "    }\n",
       "\n",
       "    .dataframe tbody tr th {\n",
       "        vertical-align: top;\n",
       "    }\n",
       "\n",
       "    .dataframe thead th {\n",
       "        text-align: right;\n",
       "    }\n",
       "</style>\n",
       "<table border=\"1\" class=\"dataframe\">\n",
       "  <thead>\n",
       "    <tr style=\"text-align: right;\">\n",
       "      <th></th>\n",
       "      <th>BreedID</th>\n",
       "      <th>Type</th>\n",
       "      <th>BreedName</th>\n",
       "    </tr>\n",
       "  </thead>\n",
       "  <tbody>\n",
       "    <tr>\n",
       "      <th>0</th>\n",
       "      <td>1</td>\n",
       "      <td>1</td>\n",
       "      <td>Affenpinscher</td>\n",
       "    </tr>\n",
       "    <tr>\n",
       "      <th>1</th>\n",
       "      <td>2</td>\n",
       "      <td>1</td>\n",
       "      <td>Afghan Hound</td>\n",
       "    </tr>\n",
       "    <tr>\n",
       "      <th>2</th>\n",
       "      <td>3</td>\n",
       "      <td>1</td>\n",
       "      <td>Airedale Terrier</td>\n",
       "    </tr>\n",
       "    <tr>\n",
       "      <th>3</th>\n",
       "      <td>4</td>\n",
       "      <td>1</td>\n",
       "      <td>Akbash</td>\n",
       "    </tr>\n",
       "    <tr>\n",
       "      <th>4</th>\n",
       "      <td>5</td>\n",
       "      <td>1</td>\n",
       "      <td>Akita</td>\n",
       "    </tr>\n",
       "    <tr>\n",
       "      <th>...</th>\n",
       "      <td>...</td>\n",
       "      <td>...</td>\n",
       "      <td>...</td>\n",
       "    </tr>\n",
       "    <tr>\n",
       "      <th>302</th>\n",
       "      <td>302</td>\n",
       "      <td>2</td>\n",
       "      <td>Torbie</td>\n",
       "    </tr>\n",
       "    <tr>\n",
       "      <th>303</th>\n",
       "      <td>303</td>\n",
       "      <td>2</td>\n",
       "      <td>Tortoiseshell</td>\n",
       "    </tr>\n",
       "    <tr>\n",
       "      <th>304</th>\n",
       "      <td>304</td>\n",
       "      <td>2</td>\n",
       "      <td>Turkish Angora</td>\n",
       "    </tr>\n",
       "    <tr>\n",
       "      <th>305</th>\n",
       "      <td>305</td>\n",
       "      <td>2</td>\n",
       "      <td>Turkish Van</td>\n",
       "    </tr>\n",
       "    <tr>\n",
       "      <th>306</th>\n",
       "      <td>306</td>\n",
       "      <td>2</td>\n",
       "      <td>Tuxedo</td>\n",
       "    </tr>\n",
       "  </tbody>\n",
       "</table>\n",
       "<p>307 rows × 3 columns</p>\n",
       "</div>"
      ],
      "text/plain": [
       "\n",
       "     BreedID  Type         BreedName\n",
       "\u001b[1;36m0\u001b[0m          \u001b[1;36m1\u001b[0m     \u001b[1;36m1\u001b[0m     Affenpinscher\n",
       "\u001b[1;36m1\u001b[0m          \u001b[1;36m2\u001b[0m     \u001b[1;36m1\u001b[0m      Afghan Hound\n",
       "\u001b[1;36m2\u001b[0m          \u001b[1;36m3\u001b[0m     \u001b[1;36m1\u001b[0m  Airedale Terrier\n",
       "\u001b[1;36m3\u001b[0m          \u001b[1;36m4\u001b[0m     \u001b[1;36m1\u001b[0m            Akbash\n",
       "\u001b[1;36m4\u001b[0m          \u001b[1;36m5\u001b[0m     \u001b[1;36m1\u001b[0m             Akita\n",
       "..       \u001b[33m...\u001b[0m   \u001b[33m...\u001b[0m               \u001b[33m...\u001b[0m\n",
       "\u001b[1;36m302\u001b[0m      \u001b[1;36m302\u001b[0m     \u001b[1;36m2\u001b[0m            Torbie\n",
       "\u001b[1;36m303\u001b[0m      \u001b[1;36m303\u001b[0m     \u001b[1;36m2\u001b[0m     Tortoiseshell\n",
       "\u001b[1;36m304\u001b[0m      \u001b[1;36m304\u001b[0m     \u001b[1;36m2\u001b[0m    Turkish Angora\n",
       "\u001b[1;36m305\u001b[0m      \u001b[1;36m305\u001b[0m     \u001b[1;36m2\u001b[0m       Turkish Van\n",
       "\u001b[1;36m306\u001b[0m      \u001b[1;36m306\u001b[0m     \u001b[1;36m2\u001b[0m            Tuxedo\n",
       "\n",
       "\u001b[1m[\u001b[0m\u001b[1;36m307\u001b[0m rows x \u001b[1;36m3\u001b[0m columns\u001b[1m]\u001b[0m"
      ]
     },
     "execution_count": 71,
     "metadata": {},
     "output_type": "execute_result"
    }
   ],
   "source": [
    "df_breed"
   ]
  },
  {
   "cell_type": "code",
   "execution_count": 60,
   "metadata": {},
   "outputs": [
    {
     "data": {
      "text/html": [
       "<pre style=\"white-space:pre;overflow-x:auto;line-height:normal;font-family:Menlo,'DejaVu Sans Mono',consolas,'Courier New',monospace\"></pre>\n"
      ],
      "text/plain": []
     },
     "metadata": {},
     "output_type": "display_data"
    },
    {
     "data": {
      "text/plain": [
       "\n",
       "Breed2\n",
       "\u001b[1;36m0\u001b[0m      \u001b[1;36m10762\u001b[0m\n",
       "\u001b[1;36m307\u001b[0m     \u001b[1;36m1727\u001b[0m\n",
       "\u001b[1;36m266\u001b[0m      \u001b[1;36m599\u001b[0m\n",
       "\u001b[1;36m265\u001b[0m      \u001b[1;36m321\u001b[0m\n",
       "\u001b[1;36m299\u001b[0m      \u001b[1;36m138\u001b[0m\n",
       "       \u001b[33m...\u001b[0m  \n",
       "\u001b[1;36m293\u001b[0m        \u001b[1;36m1\u001b[0m\n",
       "\u001b[1;36m182\u001b[0m        \u001b[1;36m1\u001b[0m\n",
       "\u001b[1;36m204\u001b[0m        \u001b[1;36m1\u001b[0m\n",
       "\u001b[1;36m146\u001b[0m        \u001b[1;36m1\u001b[0m\n",
       "\u001b[1;36m279\u001b[0m        \u001b[1;36m1\u001b[0m\n",
       "Name: count, Length: \u001b[1;36m135\u001b[0m, dtype: int64"
      ]
     },
     "execution_count": 60,
     "metadata": {},
     "output_type": "execute_result"
    }
   ],
   "source": [
    "df['Breed2'].value_counts()"
   ]
  },
  {
   "cell_type": "code",
   "execution_count": null,
   "metadata": {},
   "outputs": [],
   "source": []
  }
 ],
 "metadata": {
  "kernelspec": {
   "display_name": "labo_2",
   "language": "python",
   "name": "python3"
  },
  "language_info": {
   "codemirror_mode": {
    "name": "ipython",
    "version": 3
   },
   "file_extension": ".py",
   "mimetype": "text/x-python",
   "name": "python",
   "nbconvert_exporter": "python",
   "pygments_lexer": "ipython3",
   "version": "3.12.4"
  }
 },
 "nbformat": 4,
 "nbformat_minor": 2
}
