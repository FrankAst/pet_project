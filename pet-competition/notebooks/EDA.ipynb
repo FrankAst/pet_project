{
 "cells": [
  {
   "cell_type": "code",
   "execution_count": 10,
   "metadata": {},
   "outputs": [
    {
     "data": {
      "text/html": [
       "<pre style=\"white-space:pre;overflow-x:auto;line-height:normal;font-family:Menlo,'DejaVu Sans Mono',consolas,'Courier New',monospace\"><span style=\"color: #7fbfbf; text-decoration-color: #7fbfbf\">[08/07/24 16:18:51] </span><span style=\"color: #000080; text-decoration-color: #000080\">INFO    </span> Registered line magic <span style=\"color: #008000; text-decoration-color: #008000\">'%reload_kedro'</span>                                   <span style=\"color: #7f7f7f; text-decoration-color: #7f7f7f\">__init__.py:58</span>\n",
       "</pre>\n"
      ],
      "text/plain": [
       "\u001b[2;36m[08/07/24 16:18:51]\u001b[0m\u001b[2;36m \u001b[0m\u001b[34mINFO    \u001b[0m Registered line magic \u001b[32m'%reload_kedro'\u001b[0m                                   \u001b[2m__init__.py\u001b[0m\u001b[2m:\u001b[0m\u001b[2m58\u001b[0m\n"
      ]
     },
     "metadata": {},
     "output_type": "display_data"
    },
    {
     "data": {
      "text/html": [
       "<pre style=\"white-space:pre;overflow-x:auto;line-height:normal;font-family:Menlo,'DejaVu Sans Mono',consolas,'Courier New',monospace\"><span style=\"color: #7fbfbf; text-decoration-color: #7fbfbf\">                    </span><span style=\"color: #000080; text-decoration-color: #000080\">INFO    </span> Registered line magic <span style=\"color: #008000; text-decoration-color: #008000\">'%load_node'</span>                                      <span style=\"color: #7f7f7f; text-decoration-color: #7f7f7f\">__init__.py:60</span>\n",
       "</pre>\n"
      ],
      "text/plain": [
       "\u001b[2;36m                   \u001b[0m\u001b[2;36m \u001b[0m\u001b[34mINFO    \u001b[0m Registered line magic \u001b[32m'%load_node'\u001b[0m                                      \u001b[2m__init__.py\u001b[0m\u001b[2m:\u001b[0m\u001b[2m60\u001b[0m\n"
      ]
     },
     "metadata": {},
     "output_type": "display_data"
    },
    {
     "data": {
      "text/html": [
       "<pre style=\"white-space:pre;overflow-x:auto;line-height:normal;font-family:Menlo,'DejaVu Sans Mono',consolas,'Courier New',monospace\"><span style=\"color: #7fbfbf; text-decoration-color: #7fbfbf\">                    </span><span style=\"color: #000080; text-decoration-color: #000080\">INFO    </span> Resolved project path as: <span style=\"color: #800080; text-decoration-color: #800080\">/media/frank/</span><span style=\"color: #ff00ff; text-decoration-color: #ff00ff\">Frank</span>                           <span style=\"color: #7f7f7f; text-decoration-color: #7f7f7f\">__init__.py:175</span>\n",
       "<span style=\"color: #7fbfbf; text-decoration-color: #7fbfbf\">                    </span>         ssd/Maestria/labo_2/competencia/pet_project/pet-competition.           <span style=\"color: #7f7f7f; text-decoration-color: #7f7f7f\">               </span>\n",
       "<span style=\"color: #7fbfbf; text-decoration-color: #7fbfbf\">                    </span>         To set a different path, run <span style=\"color: #008000; text-decoration-color: #008000\">'%reload_kedro &lt;project_root&gt;'</span>            <span style=\"color: #7f7f7f; text-decoration-color: #7f7f7f\">               </span>\n",
       "</pre>\n"
      ],
      "text/plain": [
       "\u001b[2;36m                   \u001b[0m\u001b[2;36m \u001b[0m\u001b[34mINFO    \u001b[0m Resolved project path as: \u001b[35m/media/frank/\u001b[0m\u001b[95mFrank\u001b[0m                           \u001b[2m__init__.py\u001b[0m\u001b[2m:\u001b[0m\u001b[2m175\u001b[0m\n",
       "\u001b[2;36m                    \u001b[0m         ssd/Maestria/labo_2/competencia/pet_project/pet-competition.           \u001b[2m               \u001b[0m\n",
       "\u001b[2;36m                    \u001b[0m         To set a different path, run \u001b[32m'%reload_kedro \u001b[0m\u001b[32m<\u001b[0m\u001b[32mproject_root\u001b[0m\u001b[32m>\u001b[0m\u001b[32m'\u001b[0m            \u001b[2m               \u001b[0m\n"
      ]
     },
     "metadata": {},
     "output_type": "display_data"
    },
    {
     "data": {
      "text/html": [
       "<pre style=\"white-space:pre;overflow-x:auto;line-height:normal;font-family:Menlo,'DejaVu Sans Mono',consolas,'Courier New',monospace\"><span style=\"color: #7fbfbf; text-decoration-color: #7fbfbf\">                    </span><span style=\"color: #000080; text-decoration-color: #000080\">INFO    </span> Kedro is sending anonymous usage data with the sole purpose of improving <span style=\"color: #7f7f7f; text-decoration-color: #7f7f7f\">plugin.py:233</span>\n",
       "<span style=\"color: #7fbfbf; text-decoration-color: #7fbfbf\">                    </span>         the product. No personal data or IP addresses are stored on our side. If <span style=\"color: #7f7f7f; text-decoration-color: #7f7f7f\">             </span>\n",
       "<span style=\"color: #7fbfbf; text-decoration-color: #7fbfbf\">                    </span>         you want to opt out, set the `KEDRO_DISABLE_TELEMETRY` or `DO_NOT_TRACK` <span style=\"color: #7f7f7f; text-decoration-color: #7f7f7f\">             </span>\n",
       "<span style=\"color: #7fbfbf; text-decoration-color: #7fbfbf\">                    </span>         environment variables, or create a `.telemetry` file in the current      <span style=\"color: #7f7f7f; text-decoration-color: #7f7f7f\">             </span>\n",
       "<span style=\"color: #7fbfbf; text-decoration-color: #7fbfbf\">                    </span>         working directory with the contents `consent: false`. Read more at       <span style=\"color: #7f7f7f; text-decoration-color: #7f7f7f\">             </span>\n",
       "<span style=\"color: #7fbfbf; text-decoration-color: #7fbfbf\">                    </span>         <span style=\"color: #0000ff; text-decoration-color: #0000ff; text-decoration: underline\">https://docs.kedro.org/en/stable/configuration/telemetry.html</span>            <span style=\"color: #7f7f7f; text-decoration-color: #7f7f7f\">             </span>\n",
       "</pre>\n"
      ],
      "text/plain": [
       "\u001b[2;36m                   \u001b[0m\u001b[2;36m \u001b[0m\u001b[34mINFO    \u001b[0m Kedro is sending anonymous usage data with the sole purpose of improving \u001b[2mplugin.py\u001b[0m\u001b[2m:\u001b[0m\u001b[2m233\u001b[0m\n",
       "\u001b[2;36m                    \u001b[0m         the product. No personal data or IP addresses are stored on our side. If \u001b[2m             \u001b[0m\n",
       "\u001b[2;36m                    \u001b[0m         you want to opt out, set the `KEDRO_DISABLE_TELEMETRY` or `DO_NOT_TRACK` \u001b[2m             \u001b[0m\n",
       "\u001b[2;36m                    \u001b[0m         environment variables, or create a `.telemetry` file in the current      \u001b[2m             \u001b[0m\n",
       "\u001b[2;36m                    \u001b[0m         working directory with the contents `consent: false`. Read more at       \u001b[2m             \u001b[0m\n",
       "\u001b[2;36m                    \u001b[0m         \u001b[4;94mhttps://docs.kedro.org/en/stable/configuration/telemetry.html\u001b[0m            \u001b[2m             \u001b[0m\n"
      ]
     },
     "metadata": {},
     "output_type": "display_data"
    },
    {
     "data": {
      "text/html": [
       "<pre style=\"white-space:pre;overflow-x:auto;line-height:normal;font-family:Menlo,'DejaVu Sans Mono',consolas,'Courier New',monospace\"><span style=\"color: #7fbfbf; text-decoration-color: #7fbfbf\">[08/07/24 16:18:52] </span><span style=\"color: #000080; text-decoration-color: #000080\">INFO    </span> Kedro project Pet_competition                                          <span style=\"color: #7f7f7f; text-decoration-color: #7f7f7f\">__init__.py:141</span>\n",
       "</pre>\n"
      ],
      "text/plain": [
       "\u001b[2;36m[08/07/24 16:18:52]\u001b[0m\u001b[2;36m \u001b[0m\u001b[34mINFO    \u001b[0m Kedro project Pet_competition                                          \u001b[2m__init__.py\u001b[0m\u001b[2m:\u001b[0m\u001b[2m141\u001b[0m\n"
      ]
     },
     "metadata": {},
     "output_type": "display_data"
    },
    {
     "data": {
      "text/html": [
       "<pre style=\"white-space:pre;overflow-x:auto;line-height:normal;font-family:Menlo,'DejaVu Sans Mono',consolas,'Courier New',monospace\"><span style=\"color: #7fbfbf; text-decoration-color: #7fbfbf\">                    </span><span style=\"color: #000080; text-decoration-color: #000080\">INFO    </span> Defined global variable <span style=\"color: #008000; text-decoration-color: #008000\">'context'</span>, <span style=\"color: #008000; text-decoration-color: #008000\">'session'</span>, <span style=\"color: #008000; text-decoration-color: #008000\">'catalog'</span> and            <span style=\"color: #7f7f7f; text-decoration-color: #7f7f7f\">__init__.py:142</span>\n",
       "<span style=\"color: #7fbfbf; text-decoration-color: #7fbfbf\">                    </span>         <span style=\"color: #008000; text-decoration-color: #008000\">'pipelines'</span>                                                            <span style=\"color: #7f7f7f; text-decoration-color: #7f7f7f\">               </span>\n",
       "</pre>\n"
      ],
      "text/plain": [
       "\u001b[2;36m                   \u001b[0m\u001b[2;36m \u001b[0m\u001b[34mINFO    \u001b[0m Defined global variable \u001b[32m'context'\u001b[0m, \u001b[32m'session'\u001b[0m, \u001b[32m'catalog'\u001b[0m and            \u001b[2m__init__.py\u001b[0m\u001b[2m:\u001b[0m\u001b[2m142\u001b[0m\n",
       "\u001b[2;36m                    \u001b[0m         \u001b[32m'pipelines'\u001b[0m                                                            \u001b[2m               \u001b[0m\n"
      ]
     },
     "metadata": {},
     "output_type": "display_data"
    },
    {
     "data": {
      "text/html": [
       "<pre style=\"white-space:pre;overflow-x:auto;line-height:normal;font-family:Menlo,'DejaVu Sans Mono',consolas,'Courier New',monospace\"><span style=\"color: #7fbfbf; text-decoration-color: #7fbfbf\">                    </span><span style=\"color: #000080; text-decoration-color: #000080\">INFO    </span> Registered line magic <span style=\"color: #008000; text-decoration-color: #008000\">'run_viz'</span>                                        <span style=\"color: #7f7f7f; text-decoration-color: #7f7f7f\">__init__.py:148</span>\n",
       "</pre>\n"
      ],
      "text/plain": [
       "\u001b[2;36m                   \u001b[0m\u001b[2;36m \u001b[0m\u001b[34mINFO    \u001b[0m Registered line magic \u001b[32m'run_viz'\u001b[0m                                        \u001b[2m__init__.py\u001b[0m\u001b[2m:\u001b[0m\u001b[2m148\u001b[0m\n"
      ]
     },
     "metadata": {},
     "output_type": "display_data"
    }
   ],
   "source": [
    "%reload_ext kedro.ipython"
   ]
  },
  {
   "cell_type": "code",
   "execution_count": 11,
   "metadata": {},
   "outputs": [
    {
     "data": {
      "text/html": [
       "<pre style=\"white-space:pre;overflow-x:auto;line-height:normal;font-family:Menlo,'DejaVu Sans Mono',consolas,'Courier New',monospace\"></pre>\n"
      ],
      "text/plain": []
     },
     "metadata": {},
     "output_type": "display_data"
    },
    {
     "data": {
      "text/plain": [
       "\n",
       "\u001b[1m{\u001b[0m\u001b[32m'train'\u001b[0m: \u001b[32m\"kedro_datasets.pandas.csv_dataset.CSVDataset\u001b[0m\u001b[32m(\u001b[0m\u001b[32mfilepath\u001b[0m\u001b[32m=\u001b[0m\u001b[32mPurePosixPath\u001b[0m\u001b[32m(\u001b[0m\u001b[32m'/media/frank/Frank \"\u001b[0m\n",
       "          \u001b[32m\"ssd/Maestria/labo_2/competencia/pet_project/pet-competition/data/01_raw/train/train.csv'\u001b[0m\u001b[32m)\u001b[0m\u001b[32m, \"\u001b[0m\n",
       "          \u001b[32m\"\u001b[0m\u001b[32mprotocol\u001b[0m\u001b[32m='file', \u001b[0m\u001b[32mload_args\u001b[0m\u001b[32m=\u001b[0m\u001b[32m{\u001b[0m\u001b[32m}\u001b[0m\u001b[32m, \u001b[0m\u001b[32msave_args\u001b[0m\u001b[32m=\u001b[0m\u001b[32m{\u001b[0m\u001b[32m'index': False\u001b[0m\u001b[32m}\u001b[0m\u001b[32m)\u001b[0m\u001b[32m\"\u001b[0m,\n",
       " \u001b[32m'parameters'\u001b[0m: \u001b[32m\"kedro.io.memory_dataset.MemoryDataset\u001b[0m\u001b[32m(\u001b[0m\u001b[32mdata\u001b[0m\u001b[32m='\u001b[0m\u001b[32m<\u001b[0m\u001b[32mdict\u001b[0m\u001b[32m>\u001b[0m\u001b[32m'\u001b[0m\u001b[32m)\u001b[0m\u001b[32m\"\u001b[0m\u001b[1m}\u001b[0m"
      ]
     },
     "execution_count": 11,
     "metadata": {},
     "output_type": "execute_result"
    }
   ],
   "source": [
    "catalog"
   ]
  },
  {
   "cell_type": "code",
   "execution_count": 12,
   "metadata": {},
   "outputs": [
    {
     "data": {
      "text/html": [
       "<pre style=\"white-space:pre;overflow-x:auto;line-height:normal;font-family:Menlo,'DejaVu Sans Mono',consolas,'Courier New',monospace\"><span style=\"color: #7fbfbf; text-decoration-color: #7fbfbf\">[08/07/24 16:18:58] </span><span style=\"color: #000080; text-decoration-color: #000080\">INFO    </span> Loading data from train <span style=\"font-weight: bold\">(</span>CSVDataset<span style=\"font-weight: bold\">)</span><span style=\"color: #808000; text-decoration-color: #808000\">...</span>                            <span style=\"color: #7f7f7f; text-decoration-color: #7f7f7f\">data_catalog.py:537</span>\n",
       "</pre>\n"
      ],
      "text/plain": [
       "\u001b[2;36m[08/07/24 16:18:58]\u001b[0m\u001b[2;36m \u001b[0m\u001b[34mINFO    \u001b[0m Loading data from train \u001b[1m(\u001b[0mCSVDataset\u001b[1m)\u001b[0m\u001b[33m...\u001b[0m                            \u001b[2mdata_catalog.py\u001b[0m\u001b[2m:\u001b[0m\u001b[2m537\u001b[0m\n"
      ]
     },
     "metadata": {},
     "output_type": "display_data"
    },
    {
     "data": {
      "text/html": [
       "<pre style=\"white-space:pre;overflow-x:auto;line-height:normal;font-family:Menlo,'DejaVu Sans Mono',consolas,'Courier New',monospace\"></pre>\n"
      ],
      "text/plain": []
     },
     "metadata": {},
     "output_type": "display_data"
    },
    {
     "data": {
      "text/html": [
       "<div>\n",
       "<style scoped>\n",
       "    .dataframe tbody tr th:only-of-type {\n",
       "        vertical-align: middle;\n",
       "    }\n",
       "\n",
       "    .dataframe tbody tr th {\n",
       "        vertical-align: top;\n",
       "    }\n",
       "\n",
       "    .dataframe thead th {\n",
       "        text-align: right;\n",
       "    }\n",
       "</style>\n",
       "<table border=\"1\" class=\"dataframe\">\n",
       "  <thead>\n",
       "    <tr style=\"text-align: right;\">\n",
       "      <th></th>\n",
       "      <th>Type</th>\n",
       "      <th>Name</th>\n",
       "      <th>Age</th>\n",
       "      <th>Breed1</th>\n",
       "      <th>Breed2</th>\n",
       "      <th>Gender</th>\n",
       "      <th>Color1</th>\n",
       "      <th>Color2</th>\n",
       "      <th>Color3</th>\n",
       "      <th>MaturitySize</th>\n",
       "      <th>...</th>\n",
       "      <th>Health</th>\n",
       "      <th>Quantity</th>\n",
       "      <th>Fee</th>\n",
       "      <th>State</th>\n",
       "      <th>RescuerID</th>\n",
       "      <th>VideoAmt</th>\n",
       "      <th>Description</th>\n",
       "      <th>PetID</th>\n",
       "      <th>PhotoAmt</th>\n",
       "      <th>AdoptionSpeed</th>\n",
       "    </tr>\n",
       "  </thead>\n",
       "  <tbody>\n",
       "    <tr>\n",
       "      <th>0</th>\n",
       "      <td>2</td>\n",
       "      <td>Nibble</td>\n",
       "      <td>3</td>\n",
       "      <td>299</td>\n",
       "      <td>0</td>\n",
       "      <td>1</td>\n",
       "      <td>1</td>\n",
       "      <td>7</td>\n",
       "      <td>0</td>\n",
       "      <td>1</td>\n",
       "      <td>...</td>\n",
       "      <td>1</td>\n",
       "      <td>1</td>\n",
       "      <td>100</td>\n",
       "      <td>41326</td>\n",
       "      <td>8480853f516546f6cf33aa88cd76c379</td>\n",
       "      <td>0</td>\n",
       "      <td>Nibble is a 3+ month old ball of cuteness. He ...</td>\n",
       "      <td>86e1089a3</td>\n",
       "      <td>1.0</td>\n",
       "      <td>2</td>\n",
       "    </tr>\n",
       "    <tr>\n",
       "      <th>1</th>\n",
       "      <td>2</td>\n",
       "      <td>No Name Yet</td>\n",
       "      <td>1</td>\n",
       "      <td>265</td>\n",
       "      <td>0</td>\n",
       "      <td>1</td>\n",
       "      <td>1</td>\n",
       "      <td>2</td>\n",
       "      <td>0</td>\n",
       "      <td>2</td>\n",
       "      <td>...</td>\n",
       "      <td>1</td>\n",
       "      <td>1</td>\n",
       "      <td>0</td>\n",
       "      <td>41401</td>\n",
       "      <td>3082c7125d8fb66f7dd4bff4192c8b14</td>\n",
       "      <td>0</td>\n",
       "      <td>I just found it alone yesterday near my apartm...</td>\n",
       "      <td>6296e909a</td>\n",
       "      <td>2.0</td>\n",
       "      <td>0</td>\n",
       "    </tr>\n",
       "    <tr>\n",
       "      <th>2</th>\n",
       "      <td>1</td>\n",
       "      <td>Brisco</td>\n",
       "      <td>1</td>\n",
       "      <td>307</td>\n",
       "      <td>0</td>\n",
       "      <td>1</td>\n",
       "      <td>2</td>\n",
       "      <td>7</td>\n",
       "      <td>0</td>\n",
       "      <td>2</td>\n",
       "      <td>...</td>\n",
       "      <td>1</td>\n",
       "      <td>1</td>\n",
       "      <td>0</td>\n",
       "      <td>41326</td>\n",
       "      <td>fa90fa5b1ee11c86938398b60abc32cb</td>\n",
       "      <td>0</td>\n",
       "      <td>Their pregnant mother was dumped by her irresp...</td>\n",
       "      <td>3422e4906</td>\n",
       "      <td>7.0</td>\n",
       "      <td>3</td>\n",
       "    </tr>\n",
       "    <tr>\n",
       "      <th>3</th>\n",
       "      <td>1</td>\n",
       "      <td>Miko</td>\n",
       "      <td>4</td>\n",
       "      <td>307</td>\n",
       "      <td>0</td>\n",
       "      <td>2</td>\n",
       "      <td>1</td>\n",
       "      <td>2</td>\n",
       "      <td>0</td>\n",
       "      <td>2</td>\n",
       "      <td>...</td>\n",
       "      <td>1</td>\n",
       "      <td>1</td>\n",
       "      <td>150</td>\n",
       "      <td>41401</td>\n",
       "      <td>9238e4f44c71a75282e62f7136c6b240</td>\n",
       "      <td>0</td>\n",
       "      <td>Good guard dog, very alert, active, obedience ...</td>\n",
       "      <td>5842f1ff5</td>\n",
       "      <td>8.0</td>\n",
       "      <td>2</td>\n",
       "    </tr>\n",
       "    <tr>\n",
       "      <th>4</th>\n",
       "      <td>1</td>\n",
       "      <td>Hunter</td>\n",
       "      <td>1</td>\n",
       "      <td>307</td>\n",
       "      <td>0</td>\n",
       "      <td>1</td>\n",
       "      <td>1</td>\n",
       "      <td>0</td>\n",
       "      <td>0</td>\n",
       "      <td>2</td>\n",
       "      <td>...</td>\n",
       "      <td>1</td>\n",
       "      <td>1</td>\n",
       "      <td>0</td>\n",
       "      <td>41326</td>\n",
       "      <td>95481e953f8aed9ec3d16fc4509537e8</td>\n",
       "      <td>0</td>\n",
       "      <td>This handsome yet cute boy is up for adoption....</td>\n",
       "      <td>850a43f90</td>\n",
       "      <td>3.0</td>\n",
       "      <td>2</td>\n",
       "    </tr>\n",
       "  </tbody>\n",
       "</table>\n",
       "<p>5 rows × 24 columns</p>\n",
       "</div>"
      ],
      "text/plain": [
       "\n",
       "   Type         Name  Age  Breed1  Breed2  Gender  Color1  Color2  Color3  \\\n",
       "\u001b[1;36m0\u001b[0m     \u001b[1;36m2\u001b[0m       Nibble    \u001b[1;36m3\u001b[0m     \u001b[1;36m299\u001b[0m       \u001b[1;36m0\u001b[0m       \u001b[1;36m1\u001b[0m       \u001b[1;36m1\u001b[0m       \u001b[1;36m7\u001b[0m       \u001b[1;36m0\u001b[0m   \n",
       "\u001b[1;36m1\u001b[0m     \u001b[1;36m2\u001b[0m  No Name Yet    \u001b[1;36m1\u001b[0m     \u001b[1;36m265\u001b[0m       \u001b[1;36m0\u001b[0m       \u001b[1;36m1\u001b[0m       \u001b[1;36m1\u001b[0m       \u001b[1;36m2\u001b[0m       \u001b[1;36m0\u001b[0m   \n",
       "\u001b[1;36m2\u001b[0m     \u001b[1;36m1\u001b[0m       Brisco    \u001b[1;36m1\u001b[0m     \u001b[1;36m307\u001b[0m       \u001b[1;36m0\u001b[0m       \u001b[1;36m1\u001b[0m       \u001b[1;36m2\u001b[0m       \u001b[1;36m7\u001b[0m       \u001b[1;36m0\u001b[0m   \n",
       "\u001b[1;36m3\u001b[0m     \u001b[1;36m1\u001b[0m         Miko    \u001b[1;36m4\u001b[0m     \u001b[1;36m307\u001b[0m       \u001b[1;36m0\u001b[0m       \u001b[1;36m2\u001b[0m       \u001b[1;36m1\u001b[0m       \u001b[1;36m2\u001b[0m       \u001b[1;36m0\u001b[0m   \n",
       "\u001b[1;36m4\u001b[0m     \u001b[1;36m1\u001b[0m       Hunter    \u001b[1;36m1\u001b[0m     \u001b[1;36m307\u001b[0m       \u001b[1;36m0\u001b[0m       \u001b[1;36m1\u001b[0m       \u001b[1;36m1\u001b[0m       \u001b[1;36m0\u001b[0m       \u001b[1;36m0\u001b[0m   \n",
       "\n",
       "   MaturitySize  \u001b[33m...\u001b[0m  Health  Quantity  Fee  State  \\\n",
       "\u001b[1;36m0\u001b[0m             \u001b[1;36m1\u001b[0m  \u001b[33m...\u001b[0m       \u001b[1;36m1\u001b[0m         \u001b[1;36m1\u001b[0m  \u001b[1;36m100\u001b[0m  \u001b[1;36m41326\u001b[0m   \n",
       "\u001b[1;36m1\u001b[0m             \u001b[1;36m2\u001b[0m  \u001b[33m...\u001b[0m       \u001b[1;36m1\u001b[0m         \u001b[1;36m1\u001b[0m    \u001b[1;36m0\u001b[0m  \u001b[1;36m41401\u001b[0m   \n",
       "\u001b[1;36m2\u001b[0m             \u001b[1;36m2\u001b[0m  \u001b[33m...\u001b[0m       \u001b[1;36m1\u001b[0m         \u001b[1;36m1\u001b[0m    \u001b[1;36m0\u001b[0m  \u001b[1;36m41326\u001b[0m   \n",
       "\u001b[1;36m3\u001b[0m             \u001b[1;36m2\u001b[0m  \u001b[33m...\u001b[0m       \u001b[1;36m1\u001b[0m         \u001b[1;36m1\u001b[0m  \u001b[1;36m150\u001b[0m  \u001b[1;36m41401\u001b[0m   \n",
       "\u001b[1;36m4\u001b[0m             \u001b[1;36m2\u001b[0m  \u001b[33m...\u001b[0m       \u001b[1;36m1\u001b[0m         \u001b[1;36m1\u001b[0m    \u001b[1;36m0\u001b[0m  \u001b[1;36m41326\u001b[0m   \n",
       "\n",
       "                          RescuerID  VideoAmt  \\\n",
       "\u001b[1;36m0\u001b[0m  8480853f516546f6cf33aa88cd76c379         \u001b[1;36m0\u001b[0m   \n",
       "\u001b[1;36m1\u001b[0m  3082c7125d8fb66f7dd4bff4192c8b14         \u001b[1;36m0\u001b[0m   \n",
       "\u001b[1;36m2\u001b[0m  fa90fa5b1ee11c86938398b60abc32cb         \u001b[1;36m0\u001b[0m   \n",
       "\u001b[1;36m3\u001b[0m  9238e4f44c71a75282e62f7136c6b240         \u001b[1;36m0\u001b[0m   \n",
       "\u001b[1;36m4\u001b[0m  95481e953f8aed9ec3d16fc4509537e8         \u001b[1;36m0\u001b[0m   \n",
       "\n",
       "                                         Description      PetID PhotoAmt  \\\n",
       "\u001b[1;36m0\u001b[0m  Nibble is a \u001b[1;36m3\u001b[0m+ month old ball of cuteness. He \u001b[33m...\u001b[0m  86e1089a3      \u001b[1;36m1.0\u001b[0m   \n",
       "\u001b[1;36m1\u001b[0m  I just found it alone yesterday near my apartm\u001b[33m...\u001b[0m  6296e909a      \u001b[1;36m2.0\u001b[0m   \n",
       "\u001b[1;36m2\u001b[0m  Their pregnant mother was dumped by her irresp\u001b[33m...\u001b[0m  \u001b[1;36m3422e4906\u001b[0m      \u001b[1;36m7.0\u001b[0m   \n",
       "\u001b[1;36m3\u001b[0m  Good guard dog, very alert, active, obedience \u001b[33m...\u001b[0m  5842f1ff5      \u001b[1;36m8.0\u001b[0m   \n",
       "\u001b[1;36m4\u001b[0m  This handsome yet cute boy is up for adoption\u001b[33m...\u001b[0m.  850a43f90      \u001b[1;36m3.0\u001b[0m   \n",
       "\n",
       "   AdoptionSpeed  \n",
       "\u001b[1;36m0\u001b[0m              \u001b[1;36m2\u001b[0m  \n",
       "\u001b[1;36m1\u001b[0m              \u001b[1;36m0\u001b[0m  \n",
       "\u001b[1;36m2\u001b[0m              \u001b[1;36m3\u001b[0m  \n",
       "\u001b[1;36m3\u001b[0m              \u001b[1;36m2\u001b[0m  \n",
       "\u001b[1;36m4\u001b[0m              \u001b[1;36m2\u001b[0m  \n",
       "\n",
       "\u001b[1m[\u001b[0m\u001b[1;36m5\u001b[0m rows x \u001b[1;36m24\u001b[0m columns\u001b[1m]\u001b[0m"
      ]
     },
     "execution_count": 12,
     "metadata": {},
     "output_type": "execute_result"
    }
   ],
   "source": [
    "df = catalog.load(\"train\")\n",
    "df.head()"
   ]
  }
 ],
 "metadata": {
  "kernelspec": {
   "display_name": "labo_2",
   "language": "python",
   "name": "python3"
  },
  "language_info": {
   "codemirror_mode": {
    "name": "ipython",
    "version": 3
   },
   "file_extension": ".py",
   "mimetype": "text/x-python",
   "name": "python",
   "nbconvert_exporter": "python",
   "pygments_lexer": "ipython3",
   "version": "3.10.12"
  }
 },
 "nbformat": 4,
 "nbformat_minor": 2
}
