{
 "cells": [
  {
   "cell_type": "code",
   "execution_count": 1,
   "metadata": {},
   "outputs": [
    {
     "data": {
      "text/html": [
       "<pre style=\"white-space:pre;overflow-x:auto;line-height:normal;font-family:Menlo,'DejaVu Sans Mono',consolas,'Courier New',monospace\"><span style=\"color: #7fbfbf; text-decoration-color: #7fbfbf\">[08/23/24 16:13:46] </span><span style=\"color: #000080; text-decoration-color: #000080\">INFO    </span> Using                                                                  <a href=\"file:///home/frank/maestria_mcd/labo2/Competencia/env/lib/python3.10/site-packages/kedro/framework/project/__init__.py\" target=\"_blank\"><span style=\"color: #7f7f7f; text-decoration-color: #7f7f7f\">__init__.py</span></a><span style=\"color: #7f7f7f; text-decoration-color: #7f7f7f\">:</span><a href=\"file:///home/frank/maestria_mcd/labo2/Competencia/env/lib/python3.10/site-packages/kedro/framework/project/__init__.py#246\" target=\"_blank\"><span style=\"color: #7f7f7f; text-decoration-color: #7f7f7f\">246</span></a>\n",
       "<span style=\"color: #7fbfbf; text-decoration-color: #7fbfbf\">                    </span>         <span style=\"color: #008000; text-decoration-color: #008000\">'/home/frank/maestria_mcd/labo2/Competencia/env/lib/python3.10/site-pa</span> <span style=\"color: #7f7f7f; text-decoration-color: #7f7f7f\">               </span>\n",
       "<span style=\"color: #7fbfbf; text-decoration-color: #7fbfbf\">                    </span>         <span style=\"color: #008000; text-decoration-color: #008000\">ckages/kedro/framework/project/rich_logging.yml'</span> as logging            <span style=\"color: #7f7f7f; text-decoration-color: #7f7f7f\">               </span>\n",
       "<span style=\"color: #7fbfbf; text-decoration-color: #7fbfbf\">                    </span>         configuration.                                                         <span style=\"color: #7f7f7f; text-decoration-color: #7f7f7f\">               </span>\n",
       "</pre>\n"
      ],
      "text/plain": [
       "\u001b[2;36m[08/23/24 16:13:46]\u001b[0m\u001b[2;36m \u001b[0m\u001b[34mINFO    \u001b[0m Using                                                                  \u001b]8;id=367137;file:///home/frank/maestria_mcd/labo2/Competencia/env/lib/python3.10/site-packages/kedro/framework/project/__init__.py\u001b\\\u001b[2m__init__.py\u001b[0m\u001b]8;;\u001b\\\u001b[2m:\u001b[0m\u001b]8;id=86863;file:///home/frank/maestria_mcd/labo2/Competencia/env/lib/python3.10/site-packages/kedro/framework/project/__init__.py#246\u001b\\\u001b[2m246\u001b[0m\u001b]8;;\u001b\\\n",
       "\u001b[2;36m                    \u001b[0m         \u001b[32m'/home/frank/maestria_mcd/labo2/Competencia/env/lib/python3.10/site-pa\u001b[0m \u001b[2m               \u001b[0m\n",
       "\u001b[2;36m                    \u001b[0m         \u001b[32mckages/kedro/framework/project/rich_logging.yml'\u001b[0m as logging            \u001b[2m               \u001b[0m\n",
       "\u001b[2;36m                    \u001b[0m         configuration.                                                         \u001b[2m               \u001b[0m\n"
      ]
     },
     "metadata": {},
     "output_type": "display_data"
    },
    {
     "data": {
      "text/html": [
       "<pre style=\"white-space:pre;overflow-x:auto;line-height:normal;font-family:Menlo,'DejaVu Sans Mono',consolas,'Courier New',monospace\"><span style=\"color: #7fbfbf; text-decoration-color: #7fbfbf\">                    </span><span style=\"color: #000080; text-decoration-color: #000080\">INFO    </span> Registered line magic <span style=\"color: #008000; text-decoration-color: #008000\">'%reload_kedro'</span>                                   <a href=\"file:///home/frank/maestria_mcd/labo2/Competencia/env/lib/python3.10/site-packages/kedro/ipython/__init__.py\" target=\"_blank\"><span style=\"color: #7f7f7f; text-decoration-color: #7f7f7f\">__init__.py</span></a><span style=\"color: #7f7f7f; text-decoration-color: #7f7f7f\">:</span><a href=\"file:///home/frank/maestria_mcd/labo2/Competencia/env/lib/python3.10/site-packages/kedro/ipython/__init__.py#58\" target=\"_blank\"><span style=\"color: #7f7f7f; text-decoration-color: #7f7f7f\">58</span></a>\n",
       "</pre>\n"
      ],
      "text/plain": [
       "\u001b[2;36m                   \u001b[0m\u001b[2;36m \u001b[0m\u001b[34mINFO    \u001b[0m Registered line magic \u001b[32m'%reload_kedro'\u001b[0m                                   \u001b]8;id=7323;file:///home/frank/maestria_mcd/labo2/Competencia/env/lib/python3.10/site-packages/kedro/ipython/__init__.py\u001b\\\u001b[2m__init__.py\u001b[0m\u001b]8;;\u001b\\\u001b[2m:\u001b[0m\u001b]8;id=908007;file:///home/frank/maestria_mcd/labo2/Competencia/env/lib/python3.10/site-packages/kedro/ipython/__init__.py#58\u001b\\\u001b[2m58\u001b[0m\u001b]8;;\u001b\\\n"
      ]
     },
     "metadata": {},
     "output_type": "display_data"
    },
    {
     "data": {
      "text/html": [
       "<pre style=\"white-space:pre;overflow-x:auto;line-height:normal;font-family:Menlo,'DejaVu Sans Mono',consolas,'Courier New',monospace\"><span style=\"color: #7fbfbf; text-decoration-color: #7fbfbf\">                    </span><span style=\"color: #000080; text-decoration-color: #000080\">INFO    </span> Registered line magic <span style=\"color: #008000; text-decoration-color: #008000\">'%load_node'</span>                                      <a href=\"file:///home/frank/maestria_mcd/labo2/Competencia/env/lib/python3.10/site-packages/kedro/ipython/__init__.py\" target=\"_blank\"><span style=\"color: #7f7f7f; text-decoration-color: #7f7f7f\">__init__.py</span></a><span style=\"color: #7f7f7f; text-decoration-color: #7f7f7f\">:</span><a href=\"file:///home/frank/maestria_mcd/labo2/Competencia/env/lib/python3.10/site-packages/kedro/ipython/__init__.py#60\" target=\"_blank\"><span style=\"color: #7f7f7f; text-decoration-color: #7f7f7f\">60</span></a>\n",
       "</pre>\n"
      ],
      "text/plain": [
       "\u001b[2;36m                   \u001b[0m\u001b[2;36m \u001b[0m\u001b[34mINFO    \u001b[0m Registered line magic \u001b[32m'%load_node'\u001b[0m                                      \u001b]8;id=344592;file:///home/frank/maestria_mcd/labo2/Competencia/env/lib/python3.10/site-packages/kedro/ipython/__init__.py\u001b\\\u001b[2m__init__.py\u001b[0m\u001b]8;;\u001b\\\u001b[2m:\u001b[0m\u001b]8;id=329278;file:///home/frank/maestria_mcd/labo2/Competencia/env/lib/python3.10/site-packages/kedro/ipython/__init__.py#60\u001b\\\u001b[2m60\u001b[0m\u001b]8;;\u001b\\\n"
      ]
     },
     "metadata": {},
     "output_type": "display_data"
    },
    {
     "data": {
      "text/html": [
       "<pre style=\"white-space:pre;overflow-x:auto;line-height:normal;font-family:Menlo,'DejaVu Sans Mono',consolas,'Courier New',monospace\"><span style=\"color: #7fbfbf; text-decoration-color: #7fbfbf\">                    </span><span style=\"color: #000080; text-decoration-color: #000080\">INFO    </span> Resolved project path as:                                              <a href=\"file:///home/frank/maestria_mcd/labo2/Competencia/env/lib/python3.10/site-packages/kedro/ipython/__init__.py\" target=\"_blank\"><span style=\"color: #7f7f7f; text-decoration-color: #7f7f7f\">__init__.py</span></a><span style=\"color: #7f7f7f; text-decoration-color: #7f7f7f\">:</span><a href=\"file:///home/frank/maestria_mcd/labo2/Competencia/env/lib/python3.10/site-packages/kedro/ipython/__init__.py#175\" target=\"_blank\"><span style=\"color: #7f7f7f; text-decoration-color: #7f7f7f\">175</span></a>\n",
       "<span style=\"color: #7fbfbf; text-decoration-color: #7fbfbf\">                    </span>         <span style=\"color: #800080; text-decoration-color: #800080\">/home/frank/maestria_mcd/labo2/Competencia/pet_project/</span><span style=\"color: #ff00ff; text-decoration-color: #ff00ff\">pet-competition</span> <span style=\"color: #7f7f7f; text-decoration-color: #7f7f7f\">               </span>\n",
       "<span style=\"color: #7fbfbf; text-decoration-color: #7fbfbf\">                    </span>         <span style=\"color: #ff00ff; text-decoration-color: #ff00ff\">.</span>                                                                      <span style=\"color: #7f7f7f; text-decoration-color: #7f7f7f\">               </span>\n",
       "<span style=\"color: #7fbfbf; text-decoration-color: #7fbfbf\">                    </span>         To set a different path, run <span style=\"color: #008000; text-decoration-color: #008000\">'%reload_kedro &lt;project_root&gt;'</span>            <span style=\"color: #7f7f7f; text-decoration-color: #7f7f7f\">               </span>\n",
       "</pre>\n"
      ],
      "text/plain": [
       "\u001b[2;36m                   \u001b[0m\u001b[2;36m \u001b[0m\u001b[34mINFO    \u001b[0m Resolved project path as:                                              \u001b]8;id=139708;file:///home/frank/maestria_mcd/labo2/Competencia/env/lib/python3.10/site-packages/kedro/ipython/__init__.py\u001b\\\u001b[2m__init__.py\u001b[0m\u001b]8;;\u001b\\\u001b[2m:\u001b[0m\u001b]8;id=939236;file:///home/frank/maestria_mcd/labo2/Competencia/env/lib/python3.10/site-packages/kedro/ipython/__init__.py#175\u001b\\\u001b[2m175\u001b[0m\u001b]8;;\u001b\\\n",
       "\u001b[2;36m                    \u001b[0m         \u001b[35m/home/frank/maestria_mcd/labo2/Competencia/pet_project/\u001b[0m\u001b[95mpet-competition\u001b[0m \u001b[2m               \u001b[0m\n",
       "\u001b[2;36m                    \u001b[0m         \u001b[95m.\u001b[0m                                                                      \u001b[2m               \u001b[0m\n",
       "\u001b[2;36m                    \u001b[0m         To set a different path, run \u001b[32m'%reload_kedro \u001b[0m\u001b[32m<\u001b[0m\u001b[32mproject_root\u001b[0m\u001b[32m>\u001b[0m\u001b[32m'\u001b[0m            \u001b[2m               \u001b[0m\n"
      ]
     },
     "metadata": {},
     "output_type": "display_data"
    },
    {
     "data": {
      "text/html": [
       "<pre style=\"white-space:pre;overflow-x:auto;line-height:normal;font-family:Menlo,'DejaVu Sans Mono',consolas,'Courier New',monospace\"><span style=\"color: #7fbfbf; text-decoration-color: #7fbfbf\">[08/23/24 16:13:47] </span><span style=\"color: #000080; text-decoration-color: #000080\">INFO    </span> Kedro is sending anonymous usage data with the sole purpose of improving <a href=\"file:///home/frank/maestria_mcd/labo2/Competencia/env/lib/python3.10/site-packages/kedro_telemetry/plugin.py\" target=\"_blank\"><span style=\"color: #7f7f7f; text-decoration-color: #7f7f7f\">plugin.py</span></a><span style=\"color: #7f7f7f; text-decoration-color: #7f7f7f\">:</span><a href=\"file:///home/frank/maestria_mcd/labo2/Competencia/env/lib/python3.10/site-packages/kedro_telemetry/plugin.py#233\" target=\"_blank\"><span style=\"color: #7f7f7f; text-decoration-color: #7f7f7f\">233</span></a>\n",
       "<span style=\"color: #7fbfbf; text-decoration-color: #7fbfbf\">                    </span>         the product. No personal data or IP addresses are stored on our side. If <span style=\"color: #7f7f7f; text-decoration-color: #7f7f7f\">             </span>\n",
       "<span style=\"color: #7fbfbf; text-decoration-color: #7fbfbf\">                    </span>         you want to opt out, set the `KEDRO_DISABLE_TELEMETRY` or `DO_NOT_TRACK` <span style=\"color: #7f7f7f; text-decoration-color: #7f7f7f\">             </span>\n",
       "<span style=\"color: #7fbfbf; text-decoration-color: #7fbfbf\">                    </span>         environment variables, or create a `.telemetry` file in the current      <span style=\"color: #7f7f7f; text-decoration-color: #7f7f7f\">             </span>\n",
       "<span style=\"color: #7fbfbf; text-decoration-color: #7fbfbf\">                    </span>         working directory with the contents `consent: false`. Read more at       <span style=\"color: #7f7f7f; text-decoration-color: #7f7f7f\">             </span>\n",
       "<span style=\"color: #7fbfbf; text-decoration-color: #7fbfbf\">                    </span>         <span style=\"color: #0000ff; text-decoration-color: #0000ff; text-decoration: underline\">https://docs.kedro.org/en/stable/configuration/telemetry.html</span>            <span style=\"color: #7f7f7f; text-decoration-color: #7f7f7f\">             </span>\n",
       "</pre>\n"
      ],
      "text/plain": [
       "\u001b[2;36m[08/23/24 16:13:47]\u001b[0m\u001b[2;36m \u001b[0m\u001b[34mINFO    \u001b[0m Kedro is sending anonymous usage data with the sole purpose of improving \u001b]8;id=8534;file:///home/frank/maestria_mcd/labo2/Competencia/env/lib/python3.10/site-packages/kedro_telemetry/plugin.py\u001b\\\u001b[2mplugin.py\u001b[0m\u001b]8;;\u001b\\\u001b[2m:\u001b[0m\u001b]8;id=680251;file:///home/frank/maestria_mcd/labo2/Competencia/env/lib/python3.10/site-packages/kedro_telemetry/plugin.py#233\u001b\\\u001b[2m233\u001b[0m\u001b]8;;\u001b\\\n",
       "\u001b[2;36m                    \u001b[0m         the product. No personal data or IP addresses are stored on our side. If \u001b[2m             \u001b[0m\n",
       "\u001b[2;36m                    \u001b[0m         you want to opt out, set the `KEDRO_DISABLE_TELEMETRY` or `DO_NOT_TRACK` \u001b[2m             \u001b[0m\n",
       "\u001b[2;36m                    \u001b[0m         environment variables, or create a `.telemetry` file in the current      \u001b[2m             \u001b[0m\n",
       "\u001b[2;36m                    \u001b[0m         working directory with the contents `consent: false`. Read more at       \u001b[2m             \u001b[0m\n",
       "\u001b[2;36m                    \u001b[0m         \u001b[4;94mhttps://docs.kedro.org/en/stable/configuration/telemetry.html\u001b[0m            \u001b[2m             \u001b[0m\n"
      ]
     },
     "metadata": {},
     "output_type": "display_data"
    },
    {
     "data": {
      "text/html": [
       "<pre style=\"white-space:pre;overflow-x:auto;line-height:normal;font-family:Menlo,'DejaVu Sans Mono',consolas,'Courier New',monospace\"><span style=\"color: #7fbfbf; text-decoration-color: #7fbfbf\">                    </span><span style=\"color: #000080; text-decoration-color: #000080\">INFO    </span> Kedro project Pet_competition                                          <a href=\"file:///home/frank/maestria_mcd/labo2/Competencia/env/lib/python3.10/site-packages/kedro/ipython/__init__.py\" target=\"_blank\"><span style=\"color: #7f7f7f; text-decoration-color: #7f7f7f\">__init__.py</span></a><span style=\"color: #7f7f7f; text-decoration-color: #7f7f7f\">:</span><a href=\"file:///home/frank/maestria_mcd/labo2/Competencia/env/lib/python3.10/site-packages/kedro/ipython/__init__.py#141\" target=\"_blank\"><span style=\"color: #7f7f7f; text-decoration-color: #7f7f7f\">141</span></a>\n",
       "</pre>\n"
      ],
      "text/plain": [
       "\u001b[2;36m                   \u001b[0m\u001b[2;36m \u001b[0m\u001b[34mINFO    \u001b[0m Kedro project Pet_competition                                          \u001b]8;id=119522;file:///home/frank/maestria_mcd/labo2/Competencia/env/lib/python3.10/site-packages/kedro/ipython/__init__.py\u001b\\\u001b[2m__init__.py\u001b[0m\u001b]8;;\u001b\\\u001b[2m:\u001b[0m\u001b]8;id=827648;file:///home/frank/maestria_mcd/labo2/Competencia/env/lib/python3.10/site-packages/kedro/ipython/__init__.py#141\u001b\\\u001b[2m141\u001b[0m\u001b]8;;\u001b\\\n"
      ]
     },
     "metadata": {},
     "output_type": "display_data"
    },
    {
     "data": {
      "text/html": [
       "<pre style=\"white-space:pre;overflow-x:auto;line-height:normal;font-family:Menlo,'DejaVu Sans Mono',consolas,'Courier New',monospace\"><span style=\"color: #7fbfbf; text-decoration-color: #7fbfbf\">                    </span><span style=\"color: #000080; text-decoration-color: #000080\">INFO    </span> Defined global variable <span style=\"color: #008000; text-decoration-color: #008000\">'context'</span>, <span style=\"color: #008000; text-decoration-color: #008000\">'session'</span>, <span style=\"color: #008000; text-decoration-color: #008000\">'catalog'</span> and            <a href=\"file:///home/frank/maestria_mcd/labo2/Competencia/env/lib/python3.10/site-packages/kedro/ipython/__init__.py\" target=\"_blank\"><span style=\"color: #7f7f7f; text-decoration-color: #7f7f7f\">__init__.py</span></a><span style=\"color: #7f7f7f; text-decoration-color: #7f7f7f\">:</span><a href=\"file:///home/frank/maestria_mcd/labo2/Competencia/env/lib/python3.10/site-packages/kedro/ipython/__init__.py#142\" target=\"_blank\"><span style=\"color: #7f7f7f; text-decoration-color: #7f7f7f\">142</span></a>\n",
       "<span style=\"color: #7fbfbf; text-decoration-color: #7fbfbf\">                    </span>         <span style=\"color: #008000; text-decoration-color: #008000\">'pipelines'</span>                                                            <span style=\"color: #7f7f7f; text-decoration-color: #7f7f7f\">               </span>\n",
       "</pre>\n"
      ],
      "text/plain": [
       "\u001b[2;36m                   \u001b[0m\u001b[2;36m \u001b[0m\u001b[34mINFO    \u001b[0m Defined global variable \u001b[32m'context'\u001b[0m, \u001b[32m'session'\u001b[0m, \u001b[32m'catalog'\u001b[0m and            \u001b]8;id=691211;file:///home/frank/maestria_mcd/labo2/Competencia/env/lib/python3.10/site-packages/kedro/ipython/__init__.py\u001b\\\u001b[2m__init__.py\u001b[0m\u001b]8;;\u001b\\\u001b[2m:\u001b[0m\u001b]8;id=63539;file:///home/frank/maestria_mcd/labo2/Competencia/env/lib/python3.10/site-packages/kedro/ipython/__init__.py#142\u001b\\\u001b[2m142\u001b[0m\u001b]8;;\u001b\\\n",
       "\u001b[2;36m                    \u001b[0m         \u001b[32m'pipelines'\u001b[0m                                                            \u001b[2m               \u001b[0m\n"
      ]
     },
     "metadata": {},
     "output_type": "display_data"
    },
    {
     "data": {
      "text/html": [
       "<pre style=\"white-space:pre;overflow-x:auto;line-height:normal;font-family:Menlo,'DejaVu Sans Mono',consolas,'Courier New',monospace\"><span style=\"color: #7fbfbf; text-decoration-color: #7fbfbf\">[08/23/24 16:13:48] </span><span style=\"color: #000080; text-decoration-color: #000080\">INFO    </span> Registered line magic <span style=\"color: #008000; text-decoration-color: #008000\">'run_viz'</span>                                        <a href=\"file:///home/frank/maestria_mcd/labo2/Competencia/env/lib/python3.10/site-packages/kedro/ipython/__init__.py\" target=\"_blank\"><span style=\"color: #7f7f7f; text-decoration-color: #7f7f7f\">__init__.py</span></a><span style=\"color: #7f7f7f; text-decoration-color: #7f7f7f\">:</span><a href=\"file:///home/frank/maestria_mcd/labo2/Competencia/env/lib/python3.10/site-packages/kedro/ipython/__init__.py#148\" target=\"_blank\"><span style=\"color: #7f7f7f; text-decoration-color: #7f7f7f\">148</span></a>\n",
       "</pre>\n"
      ],
      "text/plain": [
       "\u001b[2;36m[08/23/24 16:13:48]\u001b[0m\u001b[2;36m \u001b[0m\u001b[34mINFO    \u001b[0m Registered line magic \u001b[32m'run_viz'\u001b[0m                                        \u001b]8;id=789889;file:///home/frank/maestria_mcd/labo2/Competencia/env/lib/python3.10/site-packages/kedro/ipython/__init__.py\u001b\\\u001b[2m__init__.py\u001b[0m\u001b]8;;\u001b\\\u001b[2m:\u001b[0m\u001b]8;id=602977;file:///home/frank/maestria_mcd/labo2/Competencia/env/lib/python3.10/site-packages/kedro/ipython/__init__.py#148\u001b\\\u001b[2m148\u001b[0m\u001b]8;;\u001b\\\n"
      ]
     },
     "metadata": {},
     "output_type": "display_data"
    }
   ],
   "source": [
    "#load when is first time running\n",
    "%reload_ext kedro.ipython"
   ]
  },
  {
   "cell_type": "markdown",
   "metadata": {},
   "source": [
    "## Librerias"
   ]
  },
  {
   "cell_type": "code",
   "execution_count": 2,
   "metadata": {},
   "outputs": [],
   "source": [
    "import warnings\n",
    "\n",
    "warnings.filterwarnings(\"ignore\")"
   ]
  },
  {
   "cell_type": "code",
   "execution_count": 3,
   "metadata": {},
   "outputs": [],
   "source": [
    "#Import de librerias basicas tablas y matrices\n",
    "import numpy as np \n",
    "import pandas as pd \n",
    "\n",
    "#Gradient Boosting\n",
    "import lightgbm as lgb\n",
    "\n",
    "#Funciones auxiliares sklearn\n",
    "from sklearn.model_selection import train_test_split, StratifiedKFold #Split y cross Validation\n",
    "from sklearn.metrics import cohen_kappa_score, accuracy_score, balanced_accuracy_score #Metricas\n",
    "from sklearn.utils import shuffle \n",
    "\n",
    "#Visualizacióon\n",
    "from plotly import express as px\n",
    "\n",
    "#Plot de matriz de confusion normalizada en actuals\n",
    "from utils import plot_confusion_matrix\n",
    "\n",
    "import os\n",
    "\n",
    "#Optimizacion de hiperparametros\n",
    "import optuna\n",
    "from optuna.artifacts import FileSystemArtifactStore, upload_artifact\n",
    "\n",
    "#Guardado de objetos en archivos joblib\n",
    "from joblib import load, dump"
   ]
  },
  {
   "cell_type": "markdown",
   "metadata": {},
   "source": [
    "## Definimos paths y parametros de config"
   ]
  },
  {
   "cell_type": "code",
   "execution_count": 4,
   "metadata": {},
   "outputs": [],
   "source": [
    "BASE_DIR = '../'\n",
    "\n",
    "#Salida de modelos entrenados\n",
    "PATH_TO_MODELS = os.path.join(BASE_DIR, \"src/models\")\n",
    "\n",
    "#Artefactos a subir a optuna\n",
    "PATH_TO_TEMP_FILES = os.path.join(BASE_DIR, \"src/optuna_temp_artifacts\")\n",
    "\n",
    "#Artefactos que optuna gestiona\n",
    "PATH_TO_OPTUNA_ARTIFACTS = os.path.join(BASE_DIR, \"src/optuna_artifacts\")\n",
    "\n",
    "\n",
    "\n",
    "SEED = 37\n",
    "TEST_SIZE = 0.30"
   ]
  },
  {
   "cell_type": "code",
   "execution_count": 21,
   "metadata": {},
   "outputs": [
    {
     "data": {
      "text/html": [
       "<pre style=\"white-space:pre;overflow-x:auto;line-height:normal;font-family:Menlo,'DejaVu Sans Mono',consolas,'Courier New',monospace\"></pre>\n"
      ],
      "text/plain": []
     },
     "metadata": {},
     "output_type": "display_data"
    },
    {
     "data": {
      "text/plain": [
       "\u001b[1m[\u001b[0m\u001b[1m]\u001b[0m"
      ]
     },
     "execution_count": 21,
     "metadata": {},
     "output_type": "execute_result"
    }
   ],
   "source": [
    "def list_files_in_directory(path):\n",
    "    # List all files in the given directory\n",
    "    files = os.listdir(path)\n",
    "    return files\n",
    "\n",
    "list_files_in_directory(PATH_TO_OPTUNA_ARTIFACTS)"
   ]
  },
  {
   "cell_type": "markdown",
   "metadata": {},
   "source": [
    "## Carga de datos"
   ]
  },
  {
   "cell_type": "code",
   "execution_count": 5,
   "metadata": {},
   "outputs": [
    {
     "data": {
      "text/html": [
       "<pre style=\"white-space:pre;overflow-x:auto;line-height:normal;font-family:Menlo,'DejaVu Sans Mono',consolas,'Courier New',monospace\"><span style=\"color: #7fbfbf; text-decoration-color: #7fbfbf\">[08/23/24 16:13:49] </span><span style=\"color: #000080; text-decoration-color: #000080\">INFO    </span> Loading data from train <span style=\"font-weight: bold\">(</span>CSVDataset<span style=\"font-weight: bold\">)</span><span style=\"color: #808000; text-decoration-color: #808000\">...</span>                            <a href=\"file:///home/frank/maestria_mcd/labo2/Competencia/env/lib/python3.10/site-packages/kedro/io/data_catalog.py\" target=\"_blank\"><span style=\"color: #7f7f7f; text-decoration-color: #7f7f7f\">data_catalog.py</span></a><span style=\"color: #7f7f7f; text-decoration-color: #7f7f7f\">:</span><a href=\"file:///home/frank/maestria_mcd/labo2/Competencia/env/lib/python3.10/site-packages/kedro/io/data_catalog.py#537\" target=\"_blank\"><span style=\"color: #7f7f7f; text-decoration-color: #7f7f7f\">537</span></a>\n",
       "</pre>\n"
      ],
      "text/plain": [
       "\u001b[2;36m[08/23/24 16:13:49]\u001b[0m\u001b[2;36m \u001b[0m\u001b[34mINFO    \u001b[0m Loading data from train \u001b[1m(\u001b[0mCSVDataset\u001b[1m)\u001b[0m\u001b[33m...\u001b[0m                            \u001b]8;id=122164;file:///home/frank/maestria_mcd/labo2/Competencia/env/lib/python3.10/site-packages/kedro/io/data_catalog.py\u001b\\\u001b[2mdata_catalog.py\u001b[0m\u001b]8;;\u001b\\\u001b[2m:\u001b[0m\u001b]8;id=854190;file:///home/frank/maestria_mcd/labo2/Competencia/env/lib/python3.10/site-packages/kedro/io/data_catalog.py#537\u001b\\\u001b[2m537\u001b[0m\u001b]8;;\u001b\\\n"
      ]
     },
     "metadata": {},
     "output_type": "display_data"
    }
   ],
   "source": [
    "dataset = catalog.load(\"train\")"
   ]
  },
  {
   "cell_type": "code",
   "execution_count": 6,
   "metadata": {},
   "outputs": [
    {
     "name": "stdout",
     "output_type": "stream",
     "text": [
      "<class 'pandas.core.frame.DataFrame'>\n",
      "RangeIndex: 14993 entries, 0 to 14992\n",
      "Data columns (total 24 columns):\n",
      " #   Column         Non-Null Count  Dtype  \n",
      "---  ------         --------------  -----  \n",
      " 0   Type           14993 non-null  int64  \n",
      " 1   Name           13728 non-null  object \n",
      " 2   Age            14993 non-null  int64  \n",
      " 3   Breed1         14993 non-null  int64  \n",
      " 4   Breed2         14993 non-null  int64  \n",
      " 5   Gender         14993 non-null  int64  \n",
      " 6   Color1         14993 non-null  int64  \n",
      " 7   Color2         14993 non-null  int64  \n",
      " 8   Color3         14993 non-null  int64  \n",
      " 9   MaturitySize   14993 non-null  int64  \n",
      " 10  FurLength      14993 non-null  int64  \n",
      " 11  Vaccinated     14993 non-null  int64  \n",
      " 12  Dewormed       14993 non-null  int64  \n",
      " 13  Sterilized     14993 non-null  int64  \n",
      " 14  Health         14993 non-null  int64  \n",
      " 15  Quantity       14993 non-null  int64  \n",
      " 16  Fee            14993 non-null  int64  \n",
      " 17  State          14993 non-null  int64  \n",
      " 18  RescuerID      14993 non-null  object \n",
      " 19  VideoAmt       14993 non-null  int64  \n",
      " 20  Description    14980 non-null  object \n",
      " 21  PetID          14993 non-null  object \n",
      " 22  PhotoAmt       14993 non-null  float64\n",
      " 23  AdoptionSpeed  14993 non-null  int64  \n",
      "dtypes: float64(1), int64(19), object(4)\n",
      "memory usage: 2.7+ MB\n"
     ]
    }
   ],
   "source": [
    "dataset.info()"
   ]
  },
  {
   "cell_type": "markdown",
   "metadata": {},
   "source": [
    "Desestimo variables: \n",
    "\n",
    "* Name\n",
    "* Description\n",
    "* PetID\n",
    "* RescuerID"
   ]
  },
  {
   "cell_type": "code",
   "execution_count": 7,
   "metadata": {},
   "outputs": [],
   "source": [
    "features = [\"Name\", \"Description\", \"PetID\", \"RescuerID\"]\n",
    "target = \"AdoptionSpeed\""
   ]
  },
  {
   "cell_type": "code",
   "execution_count": 8,
   "metadata": {},
   "outputs": [],
   "source": [
    "# Train test split\n",
    "\n",
    "train, test = train_test_split(dataset.drop(columns= features, axis=1),\n",
    "                               test_size = TEST_SIZE,\n",
    "                               random_state = SEED,\n",
    "                               stratify = dataset.AdoptionSpeed)"
   ]
  },
  {
   "cell_type": "code",
   "execution_count": 9,
   "metadata": {},
   "outputs": [],
   "source": [
    "# Separamos features de Target\n",
    "X_train = train.drop(columns = target, axis=1)\n",
    "y_train = train[target]\n",
    "\n",
    "X_test = test.drop(columns = target, axis =1)\n",
    "y_test = test[target]"
   ]
  },
  {
   "cell_type": "markdown",
   "metadata": {},
   "source": [
    "## LGBM"
   ]
  },
  {
   "cell_type": "code",
   "execution_count": 10,
   "metadata": {},
   "outputs": [],
   "source": [
    "#Funcion que vamos a optimizar. Optuna requiere que usemos el objeto trial para generar los parametros a optimizar\n",
    "def lgb_objective(trial):\n",
    "    #PArametros para LightGBM\n",
    "    lgb_params = {      \n",
    "                        #PArametros fijos\n",
    "                        'objective': 'multiclass',\n",
    "                        'verbosity':-1,\n",
    "                        'num_class': len(y_train.unique()),\n",
    "                        #Hiperparametros a optimizar utilizando suggest_float o suggest_int segun el tipo de dato\n",
    "                        #Se indica el nombre del parametro, valor minimo, valor maximo \n",
    "                        #en elgunos casos el parametro log=True para parametros que requieren buscar en esa escala\n",
    "                        'lambda_l1': trial.suggest_float('lambda_l1', 1e-8, 10.0, log=True),\n",
    "                        'lambda_l2': trial.suggest_float('lambda_l2', 1e-8, 10.0, log=True),\n",
    "                        'num_leaves': trial.suggest_int('num_leaves', 2, 256),\n",
    "                        'feature_fraction': trial.suggest_float('feature_fraction', 0.4, 1.0),\n",
    "                        'bagging_fraction': trial.suggest_float('bagging_fraction', 0.4, 1.0),\n",
    "                        'bagging_freq': trial.suggest_int('bagging_freq', 1, 7),\n",
    "                        'min_child_samples': trial.suggest_int('min_child_samples', 5, 100),\n",
    "                        } \n",
    "\n",
    "    #Genero objeto dataset de entrenamiento\n",
    "    lgb_train_dataset = lgb.Dataset(data=X_train,\n",
    "                                    label=y_train)\n",
    "\n",
    "    #ajuste de modelo\n",
    "    lgb_model = lgb.train(lgb_params,\n",
    "                          lgb_train_dataset)\n",
    "    \n",
    "    #Devuelvo el score en test\n",
    "    return(cohen_kappa_score(y_test,lgb_model.predict(X_test).argmax(axis=1),\n",
    "                             weights = 'quadratic'))"
   ]
  },
  {
   "cell_type": "code",
   "execution_count": 11,
   "metadata": {},
   "outputs": [
    {
     "name": "stderr",
     "output_type": "stream",
     "text": [
      "[I 2024-08-23 16:13:49,752] Using an existing study with name '04 - LGB Multiclass' instead of creating a new one.\n"
     ]
    },
    {
     "name": "stderr",
     "output_type": "stream",
     "text": [
      "[I 2024-08-23 16:13:51,004] Trial 200 finished with value: 0.35548663398583547 and parameters: {'lambda_l1': 4.788494053523894, 'lambda_l2': 2.717268256229093e-06, 'num_leaves': 222, 'feature_fraction': 0.9777051564835152, 'bagging_fraction': 0.7156186950523904, 'bagging_freq': 7, 'min_child_samples': 87}. Best is trial 195 with value: 0.3710338845595085.\n",
      "[I 2024-08-23 16:13:52,754] Trial 201 finished with value: 0.3625529154757887 and parameters: {'lambda_l1': 6.442557894292415, 'lambda_l2': 3.1455605976448493e-06, 'num_leaves': 226, 'feature_fraction': 0.9903244785264335, 'bagging_fraction': 0.7326190585951554, 'bagging_freq': 7, 'min_child_samples': 93}. Best is trial 195 with value: 0.3710338845595085.\n",
      "[I 2024-08-23 16:13:54,265] Trial 202 finished with value: 0.3548774333349385 and parameters: {'lambda_l1': 6.56203246736933, 'lambda_l2': 8.364440911960863e-07, 'num_leaves': 217, 'feature_fraction': 0.9976792696979697, 'bagging_fraction': 0.7011178734944339, 'bagging_freq': 7, 'min_child_samples': 93}. Best is trial 195 with value: 0.3710338845595085.\n",
      "[I 2024-08-23 16:13:55,134] Trial 203 finished with value: 0.3474085042321118 and parameters: {'lambda_l1': 4.66205070584746, 'lambda_l2': 7.218856214732369e-06, 'num_leaves': 226, 'feature_fraction': 0.9749465008353025, 'bagging_fraction': 0.7298291096292404, 'bagging_freq': 7, 'min_child_samples': 93}. Best is trial 195 with value: 0.3710338845595085.\n",
      "[I 2024-08-23 16:13:55,781] Trial 204 finished with value: 0.3642830590076158 and parameters: {'lambda_l1': 9.884949847825172, 'lambda_l2': 3.4974656596609305e-06, 'num_leaves': 227, 'feature_fraction': 0.9886976545170836, 'bagging_fraction': 0.7192483705059298, 'bagging_freq': 7, 'min_child_samples': 91}. Best is trial 195 with value: 0.3710338845595085.\n",
      "[I 2024-08-23 16:13:56,581] Trial 205 finished with value: 0.3642061658718222 and parameters: {'lambda_l1': 6.574138524364054, 'lambda_l2': 3.6986458516683103e-06, 'num_leaves': 234, 'feature_fraction': 0.9884506830148028, 'bagging_fraction': 0.718326942452704, 'bagging_freq': 7, 'min_child_samples': 87}. Best is trial 195 with value: 0.3710338845595085.\n",
      "[I 2024-08-23 16:13:57,227] Trial 206 finished with value: 0.3676450049215656 and parameters: {'lambda_l1': 9.971244286556155, 'lambda_l2': 3.430305905190666e-06, 'num_leaves': 235, 'feature_fraction': 0.9872269908225592, 'bagging_fraction': 0.7164795824417859, 'bagging_freq': 7, 'min_child_samples': 87}. Best is trial 195 with value: 0.3710338845595085.\n",
      "[I 2024-08-23 16:13:58,521] Trial 207 finished with value: 0.34730064745907563 and parameters: {'lambda_l1': 3.4529788079455805, 'lambda_l2': 4.011370220307895e-06, 'num_leaves': 232, 'feature_fraction': 0.9850907176230116, 'bagging_fraction': 0.7224315565053999, 'bagging_freq': 7, 'min_child_samples': 86}. Best is trial 195 with value: 0.3710338845595085.\n",
      "[I 2024-08-23 16:13:59,383] Trial 208 finished with value: 0.3641515347833624 and parameters: {'lambda_l1': 6.5843015917287255, 'lambda_l2': 6.548528094726942e-06, 'num_leaves': 229, 'feature_fraction': 0.9889583894632781, 'bagging_fraction': 0.7024511574412933, 'bagging_freq': 7, 'min_child_samples': 88}. Best is trial 195 with value: 0.3710338845595085.\n",
      "[I 2024-08-23 16:14:00,413] Trial 209 finished with value: 0.3496384757994977 and parameters: {'lambda_l1': 5.487439518012149, 'lambda_l2': 6.45680979859552e-06, 'num_leaves': 234, 'feature_fraction': 0.9958719040477777, 'bagging_fraction': 0.6876087704128797, 'bagging_freq': 7, 'min_child_samples': 88}. Best is trial 195 with value: 0.3710338845595085.\n",
      "[I 2024-08-23 16:14:01,579] Trial 210 finished with value: 0.36867495944290796 and parameters: {'lambda_l1': 6.3252343543279705, 'lambda_l2': 1.766987738816581e-06, 'num_leaves': 227, 'feature_fraction': 0.970890423188581, 'bagging_fraction': 0.7039950658242949, 'bagging_freq': 7, 'min_child_samples': 86}. Best is trial 195 with value: 0.3710338845595085.\n",
      "[I 2024-08-23 16:14:02,492] Trial 211 finished with value: 0.36721691858094563 and parameters: {'lambda_l1': 6.611870165678347, 'lambda_l2': 1.929977438317471e-06, 'num_leaves': 242, 'feature_fraction': 0.9721783716134417, 'bagging_fraction': 0.7061480205148774, 'bagging_freq': 7, 'min_child_samples': 85}. Best is trial 195 with value: 0.3710338845595085.\n",
      "[I 2024-08-23 16:14:03,760] Trial 212 finished with value: 0.35386312570225975 and parameters: {'lambda_l1': 4.541787744541111, 'lambda_l2': 1.4872453839230248e-06, 'num_leaves': 243, 'feature_fraction': 0.9718103580222258, 'bagging_fraction': 0.7019243391482165, 'bagging_freq': 7, 'min_child_samples': 86}. Best is trial 195 with value: 0.3710338845595085.\n",
      "[I 2024-08-23 16:14:05,309] Trial 213 finished with value: 0.36245902703329713 and parameters: {'lambda_l1': 6.620251254711361, 'lambda_l2': 7.310954704424146e-07, 'num_leaves': 226, 'feature_fraction': 0.999430210213609, 'bagging_fraction': 0.7085720492731415, 'bagging_freq': 7, 'min_child_samples': 88}. Best is trial 195 with value: 0.3710338845595085.\n",
      "[I 2024-08-23 16:14:07,341] Trial 214 finished with value: 0.34485338599762216 and parameters: {'lambda_l1': 2.884688027173919, 'lambda_l2': 7.204706983557883e-07, 'num_leaves': 228, 'feature_fraction': 0.9876955154987846, 'bagging_fraction': 0.7100015969574691, 'bagging_freq': 7, 'min_child_samples': 87}. Best is trial 195 with value: 0.3710338845595085.\n",
      "[I 2024-08-23 16:14:09,104] Trial 215 finished with value: 0.35713040238663063 and parameters: {'lambda_l1': 6.60177649473477, 'lambda_l2': 1.965260739434417e-06, 'num_leaves': 236, 'feature_fraction': 0.9983920669288727, 'bagging_fraction': 0.7359359758226595, 'bagging_freq': 7, 'min_child_samples': 84}. Best is trial 195 with value: 0.3710338845595085.\n",
      "[I 2024-08-23 16:14:10,348] Trial 216 finished with value: 0.3536928974045196 and parameters: {'lambda_l1': 3.948688036987615, 'lambda_l2': 7.3887074833893686e-06, 'num_leaves': 227, 'feature_fraction': 0.972115020607546, 'bagging_fraction': 0.6677871760883001, 'bagging_freq': 7, 'min_child_samples': 89}. Best is trial 195 with value: 0.3710338845595085.\n",
      "[I 2024-08-23 16:14:11,344] Trial 217 finished with value: 0.360811893594689 and parameters: {'lambda_l1': 6.3172893095220966, 'lambda_l2': 9.466258753341665e-07, 'num_leaves': 241, 'feature_fraction': 0.9836928638368937, 'bagging_fraction': 0.6832258120601131, 'bagging_freq': 7, 'min_child_samples': 85}. Best is trial 195 with value: 0.3710338845595085.\n",
      "[I 2024-08-23 16:14:13,407] Trial 218 finished with value: 0.3470389393132911 and parameters: {'lambda_l1': 4.423002742401082, 'lambda_l2': 3.5648566550027825e-06, 'num_leaves': 226, 'feature_fraction': 0.9996283126543966, 'bagging_fraction': 0.7023296589485495, 'bagging_freq': 7, 'min_child_samples': 8}. Best is trial 195 with value: 0.3710338845595085.\n",
      "[I 2024-08-23 16:14:14,410] Trial 219 finished with value: 0.35863001608041956 and parameters: {'lambda_l1': 6.912368242434003, 'lambda_l2': 5.751837339332103e-06, 'num_leaves': 235, 'feature_fraction': 0.970178053678187, 'bagging_fraction': 0.7261553598640552, 'bagging_freq': 7, 'min_child_samples': 87}. Best is trial 195 with value: 0.3710338845595085.\n",
      "[I 2024-08-23 16:14:17,399] Trial 220 finished with value: 0.33570810435014675 and parameters: {'lambda_l1': 2.8385881983685515, 'lambda_l2': 1.91584655164203e-06, 'num_leaves': 227, 'feature_fraction': 0.9859908370271787, 'bagging_fraction': 0.713721432640591, 'bagging_freq': 7, 'min_child_samples': 89}. Best is trial 195 with value: 0.3710338845595085.\n",
      "[I 2024-08-23 16:14:18,519] Trial 221 finished with value: 0.35343265826376247 and parameters: {'lambda_l1': 6.510929526090568, 'lambda_l2': 9.854483259774605e-07, 'num_leaves': 240, 'feature_fraction': 0.983895439828029, 'bagging_fraction': 0.6862944961925184, 'bagging_freq': 7, 'min_child_samples': 85}. Best is trial 195 with value: 0.3710338845595085.\n",
      "[I 2024-08-23 16:14:19,451] Trial 222 finished with value: 0.35562434237277596 and parameters: {'lambda_l1': 6.613584385607071, 'lambda_l2': 1.1227671103712873e-06, 'num_leaves': 242, 'feature_fraction': 0.9789208878777446, 'bagging_fraction': 0.7396452607288266, 'bagging_freq': 7, 'min_child_samples': 88}. Best is trial 195 with value: 0.3710338845595085.\n",
      "[I 2024-08-23 16:14:20,451] Trial 223 finished with value: 0.34754160742600226 and parameters: {'lambda_l1': 4.661111729981436, 'lambda_l2': 3.1787088560561414e-06, 'num_leaves': 251, 'feature_fraction': 0.9645904041220239, 'bagging_fraction': 0.6745729990202508, 'bagging_freq': 7, 'min_child_samples': 90}. Best is trial 195 with value: 0.3710338845595085.\n",
      "[I 2024-08-23 16:14:21,427] Trial 224 finished with value: 0.3534561443121256 and parameters: {'lambda_l1': 6.554682337063729, 'lambda_l2': 4.762335055771367e-07, 'num_leaves': 233, 'feature_fraction': 0.9889796525825071, 'bagging_fraction': 0.6978630068368707, 'bagging_freq': 7, 'min_child_samples': 86}. Best is trial 195 with value: 0.3710338845595085.\n",
      "[I 2024-08-23 16:14:22,408] Trial 225 finished with value: 0.35412757460635236 and parameters: {'lambda_l1': 6.660974375180983, 'lambda_l2': 4.867993459467458e-06, 'num_leaves': 222, 'feature_fraction': 0.9996983682589001, 'bagging_fraction': 0.715248001199837, 'bagging_freq': 7, 'min_child_samples': 83}. Best is trial 195 with value: 0.3710338845595085.\n",
      "[I 2024-08-23 16:14:23,567] Trial 226 finished with value: 0.3624694193099368 and parameters: {'lambda_l1': 9.90847990920263, 'lambda_l2': 2.031938733646322e-06, 'num_leaves': 224, 'feature_fraction': 0.9745552153503285, 'bagging_fraction': 0.7316863212879534, 'bagging_freq': 7, 'min_child_samples': 90}. Best is trial 195 with value: 0.3710338845595085.\n",
      "[I 2024-08-23 16:14:25,091] Trial 227 finished with value: 0.3486162132487812 and parameters: {'lambda_l1': 3.5631360505517007, 'lambda_l2': 2.2635001794603145e-06, 'num_leaves': 225, 'feature_fraction': 0.9687048707426353, 'bagging_fraction': 0.7302546602494715, 'bagging_freq': 7, 'min_child_samples': 91}. Best is trial 195 with value: 0.3710338845595085.\n",
      "[I 2024-08-23 16:14:26,262] Trial 228 finished with value: 0.36364286844561333 and parameters: {'lambda_l1': 9.97211262213184, 'lambda_l2': 8.295404969033072e-06, 'num_leaves': 221, 'feature_fraction': 0.9769102247488568, 'bagging_fraction': 0.7361390590762257, 'bagging_freq': 7, 'min_child_samples': 89}. Best is trial 195 with value: 0.3710338845595085.\n",
      "[I 2024-08-23 16:14:27,468] Trial 229 finished with value: 0.35849496731982045 and parameters: {'lambda_l1': 4.771298128157166, 'lambda_l2': 8.869094760991915e-06, 'num_leaves': 230, 'feature_fraction': 0.9665062667920936, 'bagging_fraction': 0.7058622317959018, 'bagging_freq': 7, 'min_child_samples': 88}. Best is trial 195 with value: 0.3710338845595085.\n",
      "[I 2024-08-23 16:14:28,644] Trial 230 finished with value: 0.3672395882154519 and parameters: {'lambda_l1': 9.62448457878133, 'lambda_l2': 4.949799953931255e-06, 'num_leaves': 222, 'feature_fraction': 0.9772114084691659, 'bagging_fraction': 0.7202737602493572, 'bagging_freq': 7, 'min_child_samples': 90}. Best is trial 195 with value: 0.3710338845595085.\n",
      "[I 2024-08-23 16:14:29,585] Trial 231 finished with value: 0.36935648758798767 and parameters: {'lambda_l1': 9.919153898704138, 'lambda_l2': 5.232058738647333e-06, 'num_leaves': 222, 'feature_fraction': 0.9869281357872659, 'bagging_fraction': 0.7373990512821977, 'bagging_freq': 7, 'min_child_samples': 90}. Best is trial 195 with value: 0.3710338845595085.\n",
      "[I 2024-08-23 16:14:31,298] Trial 232 finished with value: 0.3631424389679775 and parameters: {'lambda_l1': 9.776429151872195, 'lambda_l2': 5.323713560876659e-06, 'num_leaves': 227, 'feature_fraction': 0.9813249383500545, 'bagging_fraction': 0.7363873549632558, 'bagging_freq': 7, 'min_child_samples': 88}. Best is trial 195 with value: 0.3710338845595085.\n",
      "[I 2024-08-23 16:14:32,184] Trial 233 finished with value: 0.3595823909772673 and parameters: {'lambda_l1': 9.944442559969582, 'lambda_l2': 1.3481604630295564e-05, 'num_leaves': 223, 'feature_fraction': 0.9771561115576591, 'bagging_fraction': 0.7371340006331563, 'bagging_freq': 7, 'min_child_samples': 94}. Best is trial 195 with value: 0.3710338845595085.\n",
      "[I 2024-08-23 16:14:32,978] Trial 234 finished with value: 0.3563147245369265 and parameters: {'lambda_l1': 9.926623547560856, 'lambda_l2': 9.214948974882078e-06, 'num_leaves': 228, 'feature_fraction': 0.9831748877390506, 'bagging_fraction': 0.72862345743118, 'bagging_freq': 7, 'min_child_samples': 89}. Best is trial 195 with value: 0.3710338845595085.\n",
      "[I 2024-08-23 16:14:33,928] Trial 235 finished with value: 0.3567332679029015 and parameters: {'lambda_l1': 7.05861457311097, 'lambda_l2': 5.979254291070973e-06, 'num_leaves': 222, 'feature_fraction': 0.9889917240763062, 'bagging_fraction': 0.7374766912970836, 'bagging_freq': 7, 'min_child_samples': 90}. Best is trial 195 with value: 0.3710338845595085.\n",
      "[I 2024-08-23 16:14:34,700] Trial 236 finished with value: 0.36771046356513903 and parameters: {'lambda_l1': 9.895828144934445, 'lambda_l2': 3.6789794154501224e-06, 'num_leaves': 233, 'feature_fraction': 0.9753772386376607, 'bagging_fraction': 0.7227015333986807, 'bagging_freq': 7, 'min_child_samples': 88}. Best is trial 195 with value: 0.3710338845595085.\n",
      "[I 2024-08-23 16:14:35,491] Trial 237 finished with value: 0.37299163521315637 and parameters: {'lambda_l1': 9.9811567627623, 'lambda_l2': 4.063506237329485e-06, 'num_leaves': 234, 'feature_fraction': 0.963385272686421, 'bagging_fraction': 0.7240942432705437, 'bagging_freq': 7, 'min_child_samples': 91}. Best is trial 237 with value: 0.37299163521315637.\n",
      "[I 2024-08-23 16:14:36,276] Trial 238 finished with value: 0.36717221688843416 and parameters: {'lambda_l1': 9.974046545951607, 'lambda_l2': 4.418476625563566e-06, 'num_leaves': 233, 'feature_fraction': 0.9625607967017215, 'bagging_fraction': 0.7237189880597097, 'bagging_freq': 7, 'min_child_samples': 91}. Best is trial 237 with value: 0.37299163521315637.\n",
      "[I 2024-08-23 16:14:37,423] Trial 239 finished with value: 0.36857202171372316 and parameters: {'lambda_l1': 6.867948820495815, 'lambda_l2': 5.674787200819694e-06, 'num_leaves': 235, 'feature_fraction': 0.9632026445175462, 'bagging_fraction': 0.6956663988094648, 'bagging_freq': 7, 'min_child_samples': 86}. Best is trial 237 with value: 0.37299163521315637.\n",
      "[I 2024-08-23 16:14:38,821] Trial 240 finished with value: 0.34634770800196635 and parameters: {'lambda_l1': 4.639753552347227, 'lambda_l2': 9.746398795102533e-06, 'num_leaves': 237, 'feature_fraction': 0.9637348062655551, 'bagging_fraction': 0.6935540182269205, 'bagging_freq': 7, 'min_child_samples': 86}. Best is trial 237 with value: 0.37299163521315637.\n",
      "[I 2024-08-23 16:14:40,087] Trial 241 finished with value: 0.3675384716446283 and parameters: {'lambda_l1': 9.440669072532007, 'lambda_l2': 5.35326354106926e-06, 'num_leaves': 234, 'feature_fraction': 0.9607259511276731, 'bagging_fraction': 0.7203983607298785, 'bagging_freq': 7, 'min_child_samples': 91}. Best is trial 237 with value: 0.37299163521315637.\n",
      "[I 2024-08-23 16:14:41,103] Trial 242 finished with value: 0.36530743920443964 and parameters: {'lambda_l1': 7.1310989727845895, 'lambda_l2': 4.112129441579183e-06, 'num_leaves': 234, 'feature_fraction': 0.9608714142223003, 'bagging_fraction': 0.7210906194025407, 'bagging_freq': 7, 'min_child_samples': 90}. Best is trial 237 with value: 0.37299163521315637.\n",
      "[I 2024-08-23 16:14:42,658] Trial 243 finished with value: 0.3586507727485687 and parameters: {'lambda_l1': 5.986998808738619, 'lambda_l2': 4.090964350763878e-06, 'num_leaves': 233, 'feature_fraction': 0.9596814608529391, 'bagging_fraction': 0.7193776457014508, 'bagging_freq': 7, 'min_child_samples': 91}. Best is trial 237 with value: 0.37299163521315637.\n",
      "[I 2024-08-23 16:14:43,852] Trial 244 finished with value: 0.3590097647368674 and parameters: {'lambda_l1': 6.985264531433316, 'lambda_l2': 5.164447964508582e-06, 'num_leaves': 237, 'feature_fraction': 0.9659418298901854, 'bagging_fraction': 0.7214285617225119, 'bagging_freq': 7, 'min_child_samples': 91}. Best is trial 237 with value: 0.37299163521315637.\n",
      "[I 2024-08-23 16:14:45,179] Trial 245 finished with value: 0.34868992888758177 and parameters: {'lambda_l1': 4.689560889045489, 'lambda_l2': 3.3482529814540823e-06, 'num_leaves': 249, 'feature_fraction': 0.9588116860244404, 'bagging_fraction': 0.6987288463079669, 'bagging_freq': 7, 'min_child_samples': 95}. Best is trial 237 with value: 0.37299163521315637.\n",
      "[I 2024-08-23 16:14:46,070] Trial 246 finished with value: 0.3726436889845621 and parameters: {'lambda_l1': 9.862478152604126, 'lambda_l2': 3.8087997490689922e-06, 'num_leaves': 244, 'feature_fraction': 0.9670875610017693, 'bagging_fraction': 0.7097968897682398, 'bagging_freq': 7, 'min_child_samples': 85}. Best is trial 237 with value: 0.37299163521315637.\n",
      "[I 2024-08-23 16:14:46,806] Trial 247 finished with value: 0.36042265959956477 and parameters: {'lambda_l1': 9.953392186228273, 'lambda_l2': 1.6300509591433643e-06, 'num_leaves': 246, 'feature_fraction': 0.9683785047473445, 'bagging_fraction': 0.7206096835899171, 'bagging_freq': 7, 'min_child_samples': 85}. Best is trial 237 with value: 0.37299163521315637.\n",
      "[I 2024-08-23 16:14:47,672] Trial 248 finished with value: 0.3712869185922303 and parameters: {'lambda_l1': 7.018351897526951, 'lambda_l2': 3.9669727118634545e-06, 'num_leaves': 245, 'feature_fraction': 0.9623171176704931, 'bagging_fraction': 0.7113173888443576, 'bagging_freq': 7, 'min_child_samples': 83}. Best is trial 237 with value: 0.37299163521315637.\n",
      "[I 2024-08-23 16:14:48,886] Trial 249 finished with value: 0.36208771948509477 and parameters: {'lambda_l1': 3.7681427262943332, 'lambda_l2': 2.6194077204562174e-06, 'num_leaves': 254, 'feature_fraction': 0.9607339509016117, 'bagging_fraction': 0.7074205705177262, 'bagging_freq': 7, 'min_child_samples': 84}. Best is trial 237 with value: 0.37299163521315637.\n",
      "[I 2024-08-23 16:14:49,717] Trial 250 finished with value: 0.3572037160734143 and parameters: {'lambda_l1': 9.832835196620639, 'lambda_l2': 4.356725776890202e-06, 'num_leaves': 241, 'feature_fraction': 0.9735758498412472, 'bagging_fraction': 0.7600506157978416, 'bagging_freq': 1, 'min_child_samples': 82}. Best is trial 237 with value: 0.37299163521315637.\n",
      "[I 2024-08-23 16:14:50,618] Trial 251 finished with value: 0.3590359547544223 and parameters: {'lambda_l1': 9.929868854164758, 'lambda_l2': 1.7674478193349555e-06, 'num_leaves': 245, 'feature_fraction': 0.9602358732304231, 'bagging_fraction': 0.7462599963226396, 'bagging_freq': 7, 'min_child_samples': 92}. Best is trial 237 with value: 0.37299163521315637.\n",
      "[I 2024-08-23 16:14:51,713] Trial 252 finished with value: 0.3513938348399236 and parameters: {'lambda_l1': 4.983526809421098, 'lambda_l2': 6.6947863404884075e-06, 'num_leaves': 240, 'feature_fraction': 0.9774088988122003, 'bagging_fraction': 0.6901828313184956, 'bagging_freq': 7, 'min_child_samples': 94}. Best is trial 237 with value: 0.37299163521315637.\n",
      "[I 2024-08-23 16:14:53,183] Trial 253 finished with value: 0.34804820839525763 and parameters: {'lambda_l1': 2.9508167547471964, 'lambda_l2': 2.897125423155611e-06, 'num_leaves': 247, 'feature_fraction': 0.9727367710112661, 'bagging_fraction': 0.722300731573128, 'bagging_freq': 7, 'min_child_samples': 91}. Best is trial 237 with value: 0.37299163521315637.\n",
      "[I 2024-08-23 16:14:54,394] Trial 254 finished with value: 0.35525000236522375 and parameters: {'lambda_l1': 6.883313836227608, 'lambda_l2': 1.2961094208973762e-05, 'num_leaves': 233, 'feature_fraction': 0.9584720389857007, 'bagging_fraction': 0.7112024440539355, 'bagging_freq': 7, 'min_child_samples': 29}. Best is trial 237 with value: 0.37299163521315637.\n",
      "[I 2024-08-23 16:14:55,543] Trial 255 finished with value: 0.35445366304192893 and parameters: {'lambda_l1': 4.547230205621873, 'lambda_l2': 4.588100311066668e-06, 'num_leaves': 238, 'feature_fraction': 0.9779537111368114, 'bagging_fraction': 0.6976982801369003, 'bagging_freq': 7, 'min_child_samples': 86}. Best is trial 237 with value: 0.37299163521315637.\n",
      "[I 2024-08-23 16:14:56,224] Trial 256 finished with value: 0.3611904711756355 and parameters: {'lambda_l1': 9.963098876873774, 'lambda_l2': 2.640168808838659e-06, 'num_leaves': 232, 'feature_fraction': 0.9572057900341051, 'bagging_fraction': 0.6542238813699429, 'bagging_freq': 7, 'min_child_samples': 90}. Best is trial 237 with value: 0.37299163521315637.\n",
      "[I 2024-08-23 16:14:57,178] Trial 257 finished with value: 0.3574042508459605 and parameters: {'lambda_l1': 6.46255335985407, 'lambda_l2': 1.7640090808505874e-06, 'num_leaves': 83, 'feature_fraction': 0.9874450274041972, 'bagging_fraction': 0.7449908057553938, 'bagging_freq': 7, 'min_child_samples': 93}. Best is trial 237 with value: 0.37299163521315637.\n",
      "[I 2024-08-23 16:14:58,068] Trial 258 finished with value: 0.36071243911366757 and parameters: {'lambda_l1': 6.786060319335331, 'lambda_l2': 6.019466291081724e-06, 'num_leaves': 218, 'feature_fraction': 0.9703001083928724, 'bagging_fraction': 0.726310680733409, 'bagging_freq': 7, 'min_child_samples': 83}. Best is trial 237 with value: 0.37299163521315637.\n",
      "[I 2024-08-23 16:14:59,285] Trial 259 finished with value: 0.35167483669844846 and parameters: {'lambda_l1': 3.2561533025604956, 'lambda_l2': 3.5771347261726236e-06, 'num_leaves': 237, 'feature_fraction': 0.9794194292428015, 'bagging_fraction': 0.7106643730861564, 'bagging_freq': 7, 'min_child_samples': 89}. Best is trial 237 with value: 0.37299163521315637.\n",
      "[I 2024-08-23 16:15:00,381] Trial 260 finished with value: 0.3479225888063864 and parameters: {'lambda_l1': 4.675321488862778, 'lambda_l2': 1.3691367580942998e-06, 'num_leaves': 244, 'feature_fraction': 0.9585947924495717, 'bagging_fraction': 0.7216998355031686, 'bagging_freq': 7, 'min_child_samples': 87}. Best is trial 237 with value: 0.37299163521315637.\n",
      "[I 2024-08-23 16:15:01,267] Trial 261 finished with value: 0.3563162529310798 and parameters: {'lambda_l1': 6.95174075106736, 'lambda_l2': 1.0968409370645424e-05, 'num_leaves': 220, 'feature_fraction': 0.9854917366219991, 'bagging_fraction': 0.6958784426942952, 'bagging_freq': 7, 'min_child_samples': 85}. Best is trial 237 with value: 0.37299163521315637.\n",
      "[I 2024-08-23 16:15:02,411] Trial 262 finished with value: 0.3520274885312352 and parameters: {'lambda_l1': 9.870738350594742, 'lambda_l2': 2.3445555623304423e-06, 'num_leaves': 253, 'feature_fraction': 0.9994228426823399, 'bagging_fraction': 0.6780419016810086, 'bagging_freq': 7, 'min_child_samples': 92}. Best is trial 237 with value: 0.37299163521315637.\n",
      "[I 2024-08-23 16:15:03,732] Trial 263 finished with value: 0.3414842586101111 and parameters: {'lambda_l1': 2.7479395552158263, 'lambda_l2': 5.043568619687263e-06, 'num_leaves': 231, 'feature_fraction': 0.9709120758190097, 'bagging_fraction': 0.7087696458051509, 'bagging_freq': 7, 'min_child_samples': 89}. Best is trial 237 with value: 0.37299163521315637.\n",
      "[I 2024-08-23 16:15:05,177] Trial 264 finished with value: 0.35356800123190746 and parameters: {'lambda_l1': 5.018923725345937, 'lambda_l2': 7.581911555400363e-06, 'num_leaves': 243, 'feature_fraction': 0.95399806679458, 'bagging_fraction': 0.743828732205878, 'bagging_freq': 7, 'min_child_samples': 94}. Best is trial 237 with value: 0.37299163521315637.\n",
      "[I 2024-08-23 16:15:06,225] Trial 265 finished with value: 0.34937964079630657 and parameters: {'lambda_l1': 7.216085312506824, 'lambda_l2': 3.59273596001428e-06, 'num_leaves': 26, 'feature_fraction': 0.6585247310526896, 'bagging_fraction': 0.7263918233316442, 'bagging_freq': 7, 'min_child_samples': 91}. Best is trial 237 with value: 0.37299163521315637.\n",
      "[I 2024-08-23 16:15:07,626] Trial 266 finished with value: 0.3577076712910199 and parameters: {'lambda_l1': 4.729348234924867, 'lambda_l2': 2.4756736874727653e-06, 'num_leaves': 214, 'feature_fraction': 0.9886171944200218, 'bagging_fraction': 0.7126158360472319, 'bagging_freq': 7, 'min_child_samples': 87}. Best is trial 237 with value: 0.37299163521315637.\n",
      "[I 2024-08-23 16:15:08,461] Trial 267 finished with value: 0.35162000095355705 and parameters: {'lambda_l1': 9.976775149990816, 'lambda_l2': 1.644793179657878e-05, 'num_leaves': 235, 'feature_fraction': 0.7320869299933375, 'bagging_fraction': 0.7564980876981371, 'bagging_freq': 7, 'min_child_samples': 84}. Best is trial 237 with value: 0.37299163521315637.\n",
      "[I 2024-08-23 16:15:09,644] Trial 268 finished with value: 0.35208123747891507 and parameters: {'lambda_l1': 6.425855713443968, 'lambda_l2': 1.2268254486176685e-06, 'num_leaves': 219, 'feature_fraction': 0.9704759270319709, 'bagging_fraction': 0.7297617911741684, 'bagging_freq': 7, 'min_child_samples': 89}. Best is trial 237 with value: 0.37299163521315637.\n",
      "[I 2024-08-23 16:15:11,319] Trial 269 finished with value: 0.34950448268376544 and parameters: {'lambda_l1': 3.693903658567526, 'lambda_l2': 4.054719323399781e-06, 'num_leaves': 229, 'feature_fraction': 0.9820787284847686, 'bagging_fraction': 0.6871065165702673, 'bagging_freq': 7, 'min_child_samples': 92}. Best is trial 237 with value: 0.37299163521315637.\n",
      "[I 2024-08-23 16:15:12,610] Trial 270 finished with value: 0.36777731410484893 and parameters: {'lambda_l1': 7.005554685059076, 'lambda_l2': 1.763273490650133e-06, 'num_leaves': 61, 'feature_fraction': 0.965077723415354, 'bagging_fraction': 0.7033993085336872, 'bagging_freq': 7, 'min_child_samples': 95}. Best is trial 237 with value: 0.37299163521315637.\n",
      "[I 2024-08-23 16:15:14,594] Trial 271 finished with value: 0.3391924575353479 and parameters: {'lambda_l1': 2.6826409151282373, 'lambda_l2': 1.3821045739048781e-06, 'num_leaves': 256, 'feature_fraction': 0.9514458966680794, 'bagging_fraction': 0.7018224320863553, 'bagging_freq': 7, 'min_child_samples': 95}. Best is trial 237 with value: 0.37299163521315637.\n",
      "[I 2024-08-23 16:15:16,219] Trial 272 finished with value: 0.3584048335468497 and parameters: {'lambda_l1': 4.850547145651514, 'lambda_l2': 1.8142306321616063e-06, 'num_leaves': 213, 'feature_fraction': 0.9624132801124917, 'bagging_fraction': 0.7436386120195556, 'bagging_freq': 7, 'min_child_samples': 96}. Best is trial 237 with value: 0.37299163521315637.\n",
      "[I 2024-08-23 16:15:17,699] Trial 273 finished with value: 0.36040289860929 and parameters: {'lambda_l1': 6.7222123591289185, 'lambda_l2': 7.67425831680477e-06, 'num_leaves': 60, 'feature_fraction': 0.9682112734866763, 'bagging_fraction': 0.705302884485351, 'bagging_freq': 7, 'min_child_samples': 86}. Best is trial 237 with value: 0.37299163521315637.\n",
      "[I 2024-08-23 16:15:20,656] Trial 274 finished with value: 0.3424280932742607 and parameters: {'lambda_l1': 3.6756276148569467, 'lambda_l2': 5.752792325138283e-06, 'num_leaves': 248, 'feature_fraction': 0.9767204892077517, 'bagging_fraction': 0.6770668763722121, 'bagging_freq': 7, 'min_child_samples': 94}. Best is trial 237 with value: 0.37299163521315637.\n",
      "[I 2024-08-23 16:15:25,401] Trial 275 finished with value: 0.35991576949967796 and parameters: {'lambda_l1': 6.65329449275732, 'lambda_l2': 2.371506298775514e-06, 'num_leaves': 241, 'feature_fraction': 0.951197608641827, 'bagging_fraction': 0.7353400983522191, 'bagging_freq': 7, 'min_child_samples': 81}. Best is trial 237 with value: 0.37299163521315637.\n",
      "[I 2024-08-23 16:15:26,653] Trial 276 finished with value: 0.3426124068535311 and parameters: {'lambda_l1': 2.2857134299434394, 'lambda_l2': 3.362715072159663e-06, 'num_leaves': 222, 'feature_fraction': 0.991456776029257, 'bagging_fraction': 0.6946800163430171, 'bagging_freq': 7, 'min_child_samples': 89}. Best is trial 237 with value: 0.37299163521315637.\n",
      "[I 2024-08-23 16:15:31,582] Trial 277 finished with value: 0.33988459549967 and parameters: {'lambda_l1': 2.031137382394117e-06, 'lambda_l2': 1.8633472315248882e-06, 'num_leaves': 39, 'feature_fraction': 0.9663631673705224, 'bagging_fraction': 0.72259394144133, 'bagging_freq': 7, 'min_child_samples': 88}. Best is trial 237 with value: 0.37299163521315637.\n",
      "[I 2024-08-23 16:15:33,410] Trial 278 finished with value: 0.3573836204873634 and parameters: {'lambda_l1': 7.072331913531935, 'lambda_l2': 1.099509327169006e-06, 'num_leaves': 213, 'feature_fraction': 0.9780790330019082, 'bagging_fraction': 0.7144446424292771, 'bagging_freq': 7, 'min_child_samples': 93}. Best is trial 237 with value: 0.37299163521315637.\n",
      "[I 2024-08-23 16:15:34,214] Trial 279 finished with value: 0.36137365803577937 and parameters: {'lambda_l1': 9.862459680839688, 'lambda_l2': 9.810187378167676e-06, 'num_leaves': 237, 'feature_fraction': 0.9995881963138588, 'bagging_fraction': 0.7344986258499481, 'bagging_freq': 7, 'min_child_samples': 85}. Best is trial 237 with value: 0.37299163521315637.\n",
      "[I 2024-08-23 16:15:35,210] Trial 280 finished with value: 0.35175106194392636 and parameters: {'lambda_l1': 4.843979812508706, 'lambda_l2': 5.28343060690524e-06, 'num_leaves': 220, 'feature_fraction': 0.9467030221613996, 'bagging_fraction': 0.7059674462319953, 'bagging_freq': 7, 'min_child_samples': 91}. Best is trial 237 with value: 0.37299163521315637.\n",
      "[I 2024-08-23 16:15:35,730] Trial 281 finished with value: 0.35997475485541697 and parameters: {'lambda_l1': 3.578100847185701, 'lambda_l2': 2.9011257848670547e-06, 'num_leaves': 11, 'feature_fraction': 0.9636426854034095, 'bagging_fraction': 0.7562234239257497, 'bagging_freq': 7, 'min_child_samples': 82}. Best is trial 237 with value: 0.37299163521315637.\n",
      "[I 2024-08-23 16:15:36,630] Trial 282 finished with value: 0.36675202486308356 and parameters: {'lambda_l1': 6.821072972949071, 'lambda_l2': 5.056251715874005e-06, 'num_leaves': 234, 'feature_fraction': 0.9798362640169611, 'bagging_fraction': 0.725202160028091, 'bagging_freq': 7, 'min_child_samples': 87}. Best is trial 237 with value: 0.37299163521315637.\n",
      "[I 2024-08-23 16:15:37,599] Trial 283 finished with value: 0.35332948692625754 and parameters: {'lambda_l1': 5.562774081250122, 'lambda_l2': 1.7215193217591693e-05, 'num_leaves': 233, 'feature_fraction': 0.9898427393232255, 'bagging_fraction': 0.6890287506346443, 'bagging_freq': 7, 'min_child_samples': 87}. Best is trial 237 with value: 0.37299163521315637.\n",
      "[I 2024-08-23 16:15:38,949] Trial 284 finished with value: 0.3388284746224064 and parameters: {'lambda_l1': 2.3346994990158203, 'lambda_l2': 7.282008311815387e-06, 'num_leaves': 242, 'feature_fraction': 0.9559240682419059, 'bagging_fraction': 0.7139643224178677, 'bagging_freq': 7, 'min_child_samples': 84}. Best is trial 237 with value: 0.37299163521315637.\n",
      "[I 2024-08-23 16:15:40,222] Trial 285 finished with value: 0.36127832840736473 and parameters: {'lambda_l1': 4.776495620747116, 'lambda_l2': 4.573855653302599e-06, 'num_leaves': 231, 'feature_fraction': 0.9802868980881244, 'bagging_fraction': 0.7469958157522919, 'bagging_freq': 7, 'min_child_samples': 87}. Best is trial 237 with value: 0.37299163521315637.\n",
      "[I 2024-08-23 16:15:41,278] Trial 286 finished with value: 0.36454655844260664 and parameters: {'lambda_l1': 6.909904724096651, 'lambda_l2': 1.0292092901614103e-05, 'num_leaves': 236, 'feature_fraction': 0.9995154184730642, 'bagging_fraction': 0.7287958843215996, 'bagging_freq': 7, 'min_child_samples': 89}. Best is trial 237 with value: 0.37299163521315637.\n",
      "[I 2024-08-23 16:15:42,310] Trial 287 finished with value: 0.3482451263489684 and parameters: {'lambda_l1': 3.527747290727698, 'lambda_l2': 5.011948016919174e-06, 'num_leaves': 248, 'feature_fraction': 0.9675782111234922, 'bagging_fraction': 0.6957625836886404, 'bagging_freq': 7, 'min_child_samples': 86}. Best is trial 237 with value: 0.37299163521315637.\n",
      "[I 2024-08-23 16:15:43,425] Trial 288 finished with value: 0.3435684447144054 and parameters: {'lambda_l1': 6.799024528580686, 'lambda_l2': 3.381065519982733e-06, 'num_leaves': 225, 'feature_fraction': 0.9820297560987471, 'bagging_fraction': 0.6664028379684979, 'bagging_freq': 7, 'min_child_samples': 92}. Best is trial 237 with value: 0.37299163521315637.\n",
      "[I 2024-08-23 16:15:44,287] Trial 289 finished with value: 0.37106480292892396 and parameters: {'lambda_l1': 6.80983964985398, 'lambda_l2': 7.2149750564102e-06, 'num_leaves': 239, 'feature_fraction': 0.9494488047872303, 'bagging_fraction': 0.709976982108113, 'bagging_freq': 7, 'min_child_samples': 95}. Best is trial 237 with value: 0.37299163521315637.\n",
      "[I 2024-08-23 16:15:45,339] Trial 290 finished with value: 0.3561129643487305 and parameters: {'lambda_l1': 4.745919448900856, 'lambda_l2': 1.6088347832588073e-06, 'num_leaves': 240, 'feature_fraction': 0.9503591940115005, 'bagging_fraction': 0.705908924409498, 'bagging_freq': 7, 'min_child_samples': 95}. Best is trial 237 with value: 0.37299163521315637.\n",
      "[I 2024-08-23 16:15:46,464] Trial 291 finished with value: 0.341933623585039 and parameters: {'lambda_l1': 3.0355724137912192, 'lambda_l2': 6.178790807511546e-06, 'num_leaves': 231, 'feature_fraction': 0.9421363449302593, 'bagging_fraction': 0.7162221785866806, 'bagging_freq': 7, 'min_child_samples': 97}. Best is trial 237 with value: 0.37299163521315637.\n",
      "[I 2024-08-23 16:15:47,376] Trial 292 finished with value: 0.3629155300893018 and parameters: {'lambda_l1': 9.917346055069025, 'lambda_l2': 3.248782867336501e-06, 'num_leaves': 245, 'feature_fraction': 0.9668564039201074, 'bagging_fraction': 0.7356665383584395, 'bagging_freq': 7, 'min_child_samples': 94}. Best is trial 237 with value: 0.37299163521315637.\n",
      "[I 2024-08-23 16:15:48,285] Trial 293 finished with value: 0.35522917678874355 and parameters: {'lambda_l1': 6.692900827437743, 'lambda_l2': 2.316451648145393e-06, 'num_leaves': 238, 'feature_fraction': 0.9768919917488578, 'bagging_fraction': 0.7259878003266116, 'bagging_freq': 7, 'min_child_samples': 91}. Best is trial 237 with value: 0.37299163521315637.\n",
      "[I 2024-08-23 16:15:49,269] Trial 294 finished with value: 0.3522113396329045 and parameters: {'lambda_l1': 4.438561784274674, 'lambda_l2': 9.392968977423266e-07, 'num_leaves': 235, 'feature_fraction': 0.9591242339068972, 'bagging_fraction': 0.6995219372049656, 'bagging_freq': 7, 'min_child_samples': 96}. Best is trial 237 with value: 0.37299163521315637.\n",
      "[I 2024-08-23 16:15:50,419] Trial 295 finished with value: 0.3493576612852337 and parameters: {'lambda_l1': 1.7163813205629574, 'lambda_l2': 4.402951051740598e-06, 'num_leaves': 85, 'feature_fraction': 0.6004579144881002, 'bagging_fraction': 0.7127857040264339, 'bagging_freq': 7, 'min_child_samples': 90}. Best is trial 237 with value: 0.37299163521315637.\n",
      "[I 2024-08-23 16:15:51,268] Trial 296 finished with value: 0.35335098179178615 and parameters: {'lambda_l1': 6.78717491514265, 'lambda_l2': 7.481641204465563e-06, 'num_leaves': 229, 'feature_fraction': 0.9883954118356791, 'bagging_fraction': 0.678568044033725, 'bagging_freq': 7, 'min_child_samples': 93}. Best is trial 237 with value: 0.37299163521315637.\n",
      "[I 2024-08-23 16:15:52,201] Trial 297 finished with value: 0.35089889018669873 and parameters: {'lambda_l1': 5.207261550884283, 'lambda_l2': 1.4756224784329614e-06, 'num_leaves': 242, 'feature_fraction': 0.9570289298863291, 'bagging_fraction': 0.7226281285269448, 'bagging_freq': 7, 'min_child_samples': 88}. Best is trial 237 with value: 0.37299163521315637.\n",
      "[I 2024-08-23 16:15:53,249] Trial 298 finished with value: 0.3466778632301094 and parameters: {'lambda_l1': 3.3843112527490424, 'lambda_l2': 2.6108492402178755e-06, 'num_leaves': 223, 'feature_fraction': 0.9736451675724151, 'bagging_fraction': 0.7387399454193749, 'bagging_freq': 7, 'min_child_samples': 93}. Best is trial 237 with value: 0.37299163521315637.\n",
      "[I 2024-08-23 16:15:54,001] Trial 299 finished with value: 0.35511957762713464 and parameters: {'lambda_l1': 9.818197473348707, 'lambda_l2': 4.445398394737973e-06, 'num_leaves': 233, 'feature_fraction': 0.9897455164660317, 'bagging_fraction': 0.6855862549741824, 'bagging_freq': 7, 'min_child_samples': 90}. Best is trial 237 with value: 0.37299163521315637.\n"
     ]
    }
   ],
   "source": [
    "#Defino el estudio a optimizar\n",
    "study = optuna.create_study(direction='maximize', #buscamos maximizar la metrica\n",
    "                            storage=\"sqlite:///../src/db.sqlite3\",  # Specify the storage URL here.\n",
    "                            study_name=\"04 - LGB Multiclass\", #nombre del experimento\n",
    "                            load_if_exists=True) #continuar si ya existe\n",
    "\n",
    "#Corremos 100 trials para buscar mejores parametros\n",
    "study.optimize(lgb_objective, n_trials=100)"
   ]
  },
  {
   "cell_type": "code",
   "execution_count": 12,
   "metadata": {},
   "outputs": [
    {
     "data": {
      "text/html": [
       "<pre style=\"white-space:pre;overflow-x:auto;line-height:normal;font-family:Menlo,'DejaVu Sans Mono',consolas,'Courier New',monospace\"></pre>\n"
      ],
      "text/plain": []
     },
     "metadata": {},
     "output_type": "display_data"
    },
    {
     "data": {
      "text/plain": [
       "\n",
       "\u001b[1m{\u001b[0m\n",
       "    \u001b[32m'lambda_l1'\u001b[0m: \u001b[1;36m9.9811567627623\u001b[0m,\n",
       "    \u001b[32m'lambda_l2'\u001b[0m: \u001b[1;36m4.063506237329485e-06\u001b[0m,\n",
       "    \u001b[32m'num_leaves'\u001b[0m: \u001b[1;36m234\u001b[0m,\n",
       "    \u001b[32m'feature_fraction'\u001b[0m: \u001b[1;36m0.963385272686421\u001b[0m,\n",
       "    \u001b[32m'bagging_fraction'\u001b[0m: \u001b[1;36m0.7240942432705437\u001b[0m,\n",
       "    \u001b[32m'bagging_freq'\u001b[0m: \u001b[1;36m7\u001b[0m,\n",
       "    \u001b[32m'min_child_samples'\u001b[0m: \u001b[1;36m91\u001b[0m\n",
       "\u001b[1m}\u001b[0m"
      ]
     },
     "execution_count": 12,
     "metadata": {},
     "output_type": "execute_result"
    }
   ],
   "source": [
    "#Obtenemos mejor resultado\n",
    "study.best_params"
   ]
  },
  {
   "cell_type": "markdown",
   "metadata": {},
   "source": [
    "### Entreno con los mejores parametros de optuna"
   ]
  },
  {
   "cell_type": "code",
   "execution_count": 13,
   "metadata": {},
   "outputs": [
    {
     "data": {
      "application/vnd.plotly.v1+json": {
       "config": {
        "plotlyServerURL": "https://plot.ly"
       },
       "data": [
        {
         "type": "heatmap",
         "x": [
          0,
          1,
          2,
          3,
          4
         ],
         "y": [
          0,
          1,
          2,
          3,
          4
         ],
         "z": [
          [
           0,
           34.959349593495936,
           27.64227642276423,
           7.317073170731707,
           30.081300813008134
          ],
          [
           0,
           36.89320388349515,
           37.86407766990291,
           4.746494066882416,
           20.496224379719525
          ],
          [
           0,
           19.240297274979355,
           41.535920726672174,
           10.900082576383156,
           28.32369942196532
          ],
          [
           0,
           14.11042944785276,
           34.76482617586912,
           17.68916155419223,
           33.43558282208589
          ],
          [
           0,
           7.307386814932486,
           17.79189833200953,
           6.98967434471803,
           67.91104050833995
          ]
         ]
        }
       ],
       "layout": {
        "annotations": [
         {
          "font": {
           "color": "white"
          },
          "showarrow": false,
          "text": "0.0 - 0",
          "x": 0,
          "xref": "x",
          "y": 0,
          "yref": "y"
         },
         {
          "font": {
           "color": "white"
          },
          "showarrow": false,
          "text": "35.0 - 43",
          "x": 1,
          "xref": "x",
          "y": 0,
          "yref": "y"
         },
         {
          "font": {
           "color": "white"
          },
          "showarrow": false,
          "text": "27.6 - 34",
          "x": 2,
          "xref": "x",
          "y": 0,
          "yref": "y"
         },
         {
          "font": {
           "color": "white"
          },
          "showarrow": false,
          "text": "7.3 - 9",
          "x": 3,
          "xref": "x",
          "y": 0,
          "yref": "y"
         },
         {
          "font": {
           "color": "white"
          },
          "showarrow": false,
          "text": "30.1 - 37",
          "x": 4,
          "xref": "x",
          "y": 0,
          "yref": "y"
         },
         {
          "font": {
           "color": "white"
          },
          "showarrow": false,
          "text": "0.0 - 0",
          "x": 0,
          "xref": "x",
          "y": 1,
          "yref": "y"
         },
         {
          "font": {
           "color": "white"
          },
          "showarrow": false,
          "text": "36.9 - 342",
          "x": 1,
          "xref": "x",
          "y": 1,
          "yref": "y"
         },
         {
          "font": {
           "color": "white"
          },
          "showarrow": false,
          "text": "37.9 - 351",
          "x": 2,
          "xref": "x",
          "y": 1,
          "yref": "y"
         },
         {
          "font": {
           "color": "white"
          },
          "showarrow": false,
          "text": "4.7 - 44",
          "x": 3,
          "xref": "x",
          "y": 1,
          "yref": "y"
         },
         {
          "font": {
           "color": "white"
          },
          "showarrow": false,
          "text": "20.5 - 190",
          "x": 4,
          "xref": "x",
          "y": 1,
          "yref": "y"
         },
         {
          "font": {
           "color": "white"
          },
          "showarrow": false,
          "text": "0.0 - 0",
          "x": 0,
          "xref": "x",
          "y": 2,
          "yref": "y"
         },
         {
          "font": {
           "color": "white"
          },
          "showarrow": false,
          "text": "19.2 - 233",
          "x": 1,
          "xref": "x",
          "y": 2,
          "yref": "y"
         },
         {
          "font": {
           "color": "white"
          },
          "showarrow": false,
          "text": "41.5 - 503",
          "x": 2,
          "xref": "x",
          "y": 2,
          "yref": "y"
         },
         {
          "font": {
           "color": "white"
          },
          "showarrow": false,
          "text": "10.9 - 132",
          "x": 3,
          "xref": "x",
          "y": 2,
          "yref": "y"
         },
         {
          "font": {
           "color": "white"
          },
          "showarrow": false,
          "text": "28.3 - 343",
          "x": 4,
          "xref": "x",
          "y": 2,
          "yref": "y"
         },
         {
          "font": {
           "color": "white"
          },
          "showarrow": false,
          "text": "0.0 - 0",
          "x": 0,
          "xref": "x",
          "y": 3,
          "yref": "y"
         },
         {
          "font": {
           "color": "white"
          },
          "showarrow": false,
          "text": "14.1 - 138",
          "x": 1,
          "xref": "x",
          "y": 3,
          "yref": "y"
         },
         {
          "font": {
           "color": "white"
          },
          "showarrow": false,
          "text": "34.8 - 340",
          "x": 2,
          "xref": "x",
          "y": 3,
          "yref": "y"
         },
         {
          "font": {
           "color": "white"
          },
          "showarrow": false,
          "text": "17.7 - 173",
          "x": 3,
          "xref": "x",
          "y": 3,
          "yref": "y"
         },
         {
          "font": {
           "color": "white"
          },
          "showarrow": false,
          "text": "33.4 - 327",
          "x": 4,
          "xref": "x",
          "y": 3,
          "yref": "y"
         },
         {
          "font": {
           "color": "white"
          },
          "showarrow": false,
          "text": "0.0 - 0",
          "x": 0,
          "xref": "x",
          "y": 4,
          "yref": "y"
         },
         {
          "font": {
           "color": "white"
          },
          "showarrow": false,
          "text": "7.3 - 92",
          "x": 1,
          "xref": "x",
          "y": 4,
          "yref": "y"
         },
         {
          "font": {
           "color": "white"
          },
          "showarrow": false,
          "text": "17.8 - 224",
          "x": 2,
          "xref": "x",
          "y": 4,
          "yref": "y"
         },
         {
          "font": {
           "color": "white"
          },
          "showarrow": false,
          "text": "7.0 - 88",
          "x": 3,
          "xref": "x",
          "y": 4,
          "yref": "y"
         },
         {
          "font": {
           "color": "white"
          },
          "showarrow": false,
          "text": "67.9 - 855",
          "x": 4,
          "xref": "x",
          "y": 4,
          "yref": "y"
         }
        ],
        "height": 800,
        "template": {
         "data": {
          "bar": [
           {
            "error_x": {
             "color": "#2a3f5f"
            },
            "error_y": {
             "color": "#2a3f5f"
            },
            "marker": {
             "line": {
              "color": "#E5ECF6",
              "width": 0.5
             },
             "pattern": {
              "fillmode": "overlay",
              "size": 10,
              "solidity": 0.2
             }
            },
            "type": "bar"
           }
          ],
          "barpolar": [
           {
            "marker": {
             "line": {
              "color": "#E5ECF6",
              "width": 0.5
             },
             "pattern": {
              "fillmode": "overlay",
              "size": 10,
              "solidity": 0.2
             }
            },
            "type": "barpolar"
           }
          ],
          "carpet": [
           {
            "aaxis": {
             "endlinecolor": "#2a3f5f",
             "gridcolor": "white",
             "linecolor": "white",
             "minorgridcolor": "white",
             "startlinecolor": "#2a3f5f"
            },
            "baxis": {
             "endlinecolor": "#2a3f5f",
             "gridcolor": "white",
             "linecolor": "white",
             "minorgridcolor": "white",
             "startlinecolor": "#2a3f5f"
            },
            "type": "carpet"
           }
          ],
          "choropleth": [
           {
            "colorbar": {
             "outlinewidth": 0,
             "ticks": ""
            },
            "type": "choropleth"
           }
          ],
          "contour": [
           {
            "colorbar": {
             "outlinewidth": 0,
             "ticks": ""
            },
            "colorscale": [
             [
              0,
              "#0d0887"
             ],
             [
              0.1111111111111111,
              "#46039f"
             ],
             [
              0.2222222222222222,
              "#7201a8"
             ],
             [
              0.3333333333333333,
              "#9c179e"
             ],
             [
              0.4444444444444444,
              "#bd3786"
             ],
             [
              0.5555555555555556,
              "#d8576b"
             ],
             [
              0.6666666666666666,
              "#ed7953"
             ],
             [
              0.7777777777777778,
              "#fb9f3a"
             ],
             [
              0.8888888888888888,
              "#fdca26"
             ],
             [
              1,
              "#f0f921"
             ]
            ],
            "type": "contour"
           }
          ],
          "contourcarpet": [
           {
            "colorbar": {
             "outlinewidth": 0,
             "ticks": ""
            },
            "type": "contourcarpet"
           }
          ],
          "heatmap": [
           {
            "colorbar": {
             "outlinewidth": 0,
             "ticks": ""
            },
            "colorscale": [
             [
              0,
              "#0d0887"
             ],
             [
              0.1111111111111111,
              "#46039f"
             ],
             [
              0.2222222222222222,
              "#7201a8"
             ],
             [
              0.3333333333333333,
              "#9c179e"
             ],
             [
              0.4444444444444444,
              "#bd3786"
             ],
             [
              0.5555555555555556,
              "#d8576b"
             ],
             [
              0.6666666666666666,
              "#ed7953"
             ],
             [
              0.7777777777777778,
              "#fb9f3a"
             ],
             [
              0.8888888888888888,
              "#fdca26"
             ],
             [
              1,
              "#f0f921"
             ]
            ],
            "type": "heatmap"
           }
          ],
          "heatmapgl": [
           {
            "colorbar": {
             "outlinewidth": 0,
             "ticks": ""
            },
            "colorscale": [
             [
              0,
              "#0d0887"
             ],
             [
              0.1111111111111111,
              "#46039f"
             ],
             [
              0.2222222222222222,
              "#7201a8"
             ],
             [
              0.3333333333333333,
              "#9c179e"
             ],
             [
              0.4444444444444444,
              "#bd3786"
             ],
             [
              0.5555555555555556,
              "#d8576b"
             ],
             [
              0.6666666666666666,
              "#ed7953"
             ],
             [
              0.7777777777777778,
              "#fb9f3a"
             ],
             [
              0.8888888888888888,
              "#fdca26"
             ],
             [
              1,
              "#f0f921"
             ]
            ],
            "type": "heatmapgl"
           }
          ],
          "histogram": [
           {
            "marker": {
             "pattern": {
              "fillmode": "overlay",
              "size": 10,
              "solidity": 0.2
             }
            },
            "type": "histogram"
           }
          ],
          "histogram2d": [
           {
            "colorbar": {
             "outlinewidth": 0,
             "ticks": ""
            },
            "colorscale": [
             [
              0,
              "#0d0887"
             ],
             [
              0.1111111111111111,
              "#46039f"
             ],
             [
              0.2222222222222222,
              "#7201a8"
             ],
             [
              0.3333333333333333,
              "#9c179e"
             ],
             [
              0.4444444444444444,
              "#bd3786"
             ],
             [
              0.5555555555555556,
              "#d8576b"
             ],
             [
              0.6666666666666666,
              "#ed7953"
             ],
             [
              0.7777777777777778,
              "#fb9f3a"
             ],
             [
              0.8888888888888888,
              "#fdca26"
             ],
             [
              1,
              "#f0f921"
             ]
            ],
            "type": "histogram2d"
           }
          ],
          "histogram2dcontour": [
           {
            "colorbar": {
             "outlinewidth": 0,
             "ticks": ""
            },
            "colorscale": [
             [
              0,
              "#0d0887"
             ],
             [
              0.1111111111111111,
              "#46039f"
             ],
             [
              0.2222222222222222,
              "#7201a8"
             ],
             [
              0.3333333333333333,
              "#9c179e"
             ],
             [
              0.4444444444444444,
              "#bd3786"
             ],
             [
              0.5555555555555556,
              "#d8576b"
             ],
             [
              0.6666666666666666,
              "#ed7953"
             ],
             [
              0.7777777777777778,
              "#fb9f3a"
             ],
             [
              0.8888888888888888,
              "#fdca26"
             ],
             [
              1,
              "#f0f921"
             ]
            ],
            "type": "histogram2dcontour"
           }
          ],
          "mesh3d": [
           {
            "colorbar": {
             "outlinewidth": 0,
             "ticks": ""
            },
            "type": "mesh3d"
           }
          ],
          "parcoords": [
           {
            "line": {
             "colorbar": {
              "outlinewidth": 0,
              "ticks": ""
             }
            },
            "type": "parcoords"
           }
          ],
          "pie": [
           {
            "automargin": true,
            "type": "pie"
           }
          ],
          "scatter": [
           {
            "fillpattern": {
             "fillmode": "overlay",
             "size": 10,
             "solidity": 0.2
            },
            "type": "scatter"
           }
          ],
          "scatter3d": [
           {
            "line": {
             "colorbar": {
              "outlinewidth": 0,
              "ticks": ""
             }
            },
            "marker": {
             "colorbar": {
              "outlinewidth": 0,
              "ticks": ""
             }
            },
            "type": "scatter3d"
           }
          ],
          "scattercarpet": [
           {
            "marker": {
             "colorbar": {
              "outlinewidth": 0,
              "ticks": ""
             }
            },
            "type": "scattercarpet"
           }
          ],
          "scattergeo": [
           {
            "marker": {
             "colorbar": {
              "outlinewidth": 0,
              "ticks": ""
             }
            },
            "type": "scattergeo"
           }
          ],
          "scattergl": [
           {
            "marker": {
             "colorbar": {
              "outlinewidth": 0,
              "ticks": ""
             }
            },
            "type": "scattergl"
           }
          ],
          "scattermapbox": [
           {
            "marker": {
             "colorbar": {
              "outlinewidth": 0,
              "ticks": ""
             }
            },
            "type": "scattermapbox"
           }
          ],
          "scatterpolar": [
           {
            "marker": {
             "colorbar": {
              "outlinewidth": 0,
              "ticks": ""
             }
            },
            "type": "scatterpolar"
           }
          ],
          "scatterpolargl": [
           {
            "marker": {
             "colorbar": {
              "outlinewidth": 0,
              "ticks": ""
             }
            },
            "type": "scatterpolargl"
           }
          ],
          "scatterternary": [
           {
            "marker": {
             "colorbar": {
              "outlinewidth": 0,
              "ticks": ""
             }
            },
            "type": "scatterternary"
           }
          ],
          "surface": [
           {
            "colorbar": {
             "outlinewidth": 0,
             "ticks": ""
            },
            "colorscale": [
             [
              0,
              "#0d0887"
             ],
             [
              0.1111111111111111,
              "#46039f"
             ],
             [
              0.2222222222222222,
              "#7201a8"
             ],
             [
              0.3333333333333333,
              "#9c179e"
             ],
             [
              0.4444444444444444,
              "#bd3786"
             ],
             [
              0.5555555555555556,
              "#d8576b"
             ],
             [
              0.6666666666666666,
              "#ed7953"
             ],
             [
              0.7777777777777778,
              "#fb9f3a"
             ],
             [
              0.8888888888888888,
              "#fdca26"
             ],
             [
              1,
              "#f0f921"
             ]
            ],
            "type": "surface"
           }
          ],
          "table": [
           {
            "cells": {
             "fill": {
              "color": "#EBF0F8"
             },
             "line": {
              "color": "white"
             }
            },
            "header": {
             "fill": {
              "color": "#C8D4E3"
             },
             "line": {
              "color": "white"
             }
            },
            "type": "table"
           }
          ]
         },
         "layout": {
          "annotationdefaults": {
           "arrowcolor": "#2a3f5f",
           "arrowhead": 0,
           "arrowwidth": 1
          },
          "autotypenumbers": "strict",
          "coloraxis": {
           "colorbar": {
            "outlinewidth": 0,
            "ticks": ""
           }
          },
          "colorscale": {
           "diverging": [
            [
             0,
             "#8e0152"
            ],
            [
             0.1,
             "#c51b7d"
            ],
            [
             0.2,
             "#de77ae"
            ],
            [
             0.3,
             "#f1b6da"
            ],
            [
             0.4,
             "#fde0ef"
            ],
            [
             0.5,
             "#f7f7f7"
            ],
            [
             0.6,
             "#e6f5d0"
            ],
            [
             0.7,
             "#b8e186"
            ],
            [
             0.8,
             "#7fbc41"
            ],
            [
             0.9,
             "#4d9221"
            ],
            [
             1,
             "#276419"
            ]
           ],
           "sequential": [
            [
             0,
             "#0d0887"
            ],
            [
             0.1111111111111111,
             "#46039f"
            ],
            [
             0.2222222222222222,
             "#7201a8"
            ],
            [
             0.3333333333333333,
             "#9c179e"
            ],
            [
             0.4444444444444444,
             "#bd3786"
            ],
            [
             0.5555555555555556,
             "#d8576b"
            ],
            [
             0.6666666666666666,
             "#ed7953"
            ],
            [
             0.7777777777777778,
             "#fb9f3a"
            ],
            [
             0.8888888888888888,
             "#fdca26"
            ],
            [
             1,
             "#f0f921"
            ]
           ],
           "sequentialminus": [
            [
             0,
             "#0d0887"
            ],
            [
             0.1111111111111111,
             "#46039f"
            ],
            [
             0.2222222222222222,
             "#7201a8"
            ],
            [
             0.3333333333333333,
             "#9c179e"
            ],
            [
             0.4444444444444444,
             "#bd3786"
            ],
            [
             0.5555555555555556,
             "#d8576b"
            ],
            [
             0.6666666666666666,
             "#ed7953"
            ],
            [
             0.7777777777777778,
             "#fb9f3a"
            ],
            [
             0.8888888888888888,
             "#fdca26"
            ],
            [
             1,
             "#f0f921"
            ]
           ]
          },
          "colorway": [
           "#636efa",
           "#EF553B",
           "#00cc96",
           "#ab63fa",
           "#FFA15A",
           "#19d3f3",
           "#FF6692",
           "#B6E880",
           "#FF97FF",
           "#FECB52"
          ],
          "font": {
           "color": "#2a3f5f"
          },
          "geo": {
           "bgcolor": "white",
           "lakecolor": "white",
           "landcolor": "#E5ECF6",
           "showlakes": true,
           "showland": true,
           "subunitcolor": "white"
          },
          "hoverlabel": {
           "align": "left"
          },
          "hovermode": "closest",
          "mapbox": {
           "style": "light"
          },
          "paper_bgcolor": "white",
          "plot_bgcolor": "#E5ECF6",
          "polar": {
           "angularaxis": {
            "gridcolor": "white",
            "linecolor": "white",
            "ticks": ""
           },
           "bgcolor": "#E5ECF6",
           "radialaxis": {
            "gridcolor": "white",
            "linecolor": "white",
            "ticks": ""
           }
          },
          "scene": {
           "xaxis": {
            "backgroundcolor": "#E5ECF6",
            "gridcolor": "white",
            "gridwidth": 2,
            "linecolor": "white",
            "showbackground": true,
            "ticks": "",
            "zerolinecolor": "white"
           },
           "yaxis": {
            "backgroundcolor": "#E5ECF6",
            "gridcolor": "white",
            "gridwidth": 2,
            "linecolor": "white",
            "showbackground": true,
            "ticks": "",
            "zerolinecolor": "white"
           },
           "zaxis": {
            "backgroundcolor": "#E5ECF6",
            "gridcolor": "white",
            "gridwidth": 2,
            "linecolor": "white",
            "showbackground": true,
            "ticks": "",
            "zerolinecolor": "white"
           }
          },
          "shapedefaults": {
           "line": {
            "color": "#2a3f5f"
           }
          },
          "ternary": {
           "aaxis": {
            "gridcolor": "white",
            "linecolor": "white",
            "ticks": ""
           },
           "baxis": {
            "gridcolor": "white",
            "linecolor": "white",
            "ticks": ""
           },
           "bgcolor": "#E5ECF6",
           "caxis": {
            "gridcolor": "white",
            "linecolor": "white",
            "ticks": ""
           }
          },
          "title": {
           "x": 0.05
          },
          "xaxis": {
           "automargin": true,
           "gridcolor": "white",
           "linecolor": "white",
           "ticks": "",
           "title": {
            "standoff": 15
           },
           "zerolinecolor": "white",
           "zerolinewidth": 2
          },
          "yaxis": {
           "automargin": true,
           "gridcolor": "white",
           "linecolor": "white",
           "ticks": "",
           "title": {
            "standoff": 15
           },
           "zerolinecolor": "white",
           "zerolinewidth": 2
          }
         }
        },
        "title": {
         "text": "Conf Matrix"
        },
        "width": 800,
        "xaxis": {
         "title": {
          "text": "Predicted value"
         }
        },
        "yaxis": {
         "title": {
          "text": "Real value"
         }
        }
       }
      }
     },
     "metadata": {},
     "output_type": "display_data"
    },
    {
     "data": {
      "text/html": [
       "<pre style=\"white-space:pre;overflow-x:auto;line-height:normal;font-family:Menlo,'DejaVu Sans Mono',consolas,'Courier New',monospace\"></pre>\n"
      ],
      "text/plain": []
     },
     "metadata": {},
     "output_type": "display_data"
    },
    {
     "data": {
      "text/plain": [
       "\u001b[1;36m0.37299163521315637\u001b[0m"
      ]
     },
     "execution_count": 13,
     "metadata": {},
     "output_type": "execute_result"
    }
   ],
   "source": [
    "#Vamos a replicar el resultado de la optimizacion reentrenando el modelo con el mejor conjunto de hiperparametros\n",
    "#Generamos parametros incluyendo los fijos y la mejor solución que encontro optuna\n",
    "lgb_params =  {      \n",
    "                        'objective': 'multiclass',\n",
    "                        'verbosity':-1,\n",
    "                        'num_class': len(y_train.unique())} | study.best_params\n",
    "\n",
    "lgb_train_dataset = lgb.Dataset(data=X_train,\n",
    "                                label=y_train)\n",
    "\n",
    "\n",
    "#Entreno\n",
    "lgb_model = lgb.train(lgb_params,\n",
    "                    lgb_train_dataset)\n",
    "\n",
    "#Muestro matriz de confusion y kappa\n",
    "display(plot_confusion_matrix(y_test,lgb_model.predict(X_test).argmax(axis=1)))\n",
    "\n",
    "cohen_kappa_score(y_test,lgb_model.predict(X_test).argmax(axis=1),\n",
    "                             weights = 'quadratic')\n"
   ]
  },
  {
   "cell_type": "code",
   "execution_count": 19,
   "metadata": {},
   "outputs": [
    {
     "data": {
      "text/html": [
       "<pre style=\"white-space:pre;overflow-x:auto;line-height:normal;font-family:Menlo,'DejaVu Sans Mono',consolas,'Courier New',monospace\"></pre>\n"
      ],
      "text/plain": []
     },
     "metadata": {},
     "output_type": "display_data"
    },
    {
     "data": {
      "text/plain": [
       "\n",
       "AdoptionSpeed\n",
       "\u001b[1;36m4\u001b[0m    \u001b[1;36m1259\u001b[0m\n",
       "\u001b[1;36m2\u001b[0m    \u001b[1;36m1211\u001b[0m\n",
       "\u001b[1;36m3\u001b[0m     \u001b[1;36m978\u001b[0m\n",
       "\u001b[1;36m1\u001b[0m     \u001b[1;36m927\u001b[0m\n",
       "\u001b[1;36m0\u001b[0m     \u001b[1;36m123\u001b[0m\n",
       "Name: count, dtype: int64"
      ]
     },
     "execution_count": 19,
     "metadata": {},
     "output_type": "execute_result"
    }
   ],
   "source": [
    "test[target].value_counts()"
   ]
  },
  {
   "cell_type": "markdown",
   "metadata": {},
   "source": [
    "## Modelo con CV "
   ]
  },
  {
   "cell_type": "code",
   "execution_count": 14,
   "metadata": {},
   "outputs": [],
   "source": [
    "#Genero una metrica para que lightGBM haga la evaluación y pueda hacer early_stopping en el cross validation\n",
    "def lgb_custom_metric_kappa(dy_pred, dy_true):\n",
    "    metric_name = 'kappa'\n",
    "    value = cohen_kappa_score(dy_true.get_label(),dy_pred.argmax(axis=1),weights = 'quadratic')\n",
    "    is_higher_better = True\n",
    "    return(metric_name, value, is_higher_better)\n",
    "\n",
    "#Funcion objetivo a optimizar. En este caso vamos a hacer 5fold cv sobre el conjunto de train. \n",
    "# El score de CV es el objetivo a optimizar. Ademas vamos a usar los 5 modelos del CV para estimar el conjunto de test,\n",
    "# registraremos en optuna las predicciones, matriz de confusion y el score en test.\n",
    "# CV Score -> Se usa para determinar el rendimiento de los hiperparametros con precision \n",
    "# Test Score -> Nos permite testear que esta todo OK, no use (ni debo usar) esos datos para nada en el entrenamiento \n",
    "# o la optimizacion de hiperparametros\n",
    "\n",
    "def cv_es_lgb_objective(trial):\n",
    "\n",
    "    #PArametros para LightGBM\n",
    "    lgb_params = {      \n",
    "                        #PArametros fijos\n",
    "                        'objective': 'multiclass',\n",
    "                        'verbosity':-1,\n",
    "                        'num_class': len(y_train.unique()),\n",
    "                        #Hiperparametros a optimizar utilizando suggest_float o suggest_int segun el tipo de dato\n",
    "                        #Se indica el nombre del parametro, valor minimo, valor maximo \n",
    "                        #en elgunos casos el parametro log=True para parametros que requieren buscar en esa escala\n",
    "                        'lambda_l1': trial.suggest_float('lambda_l1', 1e-8, 10.0, log=True),\n",
    "                        'lambda_l2': trial.suggest_float('lambda_l2', 1e-8, 10.0, log=True),\n",
    "                        'num_leaves': trial.suggest_int('num_leaves', 2, 256),\n",
    "                        'feature_fraction': trial.suggest_float('feature_fraction', 0.4, 1.0),\n",
    "                        'bagging_fraction': trial.suggest_float('bagging_fraction', 0.4, 1.0),\n",
    "                        'bagging_freq': trial.suggest_int('bagging_freq', 1, 7),\n",
    "                        'min_child_samples': trial.suggest_int('min_child_samples', 5, 100),\n",
    "                        } \n",
    "\n",
    "    #Voy a generar estimaciones de los 5 modelos del CV sobre los datos test y los acumulo en la matriz scores_ensemble\n",
    "    scores_ensemble = np.zeros((len(y_test),len(y_train.unique())))\n",
    "\n",
    "    #Score del 5 fold CV inicializado en 0\n",
    "    score_folds = 0\n",
    "\n",
    "    #Numero de splits del CV\n",
    "    n_splits = 5\n",
    "\n",
    "    #Objeto para hacer el split estratificado de CV\n",
    "    skf = StratifiedKFold(n_splits=n_splits)\n",
    "\n",
    "    for i, (if_index, oof_index) in enumerate(skf.split(X_train, y_train)):\n",
    "        \n",
    "        #Dataset in fold (donde entreno) \n",
    "        lgb_if_dataset = lgb.Dataset(data=X_train.iloc[if_index],\n",
    "                                        label=y_train.iloc[if_index],\n",
    "                                        free_raw_data=False)\n",
    "        \n",
    "        #Dataset Out of fold (donde mido la performance del CV)\n",
    "        lgb_oof_dataset = lgb.Dataset(data=X_train.iloc[oof_index],\n",
    "                                        label=y_train.iloc[oof_index],\n",
    "                                        free_raw_data=False)\n",
    "\n",
    "        #Entreno el modelo\n",
    "        lgb_model = lgb.train(lgb_params,\n",
    "                                lgb_if_dataset,\n",
    "                                valid_sets=lgb_oof_dataset,\n",
    "                                callbacks=[lgb.early_stopping(10, verbose=False)],\n",
    "                                feval = lgb_custom_metric_kappa\n",
    "                                )\n",
    "        \n",
    "        #Acumulo los scores (probabilidades) de cada clase para cada uno de los modelos que determino en los folds\n",
    "        #Se predice el 20% de los datos que separe para tes y no uso para entrenar en ningun fold\n",
    "        scores_ensemble = scores_ensemble + lgb_model.predict(X_test)\n",
    "        \n",
    "        #Score del fold (registros de dataset train que en este fold quedan out of fold)\n",
    "        score_folds = score_folds + cohen_kappa_score(y_train.iloc[oof_index], \n",
    "                                                            lgb_model.predict(X_train.iloc[oof_index]).argmax(axis=1),weights = 'quadratic')/n_splits\n",
    "\n",
    "\n",
    "    #Guardo prediccion del trial sobre el conjunto de test\n",
    "    # Genero nombre de archivo\n",
    "    predicted_filename = os.path.join(PATH_TO_TEMP_FILES,f'test_{trial.study.study_name}_{trial.number}.joblib')\n",
    "    # Copia del dataset para guardar la prediccion\n",
    "    predicted_df = test.copy()\n",
    "    # Genero columna pred con predicciones sumadas de los 5 folds\n",
    "    predicted_df['pred'] = [scores_ensemble[p,:] for p in range(scores_ensemble.shape[0])]\n",
    "    # Grabo dataframe en temp_artifacts\n",
    "    dump(predicted_df, predicted_filename)\n",
    "    # Indico a optuna que asocie el archivo generado al trial\n",
    "    upload_artifact(trial, predicted_filename, artifact_store)    \n",
    "\n",
    "    #Grabo natriz de confusion\n",
    "    #Nombre de archivo\n",
    "    cm_filename = os.path.join(PATH_TO_TEMP_FILES,f'cm_{trial.study.study_name}_{trial.number}.jpg')\n",
    "    #Grabo archivo\n",
    "    plot_confusion_matrix(y_test,scores_ensemble.argmax(axis=1)).write_image(cm_filename)\n",
    "    #Asocio al trial\n",
    "    upload_artifact(trial, cm_filename, artifact_store)\n",
    "\n",
    "    #Determino score en conjunto de test y asocio como metrica adicional en optuna\n",
    "    test_score = cohen_kappa_score(y_test,scores_ensemble.argmax(axis=1),weights = 'quadratic')\n",
    "    trial.set_user_attr(\"test_score\", test_score)\n",
    "\n",
    "    #Devuelvo score del 5fold cv a optuna para que optimice en base a eso\n",
    "    return(score_folds)"
   ]
  },
  {
   "cell_type": "code",
   "execution_count": 22,
   "metadata": {},
   "outputs": [
    {
     "name": "stderr",
     "output_type": "stream",
     "text": [
      "[I 2024-08-23 16:24:26,427] Using an existing study with name '04 - LGB Multiclass CV' instead of creating a new one.\n",
      "[I 2024-08-23 16:24:32,357] Trial 100 finished with value: 0.32965043926574034 and parameters: {'lambda_l1': 1.3543941505437676e-07, 'lambda_l2': 0.0033351246620067403, 'num_leaves': 4, 'feature_fraction': 0.6134754113323936, 'bagging_fraction': 0.8761652060734261, 'bagging_freq': 3, 'min_child_samples': 55}. Best is trial 83 with value: 0.36524086892355434.\n",
      "[I 2024-08-23 16:24:37,796] Trial 101 finished with value: 0.3337981061111496 and parameters: {'lambda_l1': 3.950007126853082e-08, 'lambda_l2': 0.0013268282135546878, 'num_leaves': 151, 'feature_fraction': 0.5267479386989775, 'bagging_fraction': 0.7869354345321885, 'bagging_freq': 3, 'min_child_samples': 62}. Best is trial 83 with value: 0.36524086892355434.\n",
      "[I 2024-08-23 16:24:42,147] Trial 102 finished with value: 0.3319678141651714 and parameters: {'lambda_l1': 6.280896995995947e-07, 'lambda_l2': 0.00025382776645278745, 'num_leaves': 140, 'feature_fraction': 0.5000676572974245, 'bagging_fraction': 0.925682257290669, 'bagging_freq': 3, 'min_child_samples': 72}. Best is trial 83 with value: 0.36524086892355434.\n",
      "[I 2024-08-23 16:24:47,412] Trial 103 finished with value: 0.33568511217901964 and parameters: {'lambda_l1': 3.9140769462281214e-07, 'lambda_l2': 1.0123333574553677e-08, 'num_leaves': 120, 'feature_fraction': 0.5350266106015186, 'bagging_fraction': 0.8124664113638546, 'bagging_freq': 3, 'min_child_samples': 68}. Best is trial 83 with value: 0.36524086892355434.\n",
      "[I 2024-08-23 16:24:52,669] Trial 104 finished with value: 0.33292182100580037 and parameters: {'lambda_l1': 1.0918678338259117e-06, 'lambda_l2': 0.002105120365949508, 'num_leaves': 135, 'feature_fraction': 0.48752589788246675, 'bagging_fraction': 0.8566786993713196, 'bagging_freq': 2, 'min_child_samples': 78}. Best is trial 83 with value: 0.36524086892355434.\n",
      "[I 2024-08-23 16:24:57,539] Trial 105 finished with value: 0.33720803245848535 and parameters: {'lambda_l1': 1.9852278628278814e-07, 'lambda_l2': 0.0003650791644102966, 'num_leaves': 100, 'feature_fraction': 0.5539772148053906, 'bagging_fraction': 0.8332361386719221, 'bagging_freq': 4, 'min_child_samples': 16}. Best is trial 83 with value: 0.36524086892355434.\n",
      "[I 2024-08-23 16:25:02,481] Trial 106 finished with value: 0.3309697638035962 and parameters: {'lambda_l1': 1.5535349547390567e-08, 'lambda_l2': 0.0007992575765561947, 'num_leaves': 153, 'feature_fraction': 0.635174507752636, 'bagging_fraction': 0.9974580443712093, 'bagging_freq': 3, 'min_child_samples': 65}. Best is trial 83 with value: 0.36524086892355434.\n",
      "[I 2024-08-23 16:25:07,386] Trial 107 finished with value: 0.33138706668153706 and parameters: {'lambda_l1': 0.5041187631920373, 'lambda_l2': 0.0010512934842804673, 'num_leaves': 168, 'feature_fraction': 0.574336352914471, 'bagging_fraction': 0.9636970068488883, 'bagging_freq': 2, 'min_child_samples': 75}. Best is trial 83 with value: 0.36524086892355434.\n",
      "[I 2024-08-23 16:25:13,032] Trial 108 finished with value: 0.3330954555025899 and parameters: {'lambda_l1': 2.408569868086595e-06, 'lambda_l2': 8.025263608403942e-08, 'num_leaves': 129, 'feature_fraction': 0.5170279750168485, 'bagging_fraction': 0.9003255619444647, 'bagging_freq': 2, 'min_child_samples': 52}. Best is trial 83 with value: 0.36524086892355434.\n",
      "[I 2024-08-23 16:25:17,442] Trial 109 finished with value: 0.3291553274474617 and parameters: {'lambda_l1': 1.251540540415454e-07, 'lambda_l2': 0.054166450203322426, 'num_leaves': 142, 'feature_fraction': 0.5406761678736843, 'bagging_fraction': 0.7688897731960201, 'bagging_freq': 3, 'min_child_samples': 82}. Best is trial 83 with value: 0.36524086892355434.\n",
      "[I 2024-08-23 16:25:20,835] Trial 110 finished with value: 0.33560937953825243 and parameters: {'lambda_l1': 4.7185857060174366e-08, 'lambda_l2': 6.727793188475572e-05, 'num_leaves': 24, 'feature_fraction': 0.5958949864813756, 'bagging_fraction': 0.7973910668885184, 'bagging_freq': 2, 'min_child_samples': 69}. Best is trial 83 with value: 0.36524086892355434.\n",
      "[I 2024-08-23 16:25:25,642] Trial 111 finished with value: 0.3358910715687811 and parameters: {'lambda_l1': 3.929593619579435e-05, 'lambda_l2': 0.009682448189996876, 'num_leaves': 235, 'feature_fraction': 0.4436434742766678, 'bagging_fraction': 0.8452304429396967, 'bagging_freq': 2, 'min_child_samples': 77}. Best is trial 83 with value: 0.36524086892355434.\n",
      "[I 2024-08-23 16:25:30,384] Trial 112 finished with value: 0.3318667635068321 and parameters: {'lambda_l1': 7.026600476701694e-05, 'lambda_l2': 0.032480267914311294, 'num_leaves': 174, 'feature_fraction': 0.4809383302083982, 'bagging_fraction': 0.8199647623356381, 'bagging_freq': 2, 'min_child_samples': 73}. Best is trial 83 with value: 0.36524086892355434.\n",
      "[I 2024-08-23 16:25:34,496] Trial 113 finished with value: 0.3333372497060294 and parameters: {'lambda_l1': 1.6356923671782463e-05, 'lambda_l2': 0.0032868202684729, 'num_leaves': 111, 'feature_fraction': 0.4615604725129082, 'bagging_fraction': 0.8659720368598833, 'bagging_freq': 2, 'min_child_samples': 76}. Best is trial 83 with value: 0.36524086892355434.\n",
      "[I 2024-08-23 16:25:39,413] Trial 114 finished with value: 0.3295645961489937 and parameters: {'lambda_l1': 0.00015530954862218285, 'lambda_l2': 0.006186447368177452, 'num_leaves': 199, 'feature_fraction': 0.5075240991990662, 'bagging_fraction': 0.5428557616011468, 'bagging_freq': 3, 'min_child_samples': 71}. Best is trial 83 with value: 0.36524086892355434.\n",
      "[I 2024-08-23 16:25:44,235] Trial 115 finished with value: 0.3363077480440971 and parameters: {'lambda_l1': 1.4847796258318876e-06, 'lambda_l2': 0.013888353648940891, 'num_leaves': 189, 'feature_fraction': 0.5299482985763911, 'bagging_fraction': 0.9388737448507362, 'bagging_freq': 1, 'min_child_samples': 62}. Best is trial 83 with value: 0.36524086892355434.\n",
      "[I 2024-08-23 16:25:49,057] Trial 116 finished with value: 0.33719108979487744 and parameters: {'lambda_l1': 2.5896711086930354e-08, 'lambda_l2': 0.0006311297135981751, 'num_leaves': 212, 'feature_fraction': 0.5627229831927418, 'bagging_fraction': 0.7491257424409207, 'bagging_freq': 2, 'min_child_samples': 80}. Best is trial 83 with value: 0.36524086892355434.\n",
      "[I 2024-08-23 16:25:54,050] Trial 117 finished with value: 0.333099777244535 and parameters: {'lambda_l1': 5.063404676144724e-06, 'lambda_l2': 0.2846767653717555, 'num_leaves': 148, 'feature_fraction': 0.49655686085464057, 'bagging_fraction': 0.8505634661871282, 'bagging_freq': 2, 'min_child_samples': 84}. Best is trial 83 with value: 0.36524086892355434.\n",
      "[I 2024-08-23 16:26:00,564] Trial 118 finished with value: 0.3298694930521469 and parameters: {'lambda_l1': 1.0713742023358283e-08, 'lambda_l2': 0.15323061281815004, 'num_leaves': 124, 'feature_fraction': 0.42389541866846864, 'bagging_fraction': 0.8279571077685314, 'bagging_freq': 3, 'min_child_samples': 34}. Best is trial 83 with value: 0.36524086892355434.\n",
      "[I 2024-08-23 16:26:06,546] Trial 119 finished with value: 0.3343250535286204 and parameters: {'lambda_l1': 3.5785610487974394e-07, 'lambda_l2': 0.06507583977554798, 'num_leaves': 132, 'feature_fraction': 0.47504028581051083, 'bagging_fraction': 0.8136104769525817, 'bagging_freq': 1, 'min_child_samples': 75}. Best is trial 83 with value: 0.36524086892355434.\n",
      "[I 2024-08-23 16:26:11,034] Trial 120 finished with value: 0.3288175741879168 and parameters: {'lambda_l1': 0.0003698128396795517, 'lambda_l2': 0.0015406862506017337, 'num_leaves': 231, 'feature_fraction': 0.5483454964544682, 'bagging_fraction': 0.56392562356274, 'bagging_freq': 2, 'min_child_samples': 68}. Best is trial 83 with value: 0.36524086892355434.\n",
      "[I 2024-08-23 16:26:15,387] Trial 121 finished with value: 0.32864652426761076 and parameters: {'lambda_l1': 2.3160239232779284e-06, 'lambda_l2': 0.002296383872132582, 'num_leaves': 117, 'feature_fraction': 0.4891822807120232, 'bagging_fraction': 0.7997995999324657, 'bagging_freq': 2, 'min_child_samples': 78}. Best is trial 83 with value: 0.36524086892355434.\n",
      "[I 2024-08-23 16:26:20,298] Trial 122 finished with value: 0.32821900928794695 and parameters: {'lambda_l1': 6.5935655693271646e-06, 'lambda_l2': 0.001305296847089371, 'num_leaves': 111, 'feature_fraction': 0.4979297079428948, 'bagging_fraction': 0.8040716357619002, 'bagging_freq': 2, 'min_child_samples': 73}. Best is trial 83 with value: 0.36524086892355434.\n",
      "[I 2024-08-23 16:26:25,699] Trial 123 finished with value: 0.32737377812030943 and parameters: {'lambda_l1': 1.7406815677580526e-06, 'lambda_l2': 0.0035591665698407942, 'num_leaves': 105, 'feature_fraction': 0.5149333222022963, 'bagging_fraction': 0.7799057935945642, 'bagging_freq': 2, 'min_child_samples': 66}. Best is trial 83 with value: 0.36524086892355434.\n",
      "[I 2024-08-23 16:26:30,747] Trial 124 finished with value: 0.3278946975530313 and parameters: {'lambda_l1': 5.740320455980041e-07, 'lambda_l2': 0.0001836579489492547, 'num_leaves': 95, 'feature_fraction': 0.4025803703469049, 'bagging_fraction': 0.8904979396418116, 'bagging_freq': 2, 'min_child_samples': 74}. Best is trial 83 with value: 0.36524086892355434.\n",
      "[I 2024-08-23 16:26:35,434] Trial 125 finished with value: 0.3312153165680798 and parameters: {'lambda_l1': 3.0331827638578435e-06, 'lambda_l2': 0.019365335668013576, 'num_leaves': 208, 'feature_fraction': 0.4630924463545571, 'bagging_fraction': 0.7870731469613866, 'bagging_freq': 3, 'min_child_samples': 70}. Best is trial 83 with value: 0.36524086892355434.\n",
      "[I 2024-08-23 16:26:39,562] Trial 126 finished with value: 0.330100338074626 and parameters: {'lambda_l1': 2.2348695982507334e-05, 'lambda_l2': 0.00042984879599765563, 'num_leaves': 124, 'feature_fraction': 0.5249545038733908, 'bagging_fraction': 0.8374969760579513, 'bagging_freq': 3, 'min_child_samples': 88}. Best is trial 83 with value: 0.36524086892355434.\n",
      "[I 2024-08-23 16:26:43,881] Trial 127 finished with value: 0.3385760273154534 and parameters: {'lambda_l1': 8.036200530894303e-06, 'lambda_l2': 0.006002516991859551, 'num_leaves': 138, 'feature_fraction': 0.6680115091032959, 'bagging_fraction': 0.860371040222983, 'bagging_freq': 1, 'min_child_samples': 72}. Best is trial 83 with value: 0.36524086892355434.\n",
      "[I 2024-08-23 16:26:48,656] Trial 128 finished with value: 0.33339467308098913 and parameters: {'lambda_l1': 1.9042045929664155e-08, 'lambda_l2': 0.00011376549568029043, 'num_leaves': 110, 'feature_fraction': 0.5037017596441288, 'bagging_fraction': 0.7581661800447089, 'bagging_freq': 2, 'min_child_samples': 82}. Best is trial 83 with value: 0.36524086892355434.\n",
      "[I 2024-08-23 16:26:53,549] Trial 129 finished with value: 0.33434772371353605 and parameters: {'lambda_l1': 7.479385753365496e-08, 'lambda_l2': 0.009620537371765764, 'num_leaves': 128, 'feature_fraction': 0.6440570383157597, 'bagging_fraction': 0.8186553674912933, 'bagging_freq': 4, 'min_child_samples': 57}. Best is trial 83 with value: 0.36524086892355434.\n",
      "[I 2024-08-23 16:26:58,801] Trial 130 finished with value: 0.32749996140545656 and parameters: {'lambda_l1': 4.200781921972153e-06, 'lambda_l2': 0.0017339871353144846, 'num_leaves': 81, 'feature_fraction': 0.4447088443597419, 'bagging_fraction': 0.8027955154273394, 'bagging_freq': 2, 'min_child_samples': 64}. Best is trial 83 with value: 0.36524086892355434.\n",
      "[I 2024-08-23 16:27:02,377] Trial 131 finished with value: 0.3334590700586045 and parameters: {'lambda_l1': 1.0454217220034456e-05, 'lambda_l2': 0.0006458766693362148, 'num_leaves': 224, 'feature_fraction': 0.7507801061019711, 'bagging_fraction': 0.576599155319604, 'bagging_freq': 5, 'min_child_samples': 86}. Best is trial 83 with value: 0.36524086892355434.\n",
      "[I 2024-08-23 16:27:05,749] Trial 132 finished with value: 0.33076655883893813 and parameters: {'lambda_l1': 1.2725929427222055e-05, 'lambda_l2': 0.0009677412547489689, 'num_leaves': 35, 'feature_fraction': 0.768847976963761, 'bagging_fraction': 0.6056732311972253, 'bagging_freq': 7, 'min_child_samples': 83}. Best is trial 83 with value: 0.36524086892355434.\n",
      "[I 2024-08-23 16:27:09,565] Trial 133 finished with value: 0.33532077540589234 and parameters: {'lambda_l1': 3.1581400049840464e-05, 'lambda_l2': 1.281639849737577, 'num_leaves': 218, 'feature_fraction': 0.7242575729424184, 'bagging_fraction': 0.6306041976641239, 'bagging_freq': 6, 'min_child_samples': 91}. Best is trial 83 with value: 0.36524086892355434.\n",
      "[I 2024-08-23 16:27:14,691] Trial 134 finished with value: 0.33261087455061 and parameters: {'lambda_l1': 6.652709652990673e-05, 'lambda_l2': 0.00029274946316164014, 'num_leaves': 245, 'feature_fraction': 0.537578926464594, 'bagging_fraction': 0.6908831648873868, 'bagging_freq': 3, 'min_child_samples': 79}. Best is trial 83 with value: 0.36524086892355434.\n",
      "[I 2024-08-23 16:27:18,559] Trial 135 finished with value: 0.3360428738785267 and parameters: {'lambda_l1': 1.9136951129829e-05, 'lambda_l2': 0.03790761144680089, 'num_leaves': 68, 'feature_fraction': 0.7013152483042421, 'bagging_fraction': 0.6571364106166687, 'bagging_freq': 2, 'min_child_samples': 85}. Best is trial 83 with value: 0.36524086892355434.\n",
      "[I 2024-08-23 16:27:23,418] Trial 136 finished with value: 0.33071260305537864 and parameters: {'lambda_l1': 1.090772067109992e-06, 'lambda_l2': 3.1864407244891013, 'num_leaves': 226, 'feature_fraction': 0.4854568637083948, 'bagging_fraction': 0.5859565941876297, 'bagging_freq': 5, 'min_child_samples': 76}. Best is trial 83 with value: 0.36524086892355434.\n",
      "[I 2024-08-23 16:27:27,742] Trial 137 finished with value: 0.33197588815983375 and parameters: {'lambda_l1': 4.047966906845208e-06, 'lambda_l2': 0.004321452877743808, 'num_leaves': 218, 'feature_fraction': 0.5209888069704058, 'bagging_fraction': 0.7387719162542172, 'bagging_freq': 4, 'min_child_samples': 81}. Best is trial 83 with value: 0.36524086892355434.\n",
      "[I 2024-08-23 16:27:32,611] Trial 138 finished with value: 0.33340329539264785 and parameters: {'lambda_l1': 2.1230979929962018e-06, 'lambda_l2': 0.0880188108141815, 'num_leaves': 135, 'feature_fraction': 0.7371768618095068, 'bagging_fraction': 0.8744439962211733, 'bagging_freq': 3, 'min_child_samples': 11}. Best is trial 83 with value: 0.36524086892355434.\n",
      "[I 2024-08-23 16:27:36,390] Trial 139 finished with value: 0.3364634888307324 and parameters: {'lambda_l1': 0.00011094984205525027, 'lambda_l2': 0.0023800482748543754, 'num_leaves': 211, 'feature_fraction': 0.8003945786204079, 'bagging_fraction': 0.5082973934608919, 'bagging_freq': 2, 'min_child_samples': 67}. Best is trial 83 with value: 0.36524086892355434.\n",
      "[I 2024-08-23 16:27:40,500] Trial 140 finished with value: 0.33562377442314695 and parameters: {'lambda_l1': 0.013069945614010717, 'lambda_l2': 0.934359689619985, 'num_leaves': 47, 'feature_fraction': 0.5847302389075087, 'bagging_fraction': 0.8346977858580876, 'bagging_freq': 3, 'min_child_samples': 70}. Best is trial 83 with value: 0.36524086892355434.\n",
      "[I 2024-08-23 16:27:44,449] Trial 141 finished with value: 0.3345754579885505 and parameters: {'lambda_l1': 1.3956530618666213e-06, 'lambda_l2': 0.0003489030559507923, 'num_leaves': 59, 'feature_fraction': 0.676316412367434, 'bagging_fraction': 0.7911626682799017, 'bagging_freq': 2, 'min_child_samples': 22}. Best is trial 83 with value: 0.36524086892355434.\n",
      "[I 2024-08-23 16:27:49,492] Trial 142 finished with value: 0.33757488253636414 and parameters: {'lambda_l1': 3.003800377521122e-06, 'lambda_l2': 0.00017695666447518088, 'num_leaves': 155, 'feature_fraction': 0.655976005987849, 'bagging_fraction': 0.820936327101905, 'bagging_freq': 2, 'min_child_samples': 46}. Best is trial 83 with value: 0.36524086892355434.\n",
      "[I 2024-08-23 16:27:53,800] Trial 143 finished with value: 0.3339016499461619 and parameters: {'lambda_l1': 6.377049494022852e-06, 'lambda_l2': 0.00043462816473636, 'num_leaves': 90, 'feature_fraction': 0.7573652525015153, 'bagging_fraction': 0.7725785407520234, 'bagging_freq': 2, 'min_child_samples': 47}. Best is trial 83 with value: 0.36524086892355434.\n",
      "[I 2024-08-23 16:27:57,968] Trial 144 finished with value: 0.33428851267877024 and parameters: {'lambda_l1': 7.325793652346263e-07, 'lambda_l2': 5.300767613553587, 'num_leaves': 55, 'feature_fraction': 0.6881965220142607, 'bagging_fraction': 0.8494356780325152, 'bagging_freq': 2, 'min_child_samples': 43}. Best is trial 83 with value: 0.36524086892355434.\n",
      "[I 2024-08-23 16:28:03,480] Trial 145 finished with value: 0.3371823916100121 and parameters: {'lambda_l1': 1.0274206642163469e-07, 'lambda_l2': 0.0006550637395432049, 'num_leaves': 119, 'feature_fraction': 0.5450774884767167, 'bagging_fraction': 0.8139199023194197, 'bagging_freq': 2, 'min_child_samples': 50}. Best is trial 83 with value: 0.36524086892355434.\n",
      "[I 2024-08-23 16:28:08,321] Trial 146 finished with value: 0.3314906349990941 and parameters: {'lambda_l1': 2.9065800853918716e-08, 'lambda_l2': 0.0013786375835610936, 'num_leaves': 142, 'feature_fraction': 0.7158672182212559, 'bagging_fraction': 0.9824887788085911, 'bagging_freq': 1, 'min_child_samples': 41}. Best is trial 83 with value: 0.36524086892355434.\n",
      "[I 2024-08-23 16:28:13,508] Trial 147 finished with value: 0.34079655354902516 and parameters: {'lambda_l1': 1.163481340506626e-05, 'lambda_l2': 0.00097571483301558, 'num_leaves': 204, 'feature_fraction': 0.49278824284657236, 'bagging_fraction': 0.8055527177354851, 'bagging_freq': 3, 'min_child_samples': 74}. Best is trial 83 with value: 0.36524086892355434.\n",
      "[I 2024-08-23 16:28:19,103] Trial 148 finished with value: 0.33588906354509096 and parameters: {'lambda_l1': 4.84144377893232e-05, 'lambda_l2': 0.011841815674145956, 'num_leaves': 100, 'feature_fraction': 0.5121963023516041, 'bagging_fraction': 0.8283275372438381, 'bagging_freq': 2, 'min_child_samples': 53}. Best is trial 83 with value: 0.36524086892355434.\n",
      "[I 2024-08-23 16:28:23,091] Trial 149 finished with value: 0.34001564553988095 and parameters: {'lambda_l1': 2.8050382483189234e-07, 'lambda_l2': 0.021910879989369775, 'num_leaves': 36, 'feature_fraction': 0.613495108582809, 'bagging_fraction': 0.9103635732999724, 'bagging_freq': 2, 'min_child_samples': 27}. Best is trial 83 with value: 0.36524086892355434.\n",
      "[I 2024-08-23 16:28:27,241] Trial 150 finished with value: 0.3311804012464366 and parameters: {'lambda_l1': 2.5056477055528723, 'lambda_l2': 0.3775057534476328, 'num_leaves': 73, 'feature_fraction': 0.47502072438634213, 'bagging_fraction': 0.8436150783583822, 'bagging_freq': 3, 'min_child_samples': 88}. Best is trial 83 with value: 0.36524086892355434.\n",
      "[I 2024-08-23 16:28:32,253] Trial 151 finished with value: 0.3364663408547529 and parameters: {'lambda_l1': 1.9045229595993433e-06, 'lambda_l2': 0.000468211251424184, 'num_leaves': 113, 'feature_fraction': 0.5299638785550503, 'bagging_fraction': 0.7965951445875067, 'bagging_freq': 2, 'min_child_samples': 78}. Best is trial 83 with value: 0.36524086892355434.\n",
      "[I 2024-08-23 16:28:37,090] Trial 152 finished with value: 0.33496396238326864 and parameters: {'lambda_l1': 8.791471338425249e-07, 'lambda_l2': 0.0018595580911531318, 'num_leaves': 104, 'feature_fraction': 0.5050031153320185, 'bagging_fraction': 0.7859942757971385, 'bagging_freq': 2, 'min_child_samples': 75}. Best is trial 83 with value: 0.36524086892355434.\n",
      "[I 2024-08-23 16:28:42,744] Trial 153 finished with value: 0.33262132860423554 and parameters: {'lambda_l1': 3.525655364841422e-06, 'lambda_l2': 0.00024248962127685733, 'num_leaves': 87, 'feature_fraction': 0.4917683530056516, 'bagging_fraction': 0.8288690211441346, 'bagging_freq': 2, 'min_child_samples': 68}. Best is trial 83 with value: 0.36524086892355434.\n",
      "[I 2024-08-23 16:28:46,692] Trial 154 finished with value: 0.3338670553962802 and parameters: {'lambda_l1': 1.710954088443106e-06, 'lambda_l2': 0.0008058932714333569, 'num_leaves': 77, 'feature_fraction': 0.6649333354625364, 'bagging_fraction': 0.7679166804529359, 'bagging_freq': 1, 'min_child_samples': 71}. Best is trial 83 with value: 0.36524086892355434.\n",
      "[I 2024-08-23 16:28:51,016] Trial 155 finished with value: 0.3287022909293836 and parameters: {'lambda_l1': 5.000132168342442e-07, 'lambda_l2': 0.007659010286492915, 'num_leaves': 125, 'feature_fraction': 0.5624259337409543, 'bagging_fraction': 0.8132202532018609, 'bagging_freq': 2, 'min_child_samples': 73}. Best is trial 83 with value: 0.36524086892355434.\n",
      "[I 2024-08-23 16:28:55,116] Trial 156 finished with value: 0.3283281948790846 and parameters: {'lambda_l1': 5.9855895958303265e-06, 'lambda_l2': 0.0030803015232108433, 'num_leaves': 230, 'feature_fraction': 0.4583542821179045, 'bagging_fraction': 0.8597450819543709, 'bagging_freq': 3, 'min_child_samples': 80}. Best is trial 83 with value: 0.36524086892355434.\n",
      "[I 2024-08-23 16:29:00,178] Trial 157 finished with value: 0.33328837979006376 and parameters: {'lambda_l1': 1.744518560364986e-07, 'lambda_l2': 0.000518044219883028, 'num_leaves': 163, 'feature_fraction': 0.51894329873062, 'bagging_fraction': 0.7969001246370702, 'bagging_freq': 2, 'min_child_samples': 76}. Best is trial 83 with value: 0.36524086892355434.\n",
      "[I 2024-08-23 16:29:04,545] Trial 158 finished with value: 0.33235946234113395 and parameters: {'lambda_l1': 0.00023008557358066286, 'lambda_l2': 0.001240839321916198, 'num_leaves': 121, 'feature_fraction': 0.8311629844323675, 'bagging_fraction': 0.8398255888032263, 'bagging_freq': 2, 'min_child_samples': 45}. Best is trial 83 with value: 0.36524086892355434.\n",
      "[I 2024-08-23 16:29:08,524] Trial 159 finished with value: 0.32860047703545864 and parameters: {'lambda_l1': 5.396256060790775e-08, 'lambda_l2': 0.000116499105367785, 'num_leaves': 64, 'feature_fraction': 0.48237777239045465, 'bagging_fraction': 0.7158423158321474, 'bagging_freq': 2, 'min_child_samples': 93}. Best is trial 83 with value: 0.36524086892355434.\n",
      "[I 2024-08-23 16:29:12,869] Trial 160 finished with value: 0.33353239246945143 and parameters: {'lambda_l1': 1.8396821696498568e-05, 'lambda_l2': 0.004835671476755906, 'num_leaves': 94, 'feature_fraction': 0.5342839880329654, 'bagging_fraction': 0.5471290193996255, 'bagging_freq': 3, 'min_child_samples': 66}. Best is trial 83 with value: 0.36524086892355434.\n",
      "[I 2024-08-23 16:29:17,742] Trial 161 finished with value: 0.3290438939099245 and parameters: {'lambda_l1': 7.6043213851219475e-06, 'lambda_l2': 0.011613249011626576, 'num_leaves': 131, 'feature_fraction': 0.5481088011189654, 'bagging_fraction': 0.9348884683133062, 'bagging_freq': 1, 'min_child_samples': 77}. Best is trial 83 with value: 0.36524086892355434.\n",
      "[I 2024-08-23 16:29:22,575] Trial 162 finished with value: 0.33641114540564093 and parameters: {'lambda_l1': 2.987820715485895e-05, 'lambda_l2': 0.01892473401125256, 'num_leaves': 105, 'feature_fraction': 0.5553684784978292, 'bagging_fraction': 0.9134550920347225, 'bagging_freq': 1, 'min_child_samples': 83}. Best is trial 83 with value: 0.36524086892355434.\n",
      "[I 2024-08-23 16:29:27,103] Trial 163 finished with value: 0.3337109022287845 and parameters: {'lambda_l1': 1.0212512230711804e-05, 'lambda_l2': 0.0009090577678947641, 'num_leaves': 117, 'feature_fraction': 0.5021763595060493, 'bagging_fraction': 0.9527340343691828, 'bagging_freq': 1, 'min_child_samples': 72}. Best is trial 83 with value: 0.36524086892355434.\n",
      "[I 2024-08-23 16:29:30,811] Trial 164 finished with value: 0.33423929905756633 and parameters: {'lambda_l1': 4.240170671963799e-06, 'lambda_l2': 0.0018264517462526374, 'num_leaves': 111, 'feature_fraction': 0.6467615372194689, 'bagging_fraction': 0.8939831371081141, 'bagging_freq': 1, 'min_child_samples': 79}. Best is trial 83 with value: 0.36524086892355434.\n",
      "[I 2024-08-23 16:29:34,745] Trial 165 finished with value: 0.3330955966515963 and parameters: {'lambda_l1': 2.9543279569172867e-06, 'lambda_l2': 0.03804147261028556, 'num_leaves': 126, 'feature_fraction': 0.5712880511710947, 'bagging_fraction': 0.8818959999022059, 'bagging_freq': 1, 'min_child_samples': 69}. Best is trial 83 with value: 0.36524086892355434.\n",
      "[I 2024-08-23 16:29:39,833] Trial 166 finished with value: 0.34418110827507103 and parameters: {'lambda_l1': 1.163236504907142e-06, 'lambda_l2': 0.00028226807578293967, 'num_leaves': 120, 'feature_fraction': 0.526677368685118, 'bagging_fraction': 0.9248129286225489, 'bagging_freq': 2, 'min_child_samples': 61}. Best is trial 83 with value: 0.36524086892355434.\n",
      "[I 2024-08-23 16:29:45,142] Trial 167 finished with value: 0.3312801846290522 and parameters: {'lambda_l1': 2.4313368082592243e-06, 'lambda_l2': 0.014413482329305217, 'num_leaves': 132, 'feature_fraction': 0.4718987457941694, 'bagging_fraction': 0.8196268794572027, 'bagging_freq': 1, 'min_child_samples': 39}. Best is trial 83 with value: 0.36524086892355434.\n",
      "[I 2024-08-23 16:29:48,942] Trial 168 finished with value: 0.338253608290284 and parameters: {'lambda_l1': 7.367648694763029e-06, 'lambda_l2': 0.007919806696140964, 'num_leaves': 146, 'feature_fraction': 0.8842976298425632, 'bagging_fraction': 0.8697788214389698, 'bagging_freq': 3, 'min_child_samples': 77}. Best is trial 83 with value: 0.36524086892355434.\n",
      "[I 2024-08-23 16:29:53,229] Trial 169 finished with value: 0.33140186046773235 and parameters: {'lambda_l1': 0.33573876544672454, 'lambda_l2': 0.0029185100683916617, 'num_leaves': 223, 'feature_fraction': 0.6288790891237814, 'bagging_fraction': 0.8523183865195006, 'bagging_freq': 2, 'min_child_samples': 85}. Best is trial 83 with value: 0.36524086892355434.\n",
      "[I 2024-08-23 16:29:58,001] Trial 170 finished with value: 0.3350834331200455 and parameters: {'lambda_l1': 1.3303130870122024e-05, 'lambda_l2': 0.0006130380715513471, 'num_leaves': 107, 'feature_fraction': 0.507981643935356, 'bagging_fraction': 0.7808906596297901, 'bagging_freq': 2, 'min_child_samples': 74}. Best is trial 83 with value: 0.36524086892355434.\n",
      "[I 2024-08-23 16:30:02,376] Trial 171 finished with value: 0.3349793675171585 and parameters: {'lambda_l1': 5.063344245335544e-06, 'lambda_l2': 0.004444600323924919, 'num_leaves': 145, 'feature_fraction': 0.5438163161764578, 'bagging_fraction': 0.8885980019320512, 'bagging_freq': 3, 'min_child_samples': 66}. Best is trial 83 with value: 0.36524086892355434.\n",
      "[I 2024-08-23 16:30:06,616] Trial 172 finished with value: 0.33024401046468865 and parameters: {'lambda_l1': 1.6962723931206578e-06, 'lambda_l2': 0.0062615245885062195, 'num_leaves': 152, 'feature_fraction': 0.5213630278135875, 'bagging_fraction': 0.8713322923153634, 'bagging_freq': 3, 'min_child_samples': 68}. Best is trial 83 with value: 0.36524086892355434.\n",
      "[I 2024-08-23 16:30:12,558] Trial 173 finished with value: 0.33845689398935186 and parameters: {'lambda_l1': 3.072555565560532e-06, 'lambda_l2': 0.02812391623733474, 'num_leaves': 137, 'feature_fraction': 0.5307405991262288, 'bagging_fraction': 0.8077866497927131, 'bagging_freq': 3, 'min_child_samples': 63}. Best is trial 83 with value: 0.36524086892355434.\n",
      "[I 2024-08-23 16:30:17,920] Trial 174 finished with value: 0.33349694905151145 and parameters: {'lambda_l1': 5.495716551639837e-06, 'lambda_l2': 0.0013499464404946684, 'num_leaves': 234, 'feature_fraction': 0.4924435198836986, 'bagging_fraction': 0.9015074231768042, 'bagging_freq': 3, 'min_child_samples': 71}. Best is trial 83 with value: 0.36524086892355434.\n",
      "[I 2024-08-23 16:30:21,709] Trial 175 finished with value: 0.33229835210071623 and parameters: {'lambda_l1': 2.871453578119316e-05, 'lambda_l2': 0.0037320859955437906, 'num_leaves': 142, 'feature_fraction': 0.7810765987509461, 'bagging_fraction': 0.8357981632060013, 'bagging_freq': 3, 'min_child_samples': 81}. Best is trial 83 with value: 0.36524086892355434.\n",
      "[I 2024-08-23 16:30:26,410] Trial 176 finished with value: 0.339109314282628 and parameters: {'lambda_l1': 1.6606641683549728e-08, 'lambda_l2': 0.012069038306499408, 'num_leaves': 240, 'feature_fraction': 0.6972988393310986, 'bagging_fraction': 0.8230509462993759, 'bagging_freq': 2, 'min_child_samples': 60}. Best is trial 83 with value: 0.36524086892355434.\n",
      "[I 2024-08-23 16:30:30,629] Trial 177 finished with value: 0.3340260240177898 and parameters: {'lambda_l1': 7.346320555868161e-07, 'lambda_l2': 0.005441841847352981, 'num_leaves': 129, 'feature_fraction': 0.5556822428953232, 'bagging_fraction': 0.9185989879359593, 'bagging_freq': 4, 'min_child_samples': 70}. Best is trial 83 with value: 0.36524086892355434.\n",
      "[I 2024-08-23 16:30:35,976] Trial 178 finished with value: 0.3389813892929236 and parameters: {'lambda_l1': 1.5853211708852488e-05, 'lambda_l2': 1.8475867840459999, 'num_leaves': 115, 'feature_fraction': 0.5408389523122215, 'bagging_fraction': 0.8611291540755981, 'bagging_freq': 3, 'min_child_samples': 49}. Best is trial 83 with value: 0.36524086892355434.\n",
      "[I 2024-08-23 16:30:40,745] Trial 179 finished with value: 0.3310631546654114 and parameters: {'lambda_l1': 2.1612503681627687e-06, 'lambda_l2': 0.24257819370348396, 'num_leaves': 100, 'feature_fraction': 0.5138337982092046, 'bagging_fraction': 0.7982140355019707, 'bagging_freq': 2, 'min_child_samples': 65}. Best is trial 83 with value: 0.36524086892355434.\n",
      "[I 2024-08-23 16:30:44,942] Trial 180 finished with value: 0.32953724937265166 and parameters: {'lambda_l1': 4.155871425895553e-06, 'lambda_l2': 0.0003550179605135562, 'num_leaves': 220, 'feature_fraction': 0.5000765224390322, 'bagging_fraction': 0.847849319237018, 'bagging_freq': 2, 'min_child_samples': 75}. Best is trial 83 with value: 0.36524086892355434.\n",
      "[I 2024-08-23 16:30:49,507] Trial 181 finished with value: 0.33309818118108625 and parameters: {'lambda_l1': 1.1497623582542608e-07, 'lambda_l2': 0.00019354981763460873, 'num_leaves': 138, 'feature_fraction': 0.4749617362735414, 'bagging_fraction': 0.8858122699696811, 'bagging_freq': 3, 'min_child_samples': 63}. Best is trial 83 with value: 0.36524086892355434.\n",
      "[I 2024-08-23 16:30:54,865] Trial 182 finished with value: 0.3306975179178536 and parameters: {'lambda_l1': 5.67450955545855e-08, 'lambda_l2': 0.00020335823344080618, 'num_leaves': 147, 'feature_fraction': 0.4358507762429005, 'bagging_fraction': 0.8511206965548478, 'bagging_freq': 3, 'min_child_samples': 67}. Best is trial 83 with value: 0.36524086892355434.\n",
      "[I 2024-08-23 16:31:00,912] Trial 183 finished with value: 0.32796098085011993 and parameters: {'lambda_l1': 9.136066769737807e-08, 'lambda_l2': 0.0009322896665180209, 'num_leaves': 138, 'feature_fraction': 0.4834389759840578, 'bagging_fraction': 0.8305836298938145, 'bagging_freq': 7, 'min_child_samples': 20}. Best is trial 83 with value: 0.36524086892355434.\n",
      "[I 2024-08-23 16:31:03,839] Trial 184 finished with value: 0.3276813797663965 and parameters: {'lambda_l1': 1.727562637257314e-07, 'lambda_l2': 0.0005155071117856389, 'num_leaves': 123, 'feature_fraction': 0.9847335102486954, 'bagging_fraction': 0.6402610298626323, 'bagging_freq': 3, 'min_child_samples': 73}. Best is trial 83 with value: 0.36524086892355434.\n",
      "[I 2024-08-23 16:31:07,739] Trial 185 finished with value: 0.3295930792181986 and parameters: {'lambda_l1': 2.9431361248248625e-08, 'lambda_l2': 9.206837906723164e-05, 'num_leaves': 135, 'feature_fraction': 0.7647350926246127, 'bagging_fraction': 0.8121035530712227, 'bagging_freq': 3, 'min_child_samples': 87}. Best is trial 83 with value: 0.36524086892355434.\n",
      "[I 2024-08-23 16:31:12,608] Trial 186 finished with value: 0.33814182933744213 and parameters: {'lambda_l1': 5.7149528537747075e-05, 'lambda_l2': 0.0024102782106645098, 'num_leaves': 182, 'feature_fraction': 0.5194136314255582, 'bagging_fraction': 0.8800585838913025, 'bagging_freq': 3, 'min_child_samples': 55}. Best is trial 83 with value: 0.36524086892355434.\n",
      "[I 2024-08-23 16:31:16,361] Trial 187 finished with value: 0.33814683083883235 and parameters: {'lambda_l1': 0.003483652093985202, 'lambda_l2': 0.00029656442734437416, 'num_leaves': 24, 'feature_fraction': 0.45507277667613744, 'bagging_fraction': 0.9444698239533316, 'bagging_freq': 2, 'min_child_samples': 60}. Best is trial 83 with value: 0.36524086892355434.\n",
      "[I 2024-08-23 16:31:21,624] Trial 188 finished with value: 0.3350742356461366 and parameters: {'lambda_l1': 3.6052305176401774e-07, 'lambda_l2': 0.139333981031272, 'num_leaves': 128, 'feature_fraction': 0.46648217181378304, 'bagging_fraction': 0.8607055637898965, 'bagging_freq': 3, 'min_child_samples': 69}. Best is trial 83 with value: 0.36524086892355434.\n",
      "[I 2024-08-23 16:31:25,802] Trial 189 finished with value: 0.329006439960549 and parameters: {'lambda_l1': 1.2505049999699554e-06, 'lambda_l2': 0.5903509800751131, 'num_leaves': 150, 'feature_fraction': 0.5079797443553664, 'bagging_fraction': 0.5887701391640641, 'bagging_freq': 2, 'min_child_samples': 78}. Best is trial 83 with value: 0.36524086892355434.\n",
      "[I 2024-08-23 16:31:30,295] Trial 190 finished with value: 0.328835683533681 and parameters: {'lambda_l1': 7.854245655209859e-08, 'lambda_l2': 4.985652121552479e-05, 'num_leaves': 121, 'feature_fraction': 0.5886908054407288, 'bagging_fraction': 0.9068805068692817, 'bagging_freq': 5, 'min_child_samples': 64}. Best is trial 83 with value: 0.36524086892355434.\n",
      "[I 2024-08-23 16:31:34,686] Trial 191 finished with value: 0.33492661003901775 and parameters: {'lambda_l1': 1.6751636949533926e-06, 'lambda_l2': 0.0006932240236319116, 'num_leaves': 70, 'feature_fraction': 0.657205331823614, 'bagging_fraction': 0.7917310638929215, 'bagging_freq': 2, 'min_child_samples': 52}. Best is trial 83 with value: 0.36524086892355434.\n",
      "[I 2024-08-23 16:31:38,950] Trial 192 finished with value: 0.33552212253346403 and parameters: {'lambda_l1': 2.7842068454780414e-06, 'lambda_l2': 0.00015562213622116305, 'num_leaves': 52, 'feature_fraction': 0.676951642769718, 'bagging_fraction': 0.8228400737137166, 'bagging_freq': 2, 'min_child_samples': 43}. Best is trial 83 with value: 0.36524086892355434.\n",
      "[I 2024-08-23 16:31:42,719] Trial 193 finished with value: 0.33040758769387996 and parameters: {'lambda_l1': 7.515474782971746e-06, 'lambda_l2': 0.00042651012294332567, 'num_leaves': 133, 'feature_fraction': 0.6678772828248419, 'bagging_fraction': 0.840752644660528, 'bagging_freq': 2, 'min_child_samples': 72}. Best is trial 83 with value: 0.36524086892355434.\n",
      "[I 2024-08-23 16:31:47,121] Trial 194 finished with value: 0.3283543427576857 and parameters: {'lambda_l1': 4.107030831478207e-08, 'lambda_l2': 0.001059329948051705, 'num_leaves': 78, 'feature_fraction': 0.6877023842419631, 'bagging_fraction': 0.8062141314906106, 'bagging_freq': 2, 'min_child_samples': 58}. Best is trial 83 with value: 0.36524086892355434.\n",
      "[I 2024-08-23 16:31:51,221] Trial 195 finished with value: 0.3290837482655716 and parameters: {'lambda_l1': 0.0008535426687591338, 'lambda_l2': 0.0015377960286314062, 'num_leaves': 84, 'feature_fraction': 0.49715601170246876, 'bagging_fraction': 0.8170586019617997, 'bagging_freq': 2, 'min_child_samples': 46}. Best is trial 83 with value: 0.36524086892355434.\n",
      "[I 2024-08-23 16:31:55,742] Trial 196 finished with value: 0.3349375020904609 and parameters: {'lambda_l1': 8.23230074861826e-07, 'lambda_l2': 0.0005753427716812171, 'num_leaves': 73, 'feature_fraction': 0.540493385198477, 'bagging_fraction': 0.6592112412332104, 'bagging_freq': 3, 'min_child_samples': 67}. Best is trial 83 with value: 0.36524086892355434.\n",
      "[I 2024-08-23 16:32:00,385] Trial 197 finished with value: 0.33800275128973833 and parameters: {'lambda_l1': 3.902652285348594e-06, 'lambda_l2': 8.920960307855745, 'num_leaves': 66, 'feature_fraction': 0.7429882685692094, 'bagging_fraction': 0.781426183775848, 'bagging_freq': 2, 'min_child_samples': 48}. Best is trial 83 with value: 0.36524086892355434.\n",
      "[I 2024-08-23 16:32:04,363] Trial 198 finished with value: 0.33346882456917065 and parameters: {'lambda_l1': 1.0786440646230887e-08, 'lambda_l2': 0.007678646614256151, 'num_leaves': 213, 'feature_fraction': 0.6427963619746081, 'bagging_fraction': 0.6145123872322817, 'bagging_freq': 6, 'min_child_samples': 76}. Best is trial 83 with value: 0.36524086892355434.\n",
      "[I 2024-08-23 16:32:08,456] Trial 199 finished with value: 0.33350226497754676 and parameters: {'lambda_l1': 2.124379951512474e-06, 'lambda_l2': 0.0002478024458599895, 'num_leaves': 60, 'feature_fraction': 0.5307057019178364, 'bagging_fraction': 0.6864244613309542, 'bagging_freq': 1, 'min_child_samples': 81}. Best is trial 83 with value: 0.36524086892355434.\n"
     ]
    }
   ],
   "source": [
    "#Inicio el store de artefactos (archivos) de optuna\n",
    "artifact_store = FileSystemArtifactStore(base_path=PATH_TO_OPTUNA_ARTIFACTS)\n",
    "\n",
    "#Genero estudio\n",
    "study = optuna.create_study(direction='maximize',\n",
    "                            storage=\"sqlite:///../src/db.sqlite3\",  # Specify the storage URL here.\n",
    "                            study_name=\"04 - LGB Multiclass CV\",\n",
    "                            load_if_exists = True)\n",
    "#Corro la optimizacion\n",
    "study.optimize(cv_es_lgb_objective, n_trials=100)"
   ]
  },
  {
   "cell_type": "code",
   "execution_count": 23,
   "metadata": {},
   "outputs": [
    {
     "name": "stdout",
     "output_type": "stream",
     "text": [
      "Traceback (most recent call last):\n",
      "  File \"/home/frank/maestria_mcd/labo2/Competencia/env/lib/python3.10/site-packages/sqlalchemy/engine/base.py\", line 146, in __init__\n",
      "    self._dbapi_connection = engine.raw_connection()\n",
      "  File \"/home/frank/maestria_mcd/labo2/Competencia/env/lib/python3.10/site-packages/sqlalchemy/engine/base.py\", line 3302, in raw_connection\n",
      "    return self.pool.connect()\n",
      "  File \"/home/frank/maestria_mcd/labo2/Competencia/env/lib/python3.10/site-packages/sqlalchemy/pool/base.py\", line 449, in connect\n",
      "    return _ConnectionFairy._checkout(self)\n",
      "  File \"/home/frank/maestria_mcd/labo2/Competencia/env/lib/python3.10/site-packages/sqlalchemy/pool/base.py\", line 1263, in _checkout\n",
      "    fairy = _ConnectionRecord.checkout(pool)\n",
      "  File \"/home/frank/maestria_mcd/labo2/Competencia/env/lib/python3.10/site-packages/sqlalchemy/pool/base.py\", line 712, in checkout\n",
      "    rec = pool._do_get()\n",
      "  File \"/home/frank/maestria_mcd/labo2/Competencia/env/lib/python3.10/site-packages/sqlalchemy/pool/impl.py\", line 179, in _do_get\n",
      "    with util.safe_reraise():\n",
      "  File \"/home/frank/maestria_mcd/labo2/Competencia/env/lib/python3.10/site-packages/sqlalchemy/util/langhelpers.py\", line 146, in __exit__\n",
      "    raise exc_value.with_traceback(exc_tb)\n",
      "  File \"/home/frank/maestria_mcd/labo2/Competencia/env/lib/python3.10/site-packages/sqlalchemy/pool/impl.py\", line 177, in _do_get\n",
      "    return self._create_connection()\n",
      "  File \"/home/frank/maestria_mcd/labo2/Competencia/env/lib/python3.10/site-packages/sqlalchemy/pool/base.py\", line 390, in _create_connection\n",
      "    return _ConnectionRecord(self)\n",
      "  File \"/home/frank/maestria_mcd/labo2/Competencia/env/lib/python3.10/site-packages/sqlalchemy/pool/base.py\", line 674, in __init__\n",
      "    self.__connect()\n",
      "  File \"/home/frank/maestria_mcd/labo2/Competencia/env/lib/python3.10/site-packages/sqlalchemy/pool/base.py\", line 900, in __connect\n",
      "    with util.safe_reraise():\n",
      "  File \"/home/frank/maestria_mcd/labo2/Competencia/env/lib/python3.10/site-packages/sqlalchemy/util/langhelpers.py\", line 146, in __exit__\n",
      "    raise exc_value.with_traceback(exc_tb)\n",
      "  File \"/home/frank/maestria_mcd/labo2/Competencia/env/lib/python3.10/site-packages/sqlalchemy/pool/base.py\", line 896, in __connect\n",
      "    self.dbapi_connection = connection = pool._invoke_creator(self)\n",
      "  File \"/home/frank/maestria_mcd/labo2/Competencia/env/lib/python3.10/site-packages/sqlalchemy/engine/create.py\", line 643, in connect\n",
      "    return dialect.connect(*cargs, **cparams)\n",
      "  File \"/home/frank/maestria_mcd/labo2/Competencia/env/lib/python3.10/site-packages/sqlalchemy/engine/default.py\", line 621, in connect\n",
      "    return self.loaded_dbapi.connect(*cargs, **cparams)\n",
      "sqlite3.OperationalError: unable to open database file\n",
      "\n",
      "The above exception was the direct cause of the following exception:\n",
      "\n",
      "Traceback (most recent call last):\n",
      "  File \"/home/frank/maestria_mcd/labo2/Competencia/env/lib/python3.10/site-packages/optuna/storages/_rdb/storage.py\", line 72, in _create_scoped_session\n",
      "    yield session\n",
      "  File \"/home/frank/maestria_mcd/labo2/Competencia/env/lib/python3.10/site-packages/optuna/storages/_rdb/storage.py\", line 1042, in _init_version_info_model\n",
      "    version_info = models.VersionInfoModel.find(session)\n",
      "  File \"/home/frank/maestria_mcd/labo2/Competencia/env/lib/python3.10/site-packages/optuna/storages/_rdb/models.py\", line 578, in find\n",
      "    version_info = session.query(cls).one_or_none()\n",
      "  File \"/home/frank/maestria_mcd/labo2/Competencia/env/lib/python3.10/site-packages/sqlalchemy/orm/query.py\", line 2754, in one_or_none\n",
      "    return self._iter().one_or_none()  # type: ignore\n",
      "  File \"/home/frank/maestria_mcd/labo2/Competencia/env/lib/python3.10/site-packages/sqlalchemy/orm/query.py\", line 2827, in _iter\n",
      "    result: Union[ScalarResult[_T], Result[_T]] = self.session.execute(\n",
      "  File \"/home/frank/maestria_mcd/labo2/Competencia/env/lib/python3.10/site-packages/sqlalchemy/orm/session.py\", line 2362, in execute\n",
      "    return self._execute_internal(\n",
      "  File \"/home/frank/maestria_mcd/labo2/Competencia/env/lib/python3.10/site-packages/sqlalchemy/orm/session.py\", line 2237, in _execute_internal\n",
      "    conn = self._connection_for_bind(bind)\n",
      "  File \"/home/frank/maestria_mcd/labo2/Competencia/env/lib/python3.10/site-packages/sqlalchemy/orm/session.py\", line 2106, in _connection_for_bind\n",
      "    return trans._connection_for_bind(engine, execution_options)\n",
      "  File \"<string>\", line 2, in _connection_for_bind\n",
      "  File \"/home/frank/maestria_mcd/labo2/Competencia/env/lib/python3.10/site-packages/sqlalchemy/orm/state_changes.py\", line 139, in _go\n",
      "    ret_value = fn(self, *arg, **kw)\n",
      "  File \"/home/frank/maestria_mcd/labo2/Competencia/env/lib/python3.10/site-packages/sqlalchemy/orm/session.py\", line 1189, in _connection_for_bind\n",
      "    conn = bind.connect()\n",
      "  File \"/home/frank/maestria_mcd/labo2/Competencia/env/lib/python3.10/site-packages/sqlalchemy/engine/base.py\", line 3278, in connect\n",
      "    return self._connection_cls(self)\n",
      "  File \"/home/frank/maestria_mcd/labo2/Competencia/env/lib/python3.10/site-packages/sqlalchemy/engine/base.py\", line 148, in __init__\n",
      "    Connection._handle_dbapi_exception_noconnection(\n",
      "  File \"/home/frank/maestria_mcd/labo2/Competencia/env/lib/python3.10/site-packages/sqlalchemy/engine/base.py\", line 2442, in _handle_dbapi_exception_noconnection\n",
      "    raise sqlalchemy_exception.with_traceback(exc_info[2]) from e\n",
      "  File \"/home/frank/maestria_mcd/labo2/Competencia/env/lib/python3.10/site-packages/sqlalchemy/engine/base.py\", line 146, in __init__\n",
      "    self._dbapi_connection = engine.raw_connection()\n",
      "  File \"/home/frank/maestria_mcd/labo2/Competencia/env/lib/python3.10/site-packages/sqlalchemy/engine/base.py\", line 3302, in raw_connection\n",
      "    return self.pool.connect()\n",
      "  File \"/home/frank/maestria_mcd/labo2/Competencia/env/lib/python3.10/site-packages/sqlalchemy/pool/base.py\", line 449, in connect\n",
      "    return _ConnectionFairy._checkout(self)\n",
      "  File \"/home/frank/maestria_mcd/labo2/Competencia/env/lib/python3.10/site-packages/sqlalchemy/pool/base.py\", line 1263, in _checkout\n",
      "    fairy = _ConnectionRecord.checkout(pool)\n",
      "  File \"/home/frank/maestria_mcd/labo2/Competencia/env/lib/python3.10/site-packages/sqlalchemy/pool/base.py\", line 712, in checkout\n",
      "    rec = pool._do_get()\n",
      "  File \"/home/frank/maestria_mcd/labo2/Competencia/env/lib/python3.10/site-packages/sqlalchemy/pool/impl.py\", line 179, in _do_get\n",
      "    with util.safe_reraise():\n",
      "  File \"/home/frank/maestria_mcd/labo2/Competencia/env/lib/python3.10/site-packages/sqlalchemy/util/langhelpers.py\", line 146, in __exit__\n",
      "    raise exc_value.with_traceback(exc_tb)\n",
      "  File \"/home/frank/maestria_mcd/labo2/Competencia/env/lib/python3.10/site-packages/sqlalchemy/pool/impl.py\", line 177, in _do_get\n",
      "    return self._create_connection()\n",
      "  File \"/home/frank/maestria_mcd/labo2/Competencia/env/lib/python3.10/site-packages/sqlalchemy/pool/base.py\", line 390, in _create_connection\n",
      "    return _ConnectionRecord(self)\n",
      "  File \"/home/frank/maestria_mcd/labo2/Competencia/env/lib/python3.10/site-packages/sqlalchemy/pool/base.py\", line 674, in __init__\n",
      "    self.__connect()\n",
      "  File \"/home/frank/maestria_mcd/labo2/Competencia/env/lib/python3.10/site-packages/sqlalchemy/pool/base.py\", line 900, in __connect\n",
      "    with util.safe_reraise():\n",
      "  File \"/home/frank/maestria_mcd/labo2/Competencia/env/lib/python3.10/site-packages/sqlalchemy/util/langhelpers.py\", line 146, in __exit__\n",
      "    raise exc_value.with_traceback(exc_tb)\n",
      "  File \"/home/frank/maestria_mcd/labo2/Competencia/env/lib/python3.10/site-packages/sqlalchemy/pool/base.py\", line 896, in __connect\n",
      "    self.dbapi_connection = connection = pool._invoke_creator(self)\n",
      "  File \"/home/frank/maestria_mcd/labo2/Competencia/env/lib/python3.10/site-packages/sqlalchemy/engine/create.py\", line 643, in connect\n",
      "    return dialect.connect(*cargs, **cparams)\n",
      "  File \"/home/frank/maestria_mcd/labo2/Competencia/env/lib/python3.10/site-packages/sqlalchemy/engine/default.py\", line 621, in connect\n",
      "    return self.loaded_dbapi.connect(*cargs, **cparams)\n",
      "sqlalchemy.exc.OperationalError: (sqlite3.OperationalError) unable to open database file\n",
      "(Background on this error at: https://sqlalche.me/e/20/e3q8)\n",
      "\n",
      "The above exception was the direct cause of the following exception:\n",
      "\n",
      "Traceback (most recent call last):\n",
      "  File \"/home/frank/maestria_mcd/labo2/Competencia/env/bin/optuna-dashboard\", line 8, in <module>\n",
      "    sys.exit(main())\n",
      "  File \"/home/frank/maestria_mcd/labo2/Competencia/env/lib/python3.10/site-packages/optuna_dashboard/_cli.py\", line 119, in main\n",
      "    storage = get_storage(args.storage, storage_class=args.storage_class)\n",
      "  File \"/home/frank/maestria_mcd/labo2/Competencia/env/lib/python3.10/site-packages/optuna_dashboard/_storage_url.py\", line 59, in get_storage\n",
      "    return guess_storage_from_url(storage)\n",
      "  File \"/home/frank/maestria_mcd/labo2/Competencia/env/lib/python3.10/site-packages/optuna_dashboard/_storage_url.py\", line 84, in guess_storage_from_url\n",
      "    return get_rdb_storage(storage_url)\n",
      "  File \"/home/frank/maestria_mcd/labo2/Competencia/env/lib/python3.10/site-packages/optuna_dashboard/_storage_url.py\", line 91, in get_rdb_storage\n",
      "    return RDBStorage(storage_url, skip_compatibility_check=True, skip_table_creation=True)\n",
      "  File \"/home/frank/maestria_mcd/labo2/Competencia/env/lib/python3.10/site-packages/optuna/storages/_rdb/storage.py\", line 231, in __init__\n",
      "    self._version_manager = _VersionManager(self.url, self.engine, self.scoped_session)\n",
      "  File \"/home/frank/maestria_mcd/labo2/Competencia/env/lib/python3.10/site-packages/optuna/storages/_rdb/storage.py\", line 1037, in __init__\n",
      "    self._init_version_info_model()\n",
      "  File \"/home/frank/maestria_mcd/labo2/Competencia/env/lib/python3.10/site-packages/optuna/storages/_rdb/storage.py\", line 1041, in _init_version_info_model\n",
      "    with _create_scoped_session(self.scoped_session, True) as session:\n",
      "  File \"/usr/lib/python3.10/contextlib.py\", line 153, in __exit__\n",
      "    self.gen.throw(typ, value, traceback)\n",
      "  File \"/home/frank/maestria_mcd/labo2/Competencia/env/lib/python3.10/site-packages/optuna/storages/_rdb/storage.py\", line 90, in _create_scoped_session\n",
      "    raise optuna.exceptions.StorageInternalError(message) from e\n",
      "optuna.exceptions.StorageInternalError: An exception is raised during the commit. This typically happens due to invalid data in the commit, e.g. exceeding max length. \n"
     ]
    }
   ],
   "source": [
    "!optuna-dashboard sqlite:///../work/db.sqlite3 --artifact-dir ../work/optuna_artifacts --port 8081"
   ]
  }
 ],
 "metadata": {
  "kernelspec": {
   "display_name": "env",
   "language": "python",
   "name": "python3"
  },
  "language_info": {
   "codemirror_mode": {
    "name": "ipython",
    "version": 3
   },
   "file_extension": ".py",
   "mimetype": "text/x-python",
   "name": "python",
   "nbconvert_exporter": "python",
   "pygments_lexer": "ipython3",
   "version": "3.10.12"
  }
 },
 "nbformat": 4,
 "nbformat_minor": 2
}
